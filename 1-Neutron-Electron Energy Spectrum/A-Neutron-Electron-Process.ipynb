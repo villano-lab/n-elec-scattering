{
 "cells": [
  {
   "cell_type": "markdown",
   "id": "1789628a-5451-4ed8-abdc-56c26042a442",
   "metadata": {},
   "source": [
    "Libraries and Style Files\n",
    "-------------------------\n",
    "In this section, we load external libraries and define the plotting style used for the figures below."
   ]
  },
  {
   "cell_type": "code",
   "execution_count": 1,
   "id": "9f69a494-2968-4449-b8f4-007dcd1f3983",
   "metadata": {},
   "outputs": [],
   "source": [
    "#we may need some code in the ../python directory and/or matplotlib styles\n",
    "import sys\n",
    "sys.path.append('../python/')\n",
    "\n",
    "#matplotlib for plotting\n",
    "import matplotlib as mpl\n",
    "from matplotlib import pyplot as plt\n",
    "plt.style.use('../mplstyles/stylelib/standard.mplstyle')\n",
    "\n",
    "import numpy as np"
   ]
  },
  {
   "cell_type": "markdown",
   "id": "de5f5985-3e4d-4d5f-b03f-928f4392fa7e",
   "metadata": {},
   "source": [
    "Single-Scatter Recoil Spectrum\n",
    "===============================\n",
    "\n",
    "Definition of Terms\n",
    "-\n",
    "\n",
    "- $E_r$: electrion recoil energy.\n",
    "- $d\\sigma$: differential cross section.\n",
    "- $d\\Omega$: differential solid angle, an infinitessimally small slice of the 3-dimensional angle space.\n",
    "- $\\frac{d\\sigma}{d\\Omega}$: differential cross section with respect to solid angle $\\Omega$, which tells us how likely is it for a scattered particle (the neutron or the electron, depending on frame) to scatter at a specific angle. In the CoM frame, this value is constant, so all scattering angles are equally likely.\n",
    "- $\\frac{d\\sigma}{dE_r}$: differential cross section with respect to electrion recoil energy $E_r$, or recoil spectrum, which tells us the probability density of finding a recoil electron with a specific energy $E_r$ after many such scattering events.\n",
    "- $\\gamma_n$: neutron gyromagnetic ratio, which relates the magnetic moment of a particle to its spin angular momentum.\n",
    "- $\\mu_B$: Bohr magneton.\n",
    "- $m_n$: mass of the neutron.\n",
    "- $m_e$: mass of the electron.\n",
    "\n",
    "Differential Cross Section Derivation\n",
    "-\n",
    "In the paper we have computed the differential cross section with respect to solid angle $\\Omega$ for a neutron magnetically scattering off of a single electron. That expression, in the center-of-mass frame (CoM), is as follows:\n",
    "\n",
    "\\begin{equation}\n",
    "\\left ( \\frac{d\\sigma}{d\\Omega} \\right )_{CM}= \\frac{2m_n^2 \\gamma_n^2 \\mu_B^2}{\\hbar^2}.\n",
    "\\end{equation}\n",
    "\n",
    "The differential cross section $(\\frac{d\\sigma}{d\\Omega})_{CM}$ is constant, meaning that in the CoM frame, the neutron scatters equally at all angles after collision. This is referred to as isotropic scattering. Sicne the electron's scattering energy $E_r$ is a function of the scattering angle, said electron is equally likely to scatter at any energy in its recoil spectrum (from $0$ to $E_n^{max}$).\n",
    "\n",
    "Our research focuses on recoil energy, not scattering angle. Thus, we must map the scattering angle to recoil energy. The cross section above is easily converted into the single-scatter recoil cross section for monoenergetic neutrons by the same methods as the notebook `0-Preliminaries/B-Neutron-Nucleus-Recoil-Distributions.ipynb`.\n",
    "\n",
    "\\begin{equation}\n",
    "\\begin{aligned}\n",
    "\\frac{d\\sigma}{dE_r} &= \\int d\\phi_{cm} \\left ( \\frac{d\\sigma}{d\\Omega} \\right )_{CM} \\left(\\frac{d\\cos{(\\theta_{cm})}}{dE_r} \\right)\\\\\n",
    "&=2\\pi \\left ( \\frac{d\\sigma}{d\\Omega} \\right )_{CM} \\left(\\frac{d\\cos{(\\theta_{cm})}}{dE_r} \\right),\n",
    "\\end{aligned}\n",
    "\\end{equation}\n",
    "\n",
    "This results in the following differential cross section:\n",
    "\n",
    "\\begin{equation}\n",
    "\\frac{d\\sigma}{dE_r} = \\frac{2\\pi m_n^2 \\gamma_n^2 \\mu_B^2}{\\hbar^2} \\frac{(m_n+m_e)^2}{m_n m_e E_n}.\n",
    "\\end{equation}\n",
    "\n",
    "This can also be written in terms of the maximum recoil for a given neutron energy $E_n$. That results in:\n",
    "\n",
    "\\begin{equation}\n",
    "\\frac{d\\sigma}{dE_r} = \\frac{8\\pi m_n^2 \\gamma_n^2 \\mu_B^2}{\\hbar^2} \\frac{1}{E_{\\mathrm{max}}(E_n)}.\n",
    "\\end{equation}"
   ]
  },
  {
   "cell_type": "markdown",
   "id": "23f00232-54de-475e-b58a-c54d558be42e",
   "metadata": {},
   "source": [
    "Compute the Cross Section\n",
    "-------------------------\n",
    "We now implement the analytical expression for the single-scatter (meaning the incident neutron only interacts with one electron and then nothing else) differential cross section:\n",
    "\n",
    "$\\frac{d\\sigma}{dE_r}$ = constant\n",
    "\n",
    "This result holds for monoenergetic neutrons and arises because the angular distribution in the CoM frame is isotropic. As a result, the electron's recoil energy spectrum is flat from $0$ to $E_{max}$, and zero beyond that. For clarification, the electron's recoil energy itself is not constant—rather, it is the probability distribution of recoil energies that is flat.\n",
    "\n",
    "In the next cell, we begin by defining the neutron and electron masses in units of keV. "
   ]
  },
  {
   "cell_type": "code",
   "execution_count": 2,
   "id": "26299c89-b2cc-48c1-8a0a-a75e9e7e60c6",
   "metadata": {},
   "outputs": [
    {
     "name": "stdout",
     "output_type": "stream",
     "text": [
      "Neutron Mass: 939565.4205199999 keV\n",
      "Electron Mass: 510.99895 keV\n"
     ]
    }
   ],
   "source": [
    "import scipy.constants as co\n",
    "\n",
    "# Physical constants: neutron and electron rest mass energies in keV\n",
    "m_n = co.physical_constants['neutron mass energy equivalent in MeV'][0]*1e3 # Neutron mass (keV)\n",
    "m_e = co.physical_constants['electron mass energy equivalent in MeV'][0]*1e3 # Electron mass (keV)\n",
    "\n",
    "print(\"Neutron Mass: {} keV\".format(m_n))\n",
    "print(\"Electron Mass: {} keV\".format(m_e))"
   ]
  },
  {
   "cell_type": "markdown",
   "id": "3d63240e-72c9-4a1a-a911-e61364f25273",
   "metadata": {},
   "source": [
    "We will now compute $E_{max}$ and $E_{min}$ for electron recoil energy in the CoM frame.\n",
    "\n",
    "$E_{max}$ corresponds to a head-on collision of 180° and describes the maximum electron recoil energy for a given neutron energy:\n",
    "\\begin{equation}\n",
    "E_r^{max} = \\frac{4m_em_n}{(m_e+m_n)^2}E_n\n",
    "\\end{equation}\n",
    "\n",
    "$E_{min}$ corresponds to the minimum neutron energy needed to produce a recoil of size $E_r$ and is the inverse of the equation above:\n",
    "\\begin{equation}\n",
    "E_n = \\frac{(m_e+m_n)^2}{4m_em_n}E_r\n",
    "\\end{equation}"
   ]
  },
  {
   "cell_type": "code",
   "execution_count": 3,
   "id": "4b2c1eb1-f167-4908-b70f-34a23f48207d",
   "metadata": {},
   "outputs": [],
   "source": [
    "def Emax(En): #En in keV; Returns the maximum electron recoil energy (keV) for a neutron of energy En (keV)\n",
    "    return (4*m_e*m_n*En)/(m_e+m_n)**2\n",
    "\n",
    "def Enmin(Er): #recoil energy in keV; Returns the minimum neutron energy (keV) required to produce a recoil energy Er (keV)\n",
    "    return (Er*(m_e+m_n)**2)/(4*m_e*m_n)"
   ]
  },
  {
   "cell_type": "markdown",
   "id": "23e6d3e5-29c9-420b-ba34-50bd9d8292e9",
   "metadata": {},
   "source": [
    "The following section converts our units into CGS (Centimeter, Gram, Second) units. This is done for uniform unit consistency before computing additional calculations."
   ]
  },
  {
   "cell_type": "code",
   "execution_count": 4,
   "id": "1402adec-924b-41fb-ab79-2d9436b464a0",
   "metadata": {},
   "outputs": [
    {
     "name": "stdout",
     "output_type": "stream",
     "text": [
      "Neutron mass: 1.67492749804e-24 g\n",
      "Neutron gyromagnetic ratio: 18324.7171 s^-1 Gauss^-1 \n",
      "Bohr magneton: 9.2740100783e-21 erg Gauss^-1 \n",
      "hbar: 1.054571817e-27 erg s \n"
     ]
    }
   ],
   "source": [
    "#constants for calcs, first in SI units\n",
    "gn = co.physical_constants['neutron gyromag. ratio'][0] #default is s^-1 T^-1; CGS is s^-1 Gauss^-1\n",
    "mub = co.physical_constants['Bohr magneton'][0] #default is J T^-1\n",
    "hbar = co.physical_constants['reduced Planck constant'][0] #default in J s\n",
    "\n",
    "#convert to CGS\n",
    "#see https://en.wikipedia.org/wiki/Centimetre%E2%80%93gram%E2%80%93second_system_of_units\n",
    "m_n_CGS = co.physical_constants['neutron mass'][0]*1e3 #convert to grams\n",
    "gn_CGS = gn/1e4\n",
    "mub_CGS = mub*1e3\n",
    "hbar_CGS = hbar*1e7\n",
    "\n",
    "barnincm2 = 1e-24\n",
    "\n",
    "print('Neutron mass: {} g'.format(m_n_CGS))\n",
    "print('Neutron gyromagnetic ratio: {} s^-1 Gauss^-1 '.format(gn_CGS))\n",
    "print('Bohr magneton: {} erg Gauss^-1 '.format(mub_CGS))\n",
    "print('hbar: {} erg s '.format(hbar_CGS))\n"
   ]
  },
  {
   "cell_type": "markdown",
   "id": "b6af6c02-443f-48a6-a6f7-9f92bea8e2ad",
   "metadata": {},
   "source": [
    "Now we are ready to compute the total neutron-electron magnetic scattering cross section, $\\sigma$, in barns:\n",
    "\n",
    "\\begin{equation}\n",
    "\\sigma = \\frac{8\\pi m_n^2 \\gamma_n^2 \\mu_B^2}{\\hbar^2}\n",
    "\\end{equation}"
   ]
  },
  {
   "cell_type": "code",
   "execution_count": 5,
   "id": "8de63054-6c14-4041-a9dc-25544f5ee754",
   "metadata": {},
   "outputs": [
    {
     "name": "stdout",
     "output_type": "stream",
     "text": [
      "Total cross section: 1.8310038087245937 barns\n"
     ]
    }
   ],
   "source": [
    "sigtot = 8*np.pi*m_n_CGS**2*gn_CGS**2*mub_CGS**2/hbar_CGS**2\n",
    "print('Total cross section: {} barns'.format(sigtot/barnincm2))"
   ]
  },
  {
   "cell_type": "markdown",
   "id": "9b6fd416-d639-4c42-9a38-4a6ffbad8cb7",
   "metadata": {},
   "source": [
    "Let's now calculate the differential cross-section with respect to the electron's recoil energy. We need to ensure that the function is properly bound, so that if $E_r$ is greater than $E_{max}$, the function will return a value of zero. In other words, the function will return the flat cross section between $0$ and $E_{max}$, and will return $0$ otherwise."
   ]
  },
  {
   "cell_type": "code",
   "execution_count": 6,
   "id": "0f80846e-b003-440d-85c9-874db6b4a0cc",
   "metadata": {},
   "outputs": [],
   "source": [
    "def dsigdEr(En,Er):\n",
    "    if(Er<Emax(En)):\n",
    "      return 8*np.pi*m_n_CGS**2*gn_CGS**2*mub_CGS**2/hbar_CGS**2/Emax(En)\n",
    "    else: \n",
    "      return 0"
   ]
  },
  {
   "cell_type": "markdown",
   "id": "8a492b18-1fda-4d13-8334-1f222347e005",
   "metadata": {},
   "source": [
    "Now we'll test our function above for two specific situations: one within our boundary and one outside of it. First, we will test what the specific differential cross section is for an electron recoil energy of 1 keV for a neutron with an energy of 1 MeV. For an incident neutron with an energy of 1 keV, our $E_r^{max}$ becomes:\n",
    "\n",
    "\\begin{equation}\n",
    "E_r^{max} = \\frac{4m_em_n}{(m_e+m_n)^2}E_n = \\frac{4*(511 \\text{ keV})*(939,565 \\text{ keV})}{((511 \\text{ keV})+(939,565 \\text{ keV}))^2}1,000 \\text{ keV} = 1.939 \\text{ keV}\n",
    "\\end{equation}\n",
    "\n",
    "Our recoil energy is within the maximum, so we should get a legitimate value (which we see below as 0.8425749477714446 barns/keV, which tells us the probability density for the electron to recoil with energy = 1 keV, when struck by a 1 MeV neutron.\n",
    "\n",
    "Next, we will test what the specific differential cross section is for an electron recoil energy of 3 keV for a neutron with an energy of 1 MeV. Since 3 keV is greater than our maximum recoil energy, we should get a value of 0 (which we do), meaning there is no situation in which an election will recoil with an energy of 3 keV when struck by an incident neutron with an energy of 1 MeV."
   ]
  },
  {
   "cell_type": "code",
   "execution_count": 7,
   "id": "635227b7-9900-40bb-8d50-be8cf61436c8",
   "metadata": {},
   "outputs": [
    {
     "name": "stdout",
     "output_type": "stream",
     "text": [
      "0.8425749477714446\n"
     ]
    }
   ],
   "source": [
    "print(dsigdEr(1000,1)/barnincm2) #1 MeV neutron at 1 keV recoil"
   ]
  },
  {
   "cell_type": "code",
   "execution_count": 8,
   "id": "07ff5be9-ea8d-4a34-a008-ee9dc8c4a210",
   "metadata": {},
   "outputs": [
    {
     "name": "stdout",
     "output_type": "stream",
     "text": [
      "0.0\n"
     ]
    }
   ],
   "source": [
    "print(dsigdEr(1000,3)/barnincm2) #1 MeV neutron at 3 keV recoil"
   ]
  },
  {
   "cell_type": "markdown",
   "id": "fdb4c053-fc74-4a19-9c09-5e492a2b3800",
   "metadata": {},
   "source": [
    "Integrating Against Flux Spectrum\n",
    "---------------------------------\n",
    "\n",
    "Up to now, we've assumed monoenergetic neutrons (e.g. 1 MeV). However, in real experiments, the incident neutron energies follow a distribution—some are low energy, some are high. Thus, we must account for the full energy spectrum of the neutron flux. After all, the electron's recoil energy $E_r$ depends on:\n",
    "- The incident neutron's energy $E_n$\n",
    "- The flux of neutrons at that energy $\\phi(E_n)$ (the number of incoming neutrons per unit energy, area, and time)\n",
    "- The cross section $\\frac{d\\sigma}{dE_r}$ at that energy.\n",
    "\n",
    "To get the observed recoil spectrum, we have to take into account all of the incident neutron energies and their relative rates. To do this we can use the differential flux $\\phi(E_n)$ from the function `SNOLAB_flux` in the library `flux_recoil_spec.py`. The expression that will give the recoil spectrum is as follows.\n",
    "\n",
    "\\begin{equation}\n",
    "R = \\frac{\\eta N_A}{m} \\int dE_n \\phi(E_n)\\frac{d\\sigma}{dE_r}\n",
    "\\end{equation}\n",
    "\n",
    "Where:\n",
    "- $R$ is the rate of recoils in units of events/kg/day/keV.\n",
    "- $\\eta$ is the number of electrons that are available-to-scatter per atom.\n",
    "- $N_A$ is Avogadro's number.\n",
    "- $m$ is the molar mass of the detector material in g/mol.\n",
    "- $\\phi(E_n)$ is the neutron flux.\n",
    "- $\\frac{d\\sigma}{dE_r}$ is the the differential cross section for a neutron of energy $E_n$ causing an electron recoil of $E_r$.\n",
    "\n",
    "The following code loads the neutron flux spectrum collected from the SNOLAB detector environment. The `SNOLAB_flux` function pulls the energy and flux data. Specifically:\n",
    "- `E` gives the neutron energies, $E_n$.\n",
    "- `F` gives the differential neutron flux, $\\phi(E_n)$\n",
    "- `ff` and `ffspec` give different versions of the neutron flux which may be useful for plotting.\n",
    "The data being pulled is sorted such that only neutrons with energies equal to or grater than 1 keV are loaded."
   ]
  },
  {
   "cell_type": "code",
   "execution_count": 9,
   "id": "1e288083-c415-4aa4-b983-8f4ac5be92d2",
   "metadata": {},
   "outputs": [
    {
     "name": "stdout",
     "output_type": "stream",
     "text": [
      "fast flux: 4000.0000000000005 n/m^2/day\n",
      "175\n",
      "shape of etot: (6000,)\n",
      "6000 6000\n",
      "LinregressResult(slope=-0.34198906017016933, intercept=-12.883178144228596, rvalue=-0.9953352356165472, pvalue=2.8473572672917526e-06, stderr=0.01482451947661301, intercept_stderr=0.06273875262265731)\n",
      "0.009998654133395216 0.01\n"
     ]
    }
   ],
   "source": [
    "import flux_recoil_spec as frs\n",
    "E,F,ff,ffspec = frs.SNOLAB_flux(Enmin=1e-3)"
   ]
  },
  {
   "cell_type": "markdown",
   "id": "f9a97657-344d-4eb3-9f40-3215e1bcab10",
   "metadata": {},
   "source": [
    "The diagnostic output above gives us insight into our detector environment. Specifically, `fast flux: 4000.0000000000005 n/m^2/day` tells us that on average, 4,000 neutrons with \"fast\" energy (usually above ~1 MeV) are passing through each square meter of detector surface per day. `shape of etot: (6000,)` tells us that the energy array `etot` has 6000 elements. `LinregressResult(...)` gives a linear regression fit of the data.\n",
    "\n",
    "The next section of code below first reloads the `flux_recoil_spec.py` module. It then prints three data points:\n",
    "- 1: The maximum electron recoil energy (in keV) possible from an incident neutron with an energy of 1000 keV (from $E_r^{max}$ above).\n",
    "- 2: The minimum incident neutron energy (in keV) needed to cause the electron recoil energy from 1 above (from $E_n$ above) (this is effectively a sanity check on the encoded math).\n",
    "- 3: The differential cross section $\\frac{d\\sigma}{dE_r}$ for a 1,000 keV neutron causing a 1 keV electron recoil in barns/keV.\n",
    "\n",
    "These data points are checked so that we can ensure our encoded math and data is correct before applying it to the entire data set."
   ]
  },
  {
   "cell_type": "code",
   "execution_count": 10,
   "id": "0ab98f9e-dc84-4600-ac66-b0292d89c437",
   "metadata": {},
   "outputs": [
    {
     "name": "stdout",
     "output_type": "stream",
     "text": [
      "2.1731049725220037\n",
      "999.9999666274732\n",
      "0.8425749477714446\n"
     ]
    }
   ],
   "source": [
    "import importlib\n",
    "importlib.reload(frs)\n",
    "\n",
    "print(frs.Emax(1000))\n",
    "print(frs.Enmin(2.1731049))\n",
    "print(frs.dsigdErNE(1000,1)/barnincm2)"
   ]
  },
  {
   "cell_type": "markdown",
   "id": "38c83af4-f065-461f-b5a6-32575fea190b",
   "metadata": {},
   "source": [
    "The following code produces an array that tells us the differential cross section of a 1,000 keV incident neutron given an electron recoil energy $E_r$. It then prints the data points for recoil energies of 1 keV and 2 keV, both of which are under our previously calculated $E_r^{max}$ of 2.1731049725220037 keV. The code plugs these recoil energies into our previously defined $\\frac{d\\sigma}{dE_r}$ and yields the following calculations in units of cm$^2$/keV:"
   ]
  },
  {
   "cell_type": "code",
   "execution_count": 11,
   "id": "7678b5f6-4afc-4dea-9899-dc94421c9b0d",
   "metadata": {},
   "outputs": [
    {
     "name": "stdout",
     "output_type": "stream",
     "text": [
      "[8.42574948e-25 8.42574948e-25]\n"
     ]
    }
   ],
   "source": [
    "dsder = lambda x: frs.dsigdErNE(1000,x)\n",
    "dsderv = np.vectorize(dsder)\n",
    "print(dsderv([1,2]))"
   ]
  },
  {
   "cell_type": "markdown",
   "id": "dfa77442-b530-4bf9-ae0d-6719817e97d5",
   "metadata": {},
   "source": [
    "Now we're ready to compute the electron recoil rate spectrum $\\frac{dR}{dE_r}$. The first two lines of code below generates and prints a logarithmically spaced array of recoil energies from 0.1 eV to 100 eV with 100 points in between. This will become our x-axis in our plot. The third line of code below computes the differential recoil rate for Silicon-28. In other words, it allows us to know how many electron recoils to expect per unit energy, per unit mass, per day, at every recoil energy in `Er`. This will become our y-axis in our plot. The code then prints these values."
   ]
  },
  {
   "cell_type": "code",
   "execution_count": 17,
   "id": "2691da23-11bf-4c1c-a3f3-1fbbec1a1445",
   "metadata": {},
   "outputs": [
    {
     "name": "stdout",
     "output_type": "stream",
     "text": [
      "[0.0001     0.00010723 0.00011498 0.00012328 0.00013219 0.00014175\n",
      " 0.00015199 0.00016298 0.00017475 0.00018738 0.00020092 0.00021544\n",
      " 0.00023101 0.00024771 0.00026561 0.0002848  0.00030539 0.00032745\n",
      " 0.00035112 0.00037649 0.0004037  0.00043288 0.00046416 0.0004977\n",
      " 0.00053367 0.00057224 0.00061359 0.00065793 0.00070548 0.00075646\n",
      " 0.00081113 0.00086975 0.0009326  0.001      0.00107227 0.00114976\n",
      " 0.00123285 0.00132194 0.00141747 0.00151991 0.00162975 0.00174753\n",
      " 0.00187382 0.00200923 0.00215443 0.00231013 0.00247708 0.00265609\n",
      " 0.00284804 0.00305386 0.00327455 0.00351119 0.00376494 0.00403702\n",
      " 0.00432876 0.00464159 0.00497702 0.0053367  0.00572237 0.00613591\n",
      " 0.00657933 0.0070548  0.00756463 0.00811131 0.00869749 0.00932603\n",
      " 0.01       0.01072267 0.01149757 0.01232847 0.01321941 0.01417474\n",
      " 0.01519911 0.01629751 0.01747528 0.01873817 0.02009233 0.02154435\n",
      " 0.0231013  0.02477076 0.02656088 0.02848036 0.03053856 0.03274549\n",
      " 0.03511192 0.03764936 0.04037017 0.04328761 0.04641589 0.04977024\n",
      " 0.05336699 0.05722368 0.06135907 0.06579332 0.07054802 0.07564633\n",
      " 0.08111308 0.0869749  0.09326033 0.1       ]\n",
      "14\n",
      "[ 2.48900921e+02  2.40447922e+02  2.32922010e+02  2.23010185e+02\n",
      "  2.17131730e+02  2.09159344e+02  2.01976108e+02  1.95361032e+02\n",
      "  1.89170157e+02  1.83342262e+02  1.76069036e+02  1.69337351e+02\n",
      "  1.63163994e+02  1.55906413e+02  1.49019283e+02  1.42580278e+02\n",
      "  1.35393661e+02  1.28890643e+02  1.22387586e+02  1.16944690e+02\n",
      "  1.12369164e+02  1.07924541e+02  1.03646098e+02  9.97361557e+01\n",
      "  9.54027775e+01  9.07693186e+01  8.63983797e+01  8.21607873e+01\n",
      "  7.81192993e+01  7.38525087e+01  6.99532157e+01  6.61443515e+01\n",
      "  6.24414516e+01  5.86663015e+01  5.50509900e+01  5.15970659e+01\n",
      "  4.81618836e+01  4.47838266e+01  4.16096008e+01  3.84197666e+01\n",
      "  3.54545979e+01  3.26139044e+01  2.98336576e+01  2.71456814e+01\n",
      "  2.46332913e+01  2.22411986e+01  1.99823408e+01  1.78255167e+01\n",
      "  1.58251933e+01  1.39492615e+01  1.22065193e+01  1.06003032e+01\n",
      "  9.11035486e+00  7.74222218e+00  6.48189889e+00  5.37109400e+00\n",
      "  4.42260808e+00  3.55961283e+00  2.72592403e+00  2.03312035e+00\n",
      "  1.45707357e+00  9.83468176e-01  6.06820057e-01  3.43983627e-01\n",
      "  2.03634398e-01  1.30132684e-01  8.01166786e-02  4.66848947e-02\n",
      "  2.42365659e-02  1.32579940e-02  7.05751184e-03  3.76452187e-03\n",
      "  1.96530858e-03  8.93134892e-04  4.01113990e-04  1.74597244e-04\n",
      "  5.13515763e-05 -4.21363476e-06 -2.60370894e+40 -2.60370894e+40\n",
      " -2.60370894e+40 -2.60370894e+40 -2.60370894e+40 -2.60370894e+40\n",
      " -2.60370894e+40 -2.60370894e+40 -2.60370894e+40 -2.60370894e+40\n",
      " -2.60370894e+40 -2.60370894e+40 -2.60370894e+40 -2.60370894e+40\n",
      " -2.60370894e+40 -2.60370894e+40 -2.60370894e+40 -2.60370894e+40\n",
      " -2.60370894e+40 -2.60370894e+40 -2.60370894e+40 -2.60370894e+40]\n"
     ]
    }
   ],
   "source": [
    "Er= np.geomspace(0.1e-3, 100e-3, 100)\n",
    "print(Er)\n",
    "drde,dsig=frs.dRdErNE(Er,E,F,N=1,Z=14,A=28,eta=14)\n",
    "print(drde)"
   ]
  },
  {
   "cell_type": "markdown",
   "id": "bcdaab12-75dc-439b-846b-456c173622a9",
   "metadata": {},
   "source": [
    "Finally, we are ready to generate our plot:"
   ]
  },
  {
   "cell_type": "code",
   "execution_count": 14,
   "id": "587ede4e-9f9d-4689-af22-e3b3d6d4bca5",
   "metadata": {},
   "outputs": [
    {
     "data": {
      "image/png": "[encoded data removed]",
      "text/plain": [
       "<Figure size 900x800 with 1 Axes>"
      ]
     },
     "metadata": {},
     "output_type": "display_data"
    }
   ],
   "source": [
    "#set up a 1d plot\n",
    "fig,axes = plt.subplots(1,1,figsize=(9.0,8.0),sharex=True)\n",
    "ax1 = axes\n",
    "\n",
    "\n",
    "#print(estring)\n",
    "#ax1.plot(Er, dRlow,label='low res')\n",
    "ax1.plot(Er*1000, drde,label=\"hi res\")\n",
    "\n",
    "\n",
    "\n",
    "ymin = 1e-3\n",
    "ymax = 1e3\n",
    "\n",
    "blue = '#118DFA'\n",
    "#ax1.fill_between(xcq,np.zeros(np.shape(xcq)),thist,step='mid',facecolor='b',alpha=0.4, \\\n",
    "#                 label='')\n",
    "\n",
    "plt.grid()\n",
    "#ax1.set_yscale('linear')\n",
    "ax1.set_yscale('log')\n",
    "ax1.set_xlim(1e-4*1000, 20) \n",
    "ax1.set_ylim(ymin,ymax)\n",
    "ax1.set_xlabel(r'recoil energy [keV]')\n",
    "ax1.set_ylabel('rate [events kg$^{-1}$ day$^{-1}$ keV$^{-1}$]')\n",
    "ax1.grid(True)\n",
    "ax1.yaxis.grid(True,which='minor',linestyle='--')\n",
    "ax1.legend(loc=1,prop={'size':22})\n",
    "#ax1.legend(bbox_to_anchor=(1.04,1),borderaxespad=0,prop={'size':22})\n",
    "\n",
    "for axis in ['top','bottom','left','right']:\n",
    "  ax1.spines[axis].set_linewidth(2)\n",
    "\n",
    "plt.tight_layout()\n",
    "plt.savefig('figures/ne-recspec-Eee.png')\n",
    "plt.show()"
   ]
  },
  {
   "cell_type": "markdown",
   "id": "2087eaf1-caaf-4ee1-8c06-f8f90b373d80",
   "metadata": {},
   "source": [
    "Plot Interpretation\n",
    "-\n",
    "Our x-axis depicts electron recoil energies in keV, and our y-axis depicts our differential recoil rate at said electron recoil energies. As we can see, the recoil rate is much higher at lower recoil energies. In other words, the majority of neutron-electron scattering occurs at lower energies due to the relatively high flux of lower-energy incident neutrons and the inability of neutrons to transfer large amounts of energy to electrons, a result of the large difference in the two particles' masses. This suggests that our particle detectors will pick up a considerable amount of background signal from these events, and that these background signals must be properly identified so as not to be mistaken for rare event detections.\n",
    "\n",
    "Converting to keV$_{\\mathrm{nr}}$\n",
    "---------------------------------"
   ]
  },
  {
   "cell_type": "code",
   "execution_count": 15,
   "id": "accc7030-f14e-4e31-8875-5bcb6623a4b8",
   "metadata": {},
   "outputs": [
    {
     "name": "stdout",
     "output_type": "stream",
     "text": [
      "{'Z': 14, 'A': 28, 'k': 0.14600172346755985, 'a': 3.0, 'b': 0.15, 'c': 0.7, 'd': 0.6}\n"
     ]
    }
   ],
   "source": [
    "#create a yield model\n",
    "import lindhard as lind\n",
    "\n",
    "#lindhard\n",
    "lpar = lind.getLindhardPars('Si',True) #use the \"calculated\" value of k\n",
    "print(lpar)\n",
    "#ylind = lind.getLindhard(lpar)\n",
    "ylind = lind.getLindhardSi_k(0.15)\n",
    "ylindv = np.vectorize(ylind) #careful, this expects inputs in eV"
   ]
  },
  {
   "cell_type": "code",
   "execution_count": 16,
   "id": "dd062af3-ba71-4c25-b773-4d4a4cdad9f7",
   "metadata": {},
   "outputs": [
    {
     "name": "stdout",
     "output_type": "stream",
     "text": [
      "[0.11498363 0.30822517]\n"
     ]
    }
   ],
   "source": [
    "print(ylindv([10,10000]))"
   ]
  },
  {
   "cell_type": "code",
   "execution_count": null,
   "id": "7e9407db-7981-474c-af44-364aa68b710b",
   "metadata": {},
   "outputs": [],
   "source": []
  }
 ],
 "metadata": {
  "kernelspec": {
   "display_name": "Python [conda env:base] *",
   "language": "python",
   "name": "conda-base-py"
  },
  "language_info": {
   "codemirror_mode": {
    "name": "ipython",
    "version": 3
   },
   "file_extension": ".py",
   "mimetype": "text/x-python",
   "name": "python",
   "nbconvert_exporter": "python",
   "pygments_lexer": "ipython3",
   "version": "3.12.7"
  }
 },
 "nbformat": 4,
 "nbformat_minor": 5
}
