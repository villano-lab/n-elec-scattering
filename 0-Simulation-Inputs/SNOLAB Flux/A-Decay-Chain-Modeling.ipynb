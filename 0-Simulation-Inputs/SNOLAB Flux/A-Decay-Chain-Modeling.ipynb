{
 "cells": [
  {
   "cell_type": "markdown",
   "metadata": {
    "id": "cPbDeIOABjY7"
   },
   "source": [
    "# 📚 Libraries 📚"
   ]
  },
  {
   "cell_type": "code",
   "execution_count": 1,
   "metadata": {},
   "outputs": [],
   "source": [
    "#we may need some code in the ../python directory and/or matplotlib styles\n",
    "import sys\n",
    "sys.path.append('../python/')\n",
    "\n",
    "#matplotlib for plotting\n",
    "import matplotlib as mpl\n",
    "from matplotlib import pyplot as plt\n",
    "#plt.style.use('../mplstyles/stylelib/standard.mplstyle')\n",
    "\n",
    "import numpy as np\n",
    "import math\n",
    "import scipy as sp\n",
    "from scipy.integrate import solve_ivp"
   ]
  },
  {
   "cell_type": "code",
   "execution_count": 2,
   "metadata": {},
   "outputs": [
    {
     "ename": "ModuleNotFoundError",
     "evalue": "No module named 'decay_chains'",
     "output_type": "error",
     "traceback": [
      "\u001b[31m---------------------------------------------------------------------------\u001b[39m",
      "\u001b[31mModuleNotFoundError\u001b[39m                       Traceback (most recent call last)",
      "\u001b[36mCell\u001b[39m\u001b[36m \u001b[39m\u001b[32mIn[2]\u001b[39m\u001b[32m, line 1\u001b[39m\n\u001b[32m----> \u001b[39m\u001b[32m1\u001b[39m \u001b[38;5;28;01mimport\u001b[39;00m\u001b[38;5;250m \u001b[39m\u001b[34;01mdecay_chains\u001b[39;00m\u001b[38;5;250m \u001b[39m\u001b[38;5;28;01mas\u001b[39;00m\u001b[38;5;250m \u001b[39m\u001b[34;01mdc\u001b[39;00m\n\u001b[32m      2\u001b[39m \u001b[38;5;28;01mfrom\u001b[39;00m\u001b[38;5;250m \u001b[39m\u001b[34;01mdecay_chains\u001b[39;00m\u001b[38;5;250m \u001b[39m\u001b[38;5;28;01mimport\u001b[39;00m Isotope\n\u001b[32m      3\u001b[39m \u001b[38;5;28;01mfrom\u001b[39;00m\u001b[38;5;250m \u001b[39m\u001b[34;01mimportlib\u001b[39;00m\u001b[38;5;250m \u001b[39m\u001b[38;5;28;01mimport\u001b[39;00m reload\n",
      "\u001b[31mModuleNotFoundError\u001b[39m: No module named 'decay_chains'"
     ]
    }
   ],
   "source": [
    "import decay_chains as dc\n",
    "from decay_chains import Isotope\n",
    "from importlib import reload\n",
    "reload(dc)\n",
    "\n",
    "Th_232 = Isotope(\"Th_232\", 1.41e10 * 365 * 24 * 3600, [(\"alpha\", \"Ra_228\", 1.0)], 6e23) ## OG parent\n",
    "Pb_208 = Isotope(\"Pb_208\", float('inf'), [], is_stable=True) ## first stable daughter/end of chain\n",
    "\n",
    "U_235 = Isotope(\"U_235\", 7.04e8*365*24*3600, [(\"alpha\", \"Th_231\", 1.0)], 6e23) ##OG Parent\n",
    "Pb_207 = Isotope(\"Pb_207\", float('inf'), [], is_stable=True)## end of chain"
   ]
  },
  {
   "cell_type": "markdown",
   "metadata": {},
   "source": [
    "# Modeling Decay Chains: $^{232}$Th and $^{235}$U ☢️🧑‍🔬\n",
    "$^{235}$U and $^{232}$Th are radioactive isotopes which are known to be fairly abundant in the surrounding rock and walls at SNOLAB. SOURCES4C is a computational code that takes levels of radioactive contamination in materials and outputs the neutron source strengths they induce in terms of ($\\alpha$,n) and spontaneous fission (SF). The Radiation Safety Information Computational Center (RSICC)[[RSICC][RSICC]] maintains and distributes the SOURCES code. The exact isotopic concentrations of isotopes in the $^{232}$Th and $^{235}$U decay chains at SNOLAB are unknown. The inputs for the SOURCES4C code assumes secular equilibrium for both decay chains. Here, the relative abundances of alpha decayers present in these decay chains over the timescales of $^{232}$Th and $^{235}$U half-lives respectively, are plotted to ensure this assumption is reasonable, and to determine the concentration ratios of each isotope in the decay chains. The concentrations of each isotope are calculated abiding by the differential equations outlined here: [[Decay chain differential equations: Solutions through matrix analysis][DiffEqs]].  \n",
    "\n",
    "[DiffEqs]:https://www.sciencedirect.com/science/article/pii/S0010465518302613 \"Decay Chain solutions thru matrix analysis\"\n",
    "[RSICC]:https://www.ornl.gov/onramp/rsicc \"Oak Ridge Computational Page\""
   ]
  },
  {
   "cell_type": "markdown",
   "metadata": {},
   "source": [
    "## ⚛️ Defining Decay Chains ⚛️\n",
    "$^{232}$Thorium and $^{235}$Uranium decay chains are defined as dictionaries in `decay_chains.py`, and put in lists of the `Isotope` class. Isotopes belonging to other decay chains can be defined with `Isotope(name, half_life, decay_modes)`. Decay chain isotopes, half-lives (in seconds), daughter isotopes, decay modes and branching ratios retrieved from [[NNDC NuDat 3.0 DB][NNDC]].\n",
    "\n",
    "[NNDC]:https://www.nndc.bnl.gov/nudat3/ \"NNDC at BNL interactive database\""
   ]
  },
  {
   "cell_type": "code",
   "execution_count": null,
   "metadata": {},
   "outputs": [],
   "source": [
    "print(\"Thorium-232 Decay Chain Dictionary: \", dc.Th_decay_data)\n",
    "print()\n",
    "print(\"Uranium-235 Decay Chain Dictionary: \", dc.U_decay_data)"
   ]
  },
  {
   "cell_type": "markdown",
   "metadata": {},
   "source": [
    "## 🧮 Solve Systems of Differential Equations 🧮\n",
    "All isotopes have a count of zero at t=0, except for the parent, $^{232}$Th or $^{235}$U. `returns_dydt` (change name later maybe) takes the inputs; time, isotope counts, and isotope list. $y_{n}(t)$ is the count of the n$^{th}$ isotope in the decay chain as a function of time. `returns_dydt` returns the function: \n",
    "\n",
    "\n",
    "$\\sum_{j<n} r_{nj}\\lambda_{j}N_{n}-\\lambda_{n}N_{n}$\n",
    "\n",
    "where $r_{nj}$ is the branching ratio from j to n, AKA probability of the j$^{th}$ nuclide decaying into the n$^{th}$ nuclide, $\\lambda_{n}$ is the decay constant of the nth nuclide. Then the system of differential equations extended is:\n",
    "\n",
    "$N^{'}_{1}(t)=-\\lambda_{1}N_{1}(t)$\n",
    "\n",
    "$N^{'}_{2}(t)= r_{21}\\lambda_{1}N_{1}(t)-\\lambda_{2}N_{2}(t)$\n",
    "\n",
    "$N^{'}_{3}(t)= r_{31}\\lambda_{1}N_{1}(t)+r_{32}\\lambda_{2}N_{2}(t)-\\lambda_{3}N_{3}(t)$\n",
    "\n",
    "$\\vdots$\n",
    "\n",
    "$N^{'}_{n}(t)=r_{n1}\\lambda_{1}N_{1}(t)+r_{n2}\\lambda{2}N_{2}(t)+ \\dotsb + r_{n,n-1}\\lambda_{n-1}N_{n-1}(t)-\\lambda_{n}N_{n}(t)$\n",
    "\n",
    "In practice, these differential equations are much simpler because they only contain terms with non-zero branching ratios. Also, the term accounting for neutron capture in the modified decay constants $\\kappa=\\lambda+\\phi\\sigma$ is considered negligible because the constant neutron flux times the total cross section for capture is much less than the decay constants of these decay chains. (show this is true)"
   ]
  },
  {
   "cell_type": "code",
   "execution_count": null,
   "metadata": {
    "id": "5Kr3-5RZ5BIM"
   },
   "outputs": [],
   "source": [
    "import numpy as np\n",
    "from scipy.integrate import solve_ivp\n",
    "import matplotlib.pyplot as plt\n",
    "\n",
    "\n",
    "#Get the initial counts\n",
    "Th_counts0=[]\n",
    "for i in dc.th_chain_isotope_list:\n",
    "    Th_counts0.append(i.count)\n",
    "\n",
    "U_counts0=[]\n",
    "for i in dc.u_chain_isotope_list:\n",
    "    U_counts0.append(i.count)   \n",
    "    \n",
    "U238_counts0=[]\n",
    "for i in dc.u238_chain_isotope_list:\n",
    "    U238_counts0.append(i.count)\n",
    "\n",
    "tmax_th=2*dc.HL_Th\n",
    "timestep_th = 0.1*dc.HL_Th\n",
    "t_th=np.arange(0, tmax_th, timestep_th)\n",
    "# it got screwy after changing t_eval\n",
    "\n",
    "sol_th = solve_ivp(dc.returns_dNndt, [0, 50*dc.HL_Th], Th_counts0, args=(dc.th_chain_isotope_list,), method='BDF')\n",
    "#, t_eval=t_th\n",
    "sol_u = solve_ivp(dc.returns_dNndt, [0, 10*dc.HL_U], U_counts0, args=(dc.u_chain_isotope_list,), method = 'BDF')\n",
    "sol_u238 = solve_ivp(dc.returns_dNndt, [0, 10*dc.U_238.half_life], U238_counts0, args=(dc.u238_chain_isotope_list,), method = 'BDF')\n",
    "\n",
    "# Plot results\n",
    "import matplotlib.pyplot as plt\n",
    "cmap = plt.get_cmap('tab20')\n",
    "colors = [cmap(i) for i in range(19)]\n",
    "\n",
    "# Plot for Thorium chain\n",
    "fTh = plt.figure()\n",
    "ax1 = fTh.add_subplot()\n",
    "\n",
    "for i, isotope in enumerate(dc.th_chain_isotope_list):\n",
    "    if (any('alpha' in sublist for sublist in isotope.decay_modes)) and (isotope.name != \"Pb_208\"):\n",
    "        ax1.plot(sol_th.t/dc.HL_Th, sol_th.y[i] / Th_232.count, label=isotope.name, color=colors[i])\n",
    "\n",
    "ax1.set_xlabel(r'Time (in terms of $^{232}$Th Half-Lives)')\n",
    "ax1.set_ylabel(r'Ratio (isotope count/$^{232}$Th Count)')\n",
    "ax1.set_xscale('log')\n",
    "ax1.set_yscale('log')\n",
    "ax1.legend(loc='best')\n",
    "ax1.grid(True)\n",
    "fTh.tight_layout()\n",
    "\n",
    "# Plot for Uranium chain\n",
    "fU = plt.figure()\n",
    "ax2 = fU.add_subplot()\n",
    "\n",
    "for i, isotope in enumerate(dc.u_chain_isotope_list):\n",
    "    if (any('alpha' in sublist for sublist in isotope.decay_modes)) and (isotope.name != \"Pb_207\"):\n",
    "        ax2.plot(sol_u.t/dc.HL_U, sol_u.y[i] / U_235.count, label=isotope.name, color=colors[i])\n",
    "\n",
    "ax2.set_xlabel(r'Time (in terms of $^{235}$U Half-Lives)')\n",
    "ax2.set_ylabel(r'Ratio (isotope count/$^{235}$U Count)')\n",
    "ax2.set_xscale('log')\n",
    "ax2.set_yscale('log')\n",
    "ax2.legend(loc='best')\n",
    "ax2.grid(True)\n",
    "fU.tight_layout()\n",
    "\n",
    "fU238 = plt.figure()\n",
    "ax3 = fU238.add_subplot()\n",
    "\n",
    "for i, isotope in enumerate(dc.u238_chain_isotope_list):\n",
    "    if (any('alpha' in sublist for sublist in isotope.decay_modes)) and (isotope.name != \"Pb_206\"):\n",
    "        ax3.plot(sol_u238.t/dc.U_238.half_life, sol_u238.y[i] / dc.U_238.count, label=isotope.name, color=colors[i])\n",
    "\n",
    "ax3.set_xlabel(r'Time (in terms of $^{238}$U Half-Lives)')\n",
    "ax3.set_ylabel(r'Ratio (isotope count/$^{235}$U Count)')\n",
    "ax3.set_xscale('log')\n",
    "ax3.set_yscale('log')\n",
    "ax3.legend(loc='best')\n",
    "ax3.grid(True)\n",
    "fU238.tight_layout()\n",
    "\n",
    "plt.show()\n",
    "# new_ticks = plt.gca().get_xticks()/dc.HL_Th\n",
    "# plt.gca().set_xticks([f\"{tick:.2g}\" for tick in new_ticks])\n",
    "\n",
    "#print(10e-9*Th_232.half_life)\n"
   ]
  },
  {
   "cell_type": "markdown",
   "metadata": {},
   "source": [
    "The 232-Thorium decay chain seems to reach secular equilibrium after $10^{-10}$ half lives, or around 1.41 years. The 235-Uranium chain reaches secular equilibrium at roughly $10^{-6}$ uranium half lives, 704 years.\n",
    "\n",
    "Something im still confused about here. These plots begin to dip after a few half lives of respective parent isotopes, but they are scaled by the count of their respective parents shouldn't U and Th values stay at 10^0?"
   ]
  },
  {
   "cell_type": "code",
   "execution_count": null,
   "metadata": {},
   "outputs": [],
   "source": [
    "import matplotlib.pyplot as plt\n",
    "cmap = plt.get_cmap('tab20')\n",
    "colors = [cmap(i) for i in range(19)]\n",
    "\n",
    "# Plot for Thorium chain\n",
    "fTh = plt.figure()\n",
    "ax1 = fTh.add_subplot()\n",
    "\n",
    "for i, isotope in enumerate(dc.th_chain_isotope_list):\n",
    "    if (any('alpha' in sublist for sublist in isotope.decay_modes)) and (isotope.name != \"Pb_208\"):\n",
    "        ax1.plot(sol_th.t/dc.HL_Th, sol_th.y[i] , label=isotope.name, color=colors[i])\n",
    "\n",
    "ax1.set_xlabel(r'Time')\n",
    "ax1.set_ylabel(r'count')\n",
    "ax1.set_xscale('log')\n",
    "ax1.set_yscale('log')\n",
    "ax1.legend(loc='best')\n",
    "ax1.grid(True)\n",
    "fTh.tight_layout()\n",
    "\n",
    "# Plot for Uranium chain\n",
    "fU = plt.figure()\n",
    "ax2 = fU.add_subplot()\n",
    "\n",
    "for i, isotope in enumerate(dc.u_chain_isotope_list):\n",
    "    if (any('alpha' in sublist for sublist in isotope.decay_modes)) and (isotope.name != \"Pb_207\"):\n",
    "        ax2.plot(sol_u.t/dc.HL_U, sol_u.y[i] , label=isotope.name, color=colors[i])\n",
    "\n",
    "ax2.set_xlabel('Time')\n",
    "ax2.set_ylabel(r'count')\n",
    "ax2.set_xscale('log')\n",
    "ax2.set_yscale('log')\n",
    "ax2.legend(loc='best')\n",
    "ax2.grid(True)\n",
    "fU.tight_layout()\n",
    "\n",
    "fU238 = plt.figure()\n",
    "ax3 = fU238.add_subplot()\n",
    "\n",
    "for i, isotope in enumerate(dc.u238_chain_isotope_list):\n",
    "    if (any('alpha' in sublist for sublist in isotope.decay_modes)) and (isotope.name != \"Pb_206\"):\n",
    "        ax3.plot(sol_u238.t/dc.U_238.half_life, sol_u238.y[i] , label=isotope.name, color=colors[i])\n",
    "\n",
    "ax3.set_xlabel('Time')\n",
    "ax3.set_ylabel(r'count')\n",
    "ax3.set_xscale('log')\n",
    "ax3.set_yscale('log')\n",
    "ax3.legend(loc='best')\n",
    "ax3.grid(True)\n",
    "fU238.tight_layout()\n",
    "\n",
    "\n",
    "plt.show()\n",
    "\n"
   ]
  },
  {
   "cell_type": "markdown",
   "metadata": {},
   "source": [
    "# To Do\n",
    "add U 238 chain\n",
    "\n",
    "find the secular equilibrium by calculating the maximum and earliest time it gets within some percentage of it"
   ]
  },
  {
   "cell_type": "code",
   "execution_count": null,
   "metadata": {},
   "outputs": [],
   "source": []
  }
 ],
 "metadata": {
  "colab": {
   "provenance": []
  },
  "kernelspec": {
   "display_name": "Python 3 (ipykernel)",
   "language": "python",
   "name": "python3"
  },
  "language_info": {
   "codemirror_mode": {
    "name": "ipython",
    "version": 3
   },
   "file_extension": ".py",
   "mimetype": "text/x-python",
   "name": "python",
   "nbconvert_exporter": "python",
   "pygments_lexer": "ipython3",
   "version": "3.12.11"
  }
 },
 "nbformat": 4,
 "nbformat_minor": 4
}
