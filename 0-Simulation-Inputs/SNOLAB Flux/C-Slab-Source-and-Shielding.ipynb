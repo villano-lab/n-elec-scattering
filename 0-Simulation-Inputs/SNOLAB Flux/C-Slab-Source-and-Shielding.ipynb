{
 "cells": [
  {
   "cell_type": "markdown",
   "id": "b6a07015-4bfb-48e3-ae0b-6dea891b7d96",
   "metadata": {},
   "source": [
    "Libraries and Style Files\n",
    "-------------------------"
   ]
  },
  {
   "cell_type": "code",
   "execution_count": 1,
   "id": "b7ae9eee-b103-4fdb-8365-2b9b94d40efd",
   "metadata": {},
   "outputs": [],
   "source": [
    "#we may need some code in the ../python directory and/or matplotlib styles\n",
    "import sys\n",
    "sys.path.append('../../python/')\n",
    "\n",
    "#matplotlib for plotting\n",
    "import matplotlib as mpl\n",
    "from matplotlib import pyplot as plt\n",
    "plt.style.use('../../mplstyles/stylelib/standard.mplstyle')\n",
    "\n",
    "import numpy as np\n"
   ]
  },
  {
   "cell_type": "markdown",
   "id": "16682a89-74c9-4825-b04d-6745b9e600eb",
   "metadata": {},
   "source": [
    "SNOLAB Flux from Slab Source Calculations\n",
    "=========================================\n",
    "\n",
    "In the notebook `B-SOURCES4A-Running.ipynb` in this directory we figured out how many neutrons were produced per volume per second of shotcrete--the material that surrounds the SNOLAB cavern. In order to calculate the ambient neutron flux (in units of neutrons/cm$^2$/s), however, we must combine this knowledge with some basic neutron transport.  \n",
    "\n",
    "XXXXXXXXXXX\n",
    "-----------\n",
    "\n"
   ]
  },
  {
   "cell_type": "markdown",
   "id": "de723118-44ce-4e47-96d4-7226dac9a00c",
   "metadata": {},
   "source": [
    "neutrons and gammas treated the same in terms of flux sources\n",
    "\n",
    "instead of absorption cross section, put in total cross section for neutrons, ignoring multiple scattering\n",
    "\n",
    "infinite slab??\n",
    "\n",
    "Rectangular volume source with exterior detector point:\n",
    "Semi Analytic paper pg 131\n",
    "\n",
    "mu_s can be set to macroscopic neutron total cross section - energy dependent (elastic cross section?)\n",
    "\n",
    "we'd want to input the starting distributions of neutron energys\n",
    "\n",
    "take the shielding.py functions and make them so they return a function of E\n",
    "\n",
    "mu's refer to attenuation?\n",
    "\n"
   ]
  }
 ],
 "metadata": {
  "kernelspec": {
   "display_name": "Python 3 (ipykernel)",
   "language": "python",
   "name": "python3"
  },
  "language_info": {
   "codemirror_mode": {
    "name": "ipython",
    "version": 3
   },
   "file_extension": ".py",
   "mimetype": "text/x-python",
   "name": "python",
   "nbconvert_exporter": "python",
   "pygments_lexer": "ipython3",
   "version": "3.12.11"
  }
 },
 "nbformat": 4,
 "nbformat_minor": 5
}
