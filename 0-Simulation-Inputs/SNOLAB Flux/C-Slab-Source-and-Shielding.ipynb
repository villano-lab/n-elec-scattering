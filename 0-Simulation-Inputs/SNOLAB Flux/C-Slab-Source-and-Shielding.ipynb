{
 "cells": [
  {
   "cell_type": "markdown",
   "id": "b6a07015-4bfb-48e3-ae0b-6dea891b7d96",
   "metadata": {},
   "source": [
    "Libraries and Style Files\n",
    "-------------------------"
   ]
  },
  {
   "cell_type": "code",
   "execution_count": 1,
   "id": "b7ae9eee-b103-4fdb-8365-2b9b94d40efd",
   "metadata": {},
   "outputs": [
    {
     "name": "stderr",
     "output_type": "stream",
     "text": [
      "C:\\Users\\cecih\\GitHub\\n-elec-scatteringNew\\n-elec-scattering\\0-Simulation-Inputs\\SNOLAB Flux\\../../python\\ENDF6el.py:24: SyntaxWarning: invalid escape sequence '\\s'\n",
      "  names=['neutE', 'xn'],sep='\\s+',engine='python')\n"
     ]
    },
    {
     "ename": "FileNotFoundError",
     "evalue": "[Errno 2] No such file or directory: '../data_files/isotope_data/mass_1.mas20.txt'",
     "output_type": "error",
     "traceback": [
      "\u001b[31m---------------------------------------------------------------------------\u001b[39m",
      "\u001b[31mFileNotFoundError\u001b[39m                         Traceback (most recent call last)",
      "\u001b[36mCell\u001b[39m\u001b[36m \u001b[39m\u001b[32mIn[1]\u001b[39m\u001b[32m, line 5\u001b[39m\n\u001b[32m      2\u001b[39m \u001b[38;5;28;01mimport\u001b[39;00m\u001b[38;5;250m \u001b[39m\u001b[34;01msys\u001b[39;00m\n\u001b[32m      3\u001b[39m sys.path.append(\u001b[33m'\u001b[39m\u001b[33m../../python/\u001b[39m\u001b[33m'\u001b[39m)\n\u001b[32m----> \u001b[39m\u001b[32m5\u001b[39m \u001b[38;5;28;01mimport\u001b[39;00m\u001b[38;5;250m \u001b[39m\u001b[34;01mENDF6el\u001b[39;00m\u001b[38;5;250m \u001b[39m\u001b[38;5;28;01mas\u001b[39;00m\u001b[38;5;250m \u001b[39m\u001b[34;01mendfel\u001b[39;00m\n\u001b[32m      7\u001b[39m \u001b[38;5;66;03m#matplotlib for plotting\u001b[39;00m\n\u001b[32m      8\u001b[39m \u001b[38;5;28;01mimport\u001b[39;00m\u001b[38;5;250m \u001b[39m\u001b[34;01mmatplotlib\u001b[39;00m\u001b[38;5;250m \u001b[39m\u001b[38;5;28;01mas\u001b[39;00m\u001b[38;5;250m \u001b[39m\u001b[34;01mmpl\u001b[39;00m\n",
      "\u001b[36mFile \u001b[39m\u001b[32m~\\GitHub\\n-elec-scatteringNew\\n-elec-scattering\\0-Simulation-Inputs\\SNOLAB Flux\\../../python\\ENDF6el.py:176\u001b[39m\n\u001b[32m    173\u001b[39m   fout = np.polynomial.legendre.Legendre(c)\n\u001b[32m    174\u001b[39m   \u001b[38;5;28;01mreturn\u001b[39;00m fout\n\u001b[32m--> \u001b[39m\u001b[32m176\u001b[39m \u001b[38;5;28;01mdef\u001b[39;00m\u001b[38;5;250m \u001b[39m\u001b[34mfetch_der_xn\u001b[39m(En=\u001b[32m1e6\u001b[39m,*,M=\u001b[43mms\u001b[49m\u001b[43m.\u001b[49m\u001b[43mgetMass\u001b[49m\u001b[43m(\u001b[49m\u001b[32;43m14\u001b[39;49m\u001b[43m,\u001b[49m\u001b[32;43m28\u001b[39;49m\u001b[43m)\u001b[49m,pts=\u001b[32m100\u001b[39m,eps=\u001b[32m1e-5\u001b[39m,f=\u001b[38;5;28;01mNone\u001b[39;00m,a=\u001b[38;5;28;01mNone\u001b[39;00m,sigtotfile=\u001b[33m'\u001b[39m\u001b[33m../data_files/xn_data/si28_el.txt\u001b[39m\u001b[33m'\u001b[39m,endffile=\u001b[33m'\u001b[39m\u001b[33m../data_files/xn_data/n-014_Si_028.endf\u001b[39m\u001b[33m'\u001b[39m):\n\u001b[32m    178\u001b[39m   \u001b[38;5;28;01mglobal\u001b[39;00m directory\n\u001b[32m    180\u001b[39m   \u001b[38;5;66;03m#units change\u001b[39;00m\n",
      "\u001b[36mFile \u001b[39m\u001b[32m~\\GitHub\\n-elec-scatteringNew\\n-elec-scattering\\0-Simulation-Inputs\\SNOLAB Flux\\../../python\\masses.py:27\u001b[39m, in \u001b[36mgetMass\u001b[39m\u001b[34m(Z0, A0)\u001b[39m\n\u001b[32m     25\u001b[39m \u001b[38;5;28;01mdef\u001b[39;00m\u001b[38;5;250m \u001b[39m\u001b[34mgetMass\u001b[39m(Z0=\u001b[32m0\u001b[39m,A0=\u001b[32m1\u001b[39m):\n\u001b[32m---> \u001b[39m\u001b[32m27\u001b[39m   masses = \u001b[43mreadFile\u001b[49m\u001b[43m(\u001b[49m\u001b[43m)\u001b[49m\n\u001b[32m     28\u001b[39m   Z=np.zeros((\u001b[38;5;28mlen\u001b[39m(masses),))\n\u001b[32m     29\u001b[39m   A=np.zeros((\u001b[38;5;28mlen\u001b[39m(masses),))\n",
      "\u001b[36mFile \u001b[39m\u001b[32m~\\GitHub\\n-elec-scatteringNew\\n-elec-scattering\\0-Simulation-Inputs\\SNOLAB Flux\\../../python\\masses.py:14\u001b[39m, in \u001b[36mreadFile\u001b[39m\u001b[34m(filename)\u001b[39m\n\u001b[32m     11\u001b[39m \u001b[38;5;28;01mdef\u001b[39;00m\u001b[38;5;250m \u001b[39m\u001b[34mreadFile\u001b[39m(filename=\u001b[33m'\u001b[39m\u001b[33m../data_files/isotope_data/mass_1.mas20.txt\u001b[39m\u001b[33m'\u001b[39m):\n\u001b[32m     13\u001b[39m   \u001b[38;5;28mformat\u001b[39m = ff.FortranRecordReader(\u001b[33m'\u001b[39m\u001b[33m(a1,i3,i5,i5,i5,1x,a3,a4,1x,f14.6,f12.6,f13.5,1x,f10.5,1x,a2,f13.5,f11.5,1x,i3,1x,f13.6,f12.6)\u001b[39m\u001b[33m'\u001b[39m)\n\u001b[32m---> \u001b[39m\u001b[32m14\u001b[39m   f = \u001b[38;5;28;43mopen\u001b[39;49m\u001b[43m(\u001b[49m\u001b[43mfilename\u001b[49m\u001b[43m,\u001b[49m\u001b[43m \u001b[49m\u001b[33;43m'\u001b[39;49m\u001b[33;43mr\u001b[39;49m\u001b[33;43m'\u001b[39;49m\u001b[43m)\u001b[49m\n\u001b[32m     15\u001b[39m   masses = []\n\u001b[32m     16\u001b[39m   count = \u001b[32m0\u001b[39m\n",
      "\u001b[31mFileNotFoundError\u001b[39m: [Errno 2] No such file or directory: '../data_files/isotope_data/mass_1.mas20.txt'"
     ]
    }
   ],
   "source": [
    "#we may need some code in the ../python directory and/or matplotlib styles\n",
    "import sys\n",
    "sys.path.append('../../python/')\n",
    "\n",
    "import ENDF6el as endfel\n",
    "\n",
    "#matplotlib for plotting\n",
    "import matplotlib as mpl\n",
    "from matplotlib import pyplot as plt\n",
    "plt.style.use('../../mplstyles/stylelib/standard.mplstyle')\n",
    "\n",
    "import numpy as np\n",
    "import scipy\n",
    "import scipy.integrate as integrate\n",
    "\n",
    "import importlib\n",
    "from importlib import reload\n",
    "import shielding as sh\n",
    "reload(sh)"
   ]
  },
  {
   "cell_type": "markdown",
   "id": "16682a89-74c9-4825-b04d-6745b9e600eb",
   "metadata": {},
   "source": [
    "SNOLAB Flux from Slab Source Calculations\n",
    "=========================================\n",
    "\n",
    "In the notebook `B-SOURCES4A-Running.ipynb` in this directory we figured out how many neutrons were produced per volume per second of shotcrete--the material that surrounds the SNOLAB cavern. In order to calculate the ambient neutron flux (in units of neutrons/cm$^2$/s), however, we must combine this knowledge with some basic neutron transport.  \n",
    "\n",
    "XXXXXXXXXXX\n",
    "-----------\n",
    "\n"
   ]
  },
  {
   "cell_type": "markdown",
   "id": "de723118-44ce-4e47-96d4-7226dac9a00c",
   "metadata": {},
   "source": [
    "neutrons and gammas treated the same in terms of flux sources\n",
    "\n",
    "instead of absorption cross section, put in total cross section for neutrons, ignoring multiple scattering\n",
    "\n",
    "infinite slab??\n",
    "\n",
    "Rectangular volume source with exterior detector point:\n",
    "Semi Analytic paper pg 131\n",
    "\n",
    "mu_s can be set to macroscopic neutron total cross section - energy dependent (elastic cross section?)\n",
    "\n",
    "we'd want to input the starting distributions of neutron energys\n",
    "\n",
    "take the shielding.py functions and make them so they return a function of E\n",
    "\n",
    "mu's refer to attenuation?\n",
    "\n"
   ]
  },
  {
   "cell_type": "code",
   "execution_count": null,
   "id": "f256f7fc-975c-45a6-82b8-b7b986208a03",
   "metadata": {},
   "outputs": [],
   "source": [
    "En = np.geomspace(1e-11, 100, 1000) \n",
    "\n"
   ]
  }
 ],
 "metadata": {
  "kernelspec": {
   "display_name": "Python 3 (ipykernel)",
   "language": "python",
   "name": "python3"
  },
  "language_info": {
   "codemirror_mode": {
    "name": "ipython",
    "version": 3
   },
   "file_extension": ".py",
   "mimetype": "text/x-python",
   "name": "python",
   "nbconvert_exporter": "python",
   "pygments_lexer": "ipython3",
   "version": "3.12.11"
  }
 },
 "nbformat": 4,
 "nbformat_minor": 5
}
