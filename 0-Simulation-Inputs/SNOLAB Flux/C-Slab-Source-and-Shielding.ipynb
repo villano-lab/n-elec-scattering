{
 "cells": [
  {
   "cell_type": "markdown",
   "id": "b6a07015-4bfb-48e3-ae0b-6dea891b7d96",
   "metadata": {},
   "source": [
    "Libraries and Style Files\n",
    "-------------------------"
   ]
  },
  {
   "cell_type": "code",
   "execution_count": 1,
   "id": "b7ae9eee-b103-4fdb-8365-2b9b94d40efd",
   "metadata": {},
   "outputs": [
    {
     "name": "stderr",
     "output_type": "stream",
     "text": [
      "C:\\Users\\cecih\\GitHub\\n-elec-scatteringNew\\n-elec-scattering\\0-Simulation-Inputs\\SNOLAB Flux\\../../python\\ENDF6el.py:24: SyntaxWarning: invalid escape sequence '\\s'\n",
      "  names=['neutE', 'xn'],sep='\\s+',engine='python')\n"
     ]
    },
    {
     "ename": "ImportError",
     "evalue": "cannot import name 'path' from 'pathlib' (C:\\Users\\cecih\\.conda\\envs\\NeutronScatter\\Lib\\pathlib.py)",
     "output_type": "error",
     "traceback": [
      "\u001b[31m---------------------------------------------------------------------------\u001b[39m",
      "\u001b[31mImportError\u001b[39m                               Traceback (most recent call last)",
      "\u001b[36mCell\u001b[39m\u001b[36m \u001b[39m\u001b[32mIn[1]\u001b[39m\u001b[32m, line 5\u001b[39m\n\u001b[32m      2\u001b[39m \u001b[38;5;28;01mimport\u001b[39;00m\u001b[38;5;250m \u001b[39m\u001b[34;01msys\u001b[39;00m\n\u001b[32m      3\u001b[39m sys.path.append(\u001b[33m'\u001b[39m\u001b[33m../../python/\u001b[39m\u001b[33m'\u001b[39m)\n\u001b[32m----> \u001b[39m\u001b[32m5\u001b[39m \u001b[38;5;28;01mimport\u001b[39;00m\u001b[38;5;250m \u001b[39m\u001b[34;01mENDF6el\u001b[39;00m\u001b[38;5;250m \u001b[39m\u001b[38;5;28;01mas\u001b[39;00m\u001b[38;5;250m \u001b[39m\u001b[34;01mendfel\u001b[39;00m\n\u001b[32m      7\u001b[39m \u001b[38;5;66;03m#matplotlib for plotting\u001b[39;00m\n\u001b[32m      8\u001b[39m \u001b[38;5;28;01mimport\u001b[39;00m\u001b[38;5;250m \u001b[39m\u001b[34;01mmatplotlib\u001b[39;00m\u001b[38;5;250m \u001b[39m\u001b[38;5;28;01mas\u001b[39;00m\u001b[38;5;250m \u001b[39m\u001b[34;01mmpl\u001b[39;00m\n",
      "\u001b[36mFile \u001b[39m\u001b[32m~\\GitHub\\n-elec-scatteringNew\\n-elec-scattering\\0-Simulation-Inputs\\SNOLAB Flux\\../../python\\ENDF6el.py:5\u001b[39m\n\u001b[32m      3\u001b[39m \u001b[38;5;28;01mimport\u001b[39;00m\u001b[38;5;250m \u001b[39m\u001b[34;01mscipy\u001b[39;00m,\u001b[38;5;250m \u001b[39m\u001b[34;01mscipy\u001b[39;00m\u001b[34;01m.\u001b[39;00m\u001b[34;01minterpolate\u001b[39;00m\n\u001b[32m      4\u001b[39m \u001b[38;5;28;01mimport\u001b[39;00m\u001b[38;5;250m \u001b[39m\u001b[34;01mnumpy\u001b[39;00m\u001b[38;5;250m \u001b[39m\u001b[38;5;28;01mas\u001b[39;00m\u001b[38;5;250m \u001b[39m\u001b[34;01mnp\u001b[39;00m\n\u001b[32m----> \u001b[39m\u001b[32m5\u001b[39m \u001b[38;5;28;01mimport\u001b[39;00m\u001b[38;5;250m \u001b[39m\u001b[34;01mmasses\u001b[39;00m\u001b[38;5;250m \u001b[39m\u001b[38;5;28;01mas\u001b[39;00m\u001b[38;5;250m \u001b[39m\u001b[34;01mms\u001b[39;00m\n\u001b[32m      7\u001b[39m barns2cm2 = \u001b[32m1e-24\u001b[39m\n\u001b[32m      8\u001b[39m keV2MeV = \u001b[32m1e-3\u001b[39m\n",
      "\u001b[36mFile \u001b[39m\u001b[32m~\\GitHub\\n-elec-scatteringNew\\n-elec-scattering\\0-Simulation-Inputs\\SNOLAB Flux\\../../python\\masses.py:15\u001b[39m\n\u001b[32m      4\u001b[39m \u001b[33;03m'''\u001b[39;00m\n\u001b[32m      5\u001b[39m \u001b[33;03mfrom pathlib import Path\u001b[39;00m\n\u001b[32m      6\u001b[39m \u001b[33;03mimport os\u001b[39;00m\n\u001b[32m   (...)\u001b[39m\u001b[32m     12\u001b[39m \u001b[33;03mfile_path = notebook_dir / '../data/myfile.csv'\u001b[39;00m\n\u001b[32m     13\u001b[39m \u001b[33;03m'''\u001b[39;00m\n\u001b[32m     14\u001b[39m \u001b[38;5;28;01mimport\u001b[39;00m\u001b[38;5;250m \u001b[39m\u001b[34;01mpathlib\u001b[39;00m\n\u001b[32m---> \u001b[39m\u001b[32m15\u001b[39m \u001b[38;5;28;01mfrom\u001b[39;00m\u001b[38;5;250m \u001b[39m\u001b[34;01mpathlib\u001b[39;00m\u001b[38;5;250m \u001b[39m\u001b[38;5;28;01mimport\u001b[39;00m path\n\u001b[32m     16\u001b[39m \u001b[38;5;28;01mimport\u001b[39;00m\u001b[38;5;250m \u001b[39m\u001b[34;01mos\u001b[39;00m\n\u001b[32m     18\u001b[39m module_dir = Path(os.getcwd())\n",
      "\u001b[31mImportError\u001b[39m: cannot import name 'path' from 'pathlib' (C:\\Users\\cecih\\.conda\\envs\\NeutronScatter\\Lib\\pathlib.py)"
     ]
    }
   ],
   "source": [
    "#we may need some code in the ../python directory and/or matplotlib styles\n",
    "import sys\n",
    "sys.path.append('../../python/')\n",
    "\n",
    "import ENDF6el as endfel\n",
    "\n",
    "#matplotlib for plotting\n",
    "import matplotlib as mpl\n",
    "from matplotlib import pyplot as plt\n",
    "plt.style.use('../../mplstyles/stylelib/standard.mplstyle')\n",
    "\n",
    "import numpy as np\n",
    "import scipy\n",
    "import scipy.integrate as integrate\n",
    "\n",
    "import importlib\n",
    "from importlib import reload\n",
    "import shielding as sh\n",
    "reload(sh)"
   ]
  },
  {
   "cell_type": "markdown",
   "id": "16682a89-74c9-4825-b04d-6745b9e600eb",
   "metadata": {},
   "source": [
    "SNOLAB Flux from Slab Source Calculations\n",
    "=========================================\n",
    "\n",
    "In the notebook `B-SOURCES4A-Running.ipynb` in this directory we figured out how many neutrons were produced per volume per second of shotcrete--the material that surrounds the SNOLAB cavern. In order to calculate the ambient neutron flux (in units of neutrons/cm$^2$/s), however, we must combine this knowledge with some basic neutron transport.  \n",
    "\n",
    "XXXXXXXXXXX\n",
    "-----------\n",
    "\n"
   ]
  },
  {
   "cell_type": "markdown",
   "id": "de723118-44ce-4e47-96d4-7226dac9a00c",
   "metadata": {},
   "source": [
    "neutrons and gammas treated the same in terms of flux sources\n",
    "\n",
    "instead of absorption cross section, put in total cross section for neutrons, ignoring multiple scattering\n",
    "\n",
    "infinite slab??\n",
    "\n",
    "Rectangular volume source with exterior detector point:\n",
    "Semi Analytic paper pg 131\n",
    "\n",
    "mu_s can be set to macroscopic neutron total cross section - energy dependent (elastic cross section?)\n",
    "\n",
    "we'd want to input the starting distributions of neutron energys\n",
    "\n",
    "take the shielding.py functions and make them so they return a function of E\n",
    "\n",
    "mu's refer to attenuation?\n",
    "\n"
   ]
  },
  {
   "cell_type": "code",
   "execution_count": null,
   "id": "f256f7fc-975c-45a6-82b8-b7b986208a03",
   "metadata": {},
   "outputs": [],
   "source": [
    "En = np.geomspace(1e-11, 100, 1000) \n",
    "\n"
   ]
  }
 ],
 "metadata": {
  "kernelspec": {
   "display_name": "Python 3 (ipykernel)",
   "language": "python",
   "name": "python3"
  },
  "language_info": {
   "codemirror_mode": {
    "name": "ipython",
    "version": 3
   },
   "file_extension": ".py",
   "mimetype": "text/x-python",
   "name": "python",
   "nbconvert_exporter": "python",
   "pygments_lexer": "ipython3",
   "version": "3.12.11"
  }
 },
 "nbformat": 4,
 "nbformat_minor": 5
}
