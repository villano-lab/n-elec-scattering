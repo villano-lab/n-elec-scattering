{
 "cells": [
  {
   "cell_type": "code",
   "execution_count": 1,
   "metadata": {
    "id": "cPbDeIOABjY7"
   },
   "outputs": [],
   "source": [
    "import numpy as np\n",
    "import pandas as pd\n",
    "import math\n",
    "import random\n",
    "\n",
    "class Isotope:\n",
    "    def __init__(self, name, half_life, decay_modes, count=0, is_stable=False):\n",
    "\n",
    "        self.name = name\n",
    "        self.half_life = half_life\n",
    "        self.decay_modes = decay_modes\n",
    "        self.count = count\n",
    "        self.is_stable = is_stable\n",
    "\n",
    "    def decay(self):\n",
    "        if self.is_stable or not self.decay_modes:\n",
    "            return (\"stable\", self.name)\n",
    "\n",
    "        r = random.random()\n",
    "        cumulative = 0.0\n",
    "        for mode, daughter, prob in self.decay_modes:\n",
    "            cumulative += prob\n",
    "            if r < cumulative:\n",
    "                return (mode, daughter)\n",
    "        # Fallback in case of rounding errors\n",
    "        return self.decay_modes[-1]\n",
    "\n",
    "    def time_until_decay(self):\n",
    "        return random.expovariate(math.log(2) / self.half_life)\n"
   ]
  },
  {
   "cell_type": "code",
   "execution_count": 2,
   "metadata": {
    "id": "VLif-pMB9olX"
   },
   "outputs": [],
   "source": [
    "decay_data = {\n",
    "    \"Ra_228\": {\n",
    "        \"half_life\": 5.7 * 365 * 24 * 3600,\n",
    "        \"decay_modes\": [(\"beta\", \"Ac_228\", 1.0)]\n",
    "    },\n",
    "    \"Ac_228\": {\n",
    "        \"half_life\": 6.1 * 60,\n",
    "        \"decay_modes\": [(\"beta\", \"Th_228\", 1.0)]\n",
    "    },\n",
    "    \"Th_228\": {\n",
    "        \"half_life\": 1.9 * 365 * 24 * 3600,\n",
    "        \"decay_modes\": [(\"alpha\", \"Ra_224\", 1.0)]\n",
    "    },\n",
    "    \"Ra_224\": {\n",
    "        \"half_life\": 3.6 * 24 * 3600,\n",
    "        \"decay_modes\": [(\"alpha\", \"Rn_220\", 1.0)]\n",
    "    },\n",
    "    \"Rn_220\": {\n",
    "        \"half_life\": 55,\n",
    "        \"decay_modes\": [(\"alpha\", \"Po_216\", 1.0)]\n",
    "    },\n",
    "    \"Po_216\":{\n",
    "        \"half_life\":  0.14,\n",
    "        \"decay_modes\": [(\"alpha\", \"Pb_212\", 1.0)]\n",
    "    },\n",
    "    \"Pb_212\":{\n",
    "        \"half_life\":  10.6 * 3600,\n",
    "        \"decay_modes\": [(\"beta\", \"Bi_212\", 1.0)]\n",
    "    },\n",
    "    \"Bi_212\":{\n",
    "        \"half_life\":  61 * 60,\n",
    "        \"decay_modes\": [(\"beta\", \"Po_212\", 0.6406),\n",
    "                        (\"alpha\", \"Tl_208\", 0.3594)]\n",
    "    },\n",
    "    \"Po_212\":{\n",
    "        \"half_life\":  3e-7,\n",
    "        \"decay_modes\": [(\"alpha\",\"Pb_208\", 1.0)]\n",
    "    },\n",
    "    \"Tl_208\":{\n",
    "        \"half_life\": 3.1 * 60,\n",
    "        \"decay_modes\": [(\"beta\", \"Pb_208\", 1.0)]}\n",
    "    # Pb 208 is stable define separately\n",
    "}\n",
    "\n",
    "Th_232 = Isotope(\"Th_232\", 1.41e10 * 365 * 24 * 3600, [(\"alpha\", \"Ra_228\", 1.0)], 6e23)\n",
    "# Build Isotope objects\n",
    "Pb_208 = Isotope(\"Pb_208\", float('inf'), [], is_stable=True)\n",
    "\n",
    "isotopes = {}\n",
    "for name, data in decay_data.items():\n",
    "    isotopes[name] = Isotope(name, data[\"half_life\"], data[\"decay_modes\"])\n",
    "\n",
    "# List of Isotope instances\n",
    "isotope_list = [Th_232] + list(isotopes.values()) + [Pb_208]\n",
    "lambda_list = []\n",
    "\n",
    "for i in isotope_list:\n",
    "    lambda_list.append(math.log(2)/i.half_life)\n",
    "    \n"
   ]
  },
  {
   "cell_type": "code",
   "execution_count": 7,
   "metadata": {
    "id": "5Kr3-5RZ5BIM"
   },
   "outputs": [
    {
     "data": {
      "image/png": "[encoded data removed]",
      "text/plain": [
       "<Figure size 432x288 with 1 Axes>"
      ]
     },
     "metadata": {
      "needs_background": "light"
     },
     "output_type": "display_data"
    }
   ],
   "source": [
    "import numpy as np\n",
    "from scipy.integrate import odeint\n",
    "from scipy.integrate import solve_ivp\n",
    "import matplotlib.pyplot as plt\n",
    "\n",
    "name_to_index = {iso.name: idx for idx, iso in enumerate(isotope_list)}\n",
    "\n",
    "#Initial Counts\n",
    "y0=[]\n",
    "for i in isotope_list:\n",
    "    y0.append(i.count)\n",
    "\n",
    "\n",
    "# Sum over j<n: br(j->n)*lambda_j*N_n - lambda_n*N_n\n",
    "def returns_dydt(t, y):\n",
    "    dydt = [0.0] * len(isotope_list)\n",
    "    branching_ratios=[]\n",
    "    for i, isotope in enumerate(isotope_list):\n",
    "        lambda_i = math.log(2) / isotope.half_life\n",
    "        dydt[i] -= lambda_i * y[i] #it thinks y is a float not list????\n",
    "        for j, parent in enumerate(isotope_list):\n",
    "            for mode, daughter_name, br in parent.decay_modes:\n",
    "                if daughter_name == isotope.name:\n",
    "                    lambda_j = math.log(2) / parent.half_life\n",
    "                    branching_ratios.append(br)\n",
    "                    dydt[i]+=br*(math.log(2)/parent.half_life)*y[j]\n",
    "                else:\n",
    "                    branching_ratios.append(0)\n",
    "                    dydt[i]+=0\n",
    "    \n",
    "\n",
    "    return dydt\n",
    "\n",
    "\n",
    "#set initial condition\n",
    "t_max = 0.000001*Th_232.half_life\n",
    "# t_max = Th_232.half_life\n",
    "t_points = 999\n",
    "t = np.linspace(0, t_max, t_points)\n",
    "# solving ODE\n",
    "sol_y = solve_ivp(returns_dydt, [0, t_max], y0, method='BDF', t_eval=t)\n",
    "\n",
    "# plot results ignore for now\n",
    "import matplotlib.pyplot as plt\n",
    "cmap = plt.get_cmap('tab20')\n",
    "colors = [cmap(i) for i in range(12)]\n",
    "for i, isotope in enumerate(isotope_list):\n",
    "    plt.plot(sol_y.t, sol_y.y[i], label=isotope.name, color=colors[i])\n",
    "plt.legend(loc='right')\n",
    "plt.yscale('log')\n",
    "# plt.ylim(0,10000000)\n",
    "plt.xlabel('t')\n",
    "plt.grid()\n",
    "plt.show()\n",
    "\n",
    "\n"
   ]
  },
  {
   "cell_type": "code",
   "execution_count": null,
   "metadata": {},
   "outputs": [],
   "source": []
  },
  {
   "cell_type": "code",
   "execution_count": null,
   "metadata": {},
   "outputs": [],
   "source": []
  }
 ],
 "metadata": {
  "colab": {
   "provenance": []
  },
  "kernelspec": {
   "display_name": "Python 3 (ipykernel)",
   "language": "python",
   "name": "python3"
  },
  "language_info": {
   "codemirror_mode": {
    "name": "ipython",
    "version": 3
   },
   "file_extension": ".py",
   "mimetype": "text/x-python",
   "name": "python",
   "nbconvert_exporter": "python",
   "pygments_lexer": "ipython3",
   "version": "3.9.12"
  }
 },
 "nbformat": 4,
 "nbformat_minor": 4
}
