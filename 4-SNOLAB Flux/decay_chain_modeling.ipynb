{
 "cells": [
  {
   "cell_type": "markdown",
   "metadata": {
    "id": "cPbDeIOABjY7"
   },
   "source": [
    "# Modeling Decay Chains \n",
    "## Finding Secular Equilibrium for Alpha Decayers"
   ]
  },
  {
   "cell_type": "code",
   "execution_count": 1,
   "metadata": {
    "id": "cPbDeIOABjY7"
   },
   "outputs": [],
   "source": [
    "import numpy as np\n",
    "import pandas as pd\n",
    "import math\n",
    "import random\n",
    "\n",
    "class Isotope:\n",
    "    def __init__(self, name, half_life, decay_modes, count=0, is_stable=False):\n",
    "\n",
    "        self.name = name\n",
    "        self.half_life = half_life\n",
    "        self.decay_modes = decay_modes\n",
    "        self.count = count\n",
    "        self.is_stable = is_stable\n",
    "\n",
    "    def decay(self):\n",
    "        if self.is_stable or not self.decay_modes:\n",
    "            return (\"stable\", self.name)\n",
    "\n",
    "        r = random.random()\n",
    "        cumulative = 0.0\n",
    "        for mode, daughter, prob in self.decay_modes:\n",
    "            cumulative += prob\n",
    "            if r < cumulative:\n",
    "                return (mode, daughter)\n",
    "        # Fallback in case of rounding errors\n",
    "        return self.decay_modes[-1]\n",
    "\n",
    "    def time_until_decay(self):\n",
    "        return random.expovariate(math.log(2) / self.half_life)"
   ]
  },
  {
   "cell_type": "code",
   "execution_count": 2,
   "metadata": {
    "id": "VLif-pMB9olX"
   },
   "outputs": [
    {
     "name": "stdout",
     "output_type": "stream",
     "text": [
      "4.446576e+17\n",
      "[<__main__.Isotope object at 0x04D234A8>, <__main__.Isotope object at 0x04D237A8>, <__main__.Isotope object at 0x04D23190>, <__main__.Isotope object at 0x04D23778>, <__main__.Isotope object at 0x04D23928>, <__main__.Isotope object at 0x04D23A48>, <__main__.Isotope object at 0x0627B268>, <__main__.Isotope object at 0x0627BE98>, <__main__.Isotope object at 0x0627B6E8>, <__main__.Isotope object at 0x0627B700>, <__main__.Isotope object at 0x0627B760>, <__main__.Isotope object at 0x04D232B0>]\n"
     ]
    }
   ],
   "source": [
    "decay_data = {\n",
    "    \"Ra_228\": {\n",
    "        \"half_life\": 5.7 * 365 * 24 * 3600,\n",
    "        \"decay_modes\": [(\"beta\", \"Ac_228\", 1.0)]\n",
    "    },\n",
    "    \"Ac_228\": {\n",
    "        \"half_life\": 6.1 * 60,\n",
    "        \"decay_modes\": [(\"beta\", \"Th_228\", 1.0)]\n",
    "    },\n",
    "    \"Th_228\": {\n",
    "        \"half_life\": 1.9 * 365 * 24 * 3600,\n",
    "        \"decay_modes\": [(\"alpha\", \"Ra_224\", 1.0)]\n",
    "    },\n",
    "    \"Ra_224\": {\n",
    "        \"half_life\": 3.6 * 24 * 3600,\n",
    "        \"decay_modes\": [(\"alpha\", \"Rn_220\", 1.0)]\n",
    "    },\n",
    "    \"Rn_220\": {\n",
    "        \"half_life\": 55,\n",
    "        \"decay_modes\": [(\"alpha\", \"Po_216\", 1.0)]\n",
    "    },\n",
    "    \"Po_216\":{\n",
    "        \"half_life\":  0.14,\n",
    "        \"decay_modes\": [(\"alpha\", \"Pb_212\", 1.0)]\n",
    "    },\n",
    "    \"Pb_212\":{\n",
    "        \"half_life\":  10.6 * 3600,\n",
    "        \"decay_modes\": [(\"beta\", \"Bi_212\", 1.0)]\n",
    "    },\n",
    "    \"Bi_212\":{\n",
    "        \"half_life\":  61 * 60,\n",
    "        \"decay_modes\": [(\"beta\", \"Po_212\", 0.6406),\n",
    "                        (\"alpha\", \"Tl_208\", 0.3594)]\n",
    "    },\n",
    "    \"Po_212\":{\n",
    "        \"half_life\":  3e-7,\n",
    "        \"decay_modes\": [(\"alpha\",\"Pb_208\", 1.0)]\n",
    "    },\n",
    "    \"Tl_208\":{\n",
    "        \"half_life\": 3.1 * 60,\n",
    "        \"decay_modes\": [(\"beta\", \"Pb_208\", 1.0)]}\n",
    "    # Pb 208 is stable define separately\n",
    "}\n",
    "\n",
    "Th_232 = Isotope(\"Th_232\", 1.41e10 * 365 * 24 * 3600, [(\"alpha\", \"Ra_228\", 1.0)], 6e23)\n",
    "# Build Isotope objects\n",
    "Pb_208 = Isotope(\"Pb_208\", float('inf'), [], is_stable=True)\n",
    "\n",
    "print(1.41e10 * 365 * 24 * 3600)\n",
    "isotopes = {}\n",
    "for name, data in decay_data.items():\n",
    "    isotopes[name] = Isotope(name, data[\"half_life\"], data[\"decay_modes\"])\n",
    "\n",
    "# List of Isotope instances\n",
    "isotope_list = [Th_232] + list(isotopes.values()) + [Pb_208]\n",
    "print(isotope_list)\n",
    "lambda_list = []\n",
    "\n",
    "for i in isotope_list:\n",
    "    lambda_list.append(math.log(2)/i.half_life)\n",
    "    \n"
   ]
  },
  {
   "cell_type": "code",
   "execution_count": 3,
   "metadata": {
    "id": "5Kr3-5RZ5BIM"
   },
   "outputs": [
    {
     "name": "stderr",
     "output_type": "stream",
     "text": [
      "C:\\Users\\cecih\\AppData\\Local\\Temp\\ipykernel_15992\\4031995914.py:59: UserWarning: FixedFormatter should only be used together with FixedLocator\n",
      "  plt.gca().set_xticklabels(new_ticks / 1.41e10 * 365 * 24 * 3600)\n"
     ]
    },
    {
     "data": {
      "image/png": "[encoded data removed]",
      "text/plain": [
       "<Figure size 432x288 with 1 Axes>"
      ]
     },
     "metadata": {
      "needs_background": "light"
     },
     "output_type": "display_data"
    },
    {
     "name": "stdout",
     "output_type": "stream",
     "text": [
      "4446576000.0\n"
     ]
    }
   ],
   "source": [
    "import numpy as np\n",
    "from scipy.integrate import odeint\n",
    "from scipy.integrate import solve_ivp\n",
    "import matplotlib.pyplot as plt\n",
    "\n",
    "name_to_index = {iso.name: idx for idx, iso in enumerate(isotope_list)}\n",
    "\n",
    "#Initial Counts\n",
    "y0=[]\n",
    "for i in isotope_list:\n",
    "    y0.append(i.count)\n",
    "\n",
    "\n",
    "# Sum over j<n: br(j->n)*lambda_j*N_n - lambda_n*N_n\n",
    "def returns_dydt(t, y):\n",
    "    dydt = [0.0] * len(isotope_list)\n",
    "    branching_ratios=[]\n",
    "    for i, isotope in enumerate(isotope_list):\n",
    "        lambda_i = math.log(2) / isotope.half_life\n",
    "        dydt[i] -= lambda_i * y[i] #it thinks y is a float not list????\n",
    "        for j, parent in enumerate(isotope_list):\n",
    "            for mode, daughter_name, br in parent.decay_modes:\n",
    "                if daughter_name == isotope.name:\n",
    "                    lambda_j = math.log(2) / parent.half_life\n",
    "                    branching_ratios.append(br)\n",
    "                    dydt[i]+=br*(math.log(2)/parent.half_life)*y[j]\n",
    "                else:\n",
    "                    branching_ratios.append(0)\n",
    "                    dydt[i]+=0\n",
    "    \n",
    "\n",
    "    return dydt\n",
    "\n",
    "#normalize using lambda?\n",
    "#set initial condition\n",
    "t_max = 10e10\n",
    "# t_max = Th_232.half_life\n",
    "t_points = 999\n",
    "t = np.linspace(0, t_max, t_points)\n",
    "# solving ODE\n",
    "sol_y = solve_ivp(returns_dydt, [0, t_max], y0, method='BDF', t_eval=t)\n",
    "\n",
    "# plot results ignore for now\n",
    "import matplotlib.pyplot as plt\n",
    "cmap = plt.get_cmap('tab20')\n",
    "colors = [cmap(i) for i in range(12)]\n",
    "\n",
    "for i, isotope in enumerate(isotope_list):\n",
    "    # print(isotope.name)\n",
    "    # print(isotope.decay_modes[0])\n",
    "    # print(any('alpha' in sublist for sublist in isotope.decay_modes))\n",
    "    if (any('alpha' in sublist for sublist in isotope.decay_modes)) & (isotope.name != \"Pb_208\"):\n",
    "        plt.plot(sol_y.t, sol_y.y[i], label=isotope.name, color=colors[i])\n",
    "plt.legend(loc='right')\n",
    "plt.yscale('log')\n",
    "plt.xscale('log')\n",
    "# plt.ylim(0,10000000)\n",
    "new_ticks = plt.gca().get_xticks()\n",
    "plt.gca().set_xticklabels(new_ticks / 1.41e10 * 365 * 24 * 3600)\n",
    "plt.xlabel('t')\n",
    "plt.grid()\n",
    "plt.show()\n",
    "\n",
    "print(10e-9*Th_232.half_life)\n"
   ]
  },
  {
   "cell_type": "markdown",
   "metadata": {},
   "source": [
    "## To Do\n",
    "1. well, right now the plot is saying that this chain reaches secular equilibrium within a couple days maybe, is that true or does that make sense?\n",
    "2. Plot relative abundances rather than # of each isotope\n",
    "3. plot in terms of th half lives"
   ]
  },
  {
   "cell_type": "markdown",
   "metadata": {},
   "source": [
    "# Modeling Decay Chain for Uranium 235"
   ]
  },
  {
   "cell_type": "code",
   "execution_count": null,
   "metadata": {},
   "outputs": [],
   "source": [
    "decay_data2 = {\n",
    "    \"Th_231\": {\n",
    "        \"half_life\": 25.52 * 3600,\n",
    "        \"decay_modes\": [(\"beta\", \"Pa_231\", 1.0)]\n",
    "    },\n",
    "    \"Pa_231\": {\n",
    "        \"half_life\": 32760 * 365 * 24 * 3600,\n",
    "        \"decay_modes\": [(\"beta\", \"Ac_227\", 1.0)]\n",
    "    },\n",
    "    \"Ac_227\": {\n",
    "        \"half_life\": 21.772 * 365 * 24 * 3600,\n",
    "        \"decay_modes\": [(\"alpha\", \"Fr_223\", 0.0138),\n",
    "                       (\"beta\", \"Th_227\", 0.9862)]\n",
    "    }, # Left off Here\n",
    "    \"Fr_223\": {\n",
    "        \"half_life\": 22 * 60,\n",
    "        \"decay_modes\": [(\"alpha\", \"Ra_223\", 0.00006),\n",
    "                       (\"beta\", \"At_219\", 0.99994)]\n",
    "    },\n",
    "    \"Th_227\": {\n",
    "        \"half_life\": 18.68 *24*3600,\n",
    "        \"decay_modes\": [(\"alpha\", \"Ra_223\", 1)]\n",
    "    },\n",
    "   \n",
    "}\n",
    "\n",
    "Th_232 = Isotope(\"Th_232\", 1.41e10 * 365 * 24 * 3600, [(\"alpha\", \"Ra_228\", 1.0)], 6e23)\n",
    "# Build Isotope objects\n",
    "Pb_208 = Isotope(\"Pb_208\", float('inf'), [], is_stable=True)\n",
    "\n",
    "print(1.41e10 * 365 * 24 * 3600)\n",
    "isotopes = {}\n",
    "for name, data in decay_data.items():\n",
    "    isotopes[name] = Isotope(name, data[\"half_life\"], data[\"decay_modes\"])\n",
    "\n",
    "# List of Isotope instances\n",
    "isotope_list = [Th_232] + list(isotopes.values()) + [Pb_208]\n",
    "print(isotope_list)\n",
    "lambda_list = []\n",
    "\n",
    "for i in isotope_list:\n",
    "    lambda_list.append(math.log(2)/i.half_life)\n",
    "    \n"
   ]
  }
 ],
 "metadata": {
  "colab": {
   "provenance": []
  },
  "kernelspec": {
   "display_name": "Python 3 (ipykernel)",
   "language": "python",
   "name": "python3"
  },
  "language_info": {
   "codemirror_mode": {
    "name": "ipython",
    "version": 3
   },
   "file_extension": ".py",
   "mimetype": "text/x-python",
   "name": "python",
   "nbconvert_exporter": "python",
   "pygments_lexer": "ipython3",
   "version": "3.9.12"
  }
 },
 "nbformat": 4,
 "nbformat_minor": 4
}
