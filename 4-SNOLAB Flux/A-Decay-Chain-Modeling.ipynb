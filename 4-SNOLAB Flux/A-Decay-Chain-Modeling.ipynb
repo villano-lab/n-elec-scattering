{
 "cells": [
  {
   "cell_type": "markdown",
   "metadata": {
    "id": "cPbDeIOABjY7"
   },
   "source": [
    "# 📚 Libraries 📚"
   ]
  },
  {
   "cell_type": "code",
   "execution_count": 1,
   "metadata": {},
   "outputs": [],
   "source": [
    "#we may need some code in the ../python directory and/or matplotlib styles\n",
    "import sys\n",
    "sys.path.append('../python/')\n",
    "\n",
    "#matplotlib for plotting\n",
    "import matplotlib as mpl\n",
    "from matplotlib import pyplot as plt\n",
    "#plt.style.use('../mplstyles/stylelib/standard.mplstyle')\n",
    "\n",
    "import numpy as np\n",
    "import math\n",
    "import scipy as sp\n",
    "from scipy.integrate import solve_ivp"
   ]
  },
  {
   "cell_type": "code",
   "execution_count": 2,
   "metadata": {},
   "outputs": [],
   "source": [
    "import decay_chains as dc\n",
    "from decay_chains import Isotope\n",
    "from importlib import reload\n",
    "reload(dc)\n",
    "\n",
    "Th_232 = Isotope(\"Th_232\", 1.41e10 * 365 * 24 * 3600, [(\"alpha\", \"Ra_228\", 1.0)], 6e23) ## OG parent\n",
    "Pb_208 = Isotope(\"Pb_208\", float('inf'), [], is_stable=True) ## first stable daughter/end of chain\n",
    "\n",
    "U_235 = Isotope(\"U_235\", 7.04e8*365*24*3600, [(\"alpha\", \"Th_231\", 1.0)], 6e23) ##OG Parent\n",
    "Pb_207 = Isotope(\"Pb_207\", float('inf'), [], is_stable=True)## end of chain"
   ]
  },
  {
   "cell_type": "markdown",
   "metadata": {},
   "source": [
    "# Modeling Decay Chains: $^{232}$Th and $^{235}$U ☢️🧑‍🔬\n",
    "$^{235}$U and $^{232}$Th are radioactive isotopes which are known to be fairly abundant in the surrounding rock and walls at SNOLAB. SOURCES4C is a computational code that takes levels of radioactive contamination in materials and outputs the neutron source strengths they induce in terms of ($\\alpha$,n) and spontaneous fission (SF). The Radiation Safety Information Computational Center (RSICC)[[RSICC][RSICC]] maintains and distributes the SOURCES code. The exact isotopic concentrations of isotopes in the $^{232}$Th and $^{235}$U decay chains at SNOLAB are unknown. The inputs for the SOURCES4C code assumes secular equilibrium for both decay chains. Here, the relative abundances of alpha decayers present in these decay chains over the timescales of $^{232}$Th and $^{235}$U half-lives respectively, are plotted to ensure this assumption is reasonable, and to determine the concentration ratios of each isotope in the decay chains. The concentrations of each isotope are calculated abiding by the differential equations outlined here: [[Decay chain differential equations: Solutions through matrix analysis][DiffEqs]].  \n",
    "\n",
    "[DiffEqs]:https://www.sciencedirect.com/science/article/pii/S0010465518302613 \"Decay Chain solutions thru matrix analysis\"\n",
    "[RSICC]:https://www.ornl.gov/onramp/rsicc \"Oak Ridge Computational Page\""
   ]
  },
  {
   "cell_type": "markdown",
   "metadata": {},
   "source": [
    "## ⚛️ Defining Decay Chains ⚛️\n",
    "$^{232}$Thorium and $^{235}$Uranium decay chains are defined as dictionaries in `decay_chains.py`, and put in lists of the `Isotope` class. Isotopes belonging to other decay chains can be defined with `Isotope(name, half_life, decay_modes)`. Decay chain isotopes, half-lives, daughter isotopes, decay modes and branching ratios retrieved from [[NNDC NuDat 3.0 DB][NNDC]].\n",
    "\n",
    "[NNDC]:https://www.nndc.bnl.gov/nudat3/ \"NNDC at BNL interactive database\""
   ]
  },
  {
   "cell_type": "code",
   "execution_count": 3,
   "metadata": {},
   "outputs": [
    {
     "name": "stdout",
     "output_type": "stream",
     "text": [
      "Thorium-232 Decay Chain Dictionary:  {'Ra_228': {'half_life': 179755200.0, 'decay_modes': [('beta', 'Ac_228', 1.0)]}, 'Ac_228': {'half_life': 366.0, 'decay_modes': [('beta', 'Th_228', 1.0)]}, 'Th_228': {'half_life': 59918400.0, 'decay_modes': [('alpha', 'Ra_224', 1.0)]}, 'Ra_224': {'half_life': 311040.0, 'decay_modes': [('alpha', 'Rn_220', 1.0)]}, 'Rn_220': {'half_life': 55, 'decay_modes': [('alpha', 'Po_216', 1.0)]}, 'Po_216': {'half_life': 0.14, 'decay_modes': [('alpha', 'Pb_212', 1.0)]}, 'Pb_212': {'half_life': 38160.0, 'decay_modes': [('beta', 'Bi_212', 1.0)]}, 'Bi_212': {'half_life': 3660, 'decay_modes': [('beta', 'Po_212', 0.6406), ('alpha', 'Tl_208', 0.3594)]}, 'Po_212': {'half_life': 3e-07, 'decay_modes': [('alpha', 'Pb_208', 1.0)]}, 'Tl_208': {'half_life': 186.0, 'decay_modes': [('beta', 'Pb_208', 1.0)]}}\n",
      "\n",
      "Uranium-235 Decay Chain Dictionary:  {'Th_231': {'half_life': 91872.0, 'decay_modes': [('beta', 'Pa_231', 1.0)]}, 'Pa_231': {'half_life': 1033119360000, 'decay_modes': [('beta', 'Ac_227', 1.0)]}, 'Ac_227': {'half_life': 686601792.0, 'decay_modes': [('alpha', 'Fr_223', 0.0138), ('beta', 'Th_227', 0.9862)]}, 'Th_227': {'half_life': 1613952.0, 'decay_modes': [('alpha', 'Ra_223', 1)]}, 'Ra_223': {'half_life': 987552.0, 'decay_modes': [('alpha', 'Rn_219', 1)]}, 'Fr_223': {'half_life': 1320, 'decay_modes': [('alpha', 'Ra_223', 6e-05), ('beta', 'At_219', 0.99994)]}, 'At_219': {'half_life': 56, 'decay_modes': [('alpha', 'Bi_215', 0.936), ('beta', 'Rn_219', 0.064)]}, 'Rn_219': {'half_life': 3.93, 'decay_modes': [('alpha', 'Po_215', 1)]}, 'Bi_215': {'half_life': 456.0, 'decay_modes': [('beta', 'Po_215', 1)]}, 'Po_215': {'half_life': 0.001781, 'decay_modes': [('alpha', 'Pb_211', 0.9999977), ('beta', 'At_215', 2.3e-06)]}, 'At_215': {'half_life': 0.0001, 'decay_modes': [('alpha', 'Bi_211', 1)]}, 'Pb_211': {'half_life': 2166.0, 'decay_modes': [('beta', 'Bi_211', 1)]}, 'Bi_211': {'half_life': 128.4, 'decay_modes': [('alpha', 'Tl_207', 0.99724), ('beta', 'Po_211', 0.00276)]}, 'Po_211': {'half_life': 0.516, 'decay_modes': [('alpha', 'Pb_207', 1)]}, 'Tl_207': {'half_life': 286.2, 'decay_modes': [('beta', 'Pb_207', 1)]}}\n"
     ]
    }
   ],
   "source": [
    "print(\"Thorium-232 Decay Chain Dictionary: \", dc.Th_decay_data)\n",
    "print()\n",
    "print(\"Uranium-235 Decay Chain Dictionary: \", dc.U_decay_data)"
   ]
  },
  {
   "cell_type": "markdown",
   "metadata": {},
   "source": [
    "## 🧮 Solve Systems of Differential Equations 🧮\n",
    "All isotopes have a count of zero at t=0, except for the parent, $^{232}$Th or $^{235}$U. `returns_dydt` (change name later maybe) takes the inputs; time, isotope counts, and isotope list. $y_{n}(t)$ is the count of the n$^{th}$ isotope in the decay chain as a function of time. `returns_dydt` returns the function: \n",
    "\n",
    "\n",
    "$\\sum_{j<n} r_{nj}\\lambda_{j}N_{n}-\\lambda_{n}N_{n}$\n",
    "\n",
    "where $r_{nj}$ is the branching ratio from j to n, AKA probability of the j$^{th}$ nuclide decaying into the n$^{th}$ nuclide, $\\lambda_{n}$ is the decay constant of the nth nuclide. Then the system of differential equations extended is:\n",
    "\n",
    "$N^{'}_{1}(t)=-\\lambda_{1}N_{1}(t)$\n",
    "\n",
    "$N^{'}_{2}(t)= r_{21}\\lambda_{1}N_{1}(t)-\\lambda_{2}N_{2}(t)$\n",
    "\n",
    "$N^{'}_{3}(t)= r_{31}\\lambda_{1}N_{1}(t)+r_{32}\\lambda_{2}N_{2}(t)-\\lambda_{3}N_{3}(t)$\n",
    "\n",
    "$\\vdots$\n",
    "\n",
    "$N^{'}_{n}(t)=r_{n1}\\lambda_{1}N_{1}(t)+r_{n2}\\lambda{2}N_{2}(t)+ \\dotsb + r_{n,n-1}\\lambda_{n-1}N_{n-1}(t)-\\lambda_{n}N_{n}(t)$\n",
    "\n",
    "In practice, these differential equations are much simpler because they only contain terms with non-zero branching ratios. Also, the term accounting for neutron capture in the modified decay constants $\\kappa=\\lambda+\\phi\\sigma$ is considered negligible because the constant neutron flux times the total cross section for capture is much less than the decay constants of these decay chains. (show this is true)"
   ]
  },
  {
   "cell_type": "code",
   "execution_count": 7,
   "metadata": {
    "id": "5Kr3-5RZ5BIM"
   },
   "outputs": [
    {
     "ename": "ConversionError",
     "evalue": "Failed to convert value(s) to axis units: ['2.2e-12', '2.2e-11', '2.2e-10', '2.2e-09', '2.2e-08', '2.2e-07', '2.2e-06', '2.2e-05']",
     "output_type": "error",
     "traceback": [
      "\u001b[1;31m---------------------------------------------------------------------------\u001b[0m",
      "\u001b[1;31mValueError\u001b[0m                                Traceback (most recent call last)",
      "File \u001b[1;32m~\\.conda\\envs\\neutroncapture\\lib\\site-packages\\matplotlib\\axis.py:1506\u001b[0m, in \u001b[0;36mAxis.convert_units\u001b[1;34m(self, x)\u001b[0m\n\u001b[0;32m   1505\u001b[0m \u001b[38;5;28;01mtry\u001b[39;00m:\n\u001b[1;32m-> 1506\u001b[0m     ret \u001b[38;5;241m=\u001b[39m \u001b[38;5;28;43mself\u001b[39;49m\u001b[38;5;241;43m.\u001b[39;49m\u001b[43mconverter\u001b[49m\u001b[38;5;241;43m.\u001b[39;49m\u001b[43mconvert\u001b[49m\u001b[43m(\u001b[49m\u001b[43mx\u001b[49m\u001b[43m,\u001b[49m\u001b[43m \u001b[49m\u001b[38;5;28;43mself\u001b[39;49m\u001b[38;5;241;43m.\u001b[39;49m\u001b[43munits\u001b[49m\u001b[43m,\u001b[49m\u001b[43m \u001b[49m\u001b[38;5;28;43mself\u001b[39;49m\u001b[43m)\u001b[49m\n\u001b[0;32m   1507\u001b[0m \u001b[38;5;28;01mexcept\u001b[39;00m \u001b[38;5;167;01mException\u001b[39;00m \u001b[38;5;28;01mas\u001b[39;00m e:\n",
      "File \u001b[1;32m~\\.conda\\envs\\neutroncapture\\lib\\site-packages\\matplotlib\\category.py:49\u001b[0m, in \u001b[0;36mStrCategoryConverter.convert\u001b[1;34m(value, unit, axis)\u001b[0m\n\u001b[0;32m     48\u001b[0m \u001b[38;5;28;01mif\u001b[39;00m unit \u001b[38;5;129;01mis\u001b[39;00m \u001b[38;5;28;01mNone\u001b[39;00m:\n\u001b[1;32m---> 49\u001b[0m     \u001b[38;5;28;01mraise\u001b[39;00m \u001b[38;5;167;01mValueError\u001b[39;00m(\n\u001b[0;32m     50\u001b[0m         \u001b[38;5;124m'\u001b[39m\u001b[38;5;124mMissing category information for StrCategoryConverter; \u001b[39m\u001b[38;5;124m'\u001b[39m\n\u001b[0;32m     51\u001b[0m         \u001b[38;5;124m'\u001b[39m\u001b[38;5;124mthis might be caused by unintendedly mixing categorical and \u001b[39m\u001b[38;5;124m'\u001b[39m\n\u001b[0;32m     52\u001b[0m         \u001b[38;5;124m'\u001b[39m\u001b[38;5;124mnumeric data\u001b[39m\u001b[38;5;124m'\u001b[39m)\n\u001b[0;32m     53\u001b[0m StrCategoryConverter\u001b[38;5;241m.\u001b[39m_validate_unit(unit)\n",
      "\u001b[1;31mValueError\u001b[0m: Missing category information for StrCategoryConverter; this might be caused by unintendedly mixing categorical and numeric data",
      "\nThe above exception was the direct cause of the following exception:\n",
      "\u001b[1;31mConversionError\u001b[0m                           Traceback (most recent call last)",
      "Input \u001b[1;32mIn [7]\u001b[0m, in \u001b[0;36m<cell line: 42>\u001b[1;34m()\u001b[0m\n\u001b[0;32m     40\u001b[0m plt\u001b[38;5;241m.\u001b[39mxscale(\u001b[38;5;124m'\u001b[39m\u001b[38;5;124mlog\u001b[39m\u001b[38;5;124m'\u001b[39m)\n\u001b[0;32m     41\u001b[0m new_ticks \u001b[38;5;241m=\u001b[39m plt\u001b[38;5;241m.\u001b[39mgca()\u001b[38;5;241m.\u001b[39mget_xticks()\u001b[38;5;241m/\u001b[39mdc\u001b[38;5;241m.\u001b[39mHL_Th\n\u001b[1;32m---> 42\u001b[0m \u001b[43mplt\u001b[49m\u001b[38;5;241;43m.\u001b[39;49m\u001b[43mgca\u001b[49m\u001b[43m(\u001b[49m\u001b[43m)\u001b[49m\u001b[38;5;241;43m.\u001b[39;49m\u001b[43mset_xticks\u001b[49m\u001b[43m(\u001b[49m\u001b[43m[\u001b[49m\u001b[38;5;124;43mf\u001b[39;49m\u001b[38;5;124;43m\"\u001b[39;49m\u001b[38;5;132;43;01m{\u001b[39;49;00m\u001b[43mtick\u001b[49m\u001b[38;5;132;43;01m:\u001b[39;49;00m\u001b[38;5;124;43m.2g\u001b[39;49m\u001b[38;5;132;43;01m}\u001b[39;49;00m\u001b[38;5;124;43m\"\u001b[39;49m\u001b[43m \u001b[49m\u001b[38;5;28;43;01mfor\u001b[39;49;00m\u001b[43m \u001b[49m\u001b[43mtick\u001b[49m\u001b[43m \u001b[49m\u001b[38;5;129;43;01min\u001b[39;49;00m\u001b[43m \u001b[49m\u001b[43mnew_ticks\u001b[49m\u001b[43m]\u001b[49m\u001b[43m)\u001b[49m\n\u001b[0;32m     43\u001b[0m plt\u001b[38;5;241m.\u001b[39mxlabel(\u001b[38;5;124mr\u001b[39m\u001b[38;5;124m'\u001b[39m\u001b[38;5;124mTime ($^\u001b[39m\u001b[38;5;132;01m{232}\u001b[39;00m\u001b[38;5;124m$Th Half-Lives)\u001b[39m\u001b[38;5;124m'\u001b[39m)\n\u001b[0;32m     44\u001b[0m plt\u001b[38;5;241m.\u001b[39mylabel(\u001b[38;5;124mr\u001b[39m\u001b[38;5;124m'\u001b[39m\u001b[38;5;124mRatio (isotope count/$^\u001b[39m\u001b[38;5;132;01m{232}\u001b[39;00m\u001b[38;5;124m$Th Count)\u001b[39m\u001b[38;5;124m'\u001b[39m)\n",
      "File \u001b[1;32m~\\.conda\\envs\\neutroncapture\\lib\\site-packages\\matplotlib\\axes\\_base.py:75\u001b[0m, in \u001b[0;36m_axis_method_wrapper.__set_name__.<locals>.wrapper\u001b[1;34m(self, *args, **kwargs)\u001b[0m\n\u001b[0;32m     74\u001b[0m \u001b[38;5;28;01mdef\u001b[39;00m \u001b[38;5;21mwrapper\u001b[39m(\u001b[38;5;28mself\u001b[39m, \u001b[38;5;241m*\u001b[39margs, \u001b[38;5;241m*\u001b[39m\u001b[38;5;241m*\u001b[39mkwargs):\n\u001b[1;32m---> 75\u001b[0m     \u001b[38;5;28;01mreturn\u001b[39;00m get_method(\u001b[38;5;28mself\u001b[39m)(\u001b[38;5;241m*\u001b[39margs, \u001b[38;5;241m*\u001b[39m\u001b[38;5;241m*\u001b[39mkwargs)\n",
      "File \u001b[1;32m~\\.conda\\envs\\neutroncapture\\lib\\site-packages\\matplotlib\\axis.py:1855\u001b[0m, in \u001b[0;36mAxis.set_ticks\u001b[1;34m(self, ticks, labels, minor, **kwargs)\u001b[0m\n\u001b[0;32m   1829\u001b[0m \u001b[38;5;28;01mdef\u001b[39;00m \u001b[38;5;21mset_ticks\u001b[39m(\u001b[38;5;28mself\u001b[39m, ticks, labels\u001b[38;5;241m=\u001b[39m\u001b[38;5;28;01mNone\u001b[39;00m, \u001b[38;5;241m*\u001b[39m, minor\u001b[38;5;241m=\u001b[39m\u001b[38;5;28;01mFalse\u001b[39;00m, \u001b[38;5;241m*\u001b[39m\u001b[38;5;241m*\u001b[39mkwargs):\n\u001b[0;32m   1830\u001b[0m     \u001b[38;5;124;03m\"\"\"\u001b[39;00m\n\u001b[0;32m   1831\u001b[0m \u001b[38;5;124;03m    Set this Axis' tick locations and optionally labels.\u001b[39;00m\n\u001b[0;32m   1832\u001b[0m \n\u001b[1;32m   (...)\u001b[0m\n\u001b[0;32m   1853\u001b[0m \u001b[38;5;124;03m    ticks.\u001b[39;00m\n\u001b[0;32m   1854\u001b[0m \u001b[38;5;124;03m    \"\"\"\u001b[39;00m\n\u001b[1;32m-> 1855\u001b[0m     result \u001b[38;5;241m=\u001b[39m \u001b[38;5;28;43mself\u001b[39;49m\u001b[38;5;241;43m.\u001b[39;49m\u001b[43m_set_tick_locations\u001b[49m\u001b[43m(\u001b[49m\u001b[43mticks\u001b[49m\u001b[43m,\u001b[49m\u001b[43m \u001b[49m\u001b[43mminor\u001b[49m\u001b[38;5;241;43m=\u001b[39;49m\u001b[43mminor\u001b[49m\u001b[43m)\u001b[49m\n\u001b[0;32m   1856\u001b[0m     \u001b[38;5;28;01mif\u001b[39;00m labels \u001b[38;5;129;01mis\u001b[39;00m \u001b[38;5;129;01mnot\u001b[39;00m \u001b[38;5;28;01mNone\u001b[39;00m:\n\u001b[0;32m   1857\u001b[0m         \u001b[38;5;28mself\u001b[39m\u001b[38;5;241m.\u001b[39mset_ticklabels(labels, minor\u001b[38;5;241m=\u001b[39mminor, \u001b[38;5;241m*\u001b[39m\u001b[38;5;241m*\u001b[39mkwargs)\n",
      "File \u001b[1;32m~\\.conda\\envs\\neutroncapture\\lib\\site-packages\\matplotlib\\axis.py:1804\u001b[0m, in \u001b[0;36mAxis._set_tick_locations\u001b[1;34m(self, ticks, minor)\u001b[0m\n\u001b[0;32m   1800\u001b[0m \u001b[38;5;28;01mdef\u001b[39;00m \u001b[38;5;21m_set_tick_locations\u001b[39m(\u001b[38;5;28mself\u001b[39m, ticks, \u001b[38;5;241m*\u001b[39m, minor\u001b[38;5;241m=\u001b[39m\u001b[38;5;28;01mFalse\u001b[39;00m):\n\u001b[0;32m   1801\u001b[0m     \u001b[38;5;66;03m# see docstring of set_ticks\u001b[39;00m\n\u001b[0;32m   1802\u001b[0m \n\u001b[0;32m   1803\u001b[0m     \u001b[38;5;66;03m# XXX if the user changes units, the information will be lost here\u001b[39;00m\n\u001b[1;32m-> 1804\u001b[0m     ticks \u001b[38;5;241m=\u001b[39m \u001b[38;5;28;43mself\u001b[39;49m\u001b[38;5;241;43m.\u001b[39;49m\u001b[43mconvert_units\u001b[49m\u001b[43m(\u001b[49m\u001b[43mticks\u001b[49m\u001b[43m)\u001b[49m\n\u001b[0;32m   1805\u001b[0m     \u001b[38;5;28;01mfor\u001b[39;00m name, axis \u001b[38;5;129;01min\u001b[39;00m \u001b[38;5;28mself\u001b[39m\u001b[38;5;241m.\u001b[39maxes\u001b[38;5;241m.\u001b[39m_get_axis_map()\u001b[38;5;241m.\u001b[39mitems():\n\u001b[0;32m   1806\u001b[0m         \u001b[38;5;28;01mif\u001b[39;00m \u001b[38;5;28mself\u001b[39m \u001b[38;5;129;01mis\u001b[39;00m axis:\n",
      "File \u001b[1;32m~\\.conda\\envs\\neutroncapture\\lib\\site-packages\\matplotlib\\axis.py:1508\u001b[0m, in \u001b[0;36mAxis.convert_units\u001b[1;34m(self, x)\u001b[0m\n\u001b[0;32m   1506\u001b[0m     ret \u001b[38;5;241m=\u001b[39m \u001b[38;5;28mself\u001b[39m\u001b[38;5;241m.\u001b[39mconverter\u001b[38;5;241m.\u001b[39mconvert(x, \u001b[38;5;28mself\u001b[39m\u001b[38;5;241m.\u001b[39munits, \u001b[38;5;28mself\u001b[39m)\n\u001b[0;32m   1507\u001b[0m \u001b[38;5;28;01mexcept\u001b[39;00m \u001b[38;5;167;01mException\u001b[39;00m \u001b[38;5;28;01mas\u001b[39;00m e:\n\u001b[1;32m-> 1508\u001b[0m     \u001b[38;5;28;01mraise\u001b[39;00m munits\u001b[38;5;241m.\u001b[39mConversionError(\u001b[38;5;124m'\u001b[39m\u001b[38;5;124mFailed to convert value(s) to axis \u001b[39m\u001b[38;5;124m'\u001b[39m\n\u001b[0;32m   1509\u001b[0m                                  \u001b[38;5;124mf\u001b[39m\u001b[38;5;124m'\u001b[39m\u001b[38;5;124munits: \u001b[39m\u001b[38;5;132;01m{\u001b[39;00mx\u001b[38;5;132;01m!r}\u001b[39;00m\u001b[38;5;124m'\u001b[39m) \u001b[38;5;28;01mfrom\u001b[39;00m \u001b[38;5;21;01me\u001b[39;00m\n\u001b[0;32m   1510\u001b[0m \u001b[38;5;28;01mreturn\u001b[39;00m ret\n",
      "\u001b[1;31mConversionError\u001b[0m: Failed to convert value(s) to axis units: ['2.2e-12', '2.2e-11', '2.2e-10', '2.2e-09', '2.2e-08', '2.2e-07', '2.2e-06', '2.2e-05']"
     ]
    },
    {
     "data": {
      "image/png": "[encoded data removed]",
      "text/plain": [
       "<Figure size 432x288 with 1 Axes>"
      ]
     },
     "metadata": {
      "needs_background": "light"
     },
     "output_type": "display_data"
    }
   ],
   "source": [
    "import numpy as np\n",
    "from scipy.integrate import solve_ivp\n",
    "import matplotlib.pyplot as plt\n",
    "\n",
    "#name_to_index = {iso.name: idx for idx, iso in enumerate(isotope_list)}\n",
    "\n",
    "#Initial Counts\n",
    "# y0=[]\n",
    "# for i in isotope_list:\n",
    "#     y0.append(i.count)\n",
    "\n",
    "Th_counts0=[]\n",
    "for i in dc.th_chain_isotope_list:\n",
    "    Th_counts0.append(i.count)\n",
    "\n",
    "U_counts0=[]\n",
    "for i in dc.u_chain_isotope_list:\n",
    "    U_counts0.append(i.count)    \n",
    "\n",
    "tmax_th=2*dc.HL_Th\n",
    "timestep_th = 0.1*dc.HL_Th\n",
    "t_th=np.arange(0, tmax_th, timestep_th)\n",
    "\n",
    "\n",
    "sol_th = solve_ivp(dc.returns_dNndt, [0, tmax_th], Th_counts0, args=(dc.th_chain_isotope_list,), method='BDF', t_eval=t)\n",
    "\n",
    "# plot results ignore for now\n",
    "import matplotlib.pyplot as plt\n",
    "cmap = plt.get_cmap('tab20')\n",
    "colors = [cmap(i) for i in range(12)]\n",
    "\n",
    "for i, isotope in enumerate(dc.th_chain_isotope_list):\n",
    "    # print(isotope.name)\n",
    "    # print(isotope.decay_modes[0])\n",
    "    # print(any('alpha' in sublist for sublist in isotope.decay_modes))\n",
    "    if (any('alpha' in sublist for sublist in isotope.decay_modes)) & (isotope.name != \"Pb_208\"):\n",
    "        plt.plot(sol_th.t, sol_th.y[i]/Th_232.count, label=isotope.name, color=colors[i])\n",
    "plt.legend(loc='right')\n",
    "plt.yscale('log')\n",
    "plt.xscale('log')\n",
    "new_ticks = plt.gca().get_xticks()/dc.HL_Th\n",
    "plt.gca().set_xticks([f\"{tick:.2g}\" for tick in new_ticks])\n",
    "plt.xlabel(r'Time ($^{232}$Th Half-Lives)')\n",
    "plt.ylabel(r'Ratio (isotope count/$^{232}$Th Count)')\n",
    "plt.grid()\n",
    "plt.tight_layout()\n",
    "\n",
    "plt.show()\n",
    "\n",
    "print(10e-9*Th_232.half_life)\n"
   ]
  },
  {
   "cell_type": "code",
   "execution_count": null,
   "metadata": {},
   "outputs": [],
   "source": [
    "from math import floor\n",
    "#Initial Counts\n",
    "y0_U=[]\n",
    "for i in isotope_list1:\n",
    "    y0_U.append(i.count)\n",
    "    \n",
    "#set initial condition\n",
    "t_max = 10e13\n",
    "# t_max = Th_232.half_life\n",
    "t_points = 999\n",
    "t = np.linspace(0, t_max, t_points)\n",
    "# solving ODE\n",
    "sol_y1 = solve_ivp(returns_dydt, [0, t_max], y0_U, method='BDF', t_eval=t, args=(isotope_list1,))\n",
    "\n",
    "# plot results ignore for now\n",
    "import matplotlib.pyplot as plt\n",
    "cmap1 = plt.get_cmap('tab20')\n",
    "colors = [cmap1(i) for i in range(17)]\n",
    "\n",
    "for i, isotope in enumerate(isotope_list1):\n",
    "    # print(isotope.name)\n",
    "    # print(isotope.decay_modes[0])\n",
    "    # print(any('alpha' in sublist for sublist in isotope.decay_modes))\n",
    "    if (any('alpha' in sublist for sublist in isotope.decay_modes)) & (isotope.name != \"Pb_207\"):\n",
    "        plt.plot(sol_y1.t, sol_y1.y[i]/U_235.count, label=isotope.name, color=colors[i])\n",
    "plt.legend(loc='right')\n",
    "plt.yscale('log')\n",
    "plt.xscale('log')\n",
    "# plt.ylim(0,10000000)\n",
    "new_ticks = plt.gca().get_xticks()/ 7.04e8*365*24*3600\n",
    "plt.gca().set_xticklabels([f\"{tick:.2g}\" for tick in new_ticks])\n",
    "plt.xlabel('t')\n",
    "plt.grid()\n",
    "plt.show()\n",
    "\n"
   ]
  },
  {
   "cell_type": "markdown",
   "metadata": {},
   "source": [
    "yaaaay u did it 🥳🤩✨"
   ]
  },
  {
   "cell_type": "code",
   "execution_count": null,
   "metadata": {},
   "outputs": [],
   "source": []
  }
 ],
 "metadata": {
  "colab": {
   "provenance": []
  },
  "kernelspec": {
   "display_name": "Python 3 (ipykernel)",
   "language": "python",
   "name": "python3"
  },
  "language_info": {
   "codemirror_mode": {
    "name": "ipython",
    "version": 3
   },
   "file_extension": ".py",
   "mimetype": "text/x-python",
   "name": "python",
   "nbconvert_exporter": "python",
   "pygments_lexer": "ipython3",
   "version": "3.9.12"
  }
 },
 "nbformat": 4,
 "nbformat_minor": 4
}
