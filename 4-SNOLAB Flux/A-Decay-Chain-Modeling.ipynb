{
 "cells": [
  {
   "cell_type": "markdown",
   "metadata": {
    "id": "cPbDeIOABjY7"
   },
   "source": [
    "# Libraries and Isotope Class"
   ]
  },
  {
   "cell_type": "code",
   "execution_count": 1,
   "metadata": {
    "id": "cPbDeIOABjY7"
   },
   "outputs": [],
   "source": [
    "import numpy as np\n",
    "import pandas as pd\n",
    "import math\n",
    "import random\n",
    "\n",
    "class Isotope:\n",
    "    def __init__(self, name, half_life, decay_modes, count=0, is_stable=False):\n",
    "\n",
    "        self.name = name\n",
    "        self.half_life = half_life\n",
    "        self.decay_modes = decay_modes\n",
    "        self.count = count\n",
    "        self.is_stable = is_stable\n",
    "\n",
    "    def decay(self):\n",
    "        if self.is_stable or not self.decay_modes:\n",
    "            return (\"stable\", self.name)\n",
    "\n",
    "        r = random.random()\n",
    "        cumulative = 0.0\n",
    "        for mode, daughter, prob in self.decay_modes:\n",
    "            cumulative += prob\n",
    "            if r < cumulative:\n",
    "                return (mode, daughter)\n",
    "        # Fallback in case of rounding errors\n",
    "        return self.decay_modes[-1]\n",
    "\n",
    "    def time_until_decay(self):\n",
    "        return random.expovariate(math.log(2) / self.half_life)"
   ]
  },
  {
   "cell_type": "markdown",
   "metadata": {},
   "source": [
    "# Modeling Decay Chains - 232Th and 235U\n",
    "235-Uranium and 232-Thorium are radioactive isotopes which are known to be fairly abundant in the surrounding rock and walls at SNOLAB. SOURCES is a computational code that takes levels of radioactive contamination in materials and outputs the neutron source strengths they induce in terms of ($\\alpha$,n) and spontaneous fission (SF). The Radiation Safety Information Computational Center (RSICC)[[RSICC][RSICC]] maintains and distributes the SOURCES code. The exact isotopic concentrations of isotopes in the 232-Thorium and 235-Uranium decay chains at SNOLAB are unknown. The inputs for the SOURCES4C code assumes secular equilibrium for both decay chains. Here, the relative abundances of alpha decayers present in these decay chains over the timescales of 232-Th and 235-U half-lives respectively, are plotted to ensure this assumption is reasonable, and to determine the concentration ratios of each isotope in the decay chains. The concentrations of each isotope are calculated abiding by the differential equations outlined here: [[Decay chain differential equations: Solutions through matrix analysis][DiffEqs]]. \n",
    "\n",
    "[DiffEqs]:https://www.sciencedirect.com/science/article/pii/S0010465518302613 \"Decay Chain solutions thru matrix analysis\"\n",
    "[RSICC]: https://www.ornl.gov/onramp/rsicc \"Oak Ridge Computational Page\""
   ]
  },
  {
   "cell_type": "code",
   "execution_count": 2,
   "metadata": {
    "id": "VLif-pMB9olX"
   },
   "outputs": [
    {
     "name": "stdout",
     "output_type": "stream",
     "text": [
      "4.446576e+17\n"
     ]
    }
   ],
   "source": [
    "decay_data = {\n",
    "    \"Ra_228\": {\n",
    "        \"half_life\": 5.7 * 365 * 24 * 3600,\n",
    "        \"decay_modes\": [(\"beta\", \"Ac_228\", 1.0)]\n",
    "    },\n",
    "    \"Ac_228\": {\n",
    "        \"half_life\": 6.1 * 60,\n",
    "        \"decay_modes\": [(\"beta\", \"Th_228\", 1.0)]\n",
    "    },\n",
    "    \"Th_228\": {\n",
    "        \"half_life\": 1.9 * 365 * 24 * 3600,\n",
    "        \"decay_modes\": [(\"alpha\", \"Ra_224\", 1.0)]\n",
    "    },\n",
    "    \"Ra_224\": {\n",
    "        \"half_life\": 3.6 * 24 * 3600,\n",
    "        \"decay_modes\": [(\"alpha\", \"Rn_220\", 1.0)]\n",
    "    },\n",
    "    \"Rn_220\": {\n",
    "        \"half_life\": 55,\n",
    "        \"decay_modes\": [(\"alpha\", \"Po_216\", 1.0)]\n",
    "    },\n",
    "    \"Po_216\":{\n",
    "        \"half_life\":  0.14,\n",
    "        \"decay_modes\": [(\"alpha\", \"Pb_212\", 1.0)]\n",
    "    },\n",
    "    \"Pb_212\":{\n",
    "        \"half_life\":  10.6 * 3600,\n",
    "        \"decay_modes\": [(\"beta\", \"Bi_212\", 1.0)]\n",
    "    },\n",
    "    \"Bi_212\":{\n",
    "        \"half_life\":  61 * 60,\n",
    "        \"decay_modes\": [(\"beta\", \"Po_212\", 0.6406),\n",
    "                        (\"alpha\", \"Tl_208\", 0.3594)]\n",
    "    },\n",
    "    \"Po_212\":{\n",
    "        \"half_life\":  3e-7,\n",
    "        \"decay_modes\": [(\"alpha\",\"Pb_208\", 1.0)]\n",
    "    },\n",
    "    \"Tl_208\":{\n",
    "        \"half_life\": 3.1 * 60,\n",
    "        \"decay_modes\": [(\"beta\", \"Pb_208\", 1.0)]}\n",
    "    # Pb 208 is stable define separately\n",
    "}\n",
    "\n",
    "Th_232 = Isotope(\"Th_232\", 1.41e10 * 365 * 24 * 3600, [(\"alpha\", \"Ra_228\", 1.0)], 6e23)\n",
    "# Build Isotope objects\n",
    "Pb_208 = Isotope(\"Pb_208\", float('inf'), [], is_stable=True)\n",
    "\n",
    "print(1.41e10 * 365 * 24 * 3600)\n",
    "isotopes = {}\n",
    "for name, data in decay_data.items():\n",
    "    isotopes[name] = Isotope(name, data[\"half_life\"], data[\"decay_modes\"])\n",
    "\n",
    "# List of Isotope instances\n",
    "isotope_list = [Th_232] + list(isotopes.values()) + [Pb_208]\n",
    "# print(isotope_list)\n",
    "# lambda_list = []\n",
    "\n",
    "# for i in isotope_list:\n",
    "#     lambda_list.append(math.log(2)/i.half_life)\n",
    "    \n"
   ]
  },
  {
   "cell_type": "code",
   "execution_count": 8,
   "metadata": {
    "id": "5Kr3-5RZ5BIM"
   },
   "outputs": [
    {
     "name": "stdout",
     "output_type": "stream",
     "text": [
      "<class 'list'>\n",
      "[-935300.1238165437, 935300.1238165437, 0.0, 0.0, 0.0, 0.0, 0.0, 0.0, 0.0, 0.0, 0.0, 0.0]\n"
     ]
    },
    {
     "name": "stderr",
     "output_type": "stream",
     "text": [
      "C:\\Users\\cecih\\AppData\\Local\\Temp\\ipykernel_10412\\468773600.py:62: UserWarning: FixedFormatter should only be used together with FixedLocator\n",
      "  plt.gca().set_xticklabels([f\"{tick:.2g}\" for tick in new_ticks])\n"
     ]
    },
    {
     "data": {
      "image/png": "[encoded data removed]",
      "text/plain": [
       "<Figure size 432x288 with 1 Axes>"
      ]
     },
     "metadata": {
      "needs_background": "light"
     },
     "output_type": "display_data"
    },
    {
     "name": "stdout",
     "output_type": "stream",
     "text": [
      "4446576000.0\n"
     ]
    }
   ],
   "source": [
    "import numpy as np\n",
    "from scipy.integrate import odeint\n",
    "from scipy.integrate import solve_ivp\n",
    "import matplotlib.pyplot as plt\n",
    "\n",
    "name_to_index = {iso.name: idx for idx, iso in enumerate(isotope_list)}\n",
    "\n",
    "#Initial Counts\n",
    "y0=[]\n",
    "for i in isotope_list:\n",
    "    y0.append(i.count)\n",
    "\n",
    "# Sum over j<n: br(j->n)*lambda_j*N_n - lambda_n*N_n\n",
    "def returns_dydt(t, y, isotopes):\n",
    "    dydt = [0.0] * len(isotopes)\n",
    "    branching_ratios=[]\n",
    "    for i, isotope in enumerate(isotopes):\n",
    "        lambda_i = math.log(2) / isotope.half_life\n",
    "        dydt[i] -= lambda_i * y[i] \n",
    "        for j, parent in enumerate(isotopes):\n",
    "            for mode, daughter_name, br in parent.decay_modes:\n",
    "                if daughter_name == isotope.name:\n",
    "                    lambda_j = math.log(2) / parent.half_life\n",
    "                    branching_ratios.append(br)\n",
    "                    dydt[i]+=br*(math.log(2)/parent.half_life)*y[j]\n",
    "                else:\n",
    "                    branching_ratios.append(0)\n",
    "                    dydt[i]+=0\n",
    "    \n",
    "\n",
    "    return dydt\n",
    "\n",
    "#normalize using lambda?\n",
    "#set initial condition\n",
    "t_max = 10e10\n",
    "# t_max = Th_232.half_life\n",
    "t_points = 999\n",
    "t = np.linspace(0, t_max, t_points)\n",
    "# solving ODE\n",
    "print(returns_dydt(t, y0, isotope_list))\n",
    "\n",
    "\n",
    "sol_y = solve_ivp(returns_dydt, [0, t_max], y0, args=(isotope_list,), method='BDF', t_eval=t)\n",
    "\n",
    "# plot results ignore for now\n",
    "import matplotlib.pyplot as plt\n",
    "cmap = plt.get_cmap('tab20')\n",
    "colors = [cmap(i) for i in range(12)]\n",
    "\n",
    "for i, isotope in enumerate(isotope_list):\n",
    "    # print(isotope.name)\n",
    "    # print(isotope.decay_modes[0])\n",
    "    # print(any('alpha' in sublist for sublist in isotope.decay_modes))\n",
    "    if (any('alpha' in sublist for sublist in isotope.decay_modes)) & (isotope.name != \"Pb_208\"):\n",
    "        plt.plot(sol_y.t, sol_y.y[i]/Th_232.count, label=isotope.name, color=colors[i])\n",
    "plt.legend(loc='right')\n",
    "plt.yscale('log')\n",
    "plt.xscale('log')\n",
    "# plt.ylim(0,10000000)\n",
    "new_ticks = plt.gca().get_xticks() / 1.41e10 * 365 * 24 * 3600\n",
    "plt.gca().set_xticklabels([f\"{tick:.2g}\" for tick in new_ticks])\n",
    "\n",
    "plt.xlabel('t')\n",
    "plt.ylabel('Ratio (isotope count/232Th Count)')\n",
    "plt.grid()\n",
    "plt.show()\n",
    "\n",
    "print(10e-9*Th_232.half_life)\n"
   ]
  },
  {
   "cell_type": "markdown",
   "metadata": {},
   "source": [
    "# Modeling Decay Chain for Uranium 235"
   ]
  },
  {
   "cell_type": "code",
   "execution_count": 4,
   "metadata": {},
   "outputs": [],
   "source": [
    "decay_data1 = {\n",
    "    \"Th_231\": {\n",
    "        \"half_life\": 25.52 * 3600,\n",
    "        \"decay_modes\": [(\"beta\", \"Pa_231\", 1.0)]\n",
    "    },\n",
    "    \"Pa_231\": {\n",
    "        \"half_life\": 32760 * 365 * 24 * 3600,\n",
    "        \"decay_modes\": [(\"beta\", \"Ac_227\", 1.0)]\n",
    "    },\n",
    "    \"Ac_227\": {\n",
    "        \"half_life\": 21.772 * 365 * 24 * 3600,\n",
    "        \"decay_modes\": [(\"alpha\", \"Fr_223\", 0.0138),\n",
    "                       (\"beta\", \"Th_227\", 0.9862)]\n",
    "    },\n",
    "    \"Th_227\": {\n",
    "        \"half_life\": 18.68 *24*3600,\n",
    "        \"decay_modes\": [(\"alpha\", \"Ra_223\", 1)]\n",
    "    },\n",
    "    \"Ra_223\": {\n",
    "        \"half_life\": 11.43 *24*3600,\n",
    "        \"decay_modes\": [(\"alpha\", \"Rn_219\", 1)]\n",
    "    },\n",
    "    \"Fr_223\": {\n",
    "        \"half_life\": 22 * 60,\n",
    "        \"decay_modes\": [(\"alpha\", \"Ra_223\", 0.00006),\n",
    "                       (\"beta\", \"At_219\", 0.99994)]\n",
    "    },\n",
    "    \"At_219\": {\n",
    "        \"half_life\": 56,\n",
    "        \"decay_modes\": [(\"alpha\", \"Bi_215\", 0.936),\n",
    "                       (\"beta\", \"Rn_219\", 0.064)]\n",
    "    },\n",
    "    \"Rn_219\": {\n",
    "        \"half_life\": 3.93,\n",
    "        \"decay_modes\": [(\"alpha\", \"Po_215\", 1)]\n",
    "    },\n",
    "    \"Bi_215\": {\n",
    "        \"half_life\": 7.6 * 60,\n",
    "        \"decay_modes\": [(\"beta\", \"Po_215\", 1)]\n",
    "    },\n",
    "    \"Po_215\": {\n",
    "        \"half_life\": 1.781e-3,\n",
    "        \"decay_modes\": [(\"alpha\", \"Pb_211\", 0.9999977),\n",
    "                       (\"beta\", \"At_215\", 0.0000023)]\n",
    "    },\n",
    "    \"At_215\": {\n",
    "        \"half_life\": 1e-4,\n",
    "        \"decay_modes\": [(\"alpha\", \"Bi_211\", 1)]\n",
    "    },\n",
    "    \"Pb_211\":{\n",
    "        \"half_life\": 36.1 * 60,\n",
    "        \"decay_modes\": [(\"beta\", \"Bi_211\", 1)]\n",
    "    },\n",
    "    \"Bi_211\":{\n",
    "        \"half_life\": 2.14 * 60,\n",
    "        \"decay_modes\": [(\"alpha\", \"Tl_207\", 0.99724), \n",
    "                        (\"beta\",\"Po_211\", 0.00276)]\n",
    "    },\n",
    "    \"Po_211\":{\n",
    "        \"half_life\": 0.516,\n",
    "        \"decay_modes\":[(\"alpha\", \"Pb_207\", 1)]\n",
    "    },\n",
    "    \"Tl_207\":{\n",
    "        \"half_life\": 4.77 * 60,\n",
    "        \"decay_modes\":[(\"beta\", \"Pb_207\", 1)]\n",
    "    }\n",
    "}\n",
    "\n",
    "#Define Parent outside dictionary bc need to identify count, and stable daughter\n",
    "U_235 = Isotope(\"U_235\", 7.04e8*365*24*3600, [(\"alpha\", \"Th_231\", 1.0)], 6e23)\n",
    "Pb_207 = Isotope(\"Pb_207\", float('inf'), [], is_stable=True)\n",
    "\n",
    "isotopes1 = {}\n",
    "for name, data in decay_data1.items():\n",
    "    isotopes1[name] = Isotope(name, data[\"half_life\"], data[\"decay_modes\"])\n",
    "\n",
    "# List of Isotope instances\n",
    "isotope_list1 = [U_235] + list(isotopes1.values()) + [Pb_207]"
   ]
  },
  {
   "cell_type": "code",
   "execution_count": 6,
   "metadata": {},
   "outputs": [
    {
     "name": "stderr",
     "output_type": "stream",
     "text": [
      "C:\\Users\\cecih\\AppData\\Local\\Temp\\ipykernel_10412\\860822700.py:31: UserWarning: FixedFormatter should only be used together with FixedLocator\n",
      "  plt.gca().set_xticklabels([f\"{tick:.2g}\" for tick in new_ticks])\n"
     ]
    },
    {
     "data": {
      "image/png": "[encoded data removed]",
      "text/plain": [
       "<Figure size 432x288 with 1 Axes>"
      ]
     },
     "metadata": {
      "needs_background": "light"
     },
     "output_type": "display_data"
    }
   ],
   "source": [
    "from math import floor\n",
    "#Initial Counts\n",
    "y0_U=[]\n",
    "for i in isotope_list1:\n",
    "    y0_U.append(i.count)\n",
    "    \n",
    "#set initial condition\n",
    "t_max = 10e13\n",
    "# t_max = Th_232.half_life\n",
    "t_points = 999\n",
    "t = np.linspace(0, t_max, t_points)\n",
    "# solving ODE\n",
    "sol_y1 = solve_ivp(returns_dydt, [0, t_max], y0_U, method='BDF', t_eval=t, args=(isotope_list1,))\n",
    "\n",
    "# plot results ignore for now\n",
    "import matplotlib.pyplot as plt\n",
    "cmap1 = plt.get_cmap('tab20')\n",
    "colors = [cmap1(i) for i in range(17)]\n",
    "\n",
    "for i, isotope in enumerate(isotope_list1):\n",
    "    # print(isotope.name)\n",
    "    # print(isotope.decay_modes[0])\n",
    "    # print(any('alpha' in sublist for sublist in isotope.decay_modes))\n",
    "    if (any('alpha' in sublist for sublist in isotope.decay_modes)) & (isotope.name != \"Pb_207\"):\n",
    "        plt.plot(sol_y1.t, sol_y1.y[i]/U_235.count, label=isotope.name, color=colors[i])\n",
    "plt.legend(loc='right')\n",
    "plt.yscale('log')\n",
    "plt.xscale('log')\n",
    "# plt.ylim(0,10000000)\n",
    "new_ticks = plt.gca().get_xticks()/ 7.04e8*365*24*3600\n",
    "plt.gca().set_xticklabels([f\"{tick:.2g}\" for tick in new_ticks])\n",
    "plt.xlabel('t')\n",
    "plt.grid()\n",
    "plt.show()\n",
    "\n"
   ]
  },
  {
   "cell_type": "code",
   "execution_count": null,
   "metadata": {},
   "outputs": [],
   "source": []
  }
 ],
 "metadata": {
  "colab": {
   "provenance": []
  },
  "kernelspec": {
   "display_name": "Python 3 (ipykernel)",
   "language": "python",
   "name": "python3"
  },
  "language_info": {
   "codemirror_mode": {
    "name": "ipython",
    "version": 3
   },
   "file_extension": ".py",
   "mimetype": "text/x-python",
   "name": "python",
   "nbconvert_exporter": "python",
   "pygments_lexer": "ipython3",
   "version": "3.9.12"
  }
 },
 "nbformat": 4,
 "nbformat_minor": 4
}
