{
 "cells": [
  {
   "cell_type": "markdown",
   "metadata": {
    "id": "cPbDeIOABjY7"
   },
   "source": [
    "# ✨📚 Libraries 📚✨"
   ]
  },
  {
   "cell_type": "code",
   "execution_count": 1,
   "metadata": {},
   "outputs": [],
   "source": [
    "#we may need some code in the ../python directory and/or matplotlib styles\n",
    "import sys\n",
    "sys.path.append('../python/')\n",
    "\n",
    "#matplotlib for plotting\n",
    "import matplotlib as mpl\n",
    "from matplotlib import pyplot as plt\n",
    "#plt.style.use('../mplstyles/stylelib/standard.mplstyle')\n",
    "\n",
    "import numpy as np\n",
    "import math\n",
    "import pandas as pd"
   ]
  },
  {
   "cell_type": "code",
   "execution_count": 2,
   "metadata": {},
   "outputs": [],
   "source": [
    "import decay_chains as dc\n",
    "from decay_chains import Isotope\n",
    "from importlib import reload\n",
    "reload(dc)\n",
    "\n",
    "Th_232 = Isotope(\"Th_232\", 1.41e10 * 365 * 24 * 3600, [(\"alpha\", \"Ra_228\", 1.0)], 6e23) "
   ]
  },
  {
   "cell_type": "markdown",
   "metadata": {},
   "source": [
    "# Modeling Decay Chains - 232Th and 235U ☢️🧑‍🔬\n",
    "🤩 235-Uranium and 232-Thorium are radioactive isotopes which are known to be fairly abundant in the surrounding rock and walls at SNOLAB. SOURCES4C is a computational code that takes levels of radioactive contamination in materials and outputs the neutron source strengths they induce in terms of ($\\alpha$,n) and spontaneous fission (SF). The Radiation Safety Information Computational Center (RSICC)[[RSICC][RSICC]] maintains and distributes the SOURCES code. The exact isotopic concentrations of isotopes in the 232-Thorium and 235-Uranium decay chains at SNOLAB are unknown. The inputs for the SOURCES4C code assumes secular equilibrium for both decay chains. Here, the relative abundances of alpha decayers present in these decay chains over the timescales of 232-Th and 235-U half-lives respectively, are plotted to ensure this assumption is reasonable, and to determine the concentration ratios of each isotope in the decay chains. The concentrations of each isotope are calculated abiding by the differential equations outlined here: [[Decay chain differential equations: Solutions through matrix analysis][DiffEqs]]. 🥳\n",
    "\n",
    "[DiffEqs]:https://www.sciencedirect.com/science/article/pii/S0010465518302613 \"Decay Chain solutions thru matrix analysis\"\n",
    "[RSICC]:https://www.ornl.gov/onramp/rsicc \"Oak Ridge Computational Page\""
   ]
  },
  {
   "cell_type": "markdown",
   "metadata": {},
   "source": [
    "## ⚛️ Defining Decay Chains ⚛️\n",
    "Thorium-232 and Uranium-235 decay chains are defined as dictionaries in `decay_chains.py`, and put in lists of the `Isotope` class. Isotopes belonging to other decay chains can be defined with `Isotope(name, half_life, decay_modes)`. Decay chain isotopes, half-lives, daughter isotopes, decay modes and branching ratios retrieved from [[NNDC NuDat 3.0 DB][NNDC]].\n",
    "\n",
    "[NNDC]:https://www.nndc.bnl.gov/nudat3/ \"NNDC at BNL interactive database\""
   ]
  },
  {
   "cell_type": "code",
   "execution_count": 11,
   "metadata": {},
   "outputs": [
    {
     "name": "stdout",
     "output_type": "stream",
     "text": [
      "Thorium-232 Decay Chain Dictionary:  {'Ra_228': {'half_life': 179755200.0, 'decay_modes': [('beta', 'Ac_228', 1.0)]}, 'Ac_228': {'half_life': 366.0, 'decay_modes': [('beta', 'Th_228', 1.0)]}, 'Th_228': {'half_life': 59918400.0, 'decay_modes': [('alpha', 'Ra_224', 1.0)]}, 'Ra_224': {'half_life': 311040.0, 'decay_modes': [('alpha', 'Rn_220', 1.0)]}, 'Rn_220': {'half_life': 55, 'decay_modes': [('alpha', 'Po_216', 1.0)]}, 'Po_216': {'half_life': 0.14, 'decay_modes': [('alpha', 'Pb_212', 1.0)]}, 'Pb_212': {'half_life': 38160.0, 'decay_modes': [('beta', 'Bi_212', 1.0)]}, 'Bi_212': {'half_life': 3660, 'decay_modes': [('beta', 'Po_212', 0.6406), ('alpha', 'Tl_208', 0.3594)]}, 'Po_212': {'half_life': 3e-07, 'decay_modes': [('alpha', 'Pb_208', 1.0)]}, 'Tl_208': {'half_life': 186.0, 'decay_modes': [('beta', 'Pb_208', 1.0)]}}\n",
      "\n",
      "Uranium-235 Decay Chain Dictionary:  {'Th_231': {'half_life': 91872.0, 'decay_modes': [('beta', 'Pa_231', 1.0)]}, 'Pa_231': {'half_life': 1033119360000, 'decay_modes': [('beta', 'Ac_227', 1.0)]}, 'Ac_227': {'half_life': 686601792.0, 'decay_modes': [('alpha', 'Fr_223', 0.0138), ('beta', 'Th_227', 0.9862)]}, 'Th_227': {'half_life': 1613952.0, 'decay_modes': [('alpha', 'Ra_223', 1)]}, 'Ra_223': {'half_life': 987552.0, 'decay_modes': [('alpha', 'Rn_219', 1)]}, 'Fr_223': {'half_life': 1320, 'decay_modes': [('alpha', 'Ra_223', 6e-05), ('beta', 'At_219', 0.99994)]}, 'At_219': {'half_life': 56, 'decay_modes': [('alpha', 'Bi_215', 0.936), ('beta', 'Rn_219', 0.064)]}, 'Rn_219': {'half_life': 3.93, 'decay_modes': [('alpha', 'Po_215', 1)]}, 'Bi_215': {'half_life': 456.0, 'decay_modes': [('beta', 'Po_215', 1)]}, 'Po_215': {'half_life': 0.001781, 'decay_modes': [('alpha', 'Pb_211', 0.9999977), ('beta', 'At_215', 2.3e-06)]}, 'At_215': {'half_life': 0.0001, 'decay_modes': [('alpha', 'Bi_211', 1)]}, 'Pb_211': {'half_life': 2166.0, 'decay_modes': [('beta', 'Bi_211', 1)]}, 'Bi_211': {'half_life': 128.4, 'decay_modes': [('alpha', 'Tl_207', 0.99724), ('beta', 'Po_211', 0.00276)]}, 'Po_211': {'half_life': 0.516, 'decay_modes': [('alpha', 'Pb_207', 1)]}, 'Tl_207': {'half_life': 286.2, 'decay_modes': [('beta', 'Pb_207', 1)]}}\n",
      "\n",
      "Th_232\n",
      "[('alpha', 'Th_231', 1.0)]\n"
     ]
    }
   ],
   "source": [
    "print(\"Thorium-232 Decay Chain Dictionary: \", dc.Th_decay_data)\n",
    "print()\n",
    "print(\"Uranium-235 Decay Chain Dictionary: \", dc.U_decay_data)"
   ]
  },
  {
   "cell_type": "markdown",
   "metadata": {},
   "source": [
    "## Solve Systems of Differential Equations 🧮\n",
    "`returns_dydt` (change name later maybe) takes the inputs"
   ]
  },
  {
   "cell_type": "code",
   "execution_count": 5,
   "metadata": {
    "id": "5Kr3-5RZ5BIM"
   },
   "outputs": [
    {
     "name": "stdout",
     "output_type": "stream",
     "text": [
      "[-935300.1238165437, 935300.1238165437, 0.0, 0.0, 0.0, 0.0, 0.0, 0.0, 0.0, 0.0, 0.0, 0.0]\n"
     ]
    },
    {
     "name": "stderr",
     "output_type": "stream",
     "text": [
      "C:\\Users\\cecih\\AppData\\Local\\Temp\\ipykernel_27660\\668098296.py:61: UserWarning: FixedFormatter should only be used together with FixedLocator\n",
      "  plt.gca().set_xticklabels([f\"{tick:.2g}\" for tick in new_ticks])\n"
     ]
    },
    {
     "data": {
      "image/png": "[encoded data removed]",
      "text/plain": [
       "<Figure size 432x288 with 1 Axes>"
      ]
     },
     "metadata": {
      "needs_background": "light"
     },
     "output_type": "display_data"
    },
    {
     "name": "stdout",
     "output_type": "stream",
     "text": [
      "4446576000.0\n"
     ]
    }
   ],
   "source": [
    "import numpy as np\n",
    "from scipy.integrate import odeint\n",
    "from scipy.integrate import solve_ivp\n",
    "import matplotlib.pyplot as plt\n",
    "\n",
    "name_to_index = {iso.name: idx for idx, iso in enumerate(isotope_list)}\n",
    "\n",
    "#Initial Counts\n",
    "y0=[]\n",
    "for i in isotope_list:\n",
    "    y0.append(i.count)\n",
    "\n",
    "# Sum over j<n: br(j->n)*lambda_j*N_n - lambda_n*N_n\n",
    "def returns_dydt(t, y, isotopes):\n",
    "    dydt = [0.0] * len(isotopes)\n",
    "    branching_ratios=[]\n",
    "    for i, isotope in enumerate(isotopes):\n",
    "        lambda_i = math.log(2) / isotope.half_life\n",
    "        dydt[i] -= lambda_i * y[i] \n",
    "        for j, parent in enumerate(isotopes):\n",
    "            for mode, daughter_name, br in parent.decay_modes:\n",
    "                if daughter_name == isotope.name:\n",
    "                    lambda_j = math.log(2) / parent.half_life\n",
    "                    branching_ratios.append(br)\n",
    "                    dydt[i]+=br*(math.log(2)/parent.half_life)*y[j]\n",
    "                else:\n",
    "                    branching_ratios.append(0)\n",
    "                    dydt[i]+=0\n",
    "    \n",
    "\n",
    "    return dydt\n",
    "\n",
    "#normalize using lambda?\n",
    "#set initial condition\n",
    "t_max = 10e10\n",
    "# t_max = Th_232.half_life\n",
    "t_points = 999\n",
    "t = np.linspace(0, t_max, t_points)\n",
    "# solving ODE\n",
    "print(returns_dydt(t, y0, isotope_list))\n",
    "\n",
    "\n",
    "sol_y = solve_ivp(returns_dydt, [0, t_max], y0, args=(isotope_list,), method='BDF', t_eval=t)\n",
    "\n",
    "# plot results ignore for now\n",
    "import matplotlib.pyplot as plt\n",
    "cmap = plt.get_cmap('tab20')\n",
    "colors = [cmap(i) for i in range(12)]\n",
    "\n",
    "for i, isotope in enumerate(isotope_list):\n",
    "    # print(isotope.name)\n",
    "    # print(isotope.decay_modes[0])\n",
    "    # print(any('alpha' in sublist for sublist in isotope.decay_modes))\n",
    "    if (any('alpha' in sublist for sublist in isotope.decay_modes)) & (isotope.name != \"Pb_208\"):\n",
    "        plt.plot(sol_y.t, sol_y.y[i]/Th_232.count, label=isotope.name, color=colors[i])\n",
    "plt.legend(loc='right')\n",
    "plt.yscale('log')\n",
    "plt.xscale('log')\n",
    "# plt.ylim(0,10000000)\n",
    "new_ticks = plt.gca().get_xticks() / 1.41e10 * 365 * 24 * 3600\n",
    "plt.gca().set_xticklabels([f\"{tick:.2g}\" for tick in new_ticks])\n",
    "\n",
    "plt.xlabel('t')\n",
    "plt.ylabel('Ratio (isotope count/232Th Count)')\n",
    "plt.grid()\n",
    "plt.tight_layout()\n",
    "\n",
    "plt.show()\n",
    "\n",
    "print(10e-9*Th_232.half_life)\n"
   ]
  },
  {
   "cell_type": "markdown",
   "metadata": {},
   "source": [
    "# Modeling Decay Chain for Uranium 235"
   ]
  },
  {
   "cell_type": "code",
   "execution_count": 6,
   "metadata": {},
   "outputs": [],
   "source": [
    "decay_data1 = {\n",
    "    \"Th_231\": {\n",
    "        \"half_life\": 25.52 * 3600,\n",
    "        \"decay_modes\": [(\"beta\", \"Pa_231\", 1.0)]\n",
    "    },\n",
    "    \"Pa_231\": {\n",
    "        \"half_life\": 32760 * 365 * 24 * 3600,\n",
    "        \"decay_modes\": [(\"beta\", \"Ac_227\", 1.0)]\n",
    "    },\n",
    "    \"Ac_227\": {\n",
    "        \"half_life\": 21.772 * 365 * 24 * 3600,\n",
    "        \"decay_modes\": [(\"alpha\", \"Fr_223\", 0.0138),\n",
    "                       (\"beta\", \"Th_227\", 0.9862)]\n",
    "    },\n",
    "    \"Th_227\": {\n",
    "        \"half_life\": 18.68 *24*3600,\n",
    "        \"decay_modes\": [(\"alpha\", \"Ra_223\", 1)]\n",
    "    },\n",
    "    \"Ra_223\": {\n",
    "        \"half_life\": 11.43 *24*3600,\n",
    "        \"decay_modes\": [(\"alpha\", \"Rn_219\", 1)]\n",
    "    },\n",
    "    \"Fr_223\": {\n",
    "        \"half_life\": 22 * 60,\n",
    "        \"decay_modes\": [(\"alpha\", \"Ra_223\", 0.00006),\n",
    "                       (\"beta\", \"At_219\", 0.99994)]\n",
    "    },\n",
    "    \"At_219\": {\n",
    "        \"half_life\": 56,\n",
    "        \"decay_modes\": [(\"alpha\", \"Bi_215\", 0.936),\n",
    "                       (\"beta\", \"Rn_219\", 0.064)]\n",
    "    },\n",
    "    \"Rn_219\": {\n",
    "        \"half_life\": 3.93,\n",
    "        \"decay_modes\": [(\"alpha\", \"Po_215\", 1)]\n",
    "    },\n",
    "    \"Bi_215\": {\n",
    "        \"half_life\": 7.6 * 60,\n",
    "        \"decay_modes\": [(\"beta\", \"Po_215\", 1)]\n",
    "    },\n",
    "    \"Po_215\": {\n",
    "        \"half_life\": 1.781e-3,\n",
    "        \"decay_modes\": [(\"alpha\", \"Pb_211\", 0.9999977),\n",
    "                       (\"beta\", \"At_215\", 0.0000023)]\n",
    "    },\n",
    "    \"At_215\": {\n",
    "        \"half_life\": 1e-4,\n",
    "        \"decay_modes\": [(\"alpha\", \"Bi_211\", 1)]\n",
    "    },\n",
    "    \"Pb_211\":{\n",
    "        \"half_life\": 36.1 * 60,\n",
    "        \"decay_modes\": [(\"beta\", \"Bi_211\", 1)]\n",
    "    },\n",
    "    \"Bi_211\":{\n",
    "        \"half_life\": 2.14 * 60,\n",
    "        \"decay_modes\": [(\"alpha\", \"Tl_207\", 0.99724), \n",
    "                        (\"beta\",\"Po_211\", 0.00276)]\n",
    "    },\n",
    "    \"Po_211\":{\n",
    "        \"half_life\": 0.516,\n",
    "        \"decay_modes\":[(\"alpha\", \"Pb_207\", 1)]\n",
    "    },\n",
    "    \"Tl_207\":{\n",
    "        \"half_life\": 4.77 * 60,\n",
    "        \"decay_modes\":[(\"beta\", \"Pb_207\", 1)]\n",
    "    }\n",
    "}\n",
    "\n",
    "#Define Parent outside dictionary bc need to identify count, and stable daughter\n",
    "U_235 = Isotope(\"U_235\", 7.04e8*365*24*3600, [(\"alpha\", \"Th_231\", 1.0)], 6e23)\n",
    "Pb_207 = Isotope(\"Pb_207\", float('inf'), [], is_stable=True)\n",
    "\n",
    "isotopes1 = {}\n",
    "for name, data in decay_data1.items():\n",
    "    isotopes1[name] = Isotope(name, data[\"half_life\"], data[\"decay_modes\"])\n",
    "\n",
    "# List of Isotope instances\n",
    "isotope_list1 = [U_235] + list(isotopes1.values()) + [Pb_207]"
   ]
  },
  {
   "cell_type": "code",
   "execution_count": 7,
   "metadata": {},
   "outputs": [
    {
     "name": "stderr",
     "output_type": "stream",
     "text": [
      "C:\\Users\\cecih\\AppData\\Local\\Temp\\ipykernel_27660\\860822700.py:31: UserWarning: FixedFormatter should only be used together with FixedLocator\n",
      "  plt.gca().set_xticklabels([f\"{tick:.2g}\" for tick in new_ticks])\n"
     ]
    },
    {
     "data": {
      "image/png": "[encoded data removed]",
      "text/plain": [
       "<Figure size 432x288 with 1 Axes>"
      ]
     },
     "metadata": {
      "needs_background": "light"
     },
     "output_type": "display_data"
    }
   ],
   "source": [
    "from math import floor\n",
    "#Initial Counts\n",
    "y0_U=[]\n",
    "for i in isotope_list1:\n",
    "    y0_U.append(i.count)\n",
    "    \n",
    "#set initial condition\n",
    "t_max = 10e13\n",
    "# t_max = Th_232.half_life\n",
    "t_points = 999\n",
    "t = np.linspace(0, t_max, t_points)\n",
    "# solving ODE\n",
    "sol_y1 = solve_ivp(returns_dydt, [0, t_max], y0_U, method='BDF', t_eval=t, args=(isotope_list1,))\n",
    "\n",
    "# plot results ignore for now\n",
    "import matplotlib.pyplot as plt\n",
    "cmap1 = plt.get_cmap('tab20')\n",
    "colors = [cmap1(i) for i in range(17)]\n",
    "\n",
    "for i, isotope in enumerate(isotope_list1):\n",
    "    # print(isotope.name)\n",
    "    # print(isotope.decay_modes[0])\n",
    "    # print(any('alpha' in sublist for sublist in isotope.decay_modes))\n",
    "    if (any('alpha' in sublist for sublist in isotope.decay_modes)) & (isotope.name != \"Pb_207\"):\n",
    "        plt.plot(sol_y1.t, sol_y1.y[i]/U_235.count, label=isotope.name, color=colors[i])\n",
    "plt.legend(loc='right')\n",
    "plt.yscale('log')\n",
    "plt.xscale('log')\n",
    "# plt.ylim(0,10000000)\n",
    "new_ticks = plt.gca().get_xticks()/ 7.04e8*365*24*3600\n",
    "plt.gca().set_xticklabels([f\"{tick:.2g}\" for tick in new_ticks])\n",
    "plt.xlabel('t')\n",
    "plt.grid()\n",
    "plt.show()\n",
    "\n"
   ]
  },
  {
   "cell_type": "code",
   "execution_count": null,
   "metadata": {},
   "outputs": [],
   "source": []
  }
 ],
 "metadata": {
  "colab": {
   "provenance": []
  },
  "kernelspec": {
   "display_name": "Python 3 (ipykernel)",
   "language": "python",
   "name": "python3"
  },
  "language_info": {
   "codemirror_mode": {
    "name": "ipython",
    "version": 3
   },
   "file_extension": ".py",
   "mimetype": "text/x-python",
   "name": "python",
   "nbconvert_exporter": "python",
   "pygments_lexer": "ipython3",
   "version": "3.9.12"
  }
 },
 "nbformat": 4,
 "nbformat_minor": 4
}
