{
 "cells": [
  {
   "cell_type": "code",
   "execution_count": 7,
   "id": "3d11fd5e-9106-4470-96c6-da086f42fe0f",
   "metadata": {},
   "outputs": [],
   "source": [
    "#we may need some code in the ../python directory and/or matplotlib styles\n",
    "import sys\n",
    "sys.path.append('../../python/')\n",
    "\n",
    "#matplotlib for plotting\n",
    "import matplotlib as mpl\n",
    "from matplotlib import pyplot as plt\n",
    "plt.style.use('../../mplstyles/stylelib/standard.mplstyle')\n",
    "\n",
    "#other computational libraries\n",
    "import numpy as np\n",
    "import pandas as pd\n",
    "import scipy.constants as co\n",
    "import scipy.stats as ss\n",
    "import itertools\n",
    "import pickle\n",
    "from scipy import signal"
   ]
  },
  {
   "cell_type": "code",
   "execution_count": 51,
   "id": "7265a7cb-25ec-40d4-a2f3-dee6656880a4",
   "metadata": {},
   "outputs": [
    {
     "name": "stdout",
     "output_type": "stream",
     "text": [
      "0.13240060811710985 0.04622035918682787 0.05083439133644308 0.01151145414748508\n",
      "0.019175529688144097\n"
     ]
    }
   ],
   "source": [
    "import shielding as sh\n",
    "from importlib import reload \n",
    "\n",
    "reload(sh)\n",
    "mus=1\n",
    "print(sh.slabFluxI(1,1,1,1,mus=mus),sh.slabFluxII(1,1,1,1,mus=mus),sh.slabFluxIII(1,1,1,1,mus=mus),sh.slabFluxIV(1,1,1,1,mus=mus))\n",
    "print(sh.slabFlux(1,1,1,1,mus=mus))"
   ]
  },
  {
   "cell_type": "code",
   "execution_count": 54,
   "id": "a94c4394-3c42-43e5-ab4b-4be6f7e190df",
   "metadata": {},
   "outputs": [
    {
     "name": "stdout",
     "output_type": "stream",
     "text": [
      "0.029313886598730996\n"
     ]
    }
   ],
   "source": [
    "print(sh.slabFlux(1,1,1,1,mus=0.0000000000001))"
   ]
  },
  {
   "cell_type": "code",
   "execution_count": 61,
   "id": "13ec86c5-89b6-4289-b418-6ff47ba2996d",
   "metadata": {},
   "outputs": [
    {
     "name": "stdout",
     "output_type": "stream",
     "text": [
      "0.07853900930641197\n"
     ]
    }
   ],
   "source": [
    "\n",
    "mus=1/0.05\n",
    "l3=0.15\n",
    "print(sh.slabFlux(1,10,10,l3,mus=mus)/sh.slabFlux(1,10,10,l3,mus=0.0000000000001))"
   ]
  },
  {
   "cell_type": "code",
   "execution_count": null,
   "id": "d809cc8a-e5e9-4c47-ab19-4c507af5df12",
   "metadata": {},
   "outputs": [],
   "source": []
  }
 ],
 "metadata": {
  "kernelspec": {
   "display_name": "Python (nescatt_2024)",
   "language": "python",
   "name": "nescatt_2024"
  },
  "language_info": {
   "codemirror_mode": {
    "name": "ipython",
    "version": 3
   },
   "file_extension": ".py",
   "mimetype": "text/x-python",
   "name": "python",
   "nbconvert_exporter": "python",
   "pygments_lexer": "ipython3",
   "version": "3.9.19"
  }
 },
 "nbformat": 4,
 "nbformat_minor": 5
}
