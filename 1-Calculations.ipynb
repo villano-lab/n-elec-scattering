{
 "cells": [
  {
   "cell_type": "code",
   "execution_count": 3,
   "id": "41ae1d3b",
   "metadata": {},
   "outputs": [
    {
     "name": "stdout",
     "output_type": "stream",
     "text": [
      "-sin(phi)**2*sin(theta)**2 - sin(theta)**2*cos(phi)**2\n"
     ]
    }
   ],
   "source": [
    "import numpy as np\n",
    "import sympy\n",
    "from sympy import symbols\n",
    "from sympy import cos,sin\n",
    "theta,phi = sympy.symbols('theta phi')\n",
    "\n",
    "up_up=(0,0,1)\n",
    "up_down=(1,complex(1),0)\n",
    "down_down=(0,0,-1)\n",
    "down_up=(1,-complex(1),0)\n",
    "\n",
    "q1=sin(theta)*cos(phi)\n",
    "q2=sin(theta)*sin(phi)\n",
    "q3=cos(theta)\n",
    "q=(q1,q2,q3)\n",
    "    \n",
    "\n",
    "up_up_up_up=np.dot(np.cross(q,(np.cross(q,up_up))),up_up)\n",
    "up_up_up_down=np.dot(np.cross(q,(np.cross(q,up_up))),up_down)\n",
    "up_up_down_down=np.dot(np.cross(q,(np.cross(q,up_up))),down_down)\n",
    "up_up_down_up=np.dot(np.cross(q,(np.cross(q,up_up))),down_up)\n",
    "\n",
    "up_down_up_up=np.dot(np.cross(q,(np.cross(q,up_down))),up_up)\n",
    "up_down_up_down=np.dot(np.cross(q,(np.cross(q,up_down))),up_down)\n",
    "up_down_down_down=np.dot(np.cross(q,(np.cross(q,up_down))),down_down)\n",
    "up_down_down_up=np.dot(np.cross(q,(np.cross(q,up_down))),down_up)\n",
    "\n",
    "down_down_up_up=np.dot(np.cross(q,(np.cross(q,down_down))),up_up)\n",
    "down_down_up_down=np.dot(np.cross(q,(np.cross(q,down_down))),up_down)\n",
    "down_down_down_down=np.dot(np.cross(q,(np.cross(q,down_down))),down_down)\n",
    "down_down_down_up=np.dot(np.cross(q,(np.cross(q,down_down))),down_up)\n",
    "\n",
    "down_up_up_up=np.dot(np.cross(q,(np.cross(q,down_up))),up_up)\n",
    "down_up_up_down=np.dot(np.cross(q,(np.cross(q,down_up))),up_down)\n",
    "down_up_down_down=np.dot(np.cross(q,(np.cross(q,down_up))),down_down)\n",
    "down_up_down_up=np.dot(np.cross(q,(np.cross(q,down_up))),down_up)\n",
    "\n",
    "stupid=(up_up_up_up,up_up_up_down,up_up_down_down,up_up_down_up,up_down_up_up,up_down_up_down,up_down_down_down,up_down_down_up)"
   ]
  },
  {
   "cell_type": "code",
   "execution_count": null,
   "id": "d43737c4",
   "metadata": {},
   "outputs": [],
   "source": []
  }
 ],
 "metadata": {
  "kernelspec": {
   "display_name": "Python 3 (ipykernel)",
   "language": "python",
   "name": "python3"
  },
  "language_info": {
   "codemirror_mode": {
    "name": "ipython",
    "version": 3
   },
   "file_extension": ".py",
   "mimetype": "text/x-python",
   "name": "python",
   "nbconvert_exporter": "python",
   "pygments_lexer": "ipython3",
   "version": "3.9.12"
  }
 },
 "nbformat": 4,
 "nbformat_minor": 5
}
