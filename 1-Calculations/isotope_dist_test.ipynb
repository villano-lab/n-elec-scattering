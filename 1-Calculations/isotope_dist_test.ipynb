{
 "cells": [
  {
   "cell_type": "code",
   "execution_count": 61,
   "id": "540377dd-6f67-45a1-a58a-273352aa8738",
   "metadata": {},
   "outputs": [],
   "source": [
    "#we may need some code in the ../python directory and/or matplotlib styles\n",
    "import sys\n",
    "sys.path.append('../python/')\n",
    "\n",
    "#matplotlib for plotting\n",
    "import matplotlib as mpl\n",
    "from matplotlib import pyplot as plt\n",
    "plt.style.use('../mplstyles/stylelib/standard.mplstyle')\n",
    "\n",
    "import numpy as np"
   ]
  },
  {
   "cell_type": "code",
   "execution_count": 2,
   "id": "7749c156-594c-4448-a0d5-39f1feee0e2f",
   "metadata": {},
   "outputs": [],
   "source": [
    "import ENDF6el as el\n",
    "import flux_recoil_spec as frs\n",
    "import importlib\n",
    "import time"
   ]
  },
  {
   "cell_type": "code",
   "execution_count": 65,
   "id": "bb562674-cacd-4ec6-8ccb-6f2b6a8f1f77",
   "metadata": {},
   "outputs": [
    {
     "name": "stdout",
     "output_type": "stream",
     "text": [
      "(100,)\n",
      "fast flux: 4000.0000000000005 n/m^2/day\n",
      "175\n",
      "shape of etot: (6000,)\n",
      "6000 6000\n",
      "LinregressResult(slope=-0.341989060170171, intercept=-12.883178144228603, rvalue=-0.9953352356165475, pvalue=2.847357267291413e-06, stderr=0.014824519476612728, intercept_stderr=0.06273875262265612)\n",
      "0.009995281867072022 0.01\n",
      "Compound Isotope Breakdown Sum (should be 1.0):1.0\n",
      "{'Ge[74]': {'a': 0.3672}, 'Ge[72]': {'a': 0.2731}, 'Ge[70]': {'a': 0.2038}, 'Ge[76]': {'a': 0.0783}, 'Ge[73]': {'a': 0.0776}}\n",
      "Evaluation Time: 0.00035 sec.\n"
     ]
    }
   ],
   "source": [
    "importlib.reload(frs)\n",
    "importlib.reload(el)\n",
    "#get Er vector\n",
    "Er= np.geomspace(100/1e7, 1.0, 100)\n",
    "print(np.shape(Er))\n",
    "E,F,ff,ffspec = frs.SNOLAB_flux(Enmin=1e-4)\n",
    "start = time.time()\n",
    "frs.dRdErCompound(Er,E,F,N=1,Comp='Ge')\n",
    "end = time.time()\n",
    "print('Evaluation Time: {:1.5f} sec.'.format(end-start))"
   ]
  },
  {
   "cell_type": "code",
   "execution_count": 66,
   "id": "fcc86a5b-28c0-4bcf-913b-350c34cc30b2",
   "metadata": {},
   "outputs": [
    {
     "name": "stdout",
     "output_type": "stream",
     "text": [
      "Compound Isotope Breakdown Sum (should be 1.0):0.9984409269458859\n",
      "{'O[16]': {'a': 0.6642622299763296}, 'Ca[40]': {'a': 0.16132288941401166}, 'W[184]': {'a': 0.0509870500027032}, 'W[186]': {'a': 0.0473094592551192}, 'W[182]': {'a': 0.04409780760677661}, 'W[183]': {'a': 0.023812816107659365}, 'Ca[44]': {'a': 0.0034713851447543183}, 'O[18]': {'a': 0.00136505465426133}, 'Ca[42]': {'a': 0.0010766952006980078}, 'Ca[48]': {'a': 0.0003111932032929327}, 'Ca[43]': {'a': 0.00022465819489061987}, 'W[180]': {'a': 0.00019968818538917702}}\n"
     ]
    }
   ],
   "source": [
    "frs.dRdErCompound(Er,E,F,N=1,Comp='CaWO4')"
   ]
  },
  {
   "cell_type": "code",
   "execution_count": null,
   "id": "9f9c4c64-0250-48a8-bfda-47085ab4a5f8",
   "metadata": {},
   "outputs": [],
   "source": []
  }
 ],
 "metadata": {
  "kernelspec": {
   "display_name": "Python (nescatt_2024)",
   "language": "python",
   "name": "nescatt_2024"
  },
  "language_info": {
   "codemirror_mode": {
    "name": "ipython",
    "version": 3
   },
   "file_extension": ".py",
   "mimetype": "text/x-python",
   "name": "python",
   "nbconvert_exporter": "python",
   "pygments_lexer": "ipython3",
   "version": "3.9.19"
  }
 },
 "nbformat": 4,
 "nbformat_minor": 5
}
