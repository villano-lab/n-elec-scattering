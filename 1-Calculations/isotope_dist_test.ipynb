{
 "cells": [
  {
   "cell_type": "code",
   "execution_count": 1,
   "id": "540377dd-6f67-45a1-a58a-273352aa8738",
   "metadata": {},
   "outputs": [],
   "source": [
    "#we may need some code in the ../python directory and/or matplotlib styles\n",
    "import sys\n",
    "sys.path.append('../python/')\n",
    "\n",
    "#matplotlib for plotting\n",
    "import matplotlib as mpl\n",
    "from matplotlib import pyplot as plt\n",
    "plt.style.use('../mplstyles/stylelib/standard.mplstyle')\n",
    "\n",
    "import numpy as np"
   ]
  },
  {
   "cell_type": "code",
   "execution_count": 2,
   "id": "7749c156-594c-4448-a0d5-39f1feee0e2f",
   "metadata": {},
   "outputs": [],
   "source": [
    "import ENDF6el as el\n",
    "import flux_recoil_spec as frs\n",
    "import importlib\n",
    "import time"
   ]
  },
  {
   "cell_type": "code",
   "execution_count": 21,
   "id": "bb562674-cacd-4ec6-8ccb-6f2b6a8f1f77",
   "metadata": {},
   "outputs": [
    {
     "name": "stdout",
     "output_type": "stream",
     "text": [
      "(100,)\n",
      "fast flux: 4000.0000000000005 n/m^2/day\n",
      "175\n",
      "shape of etot: (6000,)\n",
      "6000 6000\n",
      "LinregressResult(slope=-0.341989060170171, intercept=-12.883178144228603, rvalue=-0.9953352356165475, pvalue=2.847357267291413e-06, stderr=0.014824519476612728, intercept_stderr=0.06273875262265612)\n",
      "0.009995281867072022 0.01\n",
      "[(3, 0.3672), (1, 0.2731), (0, 0.2038), (4, 0.0783), (2, 0.0776)]\n",
      "Composition({'Ge[74]': 1})\n",
      "Ge[74]\n"
     ]
    },
    {
     "ename": "NameError",
     "evalue": "name 'periodictable' is not defined",
     "output_type": "error",
     "traceback": [
      "\u001b[0;31m---------------------------------------------------------------------------\u001b[0m",
      "\u001b[0;31mNameError\u001b[0m                                 Traceback (most recent call last)",
      "Cell \u001b[0;32mIn[21], line 8\u001b[0m\n\u001b[1;32m      6\u001b[0m E,F,ff,ffspec \u001b[38;5;241m=\u001b[39m frs\u001b[38;5;241m.\u001b[39mSNOLAB_flux(Enmin\u001b[38;5;241m=\u001b[39m\u001b[38;5;241m1e-4\u001b[39m)\n\u001b[1;32m      7\u001b[0m start \u001b[38;5;241m=\u001b[39m time\u001b[38;5;241m.\u001b[39mtime()\n\u001b[0;32m----> 8\u001b[0m \u001b[43mfrs\u001b[49m\u001b[38;5;241;43m.\u001b[39;49m\u001b[43mdRdErCompound\u001b[49m\u001b[43m(\u001b[49m\u001b[43mEr\u001b[49m\u001b[43m,\u001b[49m\u001b[43mE\u001b[49m\u001b[43m,\u001b[49m\u001b[43mF\u001b[49m\u001b[43m,\u001b[49m\u001b[43mN\u001b[49m\u001b[38;5;241;43m=\u001b[39;49m\u001b[38;5;241;43m1\u001b[39;49m\u001b[43m,\u001b[49m\u001b[43mComp\u001b[49m\u001b[38;5;241;43m=\u001b[39;49m\u001b[38;5;124;43m'\u001b[39;49m\u001b[38;5;124;43mGe\u001b[39;49m\u001b[38;5;124;43m'\u001b[39;49m\u001b[43m)\u001b[49m\n\u001b[1;32m      9\u001b[0m end \u001b[38;5;241m=\u001b[39m time\u001b[38;5;241m.\u001b[39mtime()\n\u001b[1;32m     10\u001b[0m \u001b[38;5;28mprint\u001b[39m(\u001b[38;5;124m'\u001b[39m\u001b[38;5;124mEvaluation Time: \u001b[39m\u001b[38;5;132;01m{:1.5f}\u001b[39;00m\u001b[38;5;124m sec.\u001b[39m\u001b[38;5;124m'\u001b[39m\u001b[38;5;241m.\u001b[39mformat(end\u001b[38;5;241m-\u001b[39mstart))\n",
      "File \u001b[0;32m~/Research/n-elec-scattering/1-Calculations/../python/flux_recoil_spec.py:278\u001b[0m, in \u001b[0;36mdRdErCompound\u001b[0;34m(Er, En, F, N, Comp)\u001b[0m\n\u001b[1;32m    276\u001b[0m       \u001b[38;5;28mprint\u001b[39m(j)\n\u001b[1;32m    277\u001b[0m       m \u001b[38;5;241m=\u001b[39m re\u001b[38;5;241m.\u001b[39msearch(\u001b[38;5;124mr\u001b[39m\u001b[38;5;124m'\u001b[39m\u001b[38;5;124m(^[A-Z][a-z]?)\u001b[39m\u001b[38;5;124m\\\u001b[39m\u001b[38;5;124m[([1-9][0-9]?[0-9]?)\u001b[39m\u001b[38;5;124m\\\u001b[39m\u001b[38;5;124m]\u001b[39m\u001b[38;5;124m'\u001b[39m, j)\n\u001b[0;32m--> 278\u001b[0m       \u001b[38;5;28mprint\u001b[39m(m\u001b[38;5;241m.\u001b[39mgroup(\u001b[38;5;241m1\u001b[39m),m\u001b[38;5;241m.\u001b[39mgroup(\u001b[38;5;241m2\u001b[39m),\u001b[43mperiodictable\u001b[49m\u001b[38;5;241m.\u001b[39melements\u001b[38;5;241m.\u001b[39msymbol(m\u001b[38;5;241m.\u001b[39mgroup(\u001b[38;5;241m1\u001b[39m))\u001b[38;5;241m.\u001b[39mnumber)\n\u001b[1;32m    280\u001b[0m \u001b[38;5;28;01mreturn\u001b[39;00m\n",
      "\u001b[0;31mNameError\u001b[0m: name 'periodictable' is not defined"
     ]
    }
   ],
   "source": [
    "importlib.reload(frs)\n",
    "importlib.reload(el)\n",
    "#get Er vector\n",
    "Er= np.geomspace(100/1e7, 1.0, 100)\n",
    "print(np.shape(Er))\n",
    "E,F,ff,ffspec = frs.SNOLAB_flux(Enmin=1e-4)\n",
    "start = time.time()\n",
    "frs.dRdErCompound(Er,E,F,N=1,Comp='Ge')\n",
    "end = time.time()\n",
    "print('Evaluation Time: {:1.5f} sec.'.format(end-start))"
   ]
  },
  {
   "cell_type": "code",
   "execution_count": null,
   "id": "fcc86a5b-28c0-4bcf-913b-350c34cc30b2",
   "metadata": {},
   "outputs": [],
   "source": []
  }
 ],
 "metadata": {
  "kernelspec": {
   "display_name": "Python (nescatt_2024)",
   "language": "python",
   "name": "nescatt_2024"
  },
  "language_info": {
   "codemirror_mode": {
    "name": "ipython",
    "version": 3
   },
   "file_extension": ".py",
   "mimetype": "text/x-python",
   "name": "python",
   "nbconvert_exporter": "python",
   "pygments_lexer": "ipython3",
   "version": "3.9.19"
  }
 },
 "nbformat": 4,
 "nbformat_minor": 5
}
