{
 "cells": [
  {
   "cell_type": "code",
   "execution_count": 16,
   "id": "9385c3f6",
   "metadata": {},
   "outputs": [
    {
     "data": {
      "text/latex": [
       "$\\displaystyle 0.5 \\cos{\\left(2 \\theta \\right)} + 0.5 \\cos{\\left(2 \\phi - 2 \\overline{\\phi} \\right)} + 0.75 \\cos{\\left(2 \\theta - 2 \\overline{\\theta} \\right)} + 0.75 \\cos{\\left(2 \\theta + 2 \\overline{\\theta} \\right)} - 0.25 \\cos{\\left(- 2 \\phi + 2 \\theta + 2 \\overline{\\phi} \\right)} - 0.25 \\cos{\\left(- 2 \\phi + 2 \\overline{\\phi} + 2 \\overline{\\theta} \\right)} - 0.25 \\cos{\\left(2 \\phi + 2 \\theta - 2 \\overline{\\phi} \\right)} - 0.25 \\cos{\\left(2 \\phi - 2 \\overline{\\phi} + 2 \\overline{\\theta} \\right)} + 0.125 \\cos{\\left(- 2 \\phi + 2 \\theta + 2 \\overline{\\phi} + 2 \\overline{\\theta} \\right)} - 0.5 \\cos{\\left(- \\phi + 2 \\theta + \\overline{\\phi} + 2 \\overline{\\theta} \\right)} + 0.5 \\cos{\\left(\\phi - 2 \\theta - \\overline{\\phi} + 2 \\overline{\\theta} \\right)} + 0.5 \\cos{\\left(\\phi + 2 \\theta - \\overline{\\phi} - 2 \\overline{\\theta} \\right)} - 0.5 \\cos{\\left(\\phi + 2 \\theta - \\overline{\\phi} + 2 \\overline{\\theta} \\right)} + 0.125 \\cos{\\left(2 \\phi - 2 \\theta - 2 \\overline{\\phi} + 2 \\overline{\\theta} \\right)} + 0.125 \\cos{\\left(2 \\phi + 2 \\theta - 2 \\overline{\\phi} - 2 \\overline{\\theta} \\right)} + 0.125 \\cos{\\left(2 \\phi + 2 \\theta - 2 \\overline{\\phi} + 2 \\overline{\\theta} \\right)} + 0.5 \\cos{\\left(2 \\overline{\\theta} \\right)} + 5.5$"
      ],
      "text/plain": [
       "0.5*cos(2*theta) + 0.5*cos(2*phi - 2*conjugate(phi)) + 0.75*cos(2*theta - 2*conjugate(theta)) + 0.75*cos(2*theta + 2*conjugate(theta)) - 0.25*cos(-2*phi + 2*theta + 2*conjugate(phi)) - 0.25*cos(-2*phi + 2*conjugate(phi) + 2*conjugate(theta)) - 0.25*cos(2*phi + 2*theta - 2*conjugate(phi)) - 0.25*cos(2*phi - 2*conjugate(phi) + 2*conjugate(theta)) + 0.125*cos(-2*phi + 2*theta + 2*conjugate(phi) + 2*conjugate(theta)) - 0.5*cos(-phi + 2*theta + conjugate(phi) + 2*conjugate(theta)) + 0.5*cos(phi - 2*theta - conjugate(phi) + 2*conjugate(theta)) + 0.5*cos(phi + 2*theta - conjugate(phi) - 2*conjugate(theta)) - 0.5*cos(phi + 2*theta - conjugate(phi) + 2*conjugate(theta)) + 0.125*cos(2*phi - 2*theta - 2*conjugate(phi) + 2*conjugate(theta)) + 0.125*cos(2*phi + 2*theta - 2*conjugate(phi) - 2*conjugate(theta)) + 0.125*cos(2*phi + 2*theta - 2*conjugate(phi) + 2*conjugate(theta)) + 0.5*cos(2*conjugate(theta)) + 5.5"
      ]
     },
     "execution_count": 16,
     "metadata": {},
     "output_type": "execute_result"
    }
   ],
   "source": [
    "import numpy as np\n",
    "import sympy\n",
    "from sympy import symbols\n",
    "from sympy import cos,sin\n",
    "from sympy import simplify\n",
    "theta,phi = sympy.symbols('theta phi')\n",
    "\n",
    "up_up=(0,0,1)\n",
    "up_down=(1,complex(0,1),0)\n",
    "down_down=(0,0,-1)\n",
    "down_up=(1,complex(0,-1),0)\n",
    "\n",
    "q1=sin(theta)*cos(phi)\n",
    "q2=sin(theta)*sin(phi)\n",
    "q3=cos(theta)\n",
    "q=(q1,q2,q3)\n",
    "\n",
    "def fermi(Q,N,e):\n",
    "    return(np.dot(np.cross(Q,(np.cross(Q,e))),N))\n",
    "    \n",
    "\n",
    "up_up_up_up=np.dot(np.cross(q,(np.cross(q,up_up))),up_up)\n",
    "up_up_up_down=np.dot(np.cross(q,(np.cross(q,up_up))),up_down)\n",
    "up_up_down_down=np.dot(np.cross(q,(np.cross(q,up_up))),down_down)\n",
    "up_up_down_up=np.dot(np.cross(q,(np.cross(q,up_up))),down_up)\n",
    "\n",
    "up_down_up_up=np.dot(np.cross(q,(np.cross(q,up_down))),up_up)\n",
    "up_down_up_down=np.dot(np.cross(q,(np.cross(q,up_down))),up_down)\n",
    "up_down_down_down=np.dot(np.cross(q,(np.cross(q,up_down))),down_down)\n",
    "up_down_down_up=np.dot(np.cross(q,(np.cross(q,up_down))),down_up)\n",
    "\n",
    "down_down_up_up=np.dot(np.cross(q,(np.cross(q,down_down))),up_up)\n",
    "down_down_up_down=np.dot(np.cross(q,(np.cross(q,down_down))),up_down)\n",
    "down_down_down_down=np.dot(np.cross(q,(np.cross(q,down_down))),down_down)\n",
    "down_down_down_up=np.dot(np.cross(q,(np.cross(q,down_down))),down_up)\n",
    "\n",
    "down_up_up_up=np.dot(np.cross(q,(np.cross(q,down_up))),up_up)\n",
    "down_up_up_down=np.dot(np.cross(q,(np.cross(q,down_up))),up_down)\n",
    "down_up_down_down=np.dot(np.cross(q,(np.cross(q,down_up))),down_down)\n",
    "down_up_down_up=np.dot(np.cross(q,(np.cross(q,down_up))),down_up)\n",
    "\n",
    "stupid=(up_up_up_up,up_up_up_down,up_up_down_down,up_up_down_up,up_down_up_up,up_down_up_down,up_down_down_down,up_down_down_up,down_down_up_up,down_down_up_down,down_down_down_down,down_down_down_up,down_up_up_up,down_up_up_down,down_up_down_down,down_up_down_up)\n",
    "stupid1=np.asarray(stupid*np.conjugate(stupid))\n",
    "stupid2=sum(stupid1)\n",
    "simplify(stupid2).doit()\n"
   ]
  },
  {
   "cell_type": "code",
   "execution_count": 17,
   "id": "fa5c560f",
   "metadata": {},
   "outputs": [
    {
     "name": "stdout",
     "output_type": "stream",
     "text": [
      "(5-4j)\n"
     ]
    }
   ],
   "source": []
  },
  {
   "cell_type": "code",
   "execution_count": null,
   "id": "8cc3807e",
   "metadata": {},
   "outputs": [],
   "source": []
  }
 ],
 "metadata": {
  "kernelspec": {
   "display_name": "Python 3 (ipykernel)",
   "language": "python",
   "name": "python3"
  },
  "language_info": {
   "codemirror_mode": {
    "name": "ipython",
    "version": 3
   },
   "file_extension": ".py",
   "mimetype": "text/x-python",
   "name": "python",
   "nbconvert_exporter": "python",
   "pygments_lexer": "ipython3",
   "version": "3.9.12"
  }
 },
 "nbformat": 4,
 "nbformat_minor": 5
}
