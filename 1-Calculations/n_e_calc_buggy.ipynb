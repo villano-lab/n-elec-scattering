{
 "cells": [
  {
   "cell_type": "code",
   "execution_count": 2,
   "id": "f37c193c",
   "metadata": {},
   "outputs": [
    {
     "data": {
      "text/latex": [
       "$\\displaystyle 8.0$"
      ],
      "text/plain": [
       "8.00000000000000"
      ]
     },
     "execution_count": 2,
     "metadata": {},
     "output_type": "execute_result"
    }
   ],
   "source": [
    "import numpy as np\n",
    "import sympy\n",
    "from sympy import symbols\n",
    "from sympy import Symbol\n",
    "from sympy import cos,sin\n",
    "from sympy import simplify\n",
    "theta=Symbol('theta', real=True)\n",
    "phi=Symbol('phi',real=True)\n",
    "\n",
    "up_up=(0,0,1)\n",
    "up_down=(1,complex(0,1),0)\n",
    "down_down=(0,0,-1)\n",
    "down_up=(1,complex(0,-1),0)\n",
    "q1=sin(theta)*cos(phi)\n",
    "q2=sin(theta)*sin(phi)\n",
    "q3=cos(theta)\n",
    "q=(q1,q2,q3)\n",
    "\n",
    "def fermi(Q,N,e):\n",
    "    return(np.dot(np.cross(Q,(np.cross(Q,e))),N))\n",
    "    \n",
    "\n",
    "up_up_up_up=np.dot(np.cross(q,(np.cross(q,up_up))),up_up)\n",
    "up_up_up_down=np.dot(np.cross(q,(np.cross(q,up_up))),up_down)\n",
    "up_up_down_down=np.dot(np.cross(q,(np.cross(q,up_up))),down_down)\n",
    "up_up_down_up=np.dot(np.cross(q,(np.cross(q,up_up))),down_up)\n",
    "\n",
    "up_down_up_up=np.dot(np.cross(q,(np.cross(q,up_down))),up_up)\n",
    "up_down_up_down=np.dot(np.cross(q,(np.cross(q,up_down))),up_down)\n",
    "up_down_down_down=np.dot(np.cross(q,(np.cross(q,up_down))),down_down)\n",
    "up_down_down_up=np.dot(np.cross(q,(np.cross(q,up_down))),down_up)\n",
    "\n",
    "down_down_up_up=np.dot(np.cross(q,(np.cross(q,down_down))),up_up)\n",
    "down_down_up_down=np.dot(np.cross(q,(np.cross(q,down_down))),up_down)\n",
    "down_down_down_down=np.dot(np.cross(q,(np.cross(q,down_down))),down_down)\n",
    "down_down_down_up=np.dot(np.cross(q,(np.cross(q,down_down))),down_up)\n",
    "\n",
    "down_up_up_up=np.dot(np.cross(q,(np.cross(q,down_up))),up_up)\n",
    "down_up_up_down=np.dot(np.cross(q,(np.cross(q,down_up))),up_down)\n",
    "down_up_down_down=np.dot(np.cross(q,(np.cross(q,down_up))),down_down)\n",
    "down_up_down_up=np.dot(np.cross(q,(np.cross(q,down_up))),down_up)\n",
    "\n",
    "stupid=(up_up_up_up,up_up_up_down,up_up_down_down,up_up_down_up,up_down_up_up,up_down_up_down,up_down_down_down,up_down_down_up,down_down_up_up,down_down_up_down,down_down_down_down,down_down_down_up,down_up_up_up,down_up_up_down,down_up_down_down,down_up_down_up)\n",
    "stupid1=np.asarray(np.abs(stupid)**2)\n",
    "stupid2=sum(stupid1)\n",
    "simplify(stupid2).doit()\n"
   ]
  },
  {
   "cell_type": "code",
   "execution_count": 3,
   "id": "a289ddaf",
   "metadata": {},
   "outputs": [
    {
     "data": {
      "text/latex": [
       "$\\displaystyle 8$"
      ],
      "text/plain": [
       "8"
      ]
     },
     "execution_count": 3,
     "metadata": {},
     "output_type": "execute_result"
    }
   ],
   "source": [
    "simplify(8*q1**4+8*q2**4+8*q3**4+16*q1**2*q2**2+16*q1**2*q3**2+16*q2**2*q3**2).doit()"
   ]
  },
  {
   "cell_type": "markdown",
   "id": "3c395360-ab2b-4798-9dbb-a09c3ec6da3c",
   "metadata": {},
   "source": [
    "Trying with the Levi Civita method instead"
   ]
  },
  {
   "cell_type": "code",
   "execution_count": 13,
   "id": "c58d0b25-be77-42d4-98a1-21f190049665",
   "metadata": {},
   "outputs": [
    {
     "name": "stdout",
     "output_type": "stream",
     "text": [
      "8.00000000000000\n"
     ]
    }
   ],
   "source": [
    "from sympy import symbols, sin, cos, LeviCivita, Symbol, simplify\n",
    "\n",
    "# Define symbols\n",
    "theta = Symbol('theta', real=True)\n",
    "phi = Symbol('phi', real=True)\n",
    "\n",
    "# Define the components of q (unit vector)\n",
    "q1 = sin(theta) * cos(phi)\n",
    "q2 = sin(theta) * sin(phi)\n",
    "q3 = cos(theta)\n",
    "q_vector = (q1, q2, q3)\n",
    "\n",
    "# Define the vectors for the combinations (with renamed variables)\n",
    "vec_up_up = (0, 0, 1)\n",
    "vec_up_down = (1, 1j, 0)  \n",
    "vec_down_down = (0, 0, -1)\n",
    "vec_down_up = (1, -1j, 0)\n",
    "\n",
    "# Define the list of vectors to be used in combinations\n",
    "vector_list = [vec_up_up, vec_up_down, vec_down_down, vec_down_up]\n",
    "\n",
    "# Function to compute the nested cross product and dot product\n",
    "def compute_fermi(Q, N, E):\n",
    "    # First cross product: Q x E\n",
    "    cross1 = [sum(LeviCivita(i, j, k) * Q[j] * E[k] for j in range(3) for k in range(3)) for i in range(3)]\n",
    "    # Second cross product: Q x (Q x E)\n",
    "    cross2 = [sum(LeviCivita(i, j, k) * Q[j] * cross1[k] for j in range(3) for k in range(3)) for i in range(3)]\n",
    "    # Dot product: (Q x (Q x E)) . N\n",
    "    dot_product = sum(cross2[i] * N[i] for i in range(3))\n",
    "    return dot_product\n",
    "\n",
    "# List to store results\n",
    "fermi_results = []\n",
    "\n",
    "# Loop through all combinations of vectors\n",
    "for vector1 in vector_list:\n",
    "    for vector2 in vector_list:\n",
    "        fermi_results.append(compute_fermi(q_vector, vector1, vector2))\n",
    "\n",
    "# Compute the squared absolute values and sum them\n",
    "squared_abs_values = [abs(result)**2 for result in fermi_results]\n",
    "total_sum = sum(squared_abs_values)\n",
    "\n",
    "# Simplify the result\n",
    "simplified_result = simplify(total_sum)\n",
    "\n",
    "# Print the result\n",
    "print(simplified_result)\n"
   ]
  },
  {
   "cell_type": "code",
   "execution_count": null,
   "id": "65d1094a-e6b5-4561-9b51-f29b6667ed71",
   "metadata": {},
   "outputs": [],
   "source": []
  }
 ],
 "metadata": {
  "kernelspec": {
   "display_name": "Python [conda env:base] *",
   "language": "python",
   "name": "conda-base-py"
  },
  "language_info": {
   "codemirror_mode": {
    "name": "ipython",
    "version": 3
   },
   "file_extension": ".py",
   "mimetype": "text/x-python",
   "name": "python",
   "nbconvert_exporter": "python",
   "pygments_lexer": "ipython3",
   "version": "3.12.7"
  }
 },
 "nbformat": 4,
 "nbformat_minor": 5
}
