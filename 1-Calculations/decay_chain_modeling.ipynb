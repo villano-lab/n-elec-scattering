{
  "nbformat": 4,
  "nbformat_minor": 0,
  "metadata": {
    "colab": {
      "provenance": []
    },
    "kernelspec": {
      "name": "python3",
      "display_name": "Python 3"
    },
    "language_info": {
      "name": "python"
    }
  },
  "cells": [
    {
      "cell_type": "code",
      "execution_count": null,
      "metadata": {
        "id": "cPbDeIOABjY7"
      },
      "outputs": [],
      "source": [
        "import numpy as np\n",
        "import pandas as pd\n",
        "import math\n",
        "import random\n",
        "\n",
        "class Isotope:\n",
        "    def __init__(self, name, half_life, decay_modes):\n",
        "\n",
        "        self.name = name\n",
        "        self.half_life = half_life\n",
        "        self.decay_modes = decay_modes\n",
        "        self.is_stable = is_stable\n",
        "\n",
        "    def decay(self):\n",
        "      if self.is_stable or not self.decay_modes:\n",
        "            return (\"stable\", self.name)\n",
        "\n",
        "        r = random.random()\n",
        "        cumulative = 0.0\n",
        "        for mode, daughter, prob in self.decay_modes:\n",
        "            cumulative += prob\n",
        "            if r < cumulative:\n",
        "                return (mode, daughter)\n",
        "        # Fallback in case of rounding errors\n",
        "        return self.decay_modes[-1]\n",
        "\n",
        "    def time_until_decay(self):\n",
        "        return random.expovariate(math.log(2) / self.half_life)\n"
      ]
    },
    {
      "cell_type": "code",
      "source": [
        "decay_data = {\n",
        "    \"Ra_228\": {\n",
        "        \"half_life\": 5.7 * 365 * 24 * 3600,\n",
        "        \"decay_modes\": [(\"beta\", \"Ac_228\", 1.0)]\n",
        "    },\n",
        "    \"Ac_228\": {\n",
        "        \"half_life\": 6.1 * 60,\n",
        "        \"decay_modes\": [(\"beta\", \"Th_228\", 1.0)]\n",
        "    },\n",
        "    \"Th_228\": {\n",
        "        \"half_life\": 1.9 * 365 * 24 * 3600,\n",
        "        \"decay_modes\": [(\"alpha\", \"Ra_224\", 1.0)]\n",
        "    },\n",
        "    \"Ra_224\": {\n",
        "        \"half_life\": 3.6 * 24 * 3600,\n",
        "        \"decay_modes\": [(\"alpha\", \"Rn_220\", 1.0)]\n",
        "    },\n",
        "    \"Rn_220\": {\n",
        "        \"half_life\": 55,\n",
        "        \"decay_modes\": [(\"alpha\", \"Po_216\", 1.0)]\n",
        "    },\n",
        "    \"Po_216\":{\n",
        "        \"half_life\":  0.14,\n",
        "        \"decay_modes\": [(\"alpha\", \"Pb_212\", 1.0)]\n",
        "    },\n",
        "    \"Pb_212\":{\n",
        "        \"half_life\":  10.6 * 3600,\n",
        "        \"decay_modes\": [(\"beta\", \"Bi_212\", 1.0)]\n",
        "    },\n",
        "    \"Bi_212\":{\n",
        "        \"half_life\":  61 * 60,\n",
        "        \"decay_modes\": [(\"beta\", \"Po_212\", 0.6406),\n",
        "                        (\"alpha\", \"Tl_208\", 0.3594)]\n",
        "    },\n",
        "    \"Po_212\":{\n",
        "        \"half_life\":  3e-7,\n",
        "        \"decay_modes\": [(\"alpha\",\"Pb_208\", 1.0)]\n",
        "    },\n",
        "    \"Tl_208\":{\n",
        "        \"half_life\": 3.1 * 60,\n",
        "        \"decay_modes\": [(\"beta\", \"Pb_208\", 1.0)]}\n",
        "    # Pb 208 is stable define separately\n",
        "}\n",
        "\n",
        "Th_232 = Isotope(\"Th_232\", 1.41e10 * 365 * 24 * 3600, [(\"alpha\", \"Ra_228\", 1.0)])\n",
        "# Build Isotope objects\n",
        "isotopes = {}\n",
        "for name, data in decay_data.items():\n",
        "    isotopes[name] = Isotope(name, data[\"half_life\"], data[\"decay_modes\"])"
      ],
      "metadata": {
        "id": "VLif-pMB9olX"
      },
      "execution_count": null,
      "outputs": []
    },
    {
      "cell_type": "code",
      "source": [
        "#Initial Counts\n",
        "Ra_228_count = 9999\n",
        "Ac_228_count = 0\n",
        "Th_228_count = 0\n",
        "Ra_224_count = 0\n",
        "Rn_220_count = 0\n",
        "Po_216_count = 0\n",
        "Pb_212_count = 0\n",
        "Bi_212_count = 0\n",
        "Po_212_count = 0\n",
        "Tl_208_count = 0\n",
        "Pb_208_count = 0\n",
        "\n",
        "timestep = 10*365*24*3600\n",
        "# iterate thru?\n",
        "\n",
        "# relationship between half life and decay constant lambda\n",
        "# lambda = ln(2)/half life\n",
        "\n",
        "Th_232_rate =\n"
      ],
      "metadata": {
        "id": "5Kr3-5RZ5BIM"
      },
      "execution_count": null,
      "outputs": []
    }
  ]
}