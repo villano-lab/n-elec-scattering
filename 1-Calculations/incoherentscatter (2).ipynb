{
 "cells": [
  {
   "cell_type": "code",
   "execution_count": 1,
   "metadata": {
    "colab": {
     "base_uri": "https://localhost:8080/",
     "height": 564
    },
    "id": "ZbfErG7NtP9g",
    "outputId": "3274580c-18d1-4c6d-ba1e-6e704ed738fb"
   },
   "outputs": [
    {
     "data": {
      "image/png": "[encoded data removed]",
      "text/plain": [
       "<Figure size 576x432 with 1 Axes>"
      ]
     },
     "metadata": {
      "needs_background": "light"
     },
     "output_type": "display_data"
    }
   ],
   "source": [
    "import matplotlib.pyplot as plt\n",
    "\n",
    "# Manually define the x and y values from the provided data points\n",
    "x_values = [\n",
    "    0.4953, 0.2992, 0.3206, 0.3384, 0.3562, 0.367, 0.3812, 0.4062,\n",
    "    0.3919, 0.4276, 0.4186, 0.4418, 0.4596, 0.5525, 0.5632, 0.5703,\n",
    "    0.5952, 0.6059, 0.6256, 0.1532, 0.0678, 0.0909, 1.2483, 1.3768,\n",
    "    1.7981, 2.2551\n",
    "]\n",
    "\n",
    "y_values = [\n",
    "    0.6117, 0.4282, 0.4478, 0.4815, 0.4781, 0.4729, 0.4695, 0.4767,\n",
    "    0.4925, 0.5122, 0.5263, 0.5265, 0.5636, 0.5644, 0.5838, 0.6158,\n",
    "    0.6195, 0.6514, 0.6444, 0.1885, 0.0447, 0.0661, 0.8965, 0.9258,\n",
    "    0.9713, 0.9959\n",
    "]\n",
    "\n",
    "# Plot the data\n",
    "plt.figure(figsize=(8, 6))\n",
    "plt.plot(x_values, y_values, marker='o', linestyle='None', color='b')\n",
    "plt.title('Incoherent Scattering Function')\n",
    "plt.xlabel('X')\n",
    "plt.ylabel('Y')\n",
    "plt.grid(True)\n",
    "plt.show()\n"
   ]
  },
  {
   "cell_type": "code",
   "execution_count": 2,
   "metadata": {
    "colab": {
     "base_uri": "https://localhost:8080/",
     "height": 489
    },
    "id": "vBx9wbQFxLmR",
    "outputId": "51d2bb33-0769-48cb-e4d9-6c356fe20e6b"
   },
   "outputs": [
    {
     "ename": "ModuleNotFoundError",
     "evalue": "No module named 'google'",
     "output_type": "error",
     "traceback": [
      "\u001b[1;31m---------------------------------------------------------------------------\u001b[0m",
      "\u001b[1;31mModuleNotFoundError\u001b[0m                       Traceback (most recent call last)",
      "Input \u001b[1;32mIn [2]\u001b[0m, in \u001b[0;36m<cell line: 3>\u001b[1;34m()\u001b[0m\n\u001b[0;32m      1\u001b[0m \u001b[38;5;28;01mimport\u001b[39;00m \u001b[38;5;21;01mmatplotlib\u001b[39;00m\u001b[38;5;21;01m.\u001b[39;00m\u001b[38;5;21;01mpyplot\u001b[39;00m \u001b[38;5;28;01mas\u001b[39;00m \u001b[38;5;21;01mplt\u001b[39;00m\n\u001b[0;32m      2\u001b[0m \u001b[38;5;28;01mimport\u001b[39;00m \u001b[38;5;21;01mpandas\u001b[39;00m \u001b[38;5;28;01mas\u001b[39;00m \u001b[38;5;21;01mpd\u001b[39;00m\n\u001b[1;32m----> 3\u001b[0m \u001b[38;5;28;01mfrom\u001b[39;00m \u001b[38;5;21;01mgoogle\u001b[39;00m\u001b[38;5;21;01m.\u001b[39;00m\u001b[38;5;21;01mcolab\u001b[39;00m \u001b[38;5;28;01mimport\u001b[39;00m drive\n\u001b[0;32m      4\u001b[0m \u001b[38;5;28;01mfrom\u001b[39;00m \u001b[38;5;21;01mpathlib\u001b[39;00m \u001b[38;5;28;01mimport\u001b[39;00m Path\n\u001b[0;32m      6\u001b[0m notebook_dir \u001b[38;5;241m=\u001b[39m Path()\u001b[38;5;241m.\u001b[39mresolve()  \u001b[38;5;66;03m# Gets the current working directory\u001b[39;00m\n",
      "\u001b[1;31mModuleNotFoundError\u001b[0m: No module named 'google'"
     ]
    }
   ],
   "source": [
    "import matplotlib.pyplot as plt\n",
    "import pandas as pd\n",
    "from google.colab import drive\n",
    "from pathlib import Path\n",
    "\n",
    "notebook_dir = Path().resolve()  # Gets the current working directory\n",
    "file_path = notebook_dir / \"Datathief\" / \"fig42trace.txt\"\n",
    "file_path1 =  notebook_dir / \"Datathief\" / \"fig43trace.txt\"\n",
    "file_path2 =  notebook_dir / \"Datathief\" / \"fig2trace.txt\"\n",
    "\n",
    "\n",
    "\n",
    "# Mount Google Drive (correct path)\n",
    "# drive.mount('/content/drive')\n",
    "\n",
    "# Correct file path (ensure this matches the actual file location in your Google Drive)\n",
    "# file_path = '/content/drive/MyDrive/Colab Notebooks/villano rsrch/fig42trace.txt'\n",
    "# file_path1 = '/content/drive/MyDrive/Colab Notebooks/villano rsrch/fig43trace.txt'\n",
    "# file_path2 = '/content/drive/MyDrive/Colab Notebooks/villano rsrch/fig2trace.txt'\n",
    "\n",
    "data = []\n",
    "data1 = []\n",
    "data2 = []\n",
    "\n",
    "# Read the file\n",
    "with open(file_path, 'r') as file:\n",
    "    # Skip the first line (header line)\n",
    "    file.readline()\n",
    "    # Read the rest of the lines with data\n",
    "    for line in file:\n",
    "        # Ignore empty lines and split by comma\n",
    "        if line.strip():\n",
    "            values = line.strip().split(',')\n",
    "            data.append([float(values[0]), float(values[1])])\n",
    "\n",
    "with open(file_path1, 'r') as file:\n",
    "    # Skip the first line (header line)\n",
    "    file.readline()\n",
    "    # Read the rest of the lines with data\n",
    "    for line in file:\n",
    "        # Ignore empty lines and split by comma\n",
    "        if line.strip():\n",
    "            values = line.strip().split(',')\n",
    "            data1.append([float(values[0]), float(values[1])])\n",
    "\n",
    "with open(file_path2, 'r') as file:\n",
    "    # Skip the first line (header line)\n",
    "    file.readline()\n",
    "    # Read the rest of the lines with data\n",
    "    for line in file:\n",
    "        # Ignore empty lines and split by comma\n",
    "        if line.strip():\n",
    "            values = line.strip().split(',')\n",
    "            data2.append([float(values[0]), float(values[1])])\n",
    "\n",
    "# Step 2: Convert the data to a pandas DataFrame\n",
    "df = pd.DataFrame(data, columns=['X', 'Y'])\n",
    "df1 = pd.DataFrame(data1, columns=['X','Y'])\n",
    "df2 = pd.DataFrame(data2, columns=['X','Y'])\n",
    "\n",
    "# Step 3: Plot the data\n",
    "plt.plot(df['X'], df['Y'], marker='o', linestyle='-', color='b', alpha=0.3, markersize=0.4, markeredgewidth=2, label='fig 42')\n",
    "#Cromer-Mann Calculations for Be\n",
    "plt.plot(df1['X'], df1['Y'], marker='x', linestyle='-', color='r', alpha=0.3, markersize=0.4, markeredgewidth=2, label ='fig 43')\n",
    "#Cromer Configuration for C\n",
    "plt.plot(df2['X'], df2['Y'], marker='x', linestyle='-', color='g', alpha=0.3, markersize=0.4, markeredgewidth=2, label = 'Hartree-Fock, Atomic Al (Figure 2)')\n",
    "#Fig 2 nonrelativistic Hartree-Fock Calculations for S(x,Z) atomic Al (Ribberfors)\n",
    "\n",
    "#Figures 42 and 43 have Hartree Fock configurations add in later\n",
    "\n",
    "plt.title('overlaid Figs 42 and 43')\n",
    "plt.ylabel('S(x,Z)/Z')\n",
    "plt.xlabel('x, sin(theta/2)')\n",
    "plt.legend(loc='right')\n",
    "plt.grid(True)\n",
    "plt.show()\n"
   ]
  },
  {
   "cell_type": "code",
   "execution_count": null,
   "metadata": {
    "colab": {
     "base_uri": "https://localhost:8080/",
     "height": 472
    },
    "id": "0_ZTdUKsBMPF",
    "outputId": "17f15dec-4467-463c-9a7b-6bdab1c1be4d"
   },
   "outputs": [],
   "source": [
    "# file_path_Ge = '/content/drive/MyDrive/Colab Notebooks/villano rsrch/Freeman_Ge_trace.txt'\n",
    "# file_path_Ge_WH = '/content/drive/MyDrive/Colab Notebooks/villano rsrch/Freeman_Ge_WH_trace.txt'\n",
    "\n",
    "file_path_Ge = notebook_dir / \"Datathief\" / \"Freeman_Ge_trace.txt\"\n",
    "file_path_Ge_WH = notebook_dir / \"Datathief\" / \"Freeman_Ge_WH_trace.txt\"\n",
    "\n",
    "\n",
    "\n",
    "data_Ge = []\n",
    "data_Ge_WH = []\n",
    "\n",
    "with open(file_path_Ge, 'r') as file:\n",
    "    file.readline()\n",
    "    for line in file:\n",
    "        if line.strip():\n",
    "            values = line.strip().split(',')\n",
    "            data_Ge.append([float(values[0]), float(values[1])])\n",
    "\n",
    "with open(file_path_Ge_WH, 'r') as file:\n",
    "    file.readline()\n",
    "    for line in file:\n",
    "        if line.strip():\n",
    "            values = line.strip().split(',')\n",
    "            data_Ge_WH.append([float(values[0]), float(values[1])])\n",
    "\n",
    "df_Ge= pd.DataFrame(data_Ge, columns=['X','Y'])\n",
    "df_Ge_WH = pd.DataFrame(data_Ge_WH, columns=['X','Y'])\n",
    "\n",
    "plt.plot(df_Ge['X'], df_Ge['Y'], marker='x', linestyle='-', color='r', alpha=0.3, markersize=0.4, markeredgewidth=2, label ='Ge')\n",
    "plt.plot(df_Ge_WH['X'], df_Ge_WH['Y'], marker='x', linestyle='-', color='g', alpha=0.3, markersize=0.4, markeredgewidth=2, label = 'Ge Waller Hartree')\n",
    "\n",
    "plt.title('Germanium')\n",
    "plt.ylabel('Z-F')\n",
    "plt.xlabel('sin(theta)/alpha (angstroms^-1)')\n",
    "plt.grid(True)\n",
    "plt.show()"
   ]
  },
  {
   "cell_type": "code",
   "execution_count": null,
   "metadata": {
    "colab": {
     "base_uri": "https://localhost:8080/",
     "height": 472
    },
    "id": "A6Lu-kkcYS_o",
    "outputId": "830afc38-797c-48c2-ef4e-ae7df05d76a8"
   },
   "outputs": [],
   "source": [
    "#file_path_Si = '/content/drive/MyDrive/Colab Notebooks/villano rsrch/Si_trace.txt'\n",
    "#file_path_Si3 = '/content/drive/MyDrive/Colab Notebooks/villano rsrch/Si_3.txt'\n",
    "#file_path_Si4 = '/content/drive/MyDrive/Colab Notebooks/villano rsrch/Si_4.txt'\n",
    "#file_path_Si_JB = '/content/drive/MyDrive/Colab Notebooks/villano rsrch/Si_JB_trace.txt'\n",
    "\n",
    "file_path_Si = notebook_dir / \"Datathief\" / \"Si_trace.txt\"\n",
    "file_path_Si3 = notebook_dir / \"Datathief\" / \"Si_3.txt\"\n",
    "file_path_Si4 = notebook_dir / \"Datathief\" / \"Si_4.txt\"\n",
    "file_path_Si_JB = notebook_dir / \"Datathief\" / \"Si_JB_trace.txt\"\n",
    "\n",
    "\n",
    "\n",
    "data_Si = []\n",
    "data_Si3 = []\n",
    "data_Si4 = []\n",
    "data_Si_JB = []\n",
    "\n",
    "\n",
    "with open(file_path_Si, 'r') as file:\n",
    "    file.readline()\n",
    "    for line in file:\n",
    "        if line.strip():\n",
    "            values = line.strip().split(',')\n",
    "            data_Si.append([float(values[0]), float(values[1])])\n",
    "\n",
    "with open(file_path_Si3, 'r') as file:\n",
    "    file.readline()\n",
    "    for line in file:\n",
    "        if line.strip():\n",
    "            values = line.strip().split(',')\n",
    "            data_Si3.append([float(values[0]), float(values[1])])\n",
    "\n",
    "with open(file_path_Si4, 'r') as file:\n",
    "    file.readline()\n",
    "    for line in file:\n",
    "        if line.strip():\n",
    "            values = line.strip().split(',')\n",
    "            data_Si4.append([float(values[0]), float(values[1])])\n",
    "\n",
    "with open(file_path_Si_JB, 'r') as file:\n",
    "    file.readline()\n",
    "    for line in file:\n",
    "        if line.strip():\n",
    "            values = line.strip().split(',')\n",
    "            data_Si_JB.append([float(values[0]), float(values[1])])\n",
    "\n",
    "df_Si= pd.DataFrame(data_Si, columns=['X','Y'])\n",
    "df_Si3= pd.DataFrame(data_Si3, columns=['X','Y'])\n",
    "df_Si4= pd.DataFrame(data_Si4, columns=['X','Y'])\n",
    "df_Si_JB = pd.DataFrame(data_Si_JB, columns=['X','Y'])\n",
    "\n",
    "plt.plot(df_Si['X'], df_Si['Y'], marker='x', linestyle='-', color='r', alpha=0.3, markersize=0.4, markeredgewidth=2, label ='Si')\n",
    "plt.plot(df_Si3['X'], df_Si3['Y'], marker='x', linestyle='-', color='g', alpha=0.3, markersize=0.4, markeredgewidth=2, label = 'Si 3+')\n",
    "plt.plot(df_Si4['X'], df_Si4['Y'], marker='x', linestyle='-', color='b', alpha=0.3, markersize=0.4, markeredgewidth=2, label ='Si 3+')\n",
    "plt.plot(df_Si_JB['X'], df_Si_JB['Y'], marker='x', linestyle='-', color='m', alpha=0.3, markersize=0.4, markeredgewidth=2, label = 'Si JB')\n",
    "\n",
    "plt.title('Si')\n",
    "plt.ylabel('Z-F')\n",
    "plt.xlabel('sin(theta)/alpha (angstroms^-1)')\n",
    "plt.grid(True)\n",
    "plt.show()"
   ]
  }
 ],
 "metadata": {
  "colab": {
   "provenance": []
  },
  "kernelspec": {
   "display_name": "Python 3 (ipykernel)",
   "language": "python",
   "name": "python3"
  },
  "language_info": {
   "codemirror_mode": {
    "name": "ipython",
    "version": 3
   },
   "file_extension": ".py",
   "mimetype": "text/x-python",
   "name": "python",
   "nbconvert_exporter": "python",
   "pygments_lexer": "ipython3",
   "version": "3.9.12"
  }
 },
 "nbformat": 4,
 "nbformat_minor": 4
}
