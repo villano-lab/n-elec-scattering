{
 "cells": [
  {
   "cell_type": "markdown",
   "id": "1789628a-5451-4ed8-abdc-56c26042a442",
   "metadata": {},
   "source": [
    "Libraries and Style Files\n",
    "-------------------------"
   ]
  },
  {
   "cell_type": "code",
   "execution_count": 1,
   "id": "9f69a494-2968-4449-b8f4-007dcd1f3983",
   "metadata": {},
   "outputs": [],
   "source": [
    "#we may need some code in the ../python directory and/or matplotlib styles\n",
    "import sys\n",
    "sys.path.append('../python/')\n",
    "\n",
    "#matplotlib for plotting\n",
    "import matplotlib as mpl\n",
    "from matplotlib import pyplot as plt\n",
    "plt.style.use('../mplstyles/stylelib/standard.mplstyle')\n",
    "\n",
    "import numpy as np"
   ]
  },
  {
   "cell_type": "markdown",
   "id": "de5f5985-3e4d-4d5f-b03f-928f4392fa7e",
   "metadata": {},
   "source": [
    "Single-Scatter Recoil Spectrum\n",
    "===============================\n",
    "\n",
    "In the paper we have computed the differential cross section for a neutron magnetically scattering off of a single electron. That expression is as follows. \n",
    "\n",
    "\\begin{equation}\n",
    "\\left ( \\frac{d\\sigma}{d\\Omega} \\right )_{CM}= \\frac{2m_n^2 \\gamma_n^2 \\mu_B^2}{\\hbar^2}.\n",
    "\\end{equation}\n",
    "\n",
    "This cross section is easily converted into the single-scatter recoil cross section for monoenergetic neutrons by the same methods as the notebook `0-Preliminaries/B-Neutron-Nucleus-Recoil-Distributions.ipynb`.\n",
    "\n",
    "\\begin{equation}\n",
    "\\begin{aligned}\n",
    "\\frac{d\\sigma}{dE_r} &= \\int d\\phi_{cm} \\left ( \\frac{d\\sigma}{d\\Omega} \\right )_{CM} \\left(\\frac{d\\cos{(\\theta_{cm})}}{dE_r} \\right)\\\\\n",
    "&=2\\pi \\left ( \\frac{d\\sigma}{d\\Omega} \\right )_{CM} \\left(\\frac{d\\cos{(\\theta_{cm})}}{dE_r} \\right),\n",
    "\\end{aligned}\n",
    "\\end{equation}\n",
    "\n",
    "This results in the following differential cross section:\n",
    "\n",
    "\\begin{equation}\n",
    "\\frac{d\\sigma}{dE_r} = \\frac{2\\pi m_n^2 \\gamma_n^2 \\mu_B^2}{\\hbar^2} \\frac{(m_n+m_e)^2}{m_n m_e}.\n",
    "\\end{equation}"
   ]
  },
  {
   "cell_type": "markdown",
   "id": "23f00232-54de-475e-b58a-c54d558be42e",
   "metadata": {},
   "source": [
    "Compute the Cross Section\n",
    "-------------------------\n",
    "\n",
    "Below we compute this function $d\\sigma/dE_r$. It is a uniform distribution at some level up to the maximum recoil energy. This follows from the fact that the angular cross section in the CoM is angle-independent. "
   ]
  },
  {
   "cell_type": "code",
   "execution_count": 2,
   "id": "26299c89-b2cc-48c1-8a0a-a75e9e7e60c6",
   "metadata": {},
   "outputs": [
    {
     "name": "stdout",
     "output_type": "stream",
     "text": [
      "Neutron Mass: 939565.4205199999 keV\n",
      "Electron Mass: 510.99895 keV\n"
     ]
    }
   ],
   "source": [
    "import scipy.constants as co\n",
    "m_n = co.physical_constants['neutron mass energy equivalent in MeV'][0]*1e3 # neutron mass in keV\n",
    "m_e = co.physical_constants['electron mass energy equivalent in MeV'][0]*1e3\n",
    "\n",
    "print(\"Neutron Mass: {} keV\".format(m_n))\n",
    "print(\"Electron Mass: {} keV\".format(m_e))"
   ]
  },
  {
   "cell_type": "code",
   "execution_count": 3,
   "id": "4b2c1eb1-f167-4908-b70f-34a23f48207d",
   "metadata": {},
   "outputs": [],
   "source": [
    "def Emax(En): #En in keV; returns maximum recoil energy for neutron energy\n",
    "    return (4*m_e*m_n*En)/(m_e+m_n)**2\n",
    "\n",
    "def Enmin(Er): #recoil energy in keV; returns minimum neutron energy to give that recoil energy\n",
    "    return (Er*(m_e+m_n)**2)/(4*m_e*m_n)"
   ]
  },
  {
   "cell_type": "code",
   "execution_count": null,
   "id": "1402adec-924b-41fb-ab79-2d9436b464a0",
   "metadata": {},
   "outputs": [],
   "source": []
  }
 ],
 "metadata": {
  "kernelspec": {
   "display_name": "Python (fano_5_2024)",
   "language": "python",
   "name": "fano_5_2024"
  },
  "language_info": {
   "codemirror_mode": {
    "name": "ipython",
    "version": 3
   },
   "file_extension": ".py",
   "mimetype": "text/x-python",
   "name": "python",
   "nbconvert_exporter": "python",
   "pygments_lexer": "ipython3",
   "version": "3.9.19"
  }
 },
 "nbformat": 4,
 "nbformat_minor": 5
}
