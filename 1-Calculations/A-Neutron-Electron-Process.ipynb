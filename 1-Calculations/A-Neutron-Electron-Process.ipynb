{
 "cells": [
  {
   "cell_type": "markdown",
   "id": "1789628a-5451-4ed8-abdc-56c26042a442",
   "metadata": {},
   "source": [
    "Libraries and Style Files\n",
    "-------------------------"
   ]
  },
  {
   "cell_type": "code",
   "execution_count": 1,
   "id": "9f69a494-2968-4449-b8f4-007dcd1f3983",
   "metadata": {},
   "outputs": [],
   "source": [
    "#we may need some code in the ../python directory and/or matplotlib styles\n",
    "import sys\n",
    "sys.path.append('../python/')\n",
    "\n",
    "#matplotlib for plotting\n",
    "import matplotlib as mpl\n",
    "from matplotlib import pyplot as plt\n",
    "plt.style.use('../mplstyles/stylelib/standard.mplstyle')\n",
    "\n",
    "import numpy as np"
   ]
  },
  {
   "cell_type": "markdown",
   "id": "de5f5985-3e4d-4d5f-b03f-928f4392fa7e",
   "metadata": {},
   "source": [
    "Single-Scatter Recoil Spectrum\n",
    "===============================\n",
    "\n",
    "In the paper we have computed the differential cross section for a neutron magnetically scattering off of a single electron. That expression is as follows. \n",
    "\n",
    "\\begin{equation}\n",
    "\\left ( \\frac{d\\sigma}{d\\Omega} \\right )_{CM}= \\frac{2m_n^2 \\gamma_n^2 \\mu_B^2}{\\hbar^2}.\n",
    "\\end{equation}\n",
    "\n",
    "This cross section is easily converted into the single-scatter recoil cross section for monoenergetic neutrons by the same methods as the notebook `0-Preliminaries/B-Neutron-Nucleus-Recoil-Distributions.ipynb`.\n",
    "\n",
    "\\begin{equation}\n",
    "\\begin{aligned}\n",
    "\\frac{d\\sigma}{dE_r} &= \\int d\\phi_{cm} \\left ( \\frac{d\\sigma}{d\\Omega} \\right )_{CM} \\left(\\frac{d\\cos{(\\theta_{cm})}}{dE_r} \\right)\\\\\n",
    "&=2\\pi \\left ( \\frac{d\\sigma}{d\\Omega} \\right )_{CM} \\left(\\frac{d\\cos{(\\theta_{cm})}}{dE_r} \\right),\n",
    "\\end{aligned}\n",
    "\\end{equation}\n",
    "\n",
    "This results in the following differential cross section:\n",
    "\n",
    "\\begin{equation}\n",
    "\\frac{d\\sigma}{dE_r} = \\frac{2\\pi m_n^2 \\gamma_n^2 \\mu_B^2}{\\hbar^2} \\frac{(m_n+m_e)^2}{m_n m_e E_n}.\n",
    "\\end{equation}\n",
    "\n",
    "This can also be written in terms of the maximum recoil for a given neutron energy $E_n$. That results in:\n",
    "\n",
    "\\begin{equation}\n",
    "\\frac{d\\sigma}{dE_r} = \\frac{8\\pi m_n^2 \\gamma_n^2 \\mu_B^2}{\\hbar^2} \\frac{1}{E_{\\mathrm{max}}(E_n)}.\n",
    "\\end{equation}"
   ]
  },
  {
   "cell_type": "markdown",
   "id": "23f00232-54de-475e-b58a-c54d558be42e",
   "metadata": {},
   "source": [
    "Compute the Cross Section\n",
    "-------------------------\n",
    "\n",
    "Below we compute this function $d\\sigma/dE_r$. It is a uniform distribution at some level up to the maximum recoil energy. This follows from the fact that the angular cross section in the CoM is angle-independent. "
   ]
  },
  {
   "cell_type": "code",
   "execution_count": 2,
   "id": "26299c89-b2cc-48c1-8a0a-a75e9e7e60c6",
   "metadata": {},
   "outputs": [
    {
     "name": "stdout",
     "output_type": "stream",
     "text": [
      "Neutron Mass: 939565.4205199999 keV\n",
      "Electron Mass: 510.99895 keV\n"
     ]
    }
   ],
   "source": [
    "import scipy.constants as co\n",
    "m_n = co.physical_constants['neutron mass energy equivalent in MeV'][0]*1e3 # neutron mass in keV\n",
    "m_e = co.physical_constants['electron mass energy equivalent in MeV'][0]*1e3\n",
    "\n",
    "print(\"Neutron Mass: {} keV\".format(m_n))\n",
    "print(\"Electron Mass: {} keV\".format(m_e))"
   ]
  },
  {
   "cell_type": "code",
   "execution_count": 3,
   "id": "4b2c1eb1-f167-4908-b70f-34a23f48207d",
   "metadata": {},
   "outputs": [],
   "source": [
    "def Emax(En): #En in keV; returns maximum recoil energy for neutron energy\n",
    "    return (4*m_e*m_n*En)/(m_e+m_n)**2\n",
    "\n",
    "def Enmin(Er): #recoil energy in keV; returns minimum neutron energy to give that recoil energy\n",
    "    return (Er*(m_e+m_n)**2)/(4*m_e*m_n)"
   ]
  },
  {
   "cell_type": "code",
   "execution_count": 4,
   "id": "1402adec-924b-41fb-ab79-2d9436b464a0",
   "metadata": {},
   "outputs": [
    {
     "name": "stdout",
     "output_type": "stream",
     "text": [
      "Neutron mass: 1.67492749804e-24 g\n",
      "Neutron gyromagnetic ratio: 18324.7171 s^-1 Gauss^-1 \n",
      "Bohr magneton: 9.2740100783e-21 erg Gauss^-1 \n",
      "hbar: 1.054571817e-27 erg s \n"
     ]
    }
   ],
   "source": [
    "#constants for calcs, first in SI units\n",
    "gn = co.physical_constants['neutron gyromag. ratio'][0] #default is s^-1 T^-1; CGS is s^-1 Gauss^-1\n",
    "mub = co.physical_constants['Bohr magneton'][0] #default is J T^-1\n",
    "hbar = co.physical_constants['reduced Planck constant'][0] #default in J s\n",
    "\n",
    "#convert to CGS\n",
    "#see https://en.wikipedia.org/wiki/Centimetre%E2%80%93gram%E2%80%93second_system_of_units\n",
    "m_n_CGS = co.physical_constants['neutron mass'][0]*1e3 #convert to grams\n",
    "gn_CGS = gn/1e4\n",
    "mub_CGS = mub*1e3\n",
    "hbar_CGS = hbar*1e7\n",
    "\n",
    "barnincm2 = 1e-24\n",
    "\n",
    "print('Neutron mass: {} g'.format(m_n_CGS))\n",
    "print('Neutron gyromagnetic ratio: {} s^-1 Gauss^-1 '.format(gn_CGS))\n",
    "print('Bohr magneton: {} erg Gauss^-1 '.format(mub_CGS))\n",
    "print('hbar: {} erg s '.format(hbar_CGS))\n"
   ]
  },
  {
   "cell_type": "code",
   "execution_count": 5,
   "id": "8de63054-6c14-4041-a9dc-25544f5ee754",
   "metadata": {},
   "outputs": [
    {
     "name": "stdout",
     "output_type": "stream",
     "text": [
      "Total cross section: 1.8310038087245937 barns\n"
     ]
    }
   ],
   "source": [
    "sigtot = 8*np.pi*m_n_CGS**2*gn_CGS**2*mub_CGS**2/hbar_CGS**2\n",
    "print('Total cross section: {} barns'.format(sigtot/barnincm2))"
   ]
  },
  {
   "cell_type": "code",
   "execution_count": 6,
   "id": "0f80846e-b003-440d-85c9-874db6b4a0cc",
   "metadata": {},
   "outputs": [],
   "source": [
    "def dsigdEr(En,Er):\n",
    "    if(Er<Emax(En)):\n",
    "      return 8*np.pi*m_n_CGS**2*gn_CGS**2*mub_CGS**2/hbar_CGS**2/Emax(En)\n",
    "    else: \n",
    "      return 0"
   ]
  },
  {
   "cell_type": "code",
   "execution_count": 7,
   "id": "635227b7-9900-40bb-8d50-be8cf61436c8",
   "metadata": {},
   "outputs": [
    {
     "name": "stdout",
     "output_type": "stream",
     "text": [
      "0.8425749477714446\n"
     ]
    }
   ],
   "source": [
    "print(dsigdEr(1000,1)/barnincm2)"
   ]
  },
  {
   "cell_type": "code",
   "execution_count": null,
   "id": "07ff5be9-ea8d-4a34-a008-ee9dc8c4a210",
   "metadata": {},
   "outputs": [],
   "source": []
  }
 ],
 "metadata": {
  "kernelspec": {
   "display_name": "Python (fano_5_2024)",
   "language": "python",
   "name": "fano_5_2024"
  },
  "language_info": {
   "codemirror_mode": {
    "name": "ipython",
    "version": 3
   },
   "file_extension": ".py",
   "mimetype": "text/x-python",
   "name": "python",
   "nbconvert_exporter": "python",
   "pygments_lexer": "ipython3",
   "version": "3.9.19"
  }
 },
 "nbformat": 4,
 "nbformat_minor": 5
}
