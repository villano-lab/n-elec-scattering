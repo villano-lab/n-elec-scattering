{
 "cells": [
  {
   "cell_type": "code",
   "execution_count": null,
   "id": "a6604429-8b79-4f58-aade-13140467d2f5",
   "metadata": {},
   "outputs": [],
   "source": []
  }
 ],
 "metadata": {
  "kernelspec": {
   "display_name": "Python (fano_5_2024)",
   "language": "python",
   "name": "fano_5_2024"
  },
  "language_info": {
   "codemirror_mode": {
    "name": "ipython",
    "version": 3
   },
   "file_extension": ".py",
   "mimetype": "text/x-python",
   "name": "python",
   "nbconvert_exporter": "python",
   "pygments_lexer": "ipython3",
   "version": "3.9.19"
  }
 },
 "nbformat": 4,
 "nbformat_minor": 5
}
