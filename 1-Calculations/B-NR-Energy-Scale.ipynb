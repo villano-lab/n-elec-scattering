{
 "cells": [
  {
   "cell_type": "markdown",
   "id": "dbacae41-9b2f-4ecf-b55d-3846bb936b2d",
   "metadata": {},
   "source": [
    "Libraries and Style Files\n",
    "-------------------------"
   ]
  },
  {
   "cell_type": "code",
   "execution_count": 1,
   "id": "d1557365-bf77-4c06-984c-ad5cb5377aa4",
   "metadata": {},
   "outputs": [],
   "source": [
    "#we may need some code in the ../python directory and/or matplotlib styles\n",
    "import sys\n",
    "sys.path.append('../python/')\n",
    "\n",
    "#matplotlib for plotting\n",
    "import matplotlib as mpl\n",
    "from matplotlib import pyplot as plt\n",
    "plt.style.use('../mplstyles/stylelib/standard.mplstyle')\n",
    "\n",
    "import numpy as np"
   ]
  },
  {
   "cell_type": "markdown",
   "id": "34a0ebf4-734f-45a8-828f-0fa69924ead5",
   "metadata": {},
   "source": [
    "Comparing to the Neutron-Nucleus Process\n",
    "========================================"
   ]
  },
  {
   "cell_type": "markdown",
   "id": "6cf95a5f-4d60-4da1-8dac-f8236791f95f",
   "metadata": {},
   "source": [
    "Converting to keV$_{\\mathrm{nr}}$\n",
    "---------------------------------"
   ]
  },
  {
   "cell_type": "code",
   "execution_count": 2,
   "id": "c4df84d6-ee6d-4ff0-bc64-0a7ecf1438a5",
   "metadata": {},
   "outputs": [
    {
     "name": "stdout",
     "output_type": "stream",
     "text": [
      "{'Z': 14, 'A': 28, 'k': 0.14600172346755985, 'a': 3.0, 'b': 0.15, 'c': 0.7, 'd': 0.6}\n"
     ]
    }
   ],
   "source": [
    "#create a yield model\n",
    "import lindhard as lind\n",
    "\n",
    "#lindhard\n",
    "lpar = lind.getLindhardPars('Si',True) #use the \"calculated\" value of k\n",
    "print(lpar)\n",
    "#ylind = lind.getLindhard(lpar)\n",
    "ylind = lind.getLindhardSi_k(0.15)\n",
    "ylindv = np.vectorize(ylind) #careful, this expects inputs in eV"
   ]
  },
  {
   "cell_type": "code",
   "execution_count": null,
   "id": "91716df7-5dac-4506-9475-ae9d9b197b6e",
   "metadata": {},
   "outputs": [],
   "source": []
  }
 ],
 "metadata": {
  "kernelspec": {
   "display_name": "Python (fano_5_2024)",
   "language": "python",
   "name": "fano_5_2024"
  },
  "language_info": {
   "codemirror_mode": {
    "name": "ipython",
    "version": 3
   },
   "file_extension": ".py",
   "mimetype": "text/x-python",
   "name": "python",
   "nbconvert_exporter": "python",
   "pygments_lexer": "ipython3",
   "version": "3.9.19"
  }
 },
 "nbformat": 4,
 "nbformat_minor": 5
}
