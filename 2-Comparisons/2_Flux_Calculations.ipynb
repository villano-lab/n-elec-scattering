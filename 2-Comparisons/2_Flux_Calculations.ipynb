{
 "cells": [
  {
   "cell_type": "code",
   "execution_count": 1,
   "id": "10ebfe2d-2429-4925-aebf-835c0119d186",
   "metadata": {},
   "outputs": [],
   "source": [
    "# Setup\n",
    "import sys, os\n",
    "import numpy as np\n",
    "import pandas as pd\n",
    "import matplotlib.pyplot as plt\n",
    "sys.path.append('../python/')\n",
    "import ENDF6el as el\n",
    "import flux_recoil_spec as frs\n",
    "from statistics import median\n",
    "from pyteomics import mass\n",
    "from time import time\n",
    "\n",
    "os.chdir('../data_files') #Set working directory to shorten paths\n",
    "sys.path.append('EDW/')\n",
    "import EDW"
   ]
  },
  {
   "cell_type": "code",
   "execution_count": 2,
   "id": "4b629ef1-3d40-4e44-b951-6296db2002e5",
   "metadata": {},
   "outputs": [],
   "source": [
    "#Import Data\n",
    "f6TR_nu = pd.read_csv('SNOLAB/Fig6TR_neutrons.txt',encoding='utf-16',comment=\"#\",header=None)\n",
    "f7TR_nu = pd.read_csv('SNOLAB/Fig7TR_neutrons.txt',comment=\"#\",header=None)\n",
    "f6BR_nu = pd.read_csv('SNOLAB/Fig6BR_neutrons.txt',encoding='utf-16',comment=\"#\",header=None)\n",
    "f7BR_nu = pd.read_csv('SNOLAB/Fig7BR_neutrons.txt',comment=\"#\",header=None)\n",
    "f9BL = pd.read_csv('DAMIC/Fig9BL.txt',comment=\"#\",header=None)\n",
    "f9TL = pd.read_csv('DAMIC/Fig9TL.txt',comment=\"#\",header=None)\n",
    "f3_beta = pd.read_csv('EDW/Fig3_Betas.txt',encoding='utf-16',comment=\"#\",header=None)"
   ]
  },
  {
   "cell_type": "markdown",
   "id": "4aa5d65e-8222-4aa1-8c69-661df6989eee",
   "metadata": {
    "tags": []
   },
   "source": [
    "# Si Flux and Rate Generation\n",
    "* CCDs are Si for the sake of flux"
   ]
  },
  {
   "cell_type": "code",
   "execution_count": null,
   "id": "8001ece7-a189-4d98-9abe-8f623dcbc666",
   "metadata": {},
   "outputs": [
    {
     "name": "stdout",
     "output_type": "stream",
     "text": [
      "fast flux: 4000.0000000000005 n/m^2/day\n",
      "175\n",
      "shape of etot: (6000,)\n",
      "6000 6000\n",
      "LinregressResult(slope=-0.34198906017017094, intercept=-12.883178144228603, rvalue=-0.9953352356165472, pvalue=2.8473572672917526e-06, stderr=0.014824519476613082, intercept_stderr=0.06273875262265761)\n",
      "0.009998654133395216 0.01\n",
      "../data_files/xn_data/si28_el.txt ../data_files/xn_data/n-014_Si_028.endf\n"
     ]
    }
   ],
   "source": [
    "start = time()\n",
    "\n",
    "#Flux specific to SNOLAB Si Detectors\n",
    "Er = np.geomspace(100/1e6,1,100) #recoil energy\n",
    "E,F,ff,ffspec = frs.SNOLAB_flux(Enmin=1e-3)\n",
    "\n",
    "#Associated rate\n",
    "drde_Si = (mass.isotopic_composition_abundance({'Si[28]':1})*frs.dRdErfast(Er,E,F,N=1,Z=14,A=28)[0]\n",
    "        + mass.isotopic_composition_abundance({'Si[29]':1})*frs.dRdErfast(Er,E,F,N=1,Z=14,A=29)[0]\n",
    "        + mass.isotopic_composition_abundance({'Si[30]':1})*frs.dRdErfast(Er,E,F,N=1,Z=14,A=30)[0]\n",
    "        )\n",
    "drde_Ge = (mass.isotopic_composition_abundance({'Ge[70]':1})*frs.dRdErfast(Er,E,F,N=1,Z=32,A=70)[0]\n",
    "        + mass.isotopic_composition_abundance({'Ge[72]':1})*frs.dRdErfast(Er,E,F,N=1,Z=32,A=72)[0]\n",
    "        + mass.isotopic_composition_abundance({'Ge[73]':1})*frs.dRdErfast(Er,E,F,N=1,Z=32,A=73)[0]\n",
    "        + mass.isotopic_composition_abundance({'Ge[74]':1})*frs.dRdErfast(Er,E,F,N=1,Z=32,A=74)[0]\n",
    "        + mass.isotopic_composition_abundance({'Ge[76]':1})*frs.dRdErfast(Er,E,F,N=1,Z=32,A=76)[0]\n",
    "        )\n",
    "\n",
    "print(time()-start)"
   ]
  },
  {
   "cell_type": "code",
   "execution_count": null,
   "id": "21651cb6-eb95-46c5-bfea-d98365451809",
   "metadata": {},
   "outputs": [],
   "source": [
    "#Plot the data calculated above\n",
    "#although these aren't entirely related\n",
    "plt.plot(Er*1000,drde_Si,label='Simulated')\n",
    "plt.plot(f6TR_nu[0],f6TR_nu[1]/365,label='SNOLAB HV Si',linestyle='--')\n",
    "plt.scatter(f7TR_nu[0],f7TR_nu[1]/365,label='SNOLAB iZIP Si',color='k',s=0.1)\n",
    "plt.scatter(f9TL[0],f9TL[1]/4/9.3/100,label='DAMIC: Det 2-7 (upper limit)',s=0.1)\n",
    "plt.scatter(f9BL[0],f9BL[1]/4/1.6/100,label='DAMIC: Det 1 (upper limit)',s=0.1)\n",
    "\n",
    "plt.loglog()\n",
    "plt.xlabel(\"Recoil Energy (keV)\")\n",
    "plt.ylabel(\"Events/(kg keV day)\")\n",
    "\n",
    "plt.legend()\n",
    "plt.show()"
   ]
  },
  {
   "cell_type": "markdown",
   "id": "913302cc-7ce0-4375-aff7-b2449028f031",
   "metadata": {},
   "source": [
    "Compare shapes by re-scaling:"
   ]
  },
  {
   "cell_type": "code",
   "execution_count": null,
   "id": "c885a42a-29f3-4d12-b62a-ac89b7a7e66e",
   "metadata": {},
   "outputs": [],
   "source": [
    "from bisect import bisect_left\n",
    "\n",
    "def take_closest(myList, myNumber):\n",
    "    \"\"\"\n",
    "    Assumes myList is sorted. Returns closest value to myNumber.\n",
    "\n",
    "    If two numbers are equally close, return the smallest number.\n",
    "    \"\"\"\n",
    "    pos = bisect_left(myList, myNumber)\n",
    "    if pos == 0:\n",
    "        return 0,myList[0]\n",
    "    if pos == len(myList):\n",
    "        return pos,myList[-1]\n",
    "    before = myList[pos - 1]\n",
    "    after = myList[pos]\n",
    "    if after - myNumber < myNumber - before:\n",
    "        return pos,after\n",
    "    else:\n",
    "        return pos,before"
   ]
  },
  {
   "cell_type": "code",
   "execution_count": null,
   "id": "6b520bce-2b31-4141-b8c5-862a3a9dce0f",
   "metadata": {},
   "outputs": [],
   "source": [
    "#finding values at 1keV\n",
    "\n",
    "###Attempt at finding more robustly -- not working ###\n",
    "#lorange = abs(f7TR_nu[0] - 2) < 0.5\n",
    "#lo = median(f7TR_nu[1][lorange])/365\n",
    "#closest = take_closest(list(f7TR_nu[1][lorange]),lo*365)\n",
    "#print(closest)\n",
    "#hi = drde_Si[\n",
    "#    np.where(Er == take_closest(\n",
    "#            Er,f7TR_nu[0][closest[0]])[1]\n",
    "#    )\n",
    "#]\n",
    "\n",
    "###Simple by-eye version -- working ###\n",
    "closest = take_closest(f6TR_nu[0],2)\n",
    "lo = f6TR_nu[1][closest[0]]/365\n",
    "hi = drde_Si[take_closest(Er*1000,2)[0]]\n",
    "\n",
    "scale = lo/hi\n",
    "print(scale)\n",
    "\n",
    "#Plot the data calculated above\n",
    "plt.plot(Er*1000,drde_Si*scale,label='Simulated * '+str(scale))\n",
    "plt.plot(f6TR_nu[0],f6TR_nu[1]/365,label='SNOLAB HV Si',linestyle='--')\n",
    "plt.scatter(f7TR_nu[0],f7TR_nu[1]/365,label='SNOLAB iZIP Si',color='k',s=0.1)\n",
    "\n",
    "plt.loglog()\n",
    "plt.xlabel(\"Recoil Energy (keV)\")\n",
    "plt.ylabel(\"Events/(kg keV day)\")\n",
    "plt.title(\"Silicon Event Rate\")\n",
    "\n",
    "plt.legend()\n",
    "plt.show()"
   ]
  },
  {
   "cell_type": "markdown",
   "id": "f560652b-73c4-4723-bbb9-efbe34ea683f",
   "metadata": {},
   "source": [
    "Mention in paper: restrict to region 1-100keV"
   ]
  },
  {
   "cell_type": "markdown",
   "id": "f08b42bd-df63-4837-9150-73fbdf3269e2",
   "metadata": {},
   "source": [
    "# Ge Flux and Rate Generation\n",
    "\n",
    "See 1-.../pyteomics_test.ipynb > cell 22"
   ]
  },
  {
   "cell_type": "code",
   "execution_count": null,
   "id": "603f49f8-2741-4035-9e0b-7782e365d46c",
   "metadata": {},
   "outputs": [],
   "source": [
    "#Plot the data calculated above\n",
    "#although these aren't entirely related\n",
    "plt.plot(Er*1000,drde_Ge,label='Simulated')\n",
    "plt.plot(f6BR_nu[0],f6BR_nu[1]/365,label='SNOLAB HV Si',linestyle='--')\n",
    "plt.scatter(f7BR_nu[0],f7BR_nu[1]/365,label='SNOLAB iZIP Si',color='k',s=0.1)\n",
    "plt.plot(f3_betas[0],EDW.neutrons(f3_betas[0]),label='EDELWEISS')\n",
    "\n",
    "plt.loglog()\n",
    "plt.xlabel(\"Recoil Energy (keV)\")\n",
    "plt.ylabel(\"Events/(kg keV day)\")\n",
    "plt.title(\"Germanium Event Rate\")\n",
    "\n",
    "plt.legend()\n",
    "plt.show()"
   ]
  },
  {
   "cell_type": "code",
   "execution_count": null,
   "id": "d4db850d-e039-4530-a78d-8e6f7839f362",
   "metadata": {},
   "outputs": [],
   "source": [
    "#finding values at 1keV\n",
    "\n",
    "closest = take_closest(f6BR_nu[0],2)\n",
    "lo = f6BR_nu[1][closest[0]]/365\n",
    "hi = drde_Si[take_closest(Er*1000,2)[0]]\n",
    "\n",
    "#Plot the data calculated above\n",
    "plt.plot(Er*1000,drde_Si*scale,label='Simulated * '+str(scale))\n",
    "plt.plot(f6BR_nu[0],f6BR_nu[1]/365,label='SNOLAB HV Si',linestyle='--')\n",
    "plt.scatter(f7BR_nu[0],f7BR_nu[1]/365,label='SNOLAB iZIP Si',color='k',s=0.1)\n",
    "\n",
    "plt.loglog()\n",
    "plt.xlabel(\"Recoil Energy (keV)\")\n",
    "plt.ylabel(\"Events/(kg keV day)\")\n",
    "plt.title(\"Silicon Event Rate\")\n",
    "\n",
    "plt.legend()\n",
    "plt.show()"
   ]
  },
  {
   "cell_type": "markdown",
   "id": "553d9805-c25e-462e-85d0-4eadba58b753",
   "metadata": {},
   "source": [
    "# CaWO4\n",
    "\n",
    "CRESST's recoils are CaWO4 so I need to create a plot for that as well."
   ]
  },
  {
   "cell_type": "code",
   "execution_count": null,
   "id": "6a6f74cd-c9b1-4cad-b290-924dd3b5bcc7",
   "metadata": {},
   "outputs": [],
   "source": []
  }
 ],
 "metadata": {
  "kernelspec": {
   "display_name": "Python 3 (ipykernel)",
   "language": "python",
   "name": "python3"
  },
  "language_info": {
   "codemirror_mode": {
    "name": "ipython",
    "version": 3
   },
   "file_extension": ".py",
   "mimetype": "text/x-python",
   "name": "python",
   "nbconvert_exporter": "python",
   "pygments_lexer": "ipython3",
   "version": "3.9.19"
  }
 },
 "nbformat": 4,
 "nbformat_minor": 5
}
