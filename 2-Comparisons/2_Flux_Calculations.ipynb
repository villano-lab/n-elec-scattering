{
 "cells": [
  {
   "cell_type": "code",
   "execution_count": 1,
   "id": "10ebfe2d-2429-4925-aebf-835c0119d186",
   "metadata": {},
   "outputs": [],
   "source": [
    "# Setup\n",
    "import sys\n",
    "import numpy as np\n",
    "import matplotlib.pyplot as plt\n",
    "sys.path.append('../python/')\n",
    "import ENDF6el as el\n",
    "import flux_recoil_spec as frs"
   ]
  },
  {
   "cell_type": "markdown",
   "id": "4aa5d65e-8222-4aa1-8c69-661df6989eee",
   "metadata": {
    "tags": []
   },
   "source": [
    "# Si Flux and Rate Generation\n",
    "* CCDs are Si for the sake of flux"
   ]
  },
  {
   "cell_type": "code",
   "execution_count": null,
   "id": "11c936d9-2e08-4ae5-bf2b-71114656f66d",
   "metadata": {},
   "outputs": [
    {
     "name": "stdout",
     "output_type": "stream",
     "text": [
      "fast flux: 4000.0000000000005 n/m^2/day\n",
      "175\n",
      "shape of etot: (6000,)\n",
      "6000 6000\n",
      "LinregressResult(slope=-0.341989060170171, intercept=-12.883178144228603, rvalue=-0.9953352356165475, pvalue=2.847357267291413e-06, stderr=0.01482451947661273, intercept_stderr=0.06273875262265612)\n",
      "0.009998654133395216 0.01\n"
     ]
    }
   ],
   "source": [
    "import sys\n",
    "sys.path.append('../python/')\n",
    "import ENDF6el as el\n",
    "import flux_recoil_spec as frs\n",
    "Er = np.geomspace(100/1e6,1,100) #recoil energy\n",
    "E,F,ff,ffspec = frs.SNOLAB_flux(Enmin=1e-3)\n",
    "drde,=frs.dRdErfast(Er,E,F,N=1)\n",
    "\n",
    "plt.plot(Er*1000,drde)\n",
    "plt.show()"
   ]
  },
  {
   "cell_type": "markdown",
   "id": "f08b42bd-df63-4837-9150-73fbdf3269e2",
   "metadata": {},
   "source": [
    "# Ge Flux and Rate Generation"
   ]
  },
  {
   "cell_type": "markdown",
   "id": "5188309e-6877-4246-bf3b-00c6be161224",
   "metadata": {},
   "source": [
    "# Flux Extraction"
   ]
  },
  {
   "cell_type": "markdown",
   "id": "7c78cf44-8576-4b37-9b20-84b328cb3d93",
   "metadata": {
    "tags": []
   },
   "source": [
    "# Flux Comparisons"
   ]
  },
  {
   "cell_type": "markdown",
   "id": "5db92597-b275-4a73-b443-dfddcc604ceb",
   "metadata": {
    "jp-MarkdownHeadingCollapsed": true,
    "tags": []
   },
   "source": [
    "# Save\n",
    "In case I need them again. Otherwise I'll delete them after I'm done with the other plots."
   ]
  }
 ],
 "metadata": {
  "kernelspec": {
   "display_name": "Python 3 (ipykernel)",
   "language": "python",
   "name": "python3"
  },
  "language_info": {
   "codemirror_mode": {
    "name": "ipython",
    "version": 3
   },
   "file_extension": ".py",
   "mimetype": "text/x-python",
   "name": "python",
   "nbconvert_exporter": "python",
   "pygments_lexer": "ipython3",
   "version": "3.9.20"
  }
 },
 "nbformat": 4,
 "nbformat_minor": 5
}
