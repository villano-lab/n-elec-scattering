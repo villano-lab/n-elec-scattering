{
 "cells": [
  {
   "cell_type": "markdown",
   "id": "182a99d3-a1a6-4e7f-908e-1f217cacbb1f",
   "metadata": {},
   "source": [
    "# D - Isotope Combinations\n",
    "\n",
    "Objective\n",
    "-\n",
    "The purpose of this notebook is to reconcile the information we have developed thus far with the naturally occuring amounts of each isotope in each detector material. This notebook computes the flux-convolved recoil energy spectrum for detector materials made of naturally occurring isotopes, specifically Silicon (Si). Since natural materials consist of multiple isotopes with known abundances, we need to combine the recoil spectra for each isotope into a single, weighted average spectrum. We will:\n",
    "- Calculate how likely neutrons are to scatter off nuclei of each isotope.\n",
    "- Weight each isotope’s contribution based on its natural abundance.\n",
    "- Sum everything to get the total recoil energy distribution expected in the detector.\n",
    "\n",
    "Natural silicon has three isotopes and corresponding concentrations:\n",
    "- Silicon-28 - 92.22%\n",
    "- Silicon-30 - 4.69%\n",
    "- Silicon-31 - 3.09%\n",
    "\n",
    "Values taken from [National Isotope Development Center - Silicon][National Isotope Development Center - Silicon]\n",
    "\n",
    "[National Isotope Development Center - Silicon]: https://www.isotopes.gov/products/silicon \"NIDC - Silicon Documentaion\"\n",
    "\n",
    "Libraries and Style Files\n",
    "-------------------------"
   ]
  },
  {
   "cell_type": "code",
   "execution_count": 1,
   "id": "b901e29e-8567-42f5-8ba6-d091c3022f88",
   "metadata": {},
   "outputs": [],
   "source": [
    "#we may need some code in the ../python directory and/or matplotlib styles\n",
    "\n",
    "# Extend Python path to include local module directory\n",
    "import sys\n",
    "sys.path.append('../python/')\n",
    "\n",
    "# Install packages if not already available\n",
    "import importlib.util\n",
    "import subprocess\n",
    "\n",
    "def install_if_missing(pkg):\n",
    "    if importlib.util.find_spec(pkg) is None:\n",
    "        subprocess.check_call([sys.executable, \"-m\", \"pip\", \"install\", pkg])\n",
    "\n",
    "install_if_missing(\"periodictable\")\n",
    "install_if_missing(\"pyteomics\")\n",
    "\n",
    "# Standard scientific libraries\n",
    "# Standard scientific libraries\n",
    "import numpy as np\n",
    "import matplotlib.pyplot as plt\n",
    "import scipy.constants as co\n",
    "from scipy import integrate\n",
    "from scipy.interpolate import interp1d\n",
    "from functools import lru_cache  # NEW: for speeding up repeated calls\n",
    "\n",
    "# Project-specific modules\n",
    "import flux_recoil_spec as frs\n",
    "from flux_recoil_spec import endfel"
   ]
  },
  {
   "cell_type": "markdown",
   "id": "4443a766-63af-4a79-9279-7ab079288198",
   "metadata": {},
   "source": [
    "We will now encode the isotopic values for Silicon and Germanium in Python:"
   ]
  },
  {
   "cell_type": "code",
   "execution_count": 2,
   "id": "4cd4fd61-2f67-4525-82df-2ffeb0306431",
   "metadata": {},
   "outputs": [],
   "source": [
    "# Natural abundances of silicon isotopes (in fractional form)\n",
    "si_isotopes = {\n",
    "    28: 0.9222,\n",
    "    29: 0.0464,\n",
    "    30: 0.0309\n",
    "}"
   ]
  },
  {
   "cell_type": "markdown",
   "id": "59814b4a-5d8c-42bd-8fc3-02476f6b944d",
   "metadata": {},
   "source": [
    "Define Flux Interpolator\n",
    "-\n",
    "We will now load neutron energy `E_flux`, in MeV) and flux `F_flux`, in n/cm²/s/MeV) from the SNOLAB environment. Then, we will create a smooth, continuous function `realflux(En)` that returns neutron flux at any energy `En` using interpolation."
   ]
  },
  {
   "cell_type": "code",
   "execution_count": 3,
   "id": "4da6cad5-9ef6-4cb7-9298-6f3803a176c5",
   "metadata": {},
   "outputs": [
    {
     "name": "stdout",
     "output_type": "stream",
     "text": [
      "fast flux: 4000.0000000000005 n/m^2/day\n",
      "175\n",
      "shape of etot: (6000,)\n",
      "6000 6000\n",
      "LinregressResult(slope=-0.34198906017016933, intercept=-12.883178144228596, rvalue=-0.9953352356165472, pvalue=2.8473572672917526e-06, stderr=0.01482451947661301, intercept_stderr=0.06273875262265731)\n",
      "0.009998654133395216 0.01\n"
     ]
    }
   ],
   "source": [
    "# Load energy (E_flux, in MeV) and flux (F_flux, in n/cm²/s/MeV) from SNOLAB neutron flux data\n",
    "E_flux, F_flux, *_ = frs.SNOLAB_flux()\n",
    "\n",
    "# Create an interpolator for continuous access to flux\n",
    "flux_interp = interp1d(E_flux, F_flux, bounds_error=False, fill_value=0.0)\n",
    "\n",
    "# Wrapper for the interpolated flux function.\n",
    "def realflux(En):\n",
    "    return flux_interp(En)"
   ]
  },
  {
   "cell_type": "markdown",
   "id": "ad964457-450e-4133-b113-83a7f8a41824",
   "metadata": {},
   "source": [
    "Compute Recoil Spectrum for Each Isotope\n",
    "-\n",
    "We being this section by computing the differential cross section $\\frac{d\\sigma}{dE_r}$ (cm²/keV) for neutron elastic scattering on a nucleus of mass number A, using data from ENDF6 with the following parameters:\n",
    "- `En`: incident neutron energy in keV\n",
    "- `Er`: recoil energy in keV\n",
    "- `A`: target nucleus mass number (e.g., 28 for Si-28)\n",
    "\n",
    "The function returns $\\frac{d\\sigma}{dE_r}$ in cm²/keV.\n",
    "\n",
    "From the equation\n",
    "$$\n",
    "E_r=2fE_n(1-cos\\theta)\n",
    "$$\n",
    "\n",
    "We solve for $cos\\theta$ to get\n",
    "\n",
    "$$\n",
    "cos\\theta=1-\\frac{E_r}{2fE_n}\n",
    "$$"
   ]
  },
  {
   "cell_type": "code",
   "execution_count": 4,
   "id": "aba01ee3-b1b6-4290-9c67-ec733d5f1d75",
   "metadata": {},
   "outputs": [],
   "source": [
    "@lru_cache(maxsize=5000)\n",
    "def dsigdErNE(En, Er, A):\n",
    "\n",
    "    # Discard meaningless or unphysical energies.\n",
    "    if Er <= 0 or En <= 0:\n",
    "        return 0.0\n",
    "\n",
    "    # The ENDF6 data internally uses MeV, so we convert.\n",
    "    En_MeV = En / 1e3     # neutron energy in MeV\n",
    "    Er_MeV = Er / 1e3     # recoil energy in MeV\n",
    "\n",
    "    # Get mass values. Facor f relates cosθ and Er and comes from two-body elastic scattering kinematics.\n",
    "    m_n = 939.565       # neutron mass [MeV/c²]\n",
    "    M = A * 931.5         # nucleus mass [MeV/c²], crude estimate\n",
    "    f = m_n * M / (m_n + M)**2  # recoil kinematic factor\n",
    "\n",
    "    # Calculate cosθ from Er = 2 * f * En * (1 - cosθ)\n",
    "    costheta = 1 - Er_MeV / (2 * f * En_MeV)\n",
    "    \n",
    "    # Validity check: Recoil energy can only occur if this cosθ lies within physical limits.\n",
    "    if costheta < -1.0 or costheta > 1.0:\n",
    "        return 0.0  # this recoil energy isn't kinematically allowed\n",
    "\n",
    "    # Get differential cross section function from ENDF6\n",
    "    # Add this above your dsigdErNE function\n",
    "    from functools import lru_cache\n",
    "    \n",
    "    @lru_cache(maxsize=512)\n",
    "    def get_cached_dsdomeg(En_keV):\n",
    "        return endfel.fetch_diff_xn(En=En_keV)\n",
    "    \n",
    "    # Then inside dsigdErNE, use this instead:\n",
    "    dsdomeg = get_cached_dsdomeg(En)\n",
    "\n",
    "\n",
    "    # Compute dσ/dΩ [barns/sr]\n",
    "    dsdo = dsdomeg(costheta)\n",
    "\n",
    "    # Jacobian dΩ/dEr = 1 / |dEr/dcosθ| = 1 / (2f * En). Converts dσ/dΩ to dσ/dEr.\n",
    "    jacobian = (1 / (2 * f * En_MeV)) * 2 * np.pi  # [sr/MeV]\n",
    "    \n",
    "    # Convert to dσ/dEr [barns/MeV], then to cm²/keV\n",
    "    dsig_dEr = dsdo * jacobian                     # [barns/MeV]\n",
    "    dsig_dEr *= 1e-24 / 1e3                        # barns → cm², MeV → keV\n",
    "\n",
    "    return dsig_dEr"
   ]
  },
  {
   "cell_type": "markdown",
   "id": "8f0d9e87-17a6-49e6-9269-56c9a04efe6c",
   "metadata": {},
   "source": [
    "We now define a function that calculates the minimum incident neutron energy $E_n^{\\text{min}}$ needed to generate a specific recoil energy $E_r$ (in KeV) for a nucleus of mass number $A$.\n",
    "\n",
    "The formula comes from conservation of energy and momentum in elastic scattering and is required for setting the lower limit of integration in our recoil spectrum calculation:\n",
    "\n",
    "$$\n",
    "\\frac{dR}{dE_r} = \\int_{E_n^{\\text{min}}}^{E_n^{\\text{max}}} \\Phi(E_n) \\cdot \\frac{d\\sigma}{dE_r}(E_n, E_r) \\, dE_n\n",
    "$$"
   ]
  },
  {
   "cell_type": "code",
   "execution_count": 5,
   "id": "b5f08242-57e8-4f77-9632-8bd0599c403a",
   "metadata": {},
   "outputs": [],
   "source": [
    "def Enmin(Er, A):\n",
    "\n",
    "    m_n = 931.5  # MeV/c^2\n",
    "    M = A * 931.5  # MeV/c^2\n",
    "    term = (M + m_n)**2 / (2 * M * m_n)\n",
    "    En_min = np.sqrt(Er * term)  # result in keV\n",
    "    return En_min"
   ]
  },
  {
   "cell_type": "markdown",
   "id": "07554554-df9f-47e4-8481-7cca148487e0",
   "metadata": {},
   "source": [
    "We now develop a function `get_recoil_spectrum` that computes $\\frac{dR}{dE_r}$, the differential recoil rate (rate of nuclear recoils per keV of energy) for a single isotope. In this section of code, we:\n",
    "- Define a recoil energy range from 0 to 20 keV\n",
    "- Loops over each recoil energy $E_r$\n",
    "- Define `integrand`, the integrand of the convolution formula:\n",
    "\n",
    "$$\n",
    "\\frac{dR}{dE_r} = \\int\\Phi(E_n) \\cdot \\frac{d\\sigma}{dE_r}(E_n, E_r) \\, dE_n\n",
    "$$\n",
    "\n",
    "where `realflux(En)` gives flux and `dsigdErNE(...)` gives the differential cross-section for the isotope.\n",
    "\n",
    "`En_min` and `En_max` compute the range of neutron energies that can produce recoil $E_r$ and converts keV to MeV.\n",
    "\n",
    "The code then numerically integrates the convolution for this recoil energy and scales to get counts per gram per second per keV."
   ]
  },
  {
   "cell_type": "code",
   "execution_count": 6,
   "id": "55d1cf8a-7ba0-4d2a-b777-6cb4da5ea860",
   "metadata": {},
   "outputs": [],
   "source": [
    "# Calculate the recoil energy spectrum for a single isotope\n",
    "def get_recoil_spectrum(isotope_mass):\n",
    "    \"\"\"\n",
    "    Calculates the differential recoil event rate dR/dEr for a given isotope.\n",
    "    Returns a tuple (erange, dru_vec) with energies and rates.\n",
    "    \"\"\"\n",
    "    print(f\">>> Computing spectrum for Si-{int(isotope_mass)} (vectorized)...\")\n",
    "\n",
    "    # Recoil energy range: 0 to 110% of max kinematic cutoff\n",
    "    A = isotope_mass\n",
    "    m_n = 939.565  # MeV/c²\n",
    "    M = A * 931.5  # MeV/c²\n",
    "    f = m_n * M / (m_n + M)**2\n",
    "    Er_max = 2 * f * 10  # max Er for En = 10 MeV\n",
    "    erange = np.linspace(0.0, 1.1 * Er_max * 1e3, 300)  # in keV\n",
    "\n",
    "    # Neutron energy grid from 0.001 to 10 MeV\n",
    "    En_vals = np.linspace(0.001, 10.0, 2000)  # MeV\n",
    "\n",
    "    dru_vec = []\n",
    "\n",
    "    for Er in erange:\n",
    "        En_min = Enmin(Er, A) / 1000  # keV → MeV\n",
    "        valid = En_vals >= En_min\n",
    "\n",
    "        if not np.any(valid):\n",
    "            dru_vec.append(0.0)\n",
    "            continue\n",
    "\n",
    "        En_used = En_vals[valid]\n",
    "        flux_vals = realflux(En_used)\n",
    "        sig_vals = np.array([dsigdErNE(En * 1e3, Er, A) for En in En_used])\n",
    "        integrand = flux_vals * sig_vals\n",
    "\n",
    "        integral = np.trapz(integrand, En_used)\n",
    "        dru = 14 * (co.N_A / A) * integral\n",
    "        dru_vec.append(dru)\n",
    "\n",
    "    dru_vec = np.array(dru_vec)\n",
    "    dru_vec *= 1000 * 365 * 24 * 60 * 60  # → counts / kg / yr / keV\n",
    "\n",
    "    print(f\"    First 5 values: {dru_vec[:5]}\")\n",
    "    return erange, dru_vec"
   ]
  },
  {
   "cell_type": "markdown",
   "id": "56cf75cf-3969-4d24-8adb-df7eaffdc7cb",
   "metadata": {},
   "source": [
    "Combine Spectra by Isotopic Abundance\n",
    "-\n",
    "The following section of code takes a dictionary of isotopes and their abundances and:\n",
    "- Computes the recoil spectrum for each isotope.\n",
    "- Weights each by its natural abundance.\n",
    "- Sums all weighted spectra into one total spectrum.\n",
    "\n",
    "Each individual contribution is calculated and weighted."
   ]
  },
  {
   "cell_type": "code",
   "execution_count": 7,
   "id": "8b27be91-8b84-467d-a511-5950e9127dc1",
   "metadata": {},
   "outputs": [],
   "source": [
    "# Define a common recoil energy range (0 to 25 keV, 200 bins)\n",
    "common_erange = None\n",
    "\n",
    "# Store interpolated and weighted spectra for plotting\n",
    "interp_spectra = {}\n",
    "\n",
    "# Initialize total natural spectrum\n",
    "combined_spectrum = np.zeros_like(common_erange)"
   ]
  },
  {
   "cell_type": "markdown",
   "id": "ba0f2134-721c-4510-8b4f-d6f014101efb",
   "metadata": {},
   "source": [
    "Compute and Plot Silicon Isotope Spectrum\n",
    "-\n",
    "We will now compute and plot the individual isotope spectra and the total weighted isotopic combination for Silicon."
   ]
  },
  {
   "cell_type": "code",
   "execution_count": 8,
   "id": "8b16b675-265d-4da5-8193-d1e7e5e5c085",
   "metadata": {},
   "outputs": [
    {
     "name": "stdout",
     "output_type": "stream",
     "text": [
      ">>> Testing dsigdErNE to trigger any early spline loading...\n",
      "    dsigdErNE returned: 2.397e-26\n"
     ]
    }
   ],
   "source": [
    "# Test the dsigdErNE function for a safe (non-zero) input first\n",
    "test_En = 1.0e3  # 1 MeV in keV\n",
    "test_Er = 5.0    # 5 keV recoil\n",
    "test_A = 28\n",
    "\n",
    "print(\">>> Testing dsigdErNE to trigger any early spline loading...\")\n",
    "try:\n",
    "    test_val = dsigdErNE(test_En, test_Er, test_A)\n",
    "    print(f\"    dsigdErNE returned: {test_val:.3e}\")\n",
    "except Exception as e:\n",
    "    print(f\"    !! dsigdErNE test failed: {e}\")"
   ]
  },
  {
   "cell_type": "code",
   "execution_count": null,
   "id": "973d69f1-ae3b-4a23-9116-f1b0e9d860c3",
   "metadata": {},
   "outputs": [
    {
     "name": "stdout",
     "output_type": "stream",
     "text": [
      ">>> Warming up all Si isotope splines...\n",
      "    Si-28: OK, dsigdErNE = 2.397e-26\n",
      "    Si-29: OK, dsigdErNE = 2.479e-26\n",
      "    Si-30: OK, dsigdErNE = 2.561e-26\n",
      ">>> Computing spectrum for Si-28 (vectorized)...\n"
     ]
    }
   ],
   "source": [
    "plt.figure(figsize=(10, 6))\n",
    "\n",
    "# Pre-warm all splines before entering integration\n",
    "print(\">>> Warming up all Si isotope splines...\")\n",
    "for A in si_isotopes:\n",
    "    try:\n",
    "        test = dsigdErNE(1e3, 5.0, A)  # En=1 MeV, Er=5 keV\n",
    "        print(f\"    Si-{A}: OK, dsigdErNE = {test:.3e}\")\n",
    "    except Exception as e:\n",
    "        print(f\"    !! Si-{A}: spline preload failed: {e}\")\n",
    "\n",
    "\n",
    "for A, abundance in si_isotopes.items():\n",
    "    er, spectrum = get_recoil_spectrum(A)  # This triggers printout\n",
    "    if common_erange is None:\n",
    "        common_erange = er  # use this spectrum’s erange as the common one\n",
    "    interp_spec = np.interp(common_erange, er, spectrum, left=0, right=0)\n",
    "    weighted_spec = interp_spec * abundance\n",
    "    interp_spectra[A] = weighted_spec\n",
    "    combined_spectrum += weighted_spec\n",
    "    plt.plot(common_erange, weighted_spec, label=f\"$^{{{A}}}$Si (× {abundance:.2f})\")\n",
    "\n",
    "plt.plot(common_erange, combined_spectrum, label='Natural Silicon (Total)', color='black', linewidth=2)\n",
    "\n",
    "plt.yscale('log')\n",
    "plt.xlabel('Recoil Energy $E_r$ [keV]')\n",
    "plt.ylabel('Rate [counts kg$^{-1}$ year$^{-1}$ keV$^{-1}$]')\n",
    "plt.title('Flux-Convolved Recoil Spectrum in Natural Silicon')\n",
    "plt.grid(True, which='both', ls=':')\n",
    "plt.legend()\n",
    "plt.tight_layout()\n",
    "plt.show()"
   ]
  },
  {
   "cell_type": "markdown",
   "id": "f8c49773-ec1c-4c76-be8a-5c0b0b33e4fb",
   "metadata": {},
   "source": [
    "Plot Interpretation\n",
    "-\n",
    "Our plot shows the total recoil energy spectrum (in DRU) for natural silicon. Our X-axis (Recoil Energy $E_r$) tells us how much energy a silicon nucleus recoils with after a neutron collides with it. Our Y-axis (Rate) tells us how frequently such recoils happen in a detector, measured in counts per kg per year per keV.\n",
    "\n",
    "There are four curves on our plot - three for each individual Silicon isotope, and one for the total weighted isotopic combination of natural silicon. For each line, we can see that lower-energy recoils are much more frequent due to both the differential cross section often favoring small-angle scattering and lower-energy neutrons being more abundant in the flux spectrum. This also explains why each curve drops toward higher-energy recoils. Each recoil spectrum sharply reduces to a rate of 0 at around 21 KeV, indicating the point at which the maximum possible recoil energy is reached.\n",
    "\n",
    "During elastic scattering, an incident neutron will transfer less energy to a more massive nucleus. Thus, isotopes of larger nuclei will be less likely to have larger recoil energies, which is why the curves of the heavier Silicon isotopes are shifted lower on our plot. The relatively large abundance of the Silicon-28 isotope in natural Silicon (over 92%) gives said isotope a much stronger weight in the total weighted isotopic combination of natural silicon, which is why the corresponding curve matches that of the Silicon-28 curve so closely."
   ]
  }
 ],
 "metadata": {
  "kernelspec": {
   "display_name": "Python [conda env:base] *",
   "language": "python",
   "name": "conda-base-py"
  },
  "language_info": {
   "codemirror_mode": {
    "name": "ipython",
    "version": 3
   },
   "file_extension": ".py",
   "mimetype": "text/x-python",
   "name": "python",
   "nbconvert_exporter": "python",
   "pygments_lexer": "ipython3",
   "version": "3.12.7"
  }
 },
 "nbformat": 4,
 "nbformat_minor": 5
}
