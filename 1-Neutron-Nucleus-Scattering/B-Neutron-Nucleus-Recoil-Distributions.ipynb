{
 "cells": [
  {
   "cell_type": "markdown",
   "id": "ef57a53c-4eab-4816-8bae-cfe3740e6f56",
   "metadata": {},
   "source": [
    "# B – Neutron-Nucleus Recoil Distributions\n",
    "\n",
    "Objective\n",
    "-\n",
    "This notebook computes the **distribution of nuclear recoil energies** resulting from **neutron elastic scattering**. This is a key input for background modeling in rare event searches, such as dark matter experiments.\n",
    "\n",
    "The recoil energy deposited in a detector depends on:\n",
    "- the energy of the incident neutron,\n",
    "- the mass of the target nucleus,\n",
    "- and the scattering kinematics.\n",
    "\n",
    "By computing the differential recoil spectrum, we obtain insight into how neutrons of known energy deposit measurable signals into a material like silicon.\n",
    "\n",
    "---\n"
   ]
  },
  {
   "cell_type": "markdown",
   "id": "cd284924-c6aa-4e04-96b6-fcd5258d2696",
   "metadata": {},
   "source": [
    "We begin by selecting the target material and retrieving its atomic mass. This information is essential for determining the maximum possible energy transferred to a nucleus during an elastic collision.\n",
    "\n",
    "We will then simulate neutrons with a fixed energy (e.g. 1 MeV). This energy governs how much kinetic energy is available to be transferred to the target nucleus.\n",
    "\n",
    "Then we calculate the differential recoil cross section $\\frac{d\\sigma}{dE_r}$, which tells us how likely it is for a neutron of energy $E_n$ to produce a specific recoil energy $E_r$."
   ]
  },
  {
   "cell_type": "markdown",
   "id": "64ede199-5cc1-4e75-b64e-e1fe19c4e304",
   "metadata": {},
   "source": [
    "Libraries and Style Files\n",
    "-------------------------"
   ]
  },
  {
   "cell_type": "code",
   "execution_count": 1,
   "id": "61c42101-43b8-4e4a-be5c-6dc438ea4a8f",
   "metadata": {},
   "outputs": [],
   "source": [
    "#we may need some code in the ../python directory and/or matplotlib styles\n",
    "import sys\n",
    "sys.path.append('../python/')\n",
    "\n",
    "#matplotlib for plotting\n",
    "import matplotlib as mpl\n",
    "from matplotlib import pyplot as plt\n",
    "plt.style.use('../mplstyles/stylelib/standard.mplstyle')\n",
    "\n",
    "#math tools\n",
    "import numpy as np\n",
    "import pandas as pd\n",
    "import scipy.constants as co\n",
    "import ENDF6el as endfel"
   ]
  },
  {
   "cell_type": "markdown",
   "id": "568186fe-4724-44e7-9178-7e1e9a590ad4",
   "metadata": {},
   "source": [
    "Recoil Energy Distributions for Neutron-Nucleus Scattering\n",
    "==========================================================\n",
    "\n",
    "In the previous notebook `A-Differential-Neutron-Nucleus-XN.ipynb` we found out how our libraries can extract the Center-of-Mass (CoM) _angular_ differential cross sections for neutron scattering off nuclei. These cross sections describe the probability of scattering at different angles (in the center-of-mass frame). However, detectors do not directly measure angles—they measure recoil energy deposited by the recoiling nucleus. Therefore, we need to convert angular distributions into recoil energy distributions. In other words, we need to transform the angular variable in the CoM (say, $cos\\theta_{cm}$) to the energy deposited into the detector. \n",
    "\n",
    "Energy Relationship\n",
    "-------------------\n",
    "\n",
    "The relationship between the nuclear recoil energy $E_r$ and the CoM scattering angle $\\theta_{cm}$ is:\n",
    "\n",
    "\\begin{equation}\n",
    "E_r = \\frac{2m_n M E_n}{(m_n + M)^2}\\left(1-\\cos{\\theta_{cm}}\\right),\n",
    "\\end{equation}\n",
    "\n",
    "Where:<br /><br />\n",
    "$E_r$ is the recoil energy of the nucleus.<br />\n",
    "$E_n$ is the energy of the incident neutron.<br />\n",
    "$m_n$ is the mass of the neutron.<br />\n",
    "$M$ is the mass of the nucleus.<br />\n",
    "$\\theta_{cm}$ is the scattering angle in the center-of-mass frame.\n",
    "\n",
    "\n",
    "Load Differential Cross Section Data\n",
    "-\n",
    "We use the function `fetch_diff_xn()` to get the angular differential cross section, $\\frac{d\\sigma}{d\\Omega}$ as a function of $cos\\theta_{cm}$."
   ]
  },
  {
   "cell_type": "code",
   "execution_count": 2,
   "id": "65974e69-b70f-4b28-b5fa-37284ff577b9",
   "metadata": {},
   "outputs": [],
   "source": [
    "import numpy as np\n",
    "import scipy\n",
    "import matplotlib.pyplot as plt\n",
    "import ENDF6el as endfel\n",
    "\n",
    "# Create Legendre interpolants for each Si isotope\n",
    "acoeff_28 = endfel.al(np.arange(64), endffile='../data_files/xn_data/n-014_Si_028.endf')\n",
    "acoeff_29 = endfel.al(np.arange(64), endffile='../data_files/xn_data/n-014_Si_029.endf')\n",
    "acoeff_30 = endfel.al(np.arange(64), endffile='../data_files/xn_data/n-014_Si_030.endf')\n",
    "\n",
    "# Get total elastic cross section interpolator (same file is fine for all Si)\n",
    "f = endfel.fetch_elastic(filename='../data_files/xn_data/si28_el.txt')\n",
    "\n",
    "# Construct differential cross section functions at 1 MeV\n",
    "dsdomeg_28 = endfel.fetch_diff_xn(En=1.0e6, f=f, a=acoeff_28)\n",
    "dsdomeg_29 = endfel.fetch_diff_xn(En=1.0e6, f=f, a=acoeff_29)\n",
    "dsdomeg_30 = endfel.fetch_diff_xn(En=1.0e6, f=f, a=acoeff_30)\n"
   ]
  },
  {
   "cell_type": "markdown",
   "id": "c5e6b1bd-df78-42a5-9e63-8eb3b2b08b81",
   "metadata": {},
   "source": [
    "Encode Recoil Energy Formula\n",
    "-"
   ]
  },
  {
   "cell_type": "code",
   "execution_count": 3,
   "id": "f691161d-ba3f-4567-aa48-ffda6354bc84",
   "metadata": {},
   "outputs": [],
   "source": [
    "# import custom Python module containing atomic mass values\n",
    "import masses as ms\n",
    "\n",
    "# make a list of 100 evenly spaced values for cosθ\n",
    "ct = np.linspace(-1.0, 1.0, 100)\n",
    "\n",
    "# Define silicon isotope data: (Z=14, A)\n",
    "si_isotopes = {\n",
    "    28: ms.getMass(14, 28),\n",
    "    29: ms.getMass(14, 29),\n",
    "    30: ms.getMass(14, 30)\n",
    "}\n",
    "\n",
    "# Precompute recoil energy fractions (escale) for each isotope\n",
    "fac_dict = {}\n",
    "for A, m in si_isotopes.items():\n",
    "    fac_dict[A] = ms.m_n * m / (ms.m_n + m)**2"
   ]
  },
  {
   "cell_type": "markdown",
   "id": "818bf3d6-418b-470a-8fb1-84619cf5ba41",
   "metadata": {},
   "source": [
    "Convert $\\frac{d\\sigma}{d\\Omega}$ into $\\frac{d\\sigma}{dE_r}$.\n",
    "-\n",
    "Whereas we previously worked with cross section vs. angle, we now are working with cross section vs. energy. Thus, we must convert the angular cross section into one based on recoil energy.\n",
    "\n",
    "Since angle and energy are related, we must change variables using the Jacobian, which compensates for how one variable “stretches” into another."
   ]
  },
  {
   "cell_type": "code",
   "execution_count": 4,
   "id": "a7b27f5b-0fa0-40ab-9966-46a5df364242",
   "metadata": {},
   "outputs": [],
   "source": [
    "# Set up isotope list for Silicon with mass numbers\n",
    "si_isotopes = {\n",
    "    28: 0.92223,  # relative abundance\n",
    "    29: 0.04685,\n",
    "    30: 0.03092\n",
    "}\n",
    "\n",
    "# Compute Jacobian factors for each isotope\n",
    "jacobians = {}\n",
    "for A, abundance in si_isotopes.items():\n",
    "    fac = A * (1 + A)**2\n",
    "    jacobians[A] = (1 / (2 * fac)) * 2 * np.pi"
   ]
  },
  {
   "cell_type": "markdown",
   "id": "39f79346-f379-4e2e-b791-d02df733121b",
   "metadata": {},
   "source": [
    "Plot Recoil Energy Distributions for Different Neutron Energies\n",
    "-\n",
    "Now we compute and plot $\\frac{d\\sigma}{dE_r}$ for several incident neutron energies: 0.5 MeV, 1.0 MeV, and 1.5 MeV."
   ]
  },
  {
   "cell_type": "code",
   "execution_count": 5,
   "id": "37f7cbfc-fb23-48e5-834b-d8faaa2e595f",
   "metadata": {
    "scrolled": true
   },
   "outputs": [
    {
     "ename": "TypeError",
     "evalue": "fetch_diff_xn() got an unexpected keyword argument 'Z'",
     "output_type": "error",
     "traceback": [
      "\u001b[1;31m---------------------------------------------------------------------------\u001b[0m",
      "\u001b[1;31mTypeError\u001b[0m                                 Traceback (most recent call last)",
      "Cell \u001b[1;32mIn[5], line 12\u001b[0m\n\u001b[0;32m     10\u001b[0m escale \u001b[38;5;241m=\u001b[39m \u001b[38;5;241m2\u001b[39m \u001b[38;5;241m*\u001b[39m fac \u001b[38;5;241m*\u001b[39m (\u001b[38;5;241m1\u001b[39m \u001b[38;5;241m-\u001b[39m ct)\n\u001b[0;32m     11\u001b[0m er_vals \u001b[38;5;241m=\u001b[39m E_n \u001b[38;5;241m*\u001b[39m escale\n\u001b[1;32m---> 12\u001b[0m dsdomeg \u001b[38;5;241m=\u001b[39m endfel\u001b[38;5;241m.\u001b[39mfetch_diff_xn(En\u001b[38;5;241m=\u001b[39mE_n \u001b[38;5;241m*\u001b[39m \u001b[38;5;241m1e6\u001b[39m, Z\u001b[38;5;241m=\u001b[39m\u001b[38;5;241m14\u001b[39m, A\u001b[38;5;241m=\u001b[39mA)\n\u001b[0;32m     13\u001b[0m dsdomegv \u001b[38;5;241m=\u001b[39m np\u001b[38;5;241m.\u001b[39mvectorize(dsdomeg)\n\u001b[0;32m     14\u001b[0m jac \u001b[38;5;241m=\u001b[39m (\u001b[38;5;241m1\u001b[39m \u001b[38;5;241m/\u001b[39m (\u001b[38;5;241m2\u001b[39m \u001b[38;5;241m*\u001b[39m fac)) \u001b[38;5;241m*\u001b[39m \u001b[38;5;241m2\u001b[39m \u001b[38;5;241m*\u001b[39m np\u001b[38;5;241m.\u001b[39mpi\n",
      "\u001b[1;31mTypeError\u001b[0m: fetch_diff_xn() got an unexpected keyword argument 'Z'"
     ]
    },
    {
     "data": {
      "text/plain": [
       "<Figure size 1000x600 with 0 Axes>"
      ]
     },
     "metadata": {},
     "output_type": "display_data"
    }
   ],
   "source": [
    "# List of incident neutron energies (in MeV)\n",
    "energies = [0.5, 1.0, 1.5]\n",
    "\n",
    "# Set up the plot\n",
    "plt.figure(figsize=(10, 6))\n",
    "\n",
    "for A in si_isotopes:\n",
    "    fac = fac_dict[A]\n",
    "    for E_n in energies:\n",
    "        escale = 2 * fac * (1 - ct)\n",
    "        er_vals = E_n * escale\n",
    "        dsdomeg = endfel.fetch_diff_xn(En=E_n * 1e6, Z=14, A=A)\n",
    "        dsdomegv = np.vectorize(dsdomeg)\n",
    "        jac = (1 / (2 * fac)) * 2 * np.pi\n",
    "        dsig_dEr = (jac / E_n) * dsdomegv(ct)\n",
    "        plt.plot(er_vals, dsig_dEr, label=f\"{A}-Si at {E_n} MeV\")\n",
    "\n",
    "# Finalize plot\n",
    "plt.xlabel('Recoil Energy $E_r$ (MeV)')\n",
    "plt.ylabel(r'd$\\sigma$/d$E_r$ [barns/MeV]')\n",
    "plt.title('Recoil Energy Distributions for Natural Silicon Isotopes')\n",
    "plt.grid(True)\n",
    "plt.legend()\n",
    "plt.tight_layout()\n",
    "plt.show()\n"
   ]
  },
  {
   "cell_type": "markdown",
   "id": "46e34e98-85d6-4458-9bdc-ad3a4a4b0662",
   "metadata": {},
   "source": [
    "Plot Interpretation\n",
    "-\n",
    "The height of each curve reflects the probability density of a certain recoil energy, while the width of the curve reflects the spectrum of recoil energies possible at a given incident neutron energy.\n",
    "\n",
    "Three incident neutron energies are plotted from 0.5 MeV to 1.0 MeV to 1.5 MeV. As we can see, higher incident energy neutrons have a larger recoil energy cutoff—the maximum amount of recoil energy said incident neutron can deliver to a nucleus."
   ]
  },
  {
   "cell_type": "markdown",
   "id": "e0f60fe1-3341-4814-9e9f-9b157e336667",
   "metadata": {},
   "source": [
    "Mass Libraries\n",
    "--------------\n",
    "Mass of neutron $m_n$ (from [NIST - Neutron][NIST - Neutron]) ≈ 1.00866491606 u<br />\n",
    "Mass of $^{28}$Si (from [NIST - Silicon][NIST - Silicon]) ≈ 27.97692653465  u\n",
    "\n",
    "[NIST - Silicon]: https://physics.nist.gov/cgi-bin/Compositions/stand_alone.pl?ele=Si \"NIST - Silicon Documentaion\"\n",
    "[NIST - Neutron]: https://physics.nist.gov/cgi-bin/cuu/Value?mnu \"NIST - Neutron Documentation\""
   ]
  },
  {
   "cell_type": "code",
   "execution_count": null,
   "id": "80befb5a-56c8-448f-8eb1-44d710000e1f",
   "metadata": {},
   "outputs": [],
   "source": []
  }
 ],
 "metadata": {
  "kernelspec": {
   "display_name": "Python [conda env:base] *",
   "language": "python",
   "name": "conda-base-py"
  },
  "language_info": {
   "codemirror_mode": {
    "name": "ipython",
    "version": 3
   },
   "file_extension": ".py",
   "mimetype": "text/x-python",
   "name": "python",
   "nbconvert_exporter": "python",
   "pygments_lexer": "ipython3",
   "version": "3.12.7"
  }
 },
 "nbformat": 4,
 "nbformat_minor": 5
}
