{
 "cells": [
  {
   "cell_type": "markdown",
   "id": "c4dffcc8-f3ed-40bc-9581-aa033059e3f8",
   "metadata": {},
   "source": [
    "# C - Flux Convolution\n",
    "\n",
    "Objective\n",
    "-\n",
    "This notebook builds upon the preceding notebooks, `A-Differential-Neutron-Nucleus-XN.ipynb` and `B-Neutron-Nucleus-Recoil-Distributions.ipynb`. Our objective now is to calculate a realistic recoil energy spectrum—that is, a prediction of how frequently we expect to see recoils at various energies when neutrons interact with a silicon detector. This calculation depends on two factors:\n",
    "\n",
    "Neutron Flux as a Function of Energy: The number of neutrons striking the detector material at each incident energy level.\n",
    "\n",
    "Differential Cross Section for Neutron-Nucleus Scattering: The probability that a neutron of a given incident energy will cause a nucleus to recoil with a specific energy.\n",
    "\n",
    "One specific recoil energy can be caused by many diferent incident neutron energies, depending on the two factors mentioned above. For example, a low-energy incident neutron colliding directly with a nucleus (small impact parameter) may yield the same recoil energy as a high-energy incident neutron colliding less directly with a nucleus (large impact parameter). We will therefore integrate over all incident neutron energies that can cause a given recoil energy. This will produce a calculation of how the energy distribution of the incident neutrons interacts with the detector's interaction probabilities, resulting in a measured recoil spectrum. This result is a flux-convolved recoil energy distribution, simulating what we would expect to measure in a detector."
   ]
  },
  {
   "cell_type": "markdown",
   "id": "f70994a4-2332-42d7-8aec-98db7ecc3d76",
   "metadata": {},
   "source": [
    "Libraries and Style Files\n",
    "-------------------------"
   ]
  },
  {
   "cell_type": "code",
   "execution_count": 1,
   "id": "61d67207-df3e-4a20-a643-3aa084843793",
   "metadata": {
    "scrolled": true
   },
   "outputs": [],
   "source": [
    "#we may need some code in the ../python directory and/or matplotlib styles\n",
    "\n",
    "# Add path to local Python modules (../python)\n",
    "import sys\n",
    "sys.path.append('../python/')\n",
    "\n",
    "# Optional: Auto-install missing dependencies (for portability)\n",
    "import importlib.util\n",
    "import subprocess\n",
    "\n",
    "def install_if_missing(pkg_name):\n",
    "    if importlib.util.find_spec(pkg_name) is None:\n",
    "        subprocess.check_call([sys.executable, \"-m\", \"pip\", \"install\", pkg_name])\n",
    "\n",
    "install_if_missing(\"periodictable\")\n",
    "install_if_missing(\"pyteomics\")\n",
    "\n",
    "# Import standard libraries\n",
    "import numpy as np\n",
    "import pandas as pd\n",
    "import scipy.constants as co\n",
    "\n",
    "# Plotting with a custom style\n",
    "import matplotlib as mpl\n",
    "from matplotlib import pyplot as plt\n",
    "plt.style.use('../mplstyles/stylelib/standard.mplstyle')\n",
    "\n",
    "# Import project-specific modules\n",
    "import ENDF6el as endfel\n",
    "import masses as ms\n",
    "import flux_recoil_spec as frs"
   ]
  },
  {
   "cell_type": "markdown",
   "id": "02293d4e-d380-4cde-b670-17353c066bb9",
   "metadata": {},
   "source": [
    "Load Neutron Flux and Calculate Recoil Spectrum\n",
    "-\n",
    "This section will allow us to determine the likelihood of a neutron with energy $E_n$ scattering off a nucleus and depositing a certain amount of recoil energy $E_r$. This likelihood is given by the differential cross section $\\frac{d\\sigma}{dE_r}(E_n,E_r)$. In the previous notebook, `B-Neutron-Nucleus-Recoil-Distributions.ipynb`, we developed code that calculates this value for specific energies. Now, we want to generalize it. The following section will provide us with the expected distribution of nuclear recoil energies measured by the detector.\n",
    "\n",
    "Neutrons interact with detectors at differing initial energies ($E_n$), and the number of incident neutrons at a given specific energy is described by the neutron flux spectrum, $\\Phi(E_n)$. These neutrons recoil at varying energies ($E_r$) depending on factors including their incident energy and the collision's differential cross section $\\frac{d\\sigma}{dE_r}(E_n,E_r)$. The total rate at which these recoils happen is found by summing the contribution from all differentiaal neutron energies that could cause a recoil of that amount. In other words, we must sum over all neutron energies that can produce a specific recoil energy. Hence, we integrate. We will use the following equation to calculate the differential event rate per unit recoil energy:\n",
    "\n",
    "$$\n",
    "\\frac{dR}{dE_r} = \\int_{E_n^{\\text{min}}}^{E_n^{\\text{max}}} \\Phi(E_n) \\cdot \\frac{d\\sigma}{dE_r}(E_n, E_r) \\, dE_n\n",
    "$$\n",
    "\n",
    "Where:<br /><br />\n",
    "$\\frac{dR}{dE_r}$ is rate (per time, per mass) at which recoils of energy $E_r$ occur.<br />\n",
    "$\\Phi(E_n)$ is the flux at neutron energy $E_n$.<br />\n",
    "$\\frac{d\\sigma}{dE_r}(E_n, E_r)$ is the differential recoil cross section at neutron energy $E_n$, which tells us the probability of measuring a recoil of $E_r$ from a neutron with incident energy $E_n$.\n",
    "\n",
    "Thus, the integrand $\\Phi(E_n) \\cdot \\frac{d\\sigma}{dE_r}(E_n, E_r)$ gives us the rate at which neutrons of energy $E_n$ contribute to producing recoils of energy $E_r$.\n",
    "\n",
    "We repeat this process for many values of $E_r$ to generate a full recoil spectrum."
   ]
  },
  {
   "cell_type": "code",
   "execution_count": 2,
   "id": "63c07661-5acf-4e82-9bc9-d335e7e129aa",
   "metadata": {},
   "outputs": [
    {
     "name": "stdout",
     "output_type": "stream",
     "text": [
      "fast flux: 4000.0000000000005 n/m^2/day\n",
      "175\n",
      "shape of etot: (6000,)\n",
      "6000 6000\n",
      "LinregressResult(slope=-0.34198906017016933, intercept=-12.883178144228596, rvalue=-0.9953352356165472, pvalue=2.8473572672917526e-06, stderr=0.01482451947661301, intercept_stderr=0.06273875262265731)\n",
      "0.009998654133395216 0.01\n"
     ]
    }
   ],
   "source": [
    "# Define realflux Function using SNOLAB_flux\n",
    "from scipy.interpolate import interp1d\n",
    "\n",
    "# Load flux from the frs module\n",
    "E, F, *_ = frs.SNOLAB_flux()  # E: energy [MeV], F: flux [n/cm^2/s/MeV]\n",
    "\n",
    "# Create an interpolator (flux as a function of neutron energy)\n",
    "flux_interp = interp1d(E, F, bounds_error=False, fill_value=0.0)\n",
    "\n",
    "# Define realflux function to wrap the interpolator\n",
    "def realflux(En):\n",
    "    return flux_interp(En)"
   ]
  },
  {
   "cell_type": "markdown",
   "id": "157f757f-7b85-4be3-a007-e8fd5f596e2d",
   "metadata": {},
   "source": [
    "This grabs flux data (E, F), where E is a list of neutron energies and F is the measured flux at each energy. `interp1d` creates a smooth curve through the data points, and `realflux(En)` lets us evaluate the curve at any neutron energy."
   ]
  },
  {
   "cell_type": "code",
   "execution_count": 3,
   "id": "64a7e216-1acd-4b9f-a07c-720b37188c94",
   "metadata": {},
   "outputs": [],
   "source": [
    "# Constants\n",
    "NA = co.physical_constants['Avogadro constant'][0]  # Avogadro's number\n",
    "\n",
    "# Natural abundances and atomic masses of Si isotopes\n",
    "si_isotopes = {\n",
    "    (14, 28): {'abundance': 0.92223, 'mass': 27.9769265325},\n",
    "    (14, 29): {'abundance': 0.04685, 'mass': 28.976494700},\n",
    "    (14, 30): {'abundance': 0.03092, 'mass': 29.97377017},\n",
    "}\n",
    "\n",
    "# Energy range of recoil energies [keV]\n",
    "erange = np.linspace(0.0, 20.0, 200)  # 0 to 20 keV"
   ]
  },
  {
   "cell_type": "code",
   "execution_count": 4,
   "id": "28c05ce7-ff7e-49aa-b9b1-351db8811b92",
   "metadata": {},
   "outputs": [],
   "source": [
    "def dsigdEr(En, Er):\n",
    "    # En in keV, Er in keV\n",
    "    return frs.dsigdErNE(En, Er)"
   ]
  },
  {
   "cell_type": "markdown",
   "id": "1a4d3634-9e1c-4c64-bbf8-8362974560cc",
   "metadata": {},
   "source": [
    "This function returns the differential cross section, i.e., how likely it is that a neutron of energy $E_n$ will produce a recoil energy $E_r$."
   ]
  },
  {
   "cell_type": "code",
   "execution_count": 5,
   "id": "eee0e745-2e9a-4e88-83cf-6e93bc3e1cdc",
   "metadata": {},
   "outputs": [
    {
     "ename": "NameError",
     "evalue": "name 'integrate' is not defined",
     "output_type": "error",
     "traceback": [
      "\u001b[1;31m---------------------------------------------------------------------------\u001b[0m",
      "\u001b[1;31mNameError\u001b[0m                                 Traceback (most recent call last)",
      "Cell \u001b[1;32mIn[5], line 20\u001b[0m\n\u001b[0;32m     17\u001b[0m     integral, _ \u001b[38;5;241m=\u001b[39m integrate\u001b[38;5;241m.\u001b[39mquad(integrand, En_min, En_max, limit\u001b[38;5;241m=\u001b[39m\u001b[38;5;241m1000\u001b[39m)\n\u001b[0;32m     18\u001b[0m     \u001b[38;5;28;01mreturn\u001b[39;00m Z \u001b[38;5;241m*\u001b[39m (NA \u001b[38;5;241m/\u001b[39m (mass)) \u001b[38;5;241m*\u001b[39m integral  \u001b[38;5;66;03m# counts/g/s/keV\u001b[39;00m\n\u001b[1;32m---> 20\u001b[0m dru_vec \u001b[38;5;241m=\u001b[39m np\u001b[38;5;241m.\u001b[39marray([dru(e) \u001b[38;5;28;01mfor\u001b[39;00m e \u001b[38;5;129;01min\u001b[39;00m erange])\n\u001b[0;32m     21\u001b[0m dru_dict[(Z, A)] \u001b[38;5;241m=\u001b[39m dru_vec\n",
      "Cell \u001b[1;32mIn[5], line 17\u001b[0m, in \u001b[0;36mdru\u001b[1;34m(Er)\u001b[0m\n\u001b[0;32m     14\u001b[0m En_min \u001b[38;5;241m=\u001b[39m frs\u001b[38;5;241m.\u001b[39mEnmin(Er) \u001b[38;5;241m/\u001b[39m \u001b[38;5;241m1000\u001b[39m  \u001b[38;5;66;03m# MeV\u001b[39;00m\n\u001b[0;32m     15\u001b[0m En_max \u001b[38;5;241m=\u001b[39m \u001b[38;5;241m10\u001b[39m  \u001b[38;5;66;03m# MeV\u001b[39;00m\n\u001b[1;32m---> 17\u001b[0m integral, _ \u001b[38;5;241m=\u001b[39m integrate\u001b[38;5;241m.\u001b[39mquad(integrand, En_min, En_max, limit\u001b[38;5;241m=\u001b[39m\u001b[38;5;241m1000\u001b[39m)\n\u001b[0;32m     18\u001b[0m \u001b[38;5;28;01mreturn\u001b[39;00m Z \u001b[38;5;241m*\u001b[39m (NA \u001b[38;5;241m/\u001b[39m (mass)) \u001b[38;5;241m*\u001b[39m integral\n",
      "\u001b[1;31mNameError\u001b[0m: name 'integrate' is not defined"
     ]
    }
   ],
   "source": [
    "# Dictionary to store dru spectra for each isotope\n",
    "dru_dict = {}\n",
    "\n",
    "for (Z, A), props in si_isotopes.items():\n",
    "    abundance = props['abundance']\n",
    "    mass = props['mass']  # atomic mass in amu\n",
    "\n",
    "    def dru(Er):\n",
    "        def integrand(En):\n",
    "            flux = realflux(En)  # n/cm²/s/MeV\n",
    "            sig = frs.dsigdErNE(En * 1e3, Er, Z=Z, A=A)  # cm²/keV\n",
    "            return flux * sig\n",
    "\n",
    "        En_min = frs.Enmin(Er) / 1000  # MeV\n",
    "        En_max = 10  # MeV\n",
    "\n",
    "        integral, _ = integrate.quad(integrand, En_min, En_max, limit=1000)\n",
    "        return Z * (NA / (mass)) * integral  # counts/g/s/keV\n",
    "\n",
    "    dru_vec = np.array([dru(e) for e in erange])\n",
    "    dru_dict[(Z, A)] = dru_vec\n"
   ]
  },
  {
   "cell_type": "markdown",
   "id": "f9105b7a-7444-4a6b-80c4-8c0f0c6e5cee",
   "metadata": {},
   "source": [
    "This code converts energy units and integrates over neutron energies that can cause a specific recoil energy. The factor `14 * (NA / msi)` scales the rate to per gram of silicon. `integrate.quad` does the actual integration.\n",
    "\n",
    "Now that we have defined the differential rate function $\\frac{DR}{DE_r}$ — the number of recoils per second per gram per keV, we now want to compute it over a range of recoil energies."
   ]
  },
  {
   "cell_type": "code",
   "execution_count": null,
   "id": "0538f6bf-3024-4994-b1df-1bd54bbaec6d",
   "metadata": {},
   "outputs": [],
   "source": [
    "# Calculate Spectrum\n",
    "dru_vec = np.array([dru(e) for e in erange])  # [counts / g / s / keV]"
   ]
  },
  {
   "cell_type": "markdown",
   "id": "e9a8c81a-6e57-4fa1-8b94-310e1442eac2",
   "metadata": {},
   "source": [
    "`erange` is a list of recoil energies we want to investigate, ranging from 0 to 20 keV.\n",
    "\n",
    "For each value e in `erange`, we call our `dru(e)` function, which:\n",
    "\n",
    "Integrates over all neutron energies that could have caused a recoil of energy `e`.\n",
    "\n",
    "Multiplies the neutron flux at each energy by the differential cross section $\\frac{d\\sigma}{dE_r}(E_n, E_r)$.\n",
    "\n",
    "Returns the result as the expected rate of recoils at energy `e`, per gram of material, per second, per keV.\n",
    "\n",
    "`dru_vec` ends up being an array of those recoil rates."
   ]
  },
  {
   "cell_type": "code",
   "execution_count": null,
   "id": "7d9459d2-36b9-4c3a-b042-66fa0e7d09f5",
   "metadata": {},
   "outputs": [],
   "source": [
    "# Convert each isotope's spectrum to DRU [counts / kg / year / keV]\n",
    "conversion = 1000 * 365 * 24 * 60 * 60  # g/s → kg/year\n",
    "\n",
    "dru_dists_kg_yr = {}\n",
    "for iso_key, dru_vec in dru_dict.items():\n",
    "    dru_dists_kg_yr[iso_key] = dru_vec * conversion"
   ]
  },
  {
   "cell_type": "markdown",
   "id": "7ac46ae5-664e-4279-822e-4bcc31c925fa",
   "metadata": {},
   "source": [
    "We're converting from:\n",
    "\n",
    "[counts / g / s / keV] to\n",
    "\n",
    "[counts / kg / year / keV]\n",
    "\n",
    "This makes our result more meaningful for real-world experiments, which often report detector rates per kilogram per year."
   ]
  },
  {
   "cell_type": "code",
   "execution_count": null,
   "id": "115f1a25-90e7-434c-9a1f-48bd2b5dc3a9",
   "metadata": {},
   "outputs": [],
   "source": [
    "# Plot each isotope's flux-convolved recoil spectrum\n",
    "plt.figure(figsize=(10, 6))\n",
    "\n",
    "for (Z, A), dru_vec in dru_dists_kg_yr.items():\n",
    "    plt.plot(erange, dru_vec, label=f\"{A}-Si\")\n",
    "\n",
    "plt.yscale('log')\n",
    "plt.xlabel(r'Recoil Energy $E_r$ [keV]')\n",
    "plt.ylabel(r'Rate [counts kg$^{-1}$ year$^{-1}$ keV$^{-1}$]')\n",
    "plt.title('Flux-Convolved Recoil Spectrum for Silicon Isotopes')\n",
    "plt.grid(True, which='both', linestyle='--', linewidth=0.5)\n",
    "plt.legend()\n",
    "plt.tight_layout()\n",
    "plt.show()"
   ]
  },
  {
   "cell_type": "markdown",
   "id": "8fc08fdf-5256-4585-9625-51771466a2a1",
   "metadata": {},
   "source": [
    "We code our plot with the following features:\n",
    "\n",
    "X-axis: Recoil energy in keV — how much energy the silicon nucleus receives from the neutron.\n",
    "\n",
    "Y-axis (log scale): Event rate per kg per year per keV — how often that kind of recoil would be detected.\n",
    "\n",
    "Logarithmic scale on the Y-axis helps visualize values that span several orders of magnitude.\n",
    "\n",
    "Grid and legend improve readability and clarity."
   ]
  },
  {
   "cell_type": "markdown",
   "id": "ca27f9d8-2092-4b06-bd30-327aa070ff42",
   "metadata": {},
   "source": [
    "Plot Interpretation\n",
    "-\n",
    "This is the realistic recoil spectrum we'd expect to see in a silicon-28 based detector. The plot accounts for both the physical interaction (via the differential cross section) and the available neutrons at each energy (via the flux spectrum).\n",
    "\n",
    "We can observe the following:\n",
    "\n",
    "High counts at lower recoil energies: Most neutrons don't transfer a relatively large amount of energy per collision, so low-energy recoils are more common.\n",
    "\n",
    "Exponential drop-off: As recoil energy increases, the likelihood of a neutron-nucleus collision yielding that recoil energy becomes less likely (due to kinematic limits and fewer high-energy neutrons).\n",
    "\n",
    "Shape variations: Any bumps or features in the plot's curve may reflect real structures in the neutron flux spectrum or cross section features of silicon."
   ]
  },
  {
   "cell_type": "code",
   "execution_count": null,
   "id": "5de3f414-fdcb-48f5-86ed-b9ed36629619",
   "metadata": {},
   "outputs": [],
   "source": []
  }
 ],
 "metadata": {
  "kernelspec": {
   "display_name": "Python [conda env:base] *",
   "language": "python",
   "name": "conda-base-py"
  },
  "language_info": {
   "codemirror_mode": {
    "name": "ipython",
    "version": 3
   },
   "file_extension": ".py",
   "mimetype": "text/x-python",
   "name": "python",
   "nbconvert_exporter": "python",
   "pygments_lexer": "ipython3",
   "version": "3.12.7"
  }
 },
 "nbformat": 4,
 "nbformat_minor": 5
}
