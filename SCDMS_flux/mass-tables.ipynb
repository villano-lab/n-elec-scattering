{
 "cells": [
  {
   "cell_type": "code",
   "execution_count": 11,
   "id": "5b851b27-1748-4d18-b4ae-b365bab337ac",
   "metadata": {},
   "outputs": [],
   "source": [
    "#we may need some code in the ../python directory and/or matplotlib styles\n",
    "import sys\n",
    "sys.path.append('../python/')\n",
    "\n",
    "#matplotlib for plotting\n",
    "import matplotlib as mpl\n",
    "from matplotlib import pyplot as plt\n",
    "plt.style.use('../mplstyles/stylelib/standard.mplstyle')\n",
    "\n",
    "#other computational libraries\n",
    "import numpy as np\n",
    "import pandas as pd\n",
    "import scipy.constants as co\n",
    "import scipy.stats as ss\n",
    "import itertools\n",
    "import pickle\n",
    "from scipy import signal"
   ]
  },
  {
   "cell_type": "code",
   "execution_count": 25,
   "id": "e488399a-ca11-43d9-a79c-9cc095e8dba0",
   "metadata": {},
   "outputs": [
    {
     "name": "stdout",
     "output_type": "stream",
     "text": [
      "3\n"
     ]
    }
   ],
   "source": [
    "import fortranformat as ff\n",
    "format = ff.FortranRecordReader('(a1,i3,i5,i5,i5,1x,a3,a4,1x,f14.6,f12.6,f13.5,1x,f10.5,1x,a2,f13.5,f11.5,1x,i3,1x,f13.6,f12.6)')\n",
    "f = open('isotope_data/mass_1.mas20.txt', 'r')\n",
    "masses = []\n",
    "count = 0\n",
    "for line in f:\n",
    "    count = count + 1\n",
    "    if count > 36:\n",
    "        masses.append(format.read(line.replace('*', ' ').replace('#', '.')))\n",
    "f.close()\n",
    "print(masses[4][4])"
   ]
  },
  {
   "cell_type": "code",
   "execution_count": 26,
   "id": "55c72add-6e45-4751-a1df-e58fa7eb369b",
   "metadata": {},
   "outputs": [],
   "source": [
    "Z=np.zeros((len(masses),))\n",
    "A=np.zeros((len(masses),))\n",
    "delta=np.zeros((len(masses),))\n",
    "edelta=np.zeros((len(masses),))\n",
    "for i,a in enumerate(masses):\n",
    "  delta[i] = masses[i][7]\n",
    "  edelta[i] = masses[i][7]\n",
    "  Z[i] = masses[i][3]\n",
    "  A[i] = masses[i][4]\n",
    "    "
   ]
  },
  {
   "cell_type": "code",
   "execution_count": 27,
   "id": "08df8571-2f3b-4b8f-b23f-0cf98fb3b754",
   "metadata": {},
   "outputs": [
    {
     "name": "stdout",
     "output_type": "stream",
     "text": [
      "[  8071.31806    7288.971064  13135.722895 ... 196397.       199320.\n",
      " 201369.      ]\n",
      "[  1.   1.   2. ... 294. 294. 295.]\n",
      "[  0.   1.   1. ... 117. 118. 118.]\n"
     ]
    }
   ],
   "source": [
    "print(delta)\n",
    "print(A)\n",
    "print(Z)"
   ]
  },
  {
   "cell_type": "code",
   "execution_count": 32,
   "id": "4b786c3f-3430-4aa4-86c3-00f114934148",
   "metadata": {},
   "outputs": [
    {
     "name": "stdout",
     "output_type": "stream",
     "text": [
      "[-21492.79711]\n",
      "[-21492.79711]\n"
     ]
    }
   ],
   "source": [
    "cIso = (Z==14)&(A==28)\n",
    "print(delta[cIso])\n",
    "print(delta[(Z==14)&(A==28)])"
   ]
  },
  {
   "cell_type": "code",
   "execution_count": null,
   "id": "d3d856fa-b28d-4135-966d-91d44f828d47",
   "metadata": {},
   "outputs": [],
   "source": []
  }
 ],
 "metadata": {
  "kernelspec": {
   "display_name": "Python (fano_5_2024)",
   "language": "python",
   "name": "fano_5_2024"
  },
  "language_info": {
   "codemirror_mode": {
    "name": "ipython",
    "version": 3
   },
   "file_extension": ".py",
   "mimetype": "text/x-python",
   "name": "python",
   "nbconvert_exporter": "python",
   "pygments_lexer": "ipython3",
   "version": "3.9.19"
  }
 },
 "nbformat": 4,
 "nbformat_minor": 5
}
