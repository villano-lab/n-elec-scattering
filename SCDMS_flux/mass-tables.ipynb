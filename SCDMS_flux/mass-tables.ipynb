{
 "cells": [
  {
   "cell_type": "code",
   "execution_count": 1,
   "id": "5b851b27-1748-4d18-b4ae-b365bab337ac",
   "metadata": {},
   "outputs": [],
   "source": [
    "#we may need some code in the ../python directory and/or matplotlib styles\n",
    "import sys\n",
    "sys.path.append('../python/')\n",
    "\n",
    "#matplotlib for plotting\n",
    "import matplotlib as mpl\n",
    "from matplotlib import pyplot as plt\n",
    "plt.style.use('../mplstyles/stylelib/standard.mplstyle')\n",
    "\n",
    "#other computational libraries\n",
    "import numpy as np\n",
    "import pandas as pd\n",
    "import scipy.constants as co\n",
    "import scipy.stats as ss\n",
    "import itertools\n",
    "import pickle\n",
    "from scipy import signal"
   ]
  },
  {
   "cell_type": "code",
   "execution_count": 2,
   "id": "2f26421a-9b25-45f4-a85e-fa49738c0632",
   "metadata": {},
   "outputs": [
    {
     "name": "stdout",
     "output_type": "stream",
     "text": [
      "    1N  -Z   N   Z   A           EL             0       Delta     eDelta  \\\n",
      "0    0   1   1   0   1            n    8071.31806     0.00044        0.0   \n",
      "1   -1   0   1   1   H  7288.971064      0.000013         0.0        0.0   \n",
      "2    0   0   1   1   2            H  13135.722895    0.000015  1112.2831   \n",
      "3    0   1   2   1   3            H   14949.81090     0.00008  2827.2654   \n",
      "4   -1   1   2   3  He  14931.21888       0.00006  2572.68044    0.00015   \n",
      "..  ..  ..  ..  ..  ..          ...           ...         ...        ...   \n",
      "95   3  11   8  19   O           -n      3332.858       2.637  7566.4952   \n",
      "96   1  10   9  19   F  -1487.44512       0.00082   7779.0192     0.0002   \n",
      "97  -1   9  10  19  Ne          +3n      1752.054       0.160  7567.3431   \n",
      "98  -3   8  11  19  Na    12929.384        10.535   6937.8864     0.5545   \n",
      "99  -5   7  12  19  Mg          -pp     31838.394      60.001  5901.4992   \n",
      "\n",
      "        BE          eBE           DC            BeE           eBeE  \\\n",
      "0      0.0           B-     782.3470         0.0004              1   \n",
      "1       B-            *            1  007825.031898       0.000014   \n",
      "2   0.0002           B-            *              2  014101.777844   \n",
      "3   0.0003           B-     18.59202        0.00006              3   \n",
      "4       B-      -13736#        2000#              3   016029.32197   \n",
      "..     ...          ...          ...            ...            ...   \n",
      "95  0.1388           B-    4820.3029         2.6370             19   \n",
      "96      B-   -3239.4986       0.1601             18   998403.16207   \n",
      "97  0.0084           B-  -11177.3310        10.5364             19   \n",
      "98      B-  -18909.0095      60.9189             19     013880.264   \n",
      "99  3.1579           B-            *             19     034179.920   \n",
      "\n",
      "             AMU     AMU2  eAMU  \n",
      "0   008664.91590  0.00047  None  \n",
      "1           None     None  None  \n",
      "2       0.000015     None  None  \n",
      "3   016049.28132  0.00008  None  \n",
      "4        0.00006     None  None  \n",
      "..           ...      ...   ...  \n",
      "95    003577.969    2.830  None  \n",
      "96       0.00088     None  None  \n",
      "97    001880.906    0.171  None  \n",
      "98        11.309     None  None  \n",
      "99        64.413     None  None  \n",
      "\n",
      "[100 rows x 17 columns]\n"
     ]
    }
   ],
   "source": [
    "#importing isotope masses\n",
    "#see: https://www-nds.iaea.org/amdc/\n",
    "masses = pd.read_csv('isotope_data/mass_1.mas20.txt', skiprows=36,skipfooter=2, \\\n",
    "                         names=['1N', '-Z','N','Z','A','EL','0','Delta','eDelta','BE','eBE',\\\n",
    "                               'DC','BeE','eBeE','AMU','AMU2','eAMU'],sep='\\s+',engine='python')\n",
    "\n",
    "print (masses.head(100))"
   ]
  },
  {
   "cell_type": "code",
   "execution_count": null,
   "id": "e488399a-ca11-43d9-a79c-9cc095e8dba0",
   "metadata": {},
   "outputs": [],
   "source": []
  }
 ],
 "metadata": {
  "kernelspec": {
   "display_name": "Python (fano_4_2024)",
   "language": "python",
   "name": "fano_4_2024"
  },
  "language_info": {
   "codemirror_mode": {
    "name": "ipython",
    "version": 3
   },
   "file_extension": ".py",
   "mimetype": "text/x-python",
   "name": "python",
   "nbconvert_exporter": "python",
   "pygments_lexer": "ipython3",
   "version": "3.9.19"
  }
 },
 "nbformat": 4,
 "nbformat_minor": 5
}
