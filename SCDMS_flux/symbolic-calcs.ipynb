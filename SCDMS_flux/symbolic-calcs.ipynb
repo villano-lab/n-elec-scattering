{
 "cells": [
  {
   "cell_type": "code",
   "execution_count": null,
   "id": "633a67d9-0320-45f2-9c3d-34e9df6438dc",
   "metadata": {},
   "outputs": [],
   "source": []
  },
  {
   "cell_type": "markdown",
   "id": "0247d6bc-fc31-4a91-b50e-28c2bccdf26d",
   "metadata": {},
   "source": [
    "\\begin{equation}\n",
    "\\vec{v} = \\vec{q} \\times \\langle \\psi | \\vec{\\boldsymbol{\\sigma}} | \\phi \\rangle\n",
    "\\end{equation}"
   ]
  },
  {
   "cell_type": "markdown",
   "id": "8e395b53-0970-4c8b-a627-d14166376ff0",
   "metadata": {},
   "source": [
    "\\begin{equation}\n",
    "\\begin{aligned}\n",
    "\\langle \\psi | \\vec{\\boldsymbol{\\sigma}} | \\phi \\rangle &= \n",
    "\\begin{pmatrix}\n",
    "\\psi_1 & \\psi_2 \\\\\n",
    "\\end{pmatrix}\n",
    "\\begin{pmatrix}\n",
    "0 & 1 \\\\\n",
    "1 & 0 \\\\\n",
    "\\end{pmatrix}\n",
    "\\begin{pmatrix}\n",
    "\\phi_1 \\\\\n",
    "\\phi_2 \\\\\n",
    "\\end{pmatrix} \\hat{i} \\\\\n",
    "&+\n",
    "\\begin{pmatrix}\n",
    "\\psi_1 & \\psi_2 \\\\\n",
    "\\end{pmatrix}\n",
    "\\begin{pmatrix}\n",
    "0 & -i \\\\\n",
    "i & 0 \\\\\n",
    "\\end{pmatrix}\n",
    "\\begin{pmatrix}\n",
    "\\phi_1 \\\\\n",
    "\\phi_2 \\\\\n",
    "\\end{pmatrix} \\hat{j} \\\\\n",
    "&+\n",
    "\\begin{pmatrix}\n",
    "\\psi_1 & \\psi_2 \\\\\n",
    "\\end{pmatrix}\n",
    "\\begin{pmatrix}\n",
    "1 & 0 \\\\\n",
    "0 & -1 \\\\\n",
    "\\end{pmatrix}\n",
    "\\begin{pmatrix}\n",
    "\\phi_1 \\\\\n",
    "\\phi_2 \\\\\n",
    "\\end{pmatrix} \\hat{k} \n",
    "\\end{aligned}\n",
    "\\end{equation}"
   ]
  },
  {
   "cell_type": "code",
   "execution_count": null,
   "id": "2a71218e-0bca-45ff-99d0-468879ccfbc1",
   "metadata": {},
   "outputs": [],
   "source": []
  }
 ],
 "metadata": {
  "kernelspec": {
   "display_name": "Python (fano_4_2024)",
   "language": "python",
   "name": "fano_4_2024"
  },
  "language_info": {
   "codemirror_mode": {
    "name": "ipython",
    "version": 3
   },
   "file_extension": ".py",
   "mimetype": "text/x-python",
   "name": "python",
   "nbconvert_exporter": "python",
   "pygments_lexer": "ipython3",
   "version": "3.9.19"
  }
 },
 "nbformat": 4,
 "nbformat_minor": 5
}
