{
 "cells": [
  {
   "cell_type": "code",
   "execution_count": 1,
   "id": "ad3ef9c8-d3a9-48c0-bd77-768453767b40",
   "metadata": {},
   "outputs": [],
   "source": [
    "#we may need some code in the ../python directory and/or matplotlib styles\n",
    "import sys\n",
    "sys.path.append('../python/')\n",
    "\n",
    "#matplotlib for plotting\n",
    "import matplotlib as mpl\n",
    "from matplotlib import pyplot as plt\n",
    "plt.style.use('../mplstyles/stylelib/standard.mplstyle')\n",
    "\n",
    "#other computational libraries\n",
    "import numpy as np\n",
    "import pandas as pd\n",
    "import scipy.constants as co\n",
    "import scipy.stats as ss\n",
    "import itertools\n",
    "import pickle\n",
    "from scipy import signal"
   ]
  },
  {
   "cell_type": "code",
   "execution_count": 2,
   "id": "4d44ca6f-2d75-4570-a96f-3b6d61530e9b",
   "metadata": {},
   "outputs": [],
   "source": [
    "import ENDF6"
   ]
  },
  {
   "cell_type": "code",
   "execution_count": 7,
   "id": "597f846a-3c4a-4bd4-8ea8-e9421c853c0b",
   "metadata": {},
   "outputs": [],
   "source": [
    "#get some cross section data\n",
    "f = open('/Users/villaa/Misc/ENDF/ENDF-B-VIII.0_neutrons/n-014_Si_028.endf')\n",
    "lines = f.readlines()\n",
    "sec = ENDF6.find_section(lines, MF=4, MT=2)  # elastic angular distributions. \n",
    "#x, y = ENDF6.read_table(sec)"
   ]
  },
  {
   "cell_type": "code",
   "execution_count": 30,
   "id": "4a75107f-a21b-47f9-ab60-d5632765f4ac",
   "metadata": {},
   "outputs": [],
   "source": [
    "for i in sec:\n",
    "    #print(i)\n",
    "    arr = np.char.split(i)\n",
    "    #print(np.shape(arr))\n",
    "    if(np.shape(arr)==()): continue\n",
    "    #print([np.fromstring(x) for x in arr])"
   ]
  },
  {
   "cell_type": "code",
   "execution_count": 10,
   "id": "82d33928-13f5-42cd-aabc-acf2e8c1e4c8",
   "metadata": {},
   "outputs": [
    {
     "name": "stdout",
     "output_type": "stream",
     "text": [
      "{(1425, 4, 2)}\n"
     ]
    }
   ],
   "source": [
    "print(ENDF6.list_content(sec))"
   ]
  },
  {
   "cell_type": "code",
   "execution_count": 31,
   "id": "c2739a30-c7c8-4aa5-9df5-24049ef5daa9",
   "metadata": {},
   "outputs": [],
   "source": [
    "sec_el = ENDF6.find_section(lines, MF=3, MT=2)\n",
    "\n",
    "f.close()"
   ]
  },
  {
   "cell_type": "code",
   "execution_count": 33,
   "id": "39c3c793-7e64-4303-853a-8100f8e10e73",
   "metadata": {},
   "outputs": [],
   "source": [
    "Eel, sigel = ENDF6.read_table(sec_el)"
   ]
  },
  {
   "cell_type": "code",
   "execution_count": 35,
   "id": "780d7e64-6007-4a3f-b50a-07316550b5a6",
   "metadata": {},
   "outputs": [
    {
     "name": "stdout",
     "output_type": "stream",
     "text": [
      "[1.00e-05 2.53e-02 1.00e+03 ... 1.46e+08 1.48e+08 1.50e+08]\n",
      "[0.        0.        0.        ... 0.3265487 0.3183026 0.31026  ]\n"
     ]
    }
   ],
   "source": [
    "print(Eel)\n",
    "print(sigel)"
   ]
  },
  {
   "cell_type": "code",
   "execution_count": null,
   "id": "bef4b4ff-a2aa-46a2-8308-010e21e466d3",
   "metadata": {},
   "outputs": [],
   "source": []
  }
 ],
 "metadata": {
  "kernelspec": {
   "display_name": "Python (fano_4_2024)",
   "language": "python",
   "name": "fano_4_2024"
  },
  "language_info": {
   "codemirror_mode": {
    "name": "ipython",
    "version": 3
   },
   "file_extension": ".py",
   "mimetype": "text/x-python",
   "name": "python",
   "nbconvert_exporter": "python",
   "pygments_lexer": "ipython3",
   "version": "3.9.19"
  }
 },
 "nbformat": 4,
 "nbformat_minor": 5
}
