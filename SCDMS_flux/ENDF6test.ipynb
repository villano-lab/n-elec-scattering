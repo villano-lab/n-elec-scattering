{
 "cells": [
  {
   "cell_type": "code",
   "execution_count": null,
   "id": "ad3ef9c8-d3a9-48c0-bd77-768453767b40",
   "metadata": {},
   "outputs": [],
   "source": [
    "#we may need some code in the ../python directory and/or matplotlib styles\n",
    "import sys\n",
    "sys.path.append('../python/')\n",
    "\n",
    "#matplotlib for plotting\n",
    "import matplotlib as mpl\n",
    "from matplotlib import pyplot as plt\n",
    "plt.style.use('../mplstyles/stylelib/standard.mplstyle')\n",
    "\n",
    "#other computational libraries\n",
    "import numpy as np\n",
    "import pandas as pd\n",
    "import scipy.constants as co\n",
    "import scipy.stats as ss\n",
    "import itertools\n",
    "import pickle\n",
    "from scipy import signal"
   ]
  },
  {
   "cell_type": "code",
   "execution_count": null,
   "id": "4d44ca6f-2d75-4570-a96f-3b6d61530e9b",
   "metadata": {},
   "outputs": [],
   "source": [
    "import ENDF6"
   ]
  },
  {
   "cell_type": "code",
   "execution_count": null,
   "id": "597f846a-3c4a-4bd4-8ea8-e9421c853c0b",
   "metadata": {},
   "outputs": [],
   "source": [
    "#get some cross section data\n",
    "f = open('xn_data/n-014_Si_028.endf')\n",
    "lines = f.readlines()\n",
    "sec = ENDF6.find_section(lines, MF=4, MT=2)  # elastic angular distributions. \n",
    "#x, y = ENDF6.read_table(sec)"
   ]
  },
  {
   "cell_type": "code",
   "execution_count": null,
   "id": "4a75107f-a21b-47f9-ab60-d5632765f4ac",
   "metadata": {},
   "outputs": [],
   "source": [
    "for i in sec:\n",
    "    #print(i)\n",
    "    arr = np.char.split(i)\n",
    "    #print(np.shape(arr))\n",
    "    if(np.shape(arr)==()): continue\n",
    "    #print([np.fromstring(x) for x in arr])"
   ]
  },
  {
   "cell_type": "code",
   "execution_count": null,
   "id": "82d33928-13f5-42cd-aabc-acf2e8c1e4c8",
   "metadata": {},
   "outputs": [],
   "source": [
    "print(ENDF6.list_content(sec))"
   ]
  },
  {
   "cell_type": "code",
   "execution_count": null,
   "id": "c2739a30-c7c8-4aa5-9df5-24049ef5daa9",
   "metadata": {},
   "outputs": [],
   "source": [
    "sec_el = ENDF6.find_section(lines, MF=3, MT=2)\n",
    "\n",
    "f.close()"
   ]
  },
  {
   "cell_type": "code",
   "execution_count": null,
   "id": "39c3c793-7e64-4303-853a-8100f8e10e73",
   "metadata": {},
   "outputs": [],
   "source": [
    "Eel, sigel = ENDF6.read_table(sec_el)"
   ]
  },
  {
   "cell_type": "code",
   "execution_count": null,
   "id": "780d7e64-6007-4a3f-b50a-07316550b5a6",
   "metadata": {},
   "outputs": [],
   "source": [
    "print(Eel)\n",
    "print(sigel)"
   ]
  },
  {
   "cell_type": "code",
   "execution_count": null,
   "id": "bef4b4ff-a2aa-46a2-8308-010e21e466d3",
   "metadata": {},
   "outputs": [],
   "source": [
    "from pylab import *\n",
    "#plot quick\n",
    "fig = plt.figure()\n",
    "ax1 = fig.add_subplot(111)\n",
    "plot(Eel, sigel)\n",
    "ax1.set_yscale('log')\n",
    "ax1.set_xscale('log')\n",
    "xlabel('Neutron energy [eV]')\n",
    "ylabel('Cross-section [barn]')\n",
    "show()"
   ]
  },
  {
   "cell_type": "code",
   "execution_count": null,
   "id": "4df7e893-4644-497d-b031-3237e2f69602",
   "metadata": {},
   "outputs": [],
   "source": [
    "sec_res = ENDF6.find_section(lines, MF=2, MT=151)"
   ]
  },
  {
   "cell_type": "code",
   "execution_count": null,
   "id": "fcaa31b0-3b36-47ec-b25b-c861e43035c5",
   "metadata": {},
   "outputs": [],
   "source": [
    "for i in sec_res:\n",
    "    print(i)\n",
    "    arr = np.char.split(i)\n",
    "    #print(np.shape(arr))\n",
    "    if(np.shape(arr)==()): continue\n",
    "    #print([np.fromstring(x) for x in arr])"
   ]
  },
  {
   "cell_type": "code",
   "execution_count": null,
   "id": "7ce91718-f8e2-48d8-a720-d8d55315da5c",
   "metadata": {},
   "outputs": [],
   "source": [
    "import pandas as pds\n",
    "si28_elastic = pds.read_csv('xn_data/si28_el.txt', skiprows=11,skipfooter=2, \\\n",
    "                         names=['neutE', 'xn'],sep='\\s+',engine='python')\n",
    "\n",
    "print (si28_elastic.head(100))\n",
    "\n",
    "si29_elastic = pds.read_csv('xn_data/si29_el.txt', skiprows=11,skipfooter=2, \\\n",
    "                         names=['neutE', 'xn'],sep='\\s+',engine='python')\n",
    "\n",
    "si30_elastic = pds.read_csv('xn_data/si30_el.txt', skiprows=11,skipfooter=2, \\\n",
    "                         names=['neutE', 'xn'],sep='\\s+',engine='python')"
   ]
  },
  {
   "cell_type": "code",
   "execution_count": null,
   "id": "51c2d08d-3324-4df5-8308-2d613a1dd88b",
   "metadata": {},
   "outputs": [],
   "source": [
    "si28_neute = np.asarray(si28_elastic[\"neutE\"],dtype=float)\n",
    "si28_xn = np.asarray(si28_elastic[\"xn\"],dtype=float)\n",
    "\n",
    "si29_neute = np.asarray(si29_elastic[\"neutE\"],dtype=float)\n",
    "si29_xn = np.asarray(si29_elastic[\"xn\"],dtype=float)\n",
    "\n",
    "si30_neute = np.asarray(si30_elastic[\"neutE\"],dtype=float)\n",
    "si30_xn = np.asarray(si30_elastic[\"xn\"],dtype=float)"
   ]
  },
  {
   "cell_type": "code",
   "execution_count": null,
   "id": "bb5b43d3-69b1-4e89-bf4f-f70d3d5773cf",
   "metadata": {},
   "outputs": [],
   "source": [
    "d = diff(si28_neute)\n",
    "d=np.append(d,0)\n",
    "print(np.shape(d))\n",
    "print(d[d<=0])\n",
    "si28_neute = si28_neute[d>0]\n",
    "si28_xn = si28_xn[d>0]\n",
    "\n",
    "import scipy\n",
    "si28f=scipy.interpolate.UnivariateSpline(\n",
    "        si28_neute,\n",
    "        si28_xn,\n",
    "        k=3,\n",
    "        s=0,\n",
    "        check_finite=True)\n"
   ]
  },
  {
   "cell_type": "code",
   "execution_count": null,
   "id": "4b02b349-9c9a-401f-90f7-c8f41b2a796f",
   "metadata": {},
   "outputs": [],
   "source": [
    "print(si28f([3,4]))"
   ]
  },
  {
   "cell_type": "code",
   "execution_count": null,
   "id": "88159ec9-9a1e-4791-8729-7ce348240212",
   "metadata": {},
   "outputs": [],
   "source": [
    "#plot quick\n",
    "fig = plt.figure()\n",
    "ax1 = fig.add_subplot(111)\n",
    "plot(si28_neute, si28_xn)\n",
    "plot(si29_neute, si29_xn)\n",
    "plot(si30_neute, si30_xn)\n",
    "plot(si28_neute,si28f(si28_neute))\n",
    "ax1.set_yscale('log')\n",
    "ax1.set_xscale('log')\n",
    "xlabel('Neutron energy [MeV]')\n",
    "ylabel('Cross-section [barn]')\n",
    "show()"
   ]
  },
  {
   "cell_type": "code",
   "execution_count": null,
   "id": "267f69c6-74be-48fd-8a98-9b91bb29d00d",
   "metadata": {},
   "outputs": [],
   "source": [
    "sec = ENDF6.find_section(lines, MF=4, MT=2)\n",
    "for i in sec:\n",
    "    #print(i)\n",
    "    arr = np.char.split(i)\n",
    "    #print(np.shape(arr))\n",
    "    if(np.shape(arr)==()): continue\n",
    "    #print([np.fromstring(x) for x in arr])"
   ]
  },
  {
   "cell_type": "code",
   "execution_count": null,
   "id": "5e9ed0e7-228e-4143-90fa-b2fcbf300357",
   "metadata": {},
   "outputs": [],
   "source": [
    "arr=np.str_.split(sec[3])\n",
    "num=int(arr[0])\n",
    "print(num)\n",
    "al = np.zeros((num,12))"
   ]
  },
  {
   "cell_type": "code",
   "execution_count": null,
   "id": "1c558202-9dd7-4f59-93b8-d1080520cf8d",
   "metadata": {},
   "outputs": [],
   "source": [
    "print(np.shape(al))"
   ]
  },
  {
   "cell_type": "code",
   "execution_count": null,
   "id": "e41e61a3-ff72-4639-8215-866798be2c89",
   "metadata": {},
   "outputs": [],
   "source": [
    "readl=True\n",
    "linecnt=0\n",
    "ecnt=0\n",
    "tote=num\n",
    "mpoles=0\n",
    "for ln in sec[4:-1]:\n",
    "    print(ln)\n",
    "    #break away if you're done reading e points\n",
    "    if ecnt==tote:\n",
    "      break\n",
    "    #read the number of multipoles\n",
    "    if readl:\n",
    "      arr=np.str_.split(ln)\n",
    "      mpoles=int(arr[4])\n",
    "      print(mpoles)\n",
    "      readl=False\n",
    "    else:\n",
    "      #arr=np.str_.split(ln)\n",
    "      a = ENDF6.read_line(ln)\n",
    "      print(a)\n",
    "      i1=linecnt*6\n",
    "      i2=i1+6\n",
    "      print(i1,i2)\n",
    "      al[ecnt,i1:i2] = a\n",
    "      #ecnt+=1\n",
    "      linecnt+=1\n",
    "      if linecnt==np.ceil(mpoles/6.0):\n",
    "         linecnt=0\n",
    "         ecnt+=1\n",
    "         readl=True\n",
    "        \n",
    "    arr = np.char.split(ln)\n",
    "    #print(np.shape(arr))\n",
    "    if(np.shape(arr)==()): continue\n",
    "    #print([np.fromstring(x) for x in arr])"
   ]
  },
  {
   "cell_type": "code",
   "execution_count": null,
   "id": "54447bc0-0007-443d-b633-8baa7b57381d",
   "metadata": {},
   "outputs": [],
   "source": [
    "print(al)"
   ]
  },
  {
   "cell_type": "code",
   "execution_count": null,
   "id": "777c1b39-9907-4085-ad01-0ee2f3b95aff",
   "metadata": {},
   "outputs": [],
   "source": [
    "print(al[412,:])"
   ]
  },
  {
   "cell_type": "code",
   "execution_count": null,
   "id": "b1272282-4a35-4ad0-abdc-fab4bc531a04",
   "metadata": {},
   "outputs": [],
   "source": [
    "print(al[3,:])"
   ]
  },
  {
   "cell_type": "code",
   "execution_count": null,
   "id": "f6a4ac87-8a26-4680-ad57-a43d3f5bbf7b",
   "metadata": {},
   "outputs": [],
   "source": [
    "import re"
   ]
  },
  {
   "cell_type": "code",
   "execution_count": null,
   "id": "208610c2-a107-4337-9891-78f64c8d91ea",
   "metadata": {},
   "outputs": [],
   "source": [
    "str1='-5.634-5'\n",
    "str2='4.32-4'\n",
    "\n"
   ]
  },
  {
   "cell_type": "code",
   "execution_count": null,
   "id": "3e5511ac-8469-44fa-ba6c-f331534c8dc8",
   "metadata": {},
   "outputs": [],
   "source": [
    "x = re.sub('[0-9]-[0-9]','5e-5',str1)\n",
    "print(x)"
   ]
  },
  {
   "cell_type": "code",
   "execution_count": null,
   "id": "9c7f05d5-0d75-44a2-ae3a-faf58661b8ff",
   "metadata": {},
   "outputs": [],
   "source": [
    "x = re.sub('[0-9]-[0-9]','5e-5',str2)\n",
    "print(x)"
   ]
  },
  {
   "cell_type": "code",
   "execution_count": null,
   "id": "d93b0272-8aeb-4f41-b431-d2ef0968a0db",
   "metadata": {},
   "outputs": [],
   "source": [
    "print(str1.replace(\"-\", \"e-\").lstrip(\"e\"))"
   ]
  },
  {
   "cell_type": "code",
   "execution_count": null,
   "id": "bf1bd3dd-23bd-4da8-8918-3fa7f523a77b",
   "metadata": {},
   "outputs": [],
   "source": [
    "num = float(re.sub(r\"([0-9\\-+.][0-9.]*)([\\-+])(\\d+)\", r\"\\1e\\2\\3\", str1))\n",
    "print(num)"
   ]
  },
  {
   "cell_type": "code",
   "execution_count": null,
   "id": "4b37ea3a-1e7b-4cac-bf60-f3319f34e546",
   "metadata": {},
   "outputs": [],
   "source": [
    "print(str2.replace(\"-\", \"e-\").lstrip(\"e\"))"
   ]
  },
  {
   "cell_type": "code",
   "execution_count": null,
   "id": "352c9a67-6e25-4f21-942e-b5d7dfa39218",
   "metadata": {},
   "outputs": [],
   "source": [
    "num = float(re.sub(r\"([0-9\\-+.][0-9.]*)([\\-+])(\\d+)\", r\"\\1e\\2\\3\", str2))\n",
    "print(num)"
   ]
  },
  {
   "cell_type": "code",
   "execution_count": null,
   "id": "e228fe07-6ee7-4491-ae4d-fda78d318be3",
   "metadata": {},
   "outputs": [],
   "source": [
    "print(str1.replace(\"-\", \"e-\").replace(\"+\", \"e+\").lstrip(\"e\"))"
   ]
  },
  {
   "cell_type": "code",
   "execution_count": null,
   "id": "fd9b78cb-b4d5-40dd-ad7d-df1690ab5806",
   "metadata": {},
   "outputs": [],
   "source": [
    "import ENDF6el as endfel\n",
    "\n",
    "f = endfel.fetch_elastic(filename='xn_data/si28_el.txt')\n",
    "print(f([3,4]))"
   ]
  },
  {
   "cell_type": "code",
   "execution_count": null,
   "id": "20b4c806-5d14-4eed-9173-37348e91ac4f",
   "metadata": {},
   "outputs": [],
   "source": [
    "(en,al)=endfel.fetch_elastic_angular('xn_data/n-014_Si_028.endf')\n",
    "print(np.shape(en))\n",
    "print(np.shape(al))"
   ]
  },
  {
   "cell_type": "code",
   "execution_count": null,
   "id": "8834fed7-6257-4b3b-b866-2e98f52e5600",
   "metadata": {},
   "outputs": [],
   "source": [
    "print(al)"
   ]
  },
  {
   "cell_type": "code",
   "execution_count": null,
   "id": "cae5dd49-14ad-4de8-af73-64736612af2f",
   "metadata": {},
   "outputs": [],
   "source": [
    "print(en)"
   ]
  },
  {
   "cell_type": "code",
   "execution_count": null,
   "id": "fa71ff72-b586-4c1c-8954-a99193c9ec77",
   "metadata": {},
   "outputs": [],
   "source": [
    "l = np.arange(0,37)\n",
    "print(l)\n",
    "prel = 2*l+1/2\n",
    "print(prel)"
   ]
  },
  {
   "cell_type": "code",
   "execution_count": null,
   "id": "42986a7f-010d-4382-8b22-07cc4f6cb223",
   "metadata": {},
   "outputs": [],
   "source": [
    "coeff = np.append([1],al[1,:])\n",
    "print(coeff*prel)\n",
    "adist = np.polynomial.legendre.Legendre(coeff*prel)\n",
    "\n",
    "coeff1 = np.append([1],al[50,:])\n",
    "print(coeff1*prel)\n",
    "adist1 = np.polynomial.legendre.Legendre(coeff1*prel)\n",
    "\n",
    "coeff2 = np.append([1],al[100,:])\n",
    "print(coeff2*prel)\n",
    "adist2 = np.polynomial.legendre.Legendre(coeff2*prel)\n",
    "\n",
    "coeff3 = np.append([1],al[150,:])\n",
    "print(coeff3*prel)\n",
    "adist3 = np.polynomial.legendre.Legendre(coeff3*prel)"
   ]
  },
  {
   "cell_type": "code",
   "execution_count": null,
   "id": "c04c2185-4623-4956-af68-73a7cdda26fc",
   "metadata": {},
   "outputs": [],
   "source": [
    "print(adist(1.0))"
   ]
  },
  {
   "cell_type": "code",
   "execution_count": null,
   "id": "e6b83f2a-9f3c-4f39-93ec-1b03c9b7350e",
   "metadata": {},
   "outputs": [],
   "source": [
    "adistv = np.vectorize(adist)\n",
    "adist1v = np.vectorize(adist1)\n",
    "adist2v = np.vectorize(adist2)\n",
    "adist3v = np.vectorize(adist3)"
   ]
  },
  {
   "cell_type": "code",
   "execution_count": null,
   "id": "7d3eafcb-573e-4916-887a-e0e82ce5b650",
   "metadata": {},
   "outputs": [],
   "source": [
    "#plot quick\n",
    "ct = np.linspace(-1.0,1.0,100)\n",
    "fig = plt.figure()\n",
    "ax1 = fig.add_subplot(111)\n",
    "plot(ct, adistv(ct))\n",
    "plot(ct, adist1v(ct))\n",
    "plot(ct, adist2v(ct))\n",
    "plot(ct, adist3v(ct))\n",
    "#ax1.set_yscale('log')\n",
    "#ax1.set_xscale('log')\n",
    "ax1.set_ylim(0.0,2)\n",
    "xlabel('cos(thet)')\n",
    "ylabel('ang dist [/cos(th)]')\n",
    "show()"
   ]
  },
  {
   "cell_type": "code",
   "execution_count": null,
   "id": "c172ea14-4f66-4284-a731-8b2c08d2c11f",
   "metadata": {},
   "outputs": [],
   "source": []
  }
 ],
 "metadata": {
  "kernelspec": {
   "display_name": "Python (fano_4_2024)",
   "language": "python",
   "name": "fano_4_2024"
  },
  "language_info": {
   "codemirror_mode": {
    "name": "ipython",
    "version": 3
   },
   "file_extension": ".py",
   "mimetype": "text/x-python",
   "name": "python",
   "nbconvert_exporter": "python",
   "pygments_lexer": "ipython3",
   "version": "3.9.19"
  }
 },
 "nbformat": 4,
 "nbformat_minor": 5
}
