{
 "cells": [
  {
   "cell_type": "code",
   "execution_count": 1,
   "id": "9ec4277e-a1c4-4873-b398-060557e4b26d",
   "metadata": {},
   "outputs": [],
   "source": [
    "#we may need some code in the ../python directory and/or matplotlib styles\n",
    "import sys\n",
    "sys.path.append('../python/')\n",
    "\n",
    "#matplotlib for plotting\n",
    "import matplotlib as mpl\n",
    "from matplotlib import pyplot as plt\n",
    "plt.style.use('../mplstyles/stylelib/standard.mplstyle')\n",
    "\n",
    "#other computational libraries\n",
    "import os\n",
    "import sys\n",
    "import numpy as np\n",
    "import pandas as pd\n",
    "import scipy.constants as co\n",
    "import scipy.stats as ss\n",
    "import itertools\n",
    "import pickle\n",
    "from scipy import signal"
   ]
  },
  {
   "cell_type": "code",
   "execution_count": 8,
   "id": "d95600e3-e349-4fa5-9f41-313337e5b18c",
   "metadata": {},
   "outputs": [],
   "source": [
    "import ProjectFunctions as F\n",
    "import ElasticCrossSections as el\n",
    "import CaptureCrossSections as cap\n",
    "import PeriodicTable as pt"
   ]
  },
  {
   "cell_type": "code",
   "execution_count": 2,
   "id": "e52a6ee6-d9c4-4b98-8372-4670f70a7873",
   "metadata": {},
   "outputs": [
    {
     "name": "stdout",
     "output_type": "stream",
     "text": [
      "pnr_improved1_currents_dat.txt\n"
     ]
    }
   ],
   "source": [
    "# load data if it already exists\n",
    "\n",
    "filespec = 'pnr_improved1'\n",
    "\n",
    "NR = 300 # number of points in recoil energy grid to save\n",
    "NN = 400 # number of points in neutron energy grid to save\n",
    "\n",
    "currents_file = f'{filespec}_currents_dat.txt'\n",
    "pRR_file = f'{filespec}_{NR}_pRR.txt'\n",
    "pNR_file = f'{filespec}_{NR}_{NN}_pNR.txt'\n",
    "ptot_file = f'{filespec}_{NR}_ptot.txt'\n",
    "output_dir = 'papers/data/'\n",
    "\n",
    "use_saved = True\n",
    "\n",
    "ptot_loaded = False\n",
    "\n",
    "print(currents_file)\n",
    "\n",
    "if use_saved:\n",
    "    \n",
    "    if ptot_file in os.listdir(output_dir):\n",
    "        with open(output_dir + ptot_file, 'rb') as f:\n",
    "            ptot = pickle.load(f)\n",
    "        ptot_loaded = True\n",
    "    \n",
    "if use_saved and currents_file in os.listdir(output_dir):\n",
    "    with open(output_dir + currents_file, 'rb') as file:\n",
    "        I, Fs = pickle.load(file)  \n",
    "    \n",
    "#I1 = F.interpolate_yvals_with_overlap(Ens, E_neut, spec['spec'].values)#np.exp(-Ens*10/Ens.max()) # incident flux   \n",
    "#totalflux = F.trap(E_neut, spec['spec'].values)\n"
   ]
  },
  {
   "cell_type": "code",
   "execution_count": 3,
   "id": "b7b2e3d0-8587-41d5-aa0b-84a9c6985e98",
   "metadata": {},
   "outputs": [
    {
     "name": "stdout",
     "output_type": "stream",
     "text": [
      "[array([0.00000000e+00, 0.00000000e+00, 0.00000000e+00, ...,\n",
      "       9.12338598e-44, 2.50824966e-44, 0.00000000e+00]), array([0.00000000e+00, 0.00000000e+00, 0.00000000e+00, ...,\n",
      "       2.17832994e-46, 3.27996900e-47, 0.00000000e+00]), array([0.00000000e+00, 0.00000000e+00, 0.00000000e+00, ...,\n",
      "       4.10183503e-49, 3.17400736e-50, 0.00000000e+00]), array([0.00000000e+00, 0.00000000e+00, 0.00000000e+00, ...,\n",
      "       6.26271091e-52, 2.36700629e-53, 0.00000000e+00]), array([0.00000000e+00, 0.00000000e+00, 0.00000000e+00, ...,\n",
      "       7.93321987e-55, 1.39882870e-56, 0.00000000e+00]), array([0.00000000e+00, 0.00000000e+00, 0.00000000e+00, ...,\n",
      "       8.49210470e-58, 6.67899208e-60, 0.00000000e+00])]\n"
     ]
    }
   ],
   "source": [
    "print(Fs)"
   ]
  },
  {
   "cell_type": "code",
   "execution_count": 4,
   "id": "0e0e6e09-9867-4d4b-9f4c-4f5901ae5084",
   "metadata": {},
   "outputs": [
    {
     "name": "stdout",
     "output_type": "stream",
     "text": [
      "[[8.09128029e-05 8.09126675e-05 8.09125242e-05 ... 0.00000000e+00\n",
      "  0.00000000e+00 0.00000000e+00]\n",
      " [0.00000000e+00 0.00000000e+00 0.00000000e+00 ... 0.00000000e+00\n",
      "  0.00000000e+00 0.00000000e+00]\n",
      " [0.00000000e+00 0.00000000e+00 0.00000000e+00 ... 0.00000000e+00\n",
      "  0.00000000e+00 0.00000000e+00]\n",
      " [0.00000000e+00 0.00000000e+00 0.00000000e+00 ... 0.00000000e+00\n",
      "  0.00000000e+00 0.00000000e+00]\n",
      " [0.00000000e+00 0.00000000e+00 0.00000000e+00 ... 0.00000000e+00\n",
      "  0.00000000e+00 0.00000000e+00]\n",
      " [0.00000000e+00 0.00000000e+00 0.00000000e+00 ... 0.00000000e+00\n",
      "  0.00000000e+00 0.00000000e+00]]\n"
     ]
    }
   ],
   "source": [
    "print(ptot)"
   ]
  },
  {
   "cell_type": "code",
   "execution_count": null,
   "id": "74b90efa-5cfc-48ff-9e10-edd0b245b5a8",
   "metadata": {},
   "outputs": [],
   "source": []
  }
 ],
 "metadata": {
  "kernelspec": {
   "display_name": "Python (fano_4_2024)",
   "language": "python",
   "name": "fano_4_2024"
  },
  "language_info": {
   "codemirror_mode": {
    "name": "ipython",
    "version": 3
   },
   "file_extension": ".py",
   "mimetype": "text/x-python",
   "name": "python",
   "nbconvert_exporter": "python",
   "pygments_lexer": "ipython3",
   "version": "3.9.19"
  }
 },
 "nbformat": 4,
 "nbformat_minor": 5
}
