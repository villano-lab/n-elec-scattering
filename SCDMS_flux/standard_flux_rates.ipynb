{
 "cells": [
  {
   "cell_type": "code",
   "execution_count": 4,
   "id": "9ec4277e-a1c4-4873-b398-060557e4b26d",
   "metadata": {},
   "outputs": [],
   "source": [
    "#we may need some code in the ../python directory and/or matplotlib styles\n",
    "import sys\n",
    "sys.path.append('../python/')\n",
    "\n",
    "#matplotlib for plotting\n",
    "import matplotlib as mpl\n",
    "from matplotlib import pyplot as plt\n",
    "plt.style.use('../mplstyles/stylelib/standard.mplstyle')\n",
    "\n",
    "#other computational libraries\n",
    "import os\n",
    "import sys\n",
    "import numpy as np\n",
    "import pandas as pd\n",
    "import scipy.constants as co\n",
    "import scipy.stats as ss\n",
    "import itertools\n",
    "import pickle\n",
    "from scipy import signal"
   ]
  },
  {
   "cell_type": "code",
   "execution_count": 5,
   "id": "e52a6ee6-d9c4-4b98-8372-4670f70a7873",
   "metadata": {},
   "outputs": [],
   "source": [
    "# load data if it already exists\n",
    "\n",
    "filespec = 'pnr_improved1'\n",
    "\n",
    "NR = 300 # number of points in recoil energy grid to save\n",
    "NN = 400 # number of points in neutron energy grid to save\n",
    "\n",
    "currents_file = f'{filespec}_currents_dat.txt'\n",
    "pRR_file = f'{filespec}_{NR}_pRR.txt'\n",
    "pNR_file = f'{filespec}_{NR}_{NN}_pNR.txt'\n",
    "ptot_file = f'{filespec}_{NR}_ptot.txt'\n",
    "output_dir = 'papers/data/'\n",
    "\n",
    "use_saved = True\n",
    "\n",
    "ptot_loaded = False\n",
    "\n",
    "if use_saved:\n",
    "    \n",
    "    if ptot_file in os.listdir(output_dir):\n",
    "        with open(output_dir + ptot_file, 'rb') as f:\n",
    "            ptot = pickle.load(f)\n",
    "        ptot_loaded = True\n",
    "\n",
    "    \n",
    "#I1 = F.interpolate_yvals_with_overlap(Ens, E_neut, spec['spec'].values)#np.exp(-Ens*10/Ens.max()) # incident flux   \n",
    "#totalflux = F.trap(E_neut, spec['spec'].values)\n"
   ]
  },
  {
   "cell_type": "code",
   "execution_count": null,
   "id": "47533575-3441-4140-9399-67b158ce6ecd",
   "metadata": {},
   "outputs": [],
   "source": []
  }
 ],
 "metadata": {
  "kernelspec": {
   "display_name": "Python (fano_4_2024)",
   "language": "python",
   "name": "fano_4_2024"
  },
  "language_info": {
   "codemirror_mode": {
    "name": "ipython",
    "version": 3
   },
   "file_extension": ".py",
   "mimetype": "text/x-python",
   "name": "python",
   "nbconvert_exporter": "python",
   "pygments_lexer": "ipython3",
   "version": "3.9.19"
  }
 },
 "nbformat": 4,
 "nbformat_minor": 5
}
