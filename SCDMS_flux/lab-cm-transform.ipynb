{
 "cells": [
  {
   "cell_type": "code",
   "execution_count": 1,
   "id": "2ca55cc7-8826-4c7b-b153-b93cd8734dd7",
   "metadata": {},
   "outputs": [],
   "source": [
    "#we may need some code in the ../python directory and/or matplotlib styles\n",
    "import sys\n",
    "sys.path.append('../python/')\n",
    "\n",
    "#matplotlib for plotting\n",
    "import matplotlib as mpl\n",
    "from matplotlib import pyplot as plt\n",
    "plt.style.use('../mplstyles/stylelib/standard.mplstyle')\n",
    "\n",
    "#other computational libraries\n",
    "import numpy as np\n",
    "import pandas as pd\n",
    "import scipy.constants as co\n",
    "import scipy.stats as ss\n",
    "import itertools\n",
    "import pickle\n",
    "from scipy import signal"
   ]
  },
  {
   "cell_type": "code",
   "execution_count": 2,
   "id": "a022a0ae-c00d-46dd-b5d2-94473bb2c206",
   "metadata": {},
   "outputs": [],
   "source": [
    "lam=10\n",
    "ct = np.linspace(-1.0,1.0,100)"
   ]
  },
  {
   "cell_type": "code",
   "execution_count": 3,
   "id": "a348a9cf-d6f6-42ca-9e26-c064c3410748",
   "metadata": {},
   "outputs": [],
   "source": [
    "transfac1 = (1+2*lam*np.cos(ct)+lam**2)**(3/2)/(1+lam*np.cos(ct))"
   ]
  },
  {
   "cell_type": "code",
   "execution_count": 4,
   "id": "48bbe666-4cd2-46a2-a9c1-78dd6a609118",
   "metadata": {},
   "outputs": [],
   "source": [
    "transfac2 = np.sqrt((lam**2+lam*(1+np.cos(ct))+1)/(lam+1)**2)"
   ]
  },
  {
   "cell_type": "code",
   "execution_count": null,
   "id": "e3e83394-dece-456f-b8fd-6b1262159f38",
   "metadata": {},
   "outputs": [],
   "source": [
    "print(transfact1,transfact"
   ]
  }
 ],
 "metadata": {
  "kernelspec": {
   "display_name": "Python (fano_5_2024)",
   "language": "python",
   "name": "fano_5_2024"
  },
  "language_info": {
   "codemirror_mode": {
    "name": "ipython",
    "version": 3
   },
   "file_extension": ".py",
   "mimetype": "text/x-python",
   "name": "python",
   "nbconvert_exporter": "python",
   "pygments_lexer": "ipython3",
   "version": "3.9.19"
  }
 },
 "nbformat": 4,
 "nbformat_minor": 5
}
