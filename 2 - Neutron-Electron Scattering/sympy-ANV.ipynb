{
 "cells": [
  {
   "cell_type": "code",
   "execution_count": 1,
   "id": "a3404f25",
   "metadata": {},
   "outputs": [],
   "source": [
    "from sympy import LeviCivita\n",
    "import numpy as np\n",
    "eps = np.array([[[ float(LeviCivita(i,j,k)) for k in range(3)] for j in range(3)] for i in range(3)])"
   ]
  },
  {
   "cell_type": "code",
   "execution_count": 2,
   "id": "804fd020",
   "metadata": {},
   "outputs": [],
   "source": [
    "from sympy.physics.paulialgebra import Pauli, evaluate_pauli_product\n",
    "from sympy import I"
   ]
  },
  {
   "cell_type": "code",
   "execution_count": 3,
   "id": "f4f2e6df-5907-4936-92c2-66c2edd9aebe",
   "metadata": {},
   "outputs": [],
   "source": [
    "import numpy as np\n",
    "import cmath\n",
    "\n",
    "#Defining spin matrices\n",
    "\n",
    "sig_x = np.array([[0, 1], [1, 0]])\n",
    "sig_y = np.array([[0, complex(0, -1)], [complex(0, 1), 0]])\n",
    "sig_z = np.array([[1, 0], [0, -1]])\n",
    "spin_matrix = [sig_x, sig_y, sig_z]\n",
    "up_z = np.array([[1], [0]])\n",
    "down_z = np.array([[0], [1]])"
   ]
  },
  {
   "cell_type": "markdown",
   "id": "5d719f46-c07b-4106-af5f-b74e561d4266",
   "metadata": {},
   "source": [
    "The below code generates all combinations of the following:\n",
    "\n",
    "$(1, 0) \\sigma_k \\left( \\begin{matrix} 1 \\\\ 0 \\end{matrix} \\right)$\n",
    "\n",
    "etc."
   ]
  },
  {
   "cell_type": "code",
   "execution_count": 4,
   "id": "71d2aba1",
   "metadata": {},
   "outputs": [],
   "source": [
    "#Defining all matrix elements of spin matrix\n",
    "\n",
    "def up_up(k):\n",
    "    return up_z.T.dot(spin_matrix[k-1].dot(up_z))\n",
    "def up_down(k):\n",
    "    return up_z.T.dot(spin_matrix[k-1].dot(down_z))\n",
    "def down_down(k):\n",
    "    return down_z.T.dot(spin_matrix[k-1].dot(down_z))\n",
    "def down_up(k):\n",
    "    return down_z.T.dot(spin_matrix[k-1].dot(up_z))"
   ]
  },
  {
   "cell_type": "code",
   "execution_count": 10,
   "id": "0b0c039c-b0d7-40c7-b50a-e056ffbbd5cd",
   "metadata": {},
   "outputs": [
    {
     "data": {
      "text/plain": [
       "array([[0.+0.j]])"
      ]
     },
     "execution_count": 10,
     "metadata": {},
     "output_type": "execute_result"
    }
   ],
   "source": [
    "up_up(2)"
   ]
  },
  {
   "cell_type": "markdown",
   "id": "8e541a10-79e3-4d2d-9da2-0c851c09d3b9",
   "metadata": {},
   "source": [
    "The quantities below are defined as classes so that they can be input into the sympy Sum() function. "
   ]
  },
  {
   "cell_type": "code",
   "execution_count": 5,
   "id": "7080880a",
   "metadata": {},
   "outputs": [],
   "source": [
    "import numpy as np\n",
    "import cmath\n",
    "from sympy import LeviCivita\n",
    "from sympy import *\n",
    "from sympy import poly\n",
    "from sympy.abc import x \n",
    "from sympy.core.numbers import Integer as SympyInteger \n",
    "from sympy.solvers import solve\n",
    "from sympy import symbols, IndexedBase, Idx\n",
    "\n",
    "import sys\n",
    "sys.setrecursionlimit(10**5)\n",
    "\n",
    "#Defining method of actually plugging in all of the above functions to get the total sum\n",
    "\n",
    "class up_up_plugin(Function):\n",
    "    @classmethod\n",
    "    def eval(cls, x):\n",
    "        # !! Not actually a good eval() method !!\n",
    "        if isinstance(x, Integer):\n",
    "            return complex(up_up(x))\n",
    "        \n",
    "class up_down_plugin(Function):\n",
    "    @classmethod\n",
    "    def eval(cls, x):\n",
    "        # !! Not actually a good eval() method !!\n",
    "        if isinstance(x, Integer):\n",
    "            return complex(up_down(x))\n",
    "        \n",
    "class down_up_plugin(Function):\n",
    "    @classmethod\n",
    "    def eval(cls, x):\n",
    "        # !! Not actually a good eval() method !!\n",
    "        if isinstance(x, Integer):\n",
    "            return complex(down_up(x))\n",
    "        \n",
    "class down_down_plugin(Function):\n",
    "    @classmethod\n",
    "    def eval(cls, x):\n",
    "        # !! Not actually a good eval() method !!\n",
    "        if isinstance(x, Integer):\n",
    "            return complex(down_down(x))\n",
    "\n",
    "#A vector of all matrix elements of a given spin matrix sigma_k:\n",
    "        \n",
    "def total_states(k, i):\n",
    "    A = (up_up_plugin(k), up_down_plugin(k), down_up_plugin(k), down_down_plugin(k))\n",
    "    return A[i]\n",
    "\n",
    "#Using the below to actually plug the total_states function into the sum:\n",
    "        \n",
    "class total_states_plugin(Function):\n",
    "    @classmethod\n",
    "    def eval(cls, k, i):\n",
    "        # !! Not actually a good eval() method !!\n",
    "        if isinstance(i, Integer) and isinstance(k, Integer):\n",
    "            return total_states(k, i)\n",
    "\n",
    "from sympy import cos, sin"
   ]
  },
  {
   "cell_type": "code",
   "execution_count": 6,
   "id": "25cee240",
   "metadata": {},
   "outputs": [],
   "source": [
    "#Normalized momentum transfer vector\n",
    "\n",
    "class n(Function):\n",
    "    @classmethod\n",
    "    def eval(cls, i):\n",
    "        # !! Not actually a good eval() method !!\n",
    "        if isinstance(i, Integer):\n",
    "            i = i - 1\n",
    "            if i == 0:\n",
    "                return sin(theta) * cos(phi)\n",
    "            if i == 1:\n",
    "                return sin(theta) * sin(phi)\n",
    "            if i == 2:\n",
    "                return cos(theta)"
   ]
  },
  {
   "cell_type": "markdown",
   "id": "f1d06ea9-c60b-42d3-81f3-94e0eaa25a5d",
   "metadata": {},
   "source": [
    "The below cell computes the following:\n",
    "\n",
    "$1/4 \\sum_{a, b} \\left| \\sum_{i, j, k, t, m, l} \\epsilon_{t, m, l} \\epsilon_{l, j, k}  n_m n_j A_{k, a} A_{t, b} \\right|^2$\n",
    "\n",
    "where $A_k = (\\bra{+}\\sigma_k \\ket{+}, \\bra{+}\\sigma_k \\ket{-}, \\bra{-}\\sigma_k \\ket{+}, \\bra{-}\\sigma_k \\ket{-})$.\n",
    "\n",
    "Using $A_{k, a}$ allows to sum over all spin combinations in the outer sum."
   ]
  },
  {
   "cell_type": "code",
   "execution_count": 7,
   "id": "4142120f",
   "metadata": {},
   "outputs": [
    {
     "data": {
      "text/latex": [
       "$\\displaystyle 4.0 \\sin^{4}{\\left(\\phi \\right)} \\sin^{4}{\\left(\\theta \\right)} - 4.0 \\sin^{2}{\\left(\\phi \\right)} \\sin^{2}{\\left(\\theta \\right)} + 2.0$"
      ],
      "text/plain": [
       "4.0*sin(phi)**4*sin(theta)**4 - 4.0*sin(phi)**2*sin(theta)**2 + 2.0"
      ]
     },
     "execution_count": 7,
     "metadata": {},
     "output_type": "execute_result"
    }
   ],
   "source": [
    "theta, phi = symbols('theta phi')\n",
    "a, b, i, j, k, t, m, l = symbols('a b i j k t m l')\n",
    "\n",
    "#Computing sum\n",
    "\n",
    "A = Sum(total_states_plugin(k, a) * total_states_plugin(t, b) * n(m) * n(j) * LeviCivita(t, m, l) * LeviCivita(l, j, k), (t, 1, 3), (m, 1, 3), (l, 1, 3), (j, 1, 3), (k, 1, 3)).doit()\n",
    "B = Sum ((1/4) * A**2, (a, 0, 3), (b, 0, 3)).doit() #Averaging and summing over initial states, and squaring total\n",
    "simplify(B).doit()"
   ]
  },
  {
   "cell_type": "markdown",
   "id": "94fac8d5-4999-4f85-8305-d87e93abf003",
   "metadata": {},
   "source": [
    "Take the differential cross section for low energies (below the greatest electron binding energy) and for each shell, multiply by a factor of (total number of electrons in shell)/(total bound electrons), but first transform $d \\sigma / d \\Omega$ to $d \\sigma / d E_r$."
   ]
  },
  {
   "cell_type": "markdown",
   "id": "ebf5850a-baf1-422f-9e94-6a89035f718d",
   "metadata": {},
   "source": [
    "Transforming to energy differential cross section:\n",
    "\n",
    "$\\frac{d \\sigma}{d E_r} = \\frac{d\\sigma}{d\\Omega} \\frac{d\\Omega}{dE_r}$ = $\\frac{2 m_n^2 \\gamma_n^2 \\mu_B^2}{\\hbar^2} \\frac{d \\Omega}{dE_r}$\n",
    "\n",
    "Start with the following:\n",
    "\n",
    "$E_r = \\frac{2m_n m_e}{(m_n + m_e)^2}(1 - \\cos(\\theta_{cm})$\n",
    "\n",
    "\n",
    "Differentiating and multiplying by $\\sin(\\theta_{cm}) d\\phi$:\n",
    "\n",
    "$\\rightarrow \\sin(\\theta_{cm}) d\\phi dE_r = \\frac{2m_n m_e}{(m_n + m_e)^2} \\sin(\\theta_{cm}) d\\Omega$\n",
    "\n",
    "So,\n",
    "\n",
    "$ \\frac{d\\Omega}{dE_r} = \\frac{(m_n + m_e)^2}{2m_n m_e \\sin(\\theta_{cm})} d\\phi$\n",
    "\n",
    "What to do about $d\\phi$??"
   ]
  },
  {
   "cell_type": "code",
   "execution_count": 8,
   "id": "fdb3c627-8294-438f-8958-22682ae6c1ec",
   "metadata": {},
   "outputs": [],
   "source": [
    "mu_B = 9.274E-21\n",
    "gamma_N = -1.832E10\n",
    "m_N = 1.675E-24\n",
    "m_e = 9.109E-28\n",
    "E = 1E6\n",
    "hbar = 1.054E-27\n",
    "\n",
    "amplitude = (m_N + m_e)**2 * m_N**2 * gamma_N**2 * mu_B**2 * E / (m_N * m_e * hbar**2)"
   ]
  },
  {
   "cell_type": "code",
   "execution_count": 9,
   "id": "291e0ef4-e08b-481c-a20c-3dd07ef3b368",
   "metadata": {},
   "outputs": [
    {
     "data": {
      "image/png": "[encoded data removed]",
      "text/plain": [
       "<Figure size 640x480 with 1 Axes>"
      ]
     },
     "metadata": {},
     "output_type": "display_data"
    }
   ],
   "source": [
    "import matplotlib.pyplot as plt\n",
    "import numpy as np\n",
    "\n",
    "shell_energies = np.array([1.12, 99.2, 150, 1839])\n",
    "electron_number = np.array([4, 6, 2, 2])\n",
    "total_e = 14\n",
    "\n",
    "def cross_section(energy, shell_energies, electron_number):\n",
    "    cross_section = 0\n",
    "    if energy < shell_energies[0]:\n",
    "        cross_section = 0 / total_e\n",
    "    if energy >= shell_energies[-1:]:\n",
    "        cross_section = sum(electron_number) / total_e\n",
    "    for i in range(0, len(shell_energies)-1):\n",
    "        if shell_energies[i] <= energy < shell_energies[i+1]:\n",
    "            cross_section = sum(electron_number[:i+1]) / total_e\n",
    "    cross_section *= amplitude\n",
    "    return cross_section\n",
    "\n",
    "energy_span = np.linspace(0, 3000, 3000)\n",
    "y = []\n",
    "for energy in energy_span:\n",
    "    y.append(cross_section(energy, shell_energies, electron_number))\n",
    "plt.plot(energy_span, y)\n",
    "plt.grid()\n",
    "plt.show()"
   ]
  },
  {
   "cell_type": "code",
   "execution_count": null,
   "id": "88421ab8-b3ac-4ab3-be77-e6ccdff5f968",
   "metadata": {},
   "outputs": [],
   "source": []
  }
 ],
 "metadata": {
  "kernelspec": {
   "display_name": "Python 3 (ipykernel)",
   "language": "python",
   "name": "python3"
  },
  "language_info": {
   "codemirror_mode": {
    "name": "ipython",
    "version": 3
   },
   "file_extension": ".py",
   "mimetype": "text/x-python",
   "name": "python",
   "nbconvert_exporter": "python",
   "pygments_lexer": "ipython3",
   "version": "3.9.12"
  }
 },
 "nbformat": 4,
 "nbformat_minor": 5
}
