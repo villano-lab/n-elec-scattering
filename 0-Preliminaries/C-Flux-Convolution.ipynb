{
 "cells": [
  {
   "cell_type": "markdown",
   "id": "f70994a4-2332-42d7-8aec-98db7ecc3d76",
   "metadata": {},
   "source": [
    "Libraries and Style Files\n",
    "-------------------------"
   ]
  },
  {
   "cell_type": "code",
   "execution_count": 1,
   "id": "61d67207-df3e-4a20-a643-3aa084843793",
   "metadata": {},
   "outputs": [],
   "source": [
    "#we may need some code in the ../python directory and/or matplotlib styles\n",
    "import sys\n",
    "sys.path.append('../python/')\n",
    "\n",
    "#matplotlib for plotting\n",
    "import matplotlib as mpl\n",
    "from matplotlib import pyplot as plt\n",
    "plt.style.use('../mplstyles/stylelib/standard.mplstyle')\n",
    "\n",
    "import numpy as np\n",
    "import pandas as pd\n",
    "import scipy.constants as co\n",
    "import ENDF6el as endfel\n",
    "import masses as ms\n",
    "import flux_recoil_spec as frs"
   ]
  },
  {
   "cell_type": "markdown",
   "id": "c4dffcc8-f3ed-40bc-9581-aa033059e3f8",
   "metadata": {},
   "source": [
    "Objective\n",
    "-\n",
    "This notebook builds upon the preceeding notebooks, namely `A-Differential-Neutron-Nucleus-XN.ipynb` and `B-Neutron-Nucleus-Recoil-Distributions.ipynb`. Our objective now is to obtain the neutron flux as a function of energy, reconcile that flux with the differential recoil energy cross section at each energy, and produce a realistic recoil energy distribution as it would appear in a detector.\n"
   ]
  },
  {
   "cell_type": "markdown",
   "id": "1d11efbc-071e-4267-b592-487a7934abc1",
   "metadata": {},
   "source": [
    "Load Neutron Flux Data\n",
    "-"
   ]
  },
  {
   "cell_type": "code",
   "execution_count": null,
   "id": "64ab8044-d506-4569-9080-78934c2e179c",
   "metadata": {},
   "outputs": [],
   "source": []
  }
 ],
 "metadata": {
  "kernelspec": {
   "display_name": "Python [conda env:base] *",
   "language": "python",
   "name": "conda-base-py"
  },
  "language_info": {
   "codemirror_mode": {
    "name": "ipython",
    "version": 3
   },
   "file_extension": ".py",
   "mimetype": "text/x-python",
   "name": "python",
   "nbconvert_exporter": "python",
   "pygments_lexer": "ipython3",
   "version": "3.12.7"
  }
 },
 "nbformat": 4,
 "nbformat_minor": 5
}
