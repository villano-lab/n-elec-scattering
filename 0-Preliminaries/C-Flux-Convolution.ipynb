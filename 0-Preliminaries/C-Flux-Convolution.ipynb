{
 "cells": [
  {
   "cell_type": "markdown",
   "id": "f70994a4-2332-42d7-8aec-98db7ecc3d76",
   "metadata": {},
   "source": [
    "Libraries and Style Files\n",
    "-------------------------"
   ]
  },
  {
   "cell_type": "code",
   "execution_count": 1,
   "id": "61d67207-df3e-4a20-a643-3aa084843793",
   "metadata": {},
   "outputs": [
    {
     "name": "stderr",
     "output_type": "stream",
     "text": [
      "C:\\Users\\jaket\\OneDrive - The University of Colorado Denver\\GitHub Repositories\\Neutron Scattering\\n-elec-scattering\\0-Preliminaries\\../python\\flux_recoil_spec.py:140: SyntaxWarning: invalid escape sequence '\\s'\n",
      "  sep='\\s+')\n",
      "C:\\Users\\jaket\\OneDrive - The University of Colorado Denver\\GitHub Repositories\\Neutron Scattering\\n-elec-scattering\\0-Preliminaries\\../python\\flux_recoil_spec.py:143: SyntaxWarning: invalid escape sequence '\\s'\n",
      "  sep='\\s+')\n",
      "C:\\Users\\jaket\\OneDrive - The University of Colorado Denver\\GitHub Repositories\\Neutron Scattering\\n-elec-scattering\\0-Preliminaries\\../python\\flux_recoil_spec.py:147: SyntaxWarning: invalid escape sequence '\\s'\n",
      "  sep='\\s+')\n",
      "C:\\Users\\jaket\\OneDrive - The University of Colorado Denver\\GitHub Repositories\\Neutron Scattering\\n-elec-scattering\\0-Preliminaries\\../python\\flux_recoil_spec.py:140: SyntaxWarning: invalid escape sequence '\\s'\n",
      "  sep='\\s+')\n",
      "C:\\Users\\jaket\\OneDrive - The University of Colorado Denver\\GitHub Repositories\\Neutron Scattering\\n-elec-scattering\\0-Preliminaries\\../python\\flux_recoil_spec.py:143: SyntaxWarning: invalid escape sequence '\\s'\n",
      "  sep='\\s+')\n",
      "C:\\Users\\jaket\\OneDrive - The University of Colorado Denver\\GitHub Repositories\\Neutron Scattering\\n-elec-scattering\\0-Preliminaries\\../python\\flux_recoil_spec.py:147: SyntaxWarning: invalid escape sequence '\\s'\n",
      "  sep='\\s+')\n"
     ]
    },
    {
     "ename": "ModuleNotFoundError",
     "evalue": "No module named 'periodictable'",
     "output_type": "error",
     "traceback": [
      "\u001b[1;31m---------------------------------------------------------------------------\u001b[0m",
      "\u001b[1;31mModuleNotFoundError\u001b[0m                       Traceback (most recent call last)",
      "Cell \u001b[1;32mIn[1], line 15\u001b[0m\n\u001b[0;32m     13\u001b[0m \u001b[38;5;28;01mimport\u001b[39;00m \u001b[38;5;21;01mENDF6el\u001b[39;00m \u001b[38;5;28;01mas\u001b[39;00m \u001b[38;5;21;01mendfel\u001b[39;00m\n\u001b[0;32m     14\u001b[0m \u001b[38;5;28;01mimport\u001b[39;00m \u001b[38;5;21;01mmasses\u001b[39;00m \u001b[38;5;28;01mas\u001b[39;00m \u001b[38;5;21;01mms\u001b[39;00m\n\u001b[1;32m---> 15\u001b[0m \u001b[38;5;28;01mimport\u001b[39;00m \u001b[38;5;21;01mflux_recoil_spec\u001b[39;00m \u001b[38;5;28;01mas\u001b[39;00m \u001b[38;5;21;01mfrs\u001b[39;00m\n",
      "File \u001b[1;32m~\\OneDrive - The University of Colorado Denver\\GitHub Repositories\\Neutron Scattering\\n-elec-scattering\\0-Preliminaries\\../python\\flux_recoil_spec.py:11\u001b[0m\n\u001b[0;32m      9\u001b[0m \u001b[38;5;28;01mimport\u001b[39;00m \u001b[38;5;21;01mmasses\u001b[39;00m \u001b[38;5;28;01mas\u001b[39;00m \u001b[38;5;21;01mms\u001b[39;00m\n\u001b[0;32m     10\u001b[0m \u001b[38;5;28;01mimport\u001b[39;00m \u001b[38;5;21;01mscipy\u001b[39;00m\u001b[38;5;21;01m.\u001b[39;00m\u001b[38;5;21;01mconstants\u001b[39;00m \u001b[38;5;28;01mas\u001b[39;00m \u001b[38;5;21;01mco\u001b[39;00m\n\u001b[1;32m---> 11\u001b[0m \u001b[38;5;28;01mimport\u001b[39;00m \u001b[38;5;21;01mperiodictable\u001b[39;00m \u001b[38;5;28;01mas\u001b[39;00m \u001b[38;5;21;01mpt\u001b[39;00m\n\u001b[0;32m     12\u001b[0m \u001b[38;5;28;01mfrom\u001b[39;00m \u001b[38;5;21;01mpyteomics\u001b[39;00m \u001b[38;5;28;01mimport\u001b[39;00m mass \u001b[38;5;28;01mas\u001b[39;00m pyteo_mass\n\u001b[0;32m     13\u001b[0m \u001b[38;5;28;01mimport\u001b[39;00m \u001b[38;5;21;01mre\u001b[39;00m\n",
      "\u001b[1;31mModuleNotFoundError\u001b[0m: No module named 'periodictable'"
     ]
    }
   ],
   "source": [
    "#we may need some code in the ../python directory and/or matplotlib styles\n",
    "import sys\n",
    "sys.path.append('../python/')\n",
    "\n",
    "!pip install periodictable\n",
    "\n",
    "#matplotlib for plotting\n",
    "import matplotlib as mpl\n",
    "from matplotlib import pyplot as plt\n",
    "plt.style.use('../mplstyles/stylelib/standard.mplstyle')\n",
    "\n",
    "import numpy as np\n",
    "import pandas as pd\n",
    "import scipy.constants as co\n",
    "import ENDF6el as endfel\n",
    "import masses as ms\n",
    "import flux_recoil_spec as frs"
   ]
  },
  {
   "cell_type": "markdown",
   "id": "c4dffcc8-f3ed-40bc-9581-aa033059e3f8",
   "metadata": {},
   "source": [
    "Objective\n",
    "-\n",
    "This notebook builds upon the preceeding notebooks, namely `A-Differential-Neutron-Nucleus-XN.ipynb` and `B-Neutron-Nucleus-Recoil-Distributions.ipynb`. Our objective now is to obtain the neutron flux as a function of energy, reconcile that flux with the differential recoil energy cross section at each energy, and produce a realistic recoil energy distribution as it would appear in a detector.\n"
   ]
  },
  {
   "cell_type": "markdown",
   "id": "1d11efbc-071e-4267-b592-487a7934abc1",
   "metadata": {},
   "source": [
    "Load Neutron Flux Data\n",
    "-"
   ]
  },
  {
   "cell_type": "markdown",
   "id": "fafd24c8-2ecf-4262-9aea-a87695112af7",
   "metadata": {},
   "source": [
    "Calculate Differential Recoil Cross Section $\\frac{d\\sigma}{dE_r}(E_i,E_r)$\n",
    "-\n",
    "This section will allow us to determine the liklihood of a neutron with energy $E_i$ scattering off a nucleus and deposit a certain amount of recoil energy E_r. This likelihood is given by the differential cross section $\\frac{d\\sigma}{dE_r}(E_i,E_r)$. In the previous notebook, `B-Neutron-Nucleus-Recoil-Distributions.ipynb`, we developed code that calculates this value for specific energies. Now, we want to generalize it:"
   ]
  },
  {
   "cell_type": "code",
   "execution_count": null,
   "id": "ab51e121-0ddb-4312-b095-c28801fa34e3",
   "metadata": {},
   "outputs": [],
   "source": [
    "import pandas as pd\n",
    "\n",
    "fast_flux_df = pd.read_pickle('../data_files/FDF.txt')\n",
    "print(fast_flux_df.head())"
   ]
  }
 ],
 "metadata": {
  "kernelspec": {
   "display_name": "Python [conda env:base] *",
   "language": "python",
   "name": "conda-base-py"
  },
  "language_info": {
   "codemirror_mode": {
    "name": "ipython",
    "version": 3
   },
   "file_extension": ".py",
   "mimetype": "text/x-python",
   "name": "python",
   "nbconvert_exporter": "python",
   "pygments_lexer": "ipython3",
   "version": "3.12.7"
  }
 },
 "nbformat": 4,
 "nbformat_minor": 5
}
