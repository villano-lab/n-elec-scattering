{
 "cells": [
  {
   "cell_type": "markdown",
   "id": "f70994a4-2332-42d7-8aec-98db7ecc3d76",
   "metadata": {},
   "source": [
    "Libraries and Style Files\n",
    "-------------------------"
   ]
  },
  {
   "cell_type": "code",
   "execution_count": 1,
   "id": "61d67207-df3e-4a20-a643-3aa084843793",
   "metadata": {},
   "outputs": [
    {
     "name": "stdout",
     "output_type": "stream",
     "text": [
      "Requirement already satisfied: periodictable in c:\\users\\jaket\\anaconda3\\lib\\site-packages (2.0.2)\n",
      "Requirement already satisfied: pyparsing in c:\\users\\jaket\\anaconda3\\lib\\site-packages (from periodictable) (3.1.2)\n",
      "Requirement already satisfied: numpy in c:\\users\\jaket\\anaconda3\\lib\\site-packages (from periodictable) (1.26.4)\n",
      "Collecting pyteomics\n",
      "  Downloading pyteomics-4.7.5-py3-none-any.whl.metadata (6.5 kB)\n",
      "Downloading pyteomics-4.7.5-py3-none-any.whl (238 kB)\n",
      "Installing collected packages: pyteomics\n",
      "Successfully installed pyteomics-4.7.5\n"
     ]
    }
   ],
   "source": [
    "#we may need some code in the ../python directory and/or matplotlib styles\n",
    "import sys\n",
    "sys.path.append('../python/')\n",
    "\n",
    "!pip install periodictable\n",
    "!pip install pyteomics\n",
    "\n",
    "#matplotlib for plotting\n",
    "import matplotlib as mpl\n",
    "from matplotlib import pyplot as plt\n",
    "plt.style.use('../mplstyles/stylelib/standard.mplstyle')\n",
    "\n",
    "import numpy as np\n",
    "import pandas as pd\n",
    "import scipy.constants as co\n",
    "import ENDF6el as endfel\n",
    "import masses as ms\n",
    "import flux_recoil_spec as frs"
   ]
  },
  {
   "cell_type": "markdown",
   "id": "c4dffcc8-f3ed-40bc-9581-aa033059e3f8",
   "metadata": {},
   "source": [
    "Objective\n",
    "-\n",
    "This notebook builds upon the preceeding notebooks, namely `A-Differential-Neutron-Nucleus-XN.ipynb` and `B-Neutron-Nucleus-Recoil-Distributions.ipynb`. Our objective now is to obtain the neutron flux as a function of energy, reconcile that flux with the differential recoil energy cross section at each energy, and produce a realistic recoil energy distribution as it would appear in a detector.\n"
   ]
  },
  {
   "cell_type": "markdown",
   "id": "1d11efbc-071e-4267-b592-487a7934abc1",
   "metadata": {},
   "source": [
    "Load Neutron Flux Data\n",
    "-"
   ]
  },
  {
   "cell_type": "markdown",
   "id": "fafd24c8-2ecf-4262-9aea-a87695112af7",
   "metadata": {},
   "source": [
    "Calculate Differential Recoil Cross Section $\\frac{d\\sigma}{dE_r}(E_i,E_r)$\n",
    "-\n",
    "This section will allow us to determine the liklihood of a neutron with energy $E_i$ scattering off a nucleus and deposit a certain amount of recoil energy E_r. This likelihood is given by the differential cross section $\\frac{d\\sigma}{dE_r}(E_i,E_r)$. In the previous notebook, `B-Neutron-Nucleus-Recoil-Distributions.ipynb`, we developed code that calculates this value for specific energies. Now, we want to generalize it:"
   ]
  },
  {
   "cell_type": "code",
   "execution_count": 2,
   "id": "ab51e121-0ddb-4312-b095-c28801fa34e3",
   "metadata": {},
   "outputs": [
    {
     "name": "stdout",
     "output_type": "stream",
     "text": [
      "          E      spec\n",
      "0  0.010000  0.000014\n",
      "1  0.011665  0.000012\n",
      "2  0.013330  0.000012\n",
      "3  0.014995  0.000011\n",
      "4  0.016660  0.000010\n"
     ]
    }
   ],
   "source": [
    "import pandas as pd\n",
    "\n",
    "fast_flux_df = pd.read_pickle('../data_files/FDF.txt')\n",
    "print(fast_flux_df.head())"
   ]
  }
 ],
 "metadata": {
  "kernelspec": {
   "display_name": "Python [conda env:base] *",
   "language": "python",
   "name": "conda-base-py"
  },
  "language_info": {
   "codemirror_mode": {
    "name": "ipython",
    "version": 3
   },
   "file_extension": ".py",
   "mimetype": "text/x-python",
   "name": "python",
   "nbconvert_exporter": "python",
   "pygments_lexer": "ipython3",
   "version": "3.12.7"
  }
 },
 "nbformat": 4,
 "nbformat_minor": 5
}
