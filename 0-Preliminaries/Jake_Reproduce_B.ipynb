{
 "cells": [
  {
   "cell_type": "markdown",
   "id": "dd9badb0-beb1-427b-8863-5e34e755f8bc",
   "metadata": {},
   "source": [
    "Libraries and Style Files\n",
    "-"
   ]
  },
  {
   "cell_type": "code",
   "execution_count": 1,
   "id": "dc0b5926-e91e-4532-8430-3296fc42f3bc",
   "metadata": {},
   "outputs": [],
   "source": [
    "#we may need some code in the ../python directory and/or matplotlib styles\n",
    "import sys\n",
    "sys.path.append('../python/')\n",
    "\n",
    "#matplotlib for plotting\n",
    "import matplotlib as mpl\n",
    "from matplotlib import pyplot as plt\n",
    "plt.style.use('../mplstyles/stylelib/standard.mplstyle')\n",
    "\n",
    "import numpy as np"
   ]
  },
  {
   "cell_type": "markdown",
   "id": "9924cd28-0f82-46d3-a25c-537ebeb4d384",
   "metadata": {},
   "source": [
    "Recoil Energy Distributions for Neutron-Nucleus Scattering\n",
    "=\n",
    "In the previous notebook `A-Differential-Neutron-Nucleus-XN.ipynb` we found out how our libraries can extract the Center-of-Mass (CoM) _angular_ differential cross sections for neutron scattering on nuclei. Our detectors measure, however, deposited energy. So we need to transform the angular variable in the CoM (say $\\cos(\\theta_(cm))$\n",
    ") to the energy deposited into the detector.\n",
    "\n",
    "Energy Relationship\n",
    "-\n",
    "The relationship between the deposited energy $E_r$ and the CoM scattering angle $\\theta_{cm}$ is as follows.\n",
    "\n",
    "\\begin{equation}\n",
    "E_r=\\frac{2m_nME_n}{(m_n+M)^2}(1-cos\\theta_{cm})\n",
    "\\end{equation}"
   ]
  },
  {
   "cell_type": "code",
   "execution_count": null,
   "id": "e6c70712-faf7-42d0-9b98-221c965bf5a0",
   "metadata": {},
   "outputs": [],
   "source": []
  }
 ],
 "metadata": {
  "kernelspec": {
   "display_name": "Python [conda env:base] *",
   "language": "python",
   "name": "conda-base-py"
  },
  "language_info": {
   "codemirror_mode": {
    "name": "ipython",
    "version": 3
   },
   "file_extension": ".py",
   "mimetype": "text/x-python",
   "name": "python",
   "nbconvert_exporter": "python",
   "pygments_lexer": "ipython3",
   "version": "3.12.7"
  }
 },
 "nbformat": 4,
 "nbformat_minor": 5
}
