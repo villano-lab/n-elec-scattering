{
 "cells": [
  {
   "cell_type": "markdown",
   "id": "325b4498-fa12-40c8-89a1-b2a1dfd57fb9",
   "metadata": {},
   "source": [
    "Libraries and Style Files\n",
    "-------------------------"
   ]
  },
  {
   "cell_type": "code",
   "execution_count": 1,
   "id": "61c42101-43b8-4e4a-be5c-6dc438ea4a8f",
   "metadata": {},
   "outputs": [],
   "source": [
    "#we may need some code in the ../python directory and/or matplotlib styles\n",
    "import sys\n",
    "sys.path.append('../python/')\n",
    "\n",
    "#matplotlib for plotting\n",
    "import matplotlib as mpl\n",
    "from matplotlib import pyplot as plt\n",
    "plt.style.use('../mplstyles/stylelib/standard.mplstyle')\n",
    "\n",
    "import numpy as np"
   ]
  },
  {
   "cell_type": "markdown",
   "id": "568186fe-4724-44e7-9178-7e1e9a590ad4",
   "metadata": {},
   "source": [
    "Recoil Energy Distributions for Neutron-Nucleus Scattering\n",
    "==========================================================\n",
    "\n",
    "In the previous notebook `A-Differential-Neutron-Nucleus-XN.ipynb` we found out how our libraries can extract the Center-of-Mass (CoM) _angular_ differential cross sections for neutron scattering on nuclei. Our detectors measure, however, deposited energy. So we need to transform the angular variable in the CoM (say $cos(\\theta_{cm})$) to the energy deposited into the detector. \n",
    "\n",
    "Energy Relationship\n",
    "-------------------\n",
    "\n",
    "The relationship between the deposited energy $E_r$ and the CoM scattering angle $\\theta_{cm}$ is as follows.\n",
    "\n",
    "\\begin{equation}\n",
    "E_r = \\frac{2m_n M E_n}{(m_n + M)^2}\\left(1-\\cos{\\theta_{cm}}\\right),\n",
    "\\end{equation}\n",
    "\n",
    "$E_r$ is the recoil energy of the nucleus, $m_n$ is the mass of the neutron, and $M$ is the mass of the nucleus."
   ]
  },
  {
   "cell_type": "code",
   "execution_count": null,
   "id": "ec84a3e5-7beb-4411-93a6-fdbd8f97bd83",
   "metadata": {},
   "outputs": [],
   "source": []
  },
  {
   "cell_type": "markdown",
   "id": "e0f60fe1-3341-4814-9e9f-9b157e336667",
   "metadata": {},
   "source": [
    "Mass Libraries\n",
    "--------------"
   ]
  },
  {
   "cell_type": "code",
   "execution_count": null,
   "id": "0b74aeb0-3eb6-41a8-a051-fdd4ab16abb9",
   "metadata": {},
   "outputs": [],
   "source": []
  }
 ],
 "metadata": {
  "kernelspec": {
   "display_name": "Python (fano_5_2024)",
   "language": "python",
   "name": "fano_5_2024"
  },
  "language_info": {
   "codemirror_mode": {
    "name": "ipython",
    "version": 3
   },
   "file_extension": ".py",
   "mimetype": "text/x-python",
   "name": "python",
   "nbconvert_exporter": "python",
   "pygments_lexer": "ipython3",
   "version": "3.9.19"
  }
 },
 "nbformat": 4,
 "nbformat_minor": 5
}
