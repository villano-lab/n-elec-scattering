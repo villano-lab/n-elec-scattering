{
 "cells": [
  {
   "cell_type": "markdown",
   "id": "325b4498-fa12-40c8-89a1-b2a1dfd57fb9",
   "metadata": {},
   "source": [
    "Libraries and Style Files\n",
    "-------------------------"
   ]
  },
  {
   "cell_type": "code",
   "execution_count": 1,
   "id": "61c42101-43b8-4e4a-be5c-6dc438ea4a8f",
   "metadata": {},
   "outputs": [],
   "source": [
    "#we may need some code in the ../python directory and/or matplotlib styles\n",
    "import sys\n",
    "sys.path.append('../python/')\n",
    "\n",
    "#matplotlib for plotting\n",
    "import matplotlib as mpl\n",
    "from matplotlib import pyplot as plt\n",
    "plt.style.use('../mplstyles/stylelib/standard.mplstyle')\n",
    "\n",
    "#math tools\n",
    "import numpy as np\n",
    "import pandas as pd\n",
    "import scipy.constants as co\n",
    "import ENDF6el as endfel"
   ]
  },
  {
   "cell_type": "markdown",
   "id": "568186fe-4724-44e7-9178-7e1e9a590ad4",
   "metadata": {},
   "source": [
    "Recoil Energy Distributions for Neutron-Nucleus Scattering\n",
    "==========================================================\n",
    "\n",
    "In the previous notebook `A-Differential-Neutron-Nucleus-XN.ipynb` we found out how our libraries can extract the Center-of-Mass (CoM) _angular_ differential cross sections for neutron scattering on nuclei. Our detectors measure, however, deposited energy. So we need to transform the angular variable in the CoM (say $cos(\\theta_{cm})$) to the energy deposited into the detector. \n",
    "\n",
    "Energy Relationship\n",
    "-------------------\n",
    "\n",
    "The relationship between the deposited energy $E_r$ and the CoM scattering angle $\\theta_{cm}$ is as follows.\n",
    "\n",
    "\\begin{equation}\n",
    "E_r = \\frac{2m_n M E_n}{(m_n + M)^2}\\left(1-\\cos{\\theta_{cm}}\\right),\n",
    "\\end{equation}\n",
    "\n",
    "$E_r$ is the recoil energy of the nucleus, $E_n$ is the energy of the incident neutron, $m_n$ is the mass of the neutron, and $M$ is the mass of the nucleus.\n",
    "\n",
    "Notebook A gave us the `fetch_diff_xn()` function which provided the differential cross section, $\\frac{d\\sigma}{d\\Omega}(cos\\theta_{cm})$ (Taylor, Chapter 14), and tells us the probability of a neutron-nucleus scattering angle in the CoM frame."
   ]
  },
  {
   "cell_type": "markdown",
   "id": "54d2093a-c10b-43ef-9154-03f9db956a69",
   "metadata": {},
   "source": [
    "Differential Cross Section Data\n",
    "-"
   ]
  },
  {
   "cell_type": "code",
   "execution_count": 2,
   "id": "65974e69-b70f-4b28-b5fa-37284ff577b9",
   "metadata": {},
   "outputs": [],
   "source": [
    "#function for angular scattering probabilties of neutrons for 1.o MeV\n",
    "dsdomeg = endfel.fetch_diff_xn(En=1.0e6)\n",
    "#make the dsdomeg function work for array of values\n",
    "dsdomegv = np.vectorize(dsdomeg)"
   ]
  },
  {
   "cell_type": "markdown",
   "id": "c5e6b1bd-df78-42a5-9e63-8eb3b2b08b81",
   "metadata": {},
   "source": [
    "Encode Recoil Energy Equation\n",
    "-"
   ]
  },
  {
   "cell_type": "code",
   "execution_count": 3,
   "id": "f691161d-ba3f-4567-aa48-ffda6354bc84",
   "metadata": {},
   "outputs": [],
   "source": [
    "# import custom Python module containing atomic mass values\n",
    "import masses as ms\n",
    "\n",
    "#make a list of evenly spaced values for cos(theta)\n",
    "ct = np.linspace(-1.0, 1.0, 100)\n",
    "\n",
    "# define Silicon-28  mass\n",
    "m28si = ms.getMass(14,28)\n",
    "\n",
    "# define the first factor of the Energy Relationship Equation (E_r / E_n)\n",
    "fac = ms.m_n * m28si / (ms.m_n + m28si)**2\n",
    "\n",
    "# define the total value of (E_r / E_n)\n",
    "escale = 2 * fac * (1 - ct)"
   ]
  },
  {
   "cell_type": "markdown",
   "id": "818bf3d6-418b-470a-8fb1-84619cf5ba41",
   "metadata": {},
   "source": [
    "Convert Angular Probability Distribution to Recoil Energy Probability Distribution\n",
    "-\n",
    "Whereas we previously worked with cross section vs. angle, we now are working with cross section vs. energy. Thus, we must convert $\\frac{d\\sigma}{d\\Omega}$ into $\\frac{d\\sigma}{d\\E_r}$.\n",
    "\n",
    "Our functino `dsdomegv(ct)` gives us $\\frac{d\\sigma}{d\\Omega}$ for any value of $cos(\\theta)$"
   ]
  },
  {
   "cell_type": "markdown",
   "id": "e0f60fe1-3341-4814-9e9f-9b157e336667",
   "metadata": {},
   "source": [
    "Mass Libraries\n",
    "--------------\n",
    "Mass of neutron $m_n$ (from [[NIST - Neutron][NIST - Neutron]]) ≈ 1.00866491606 u<br />\n",
    "Mass of $^{28}$Si (from [[NIST - Silicon][NIST - Silicon]]) ≈ 27.97692653465  u\n",
    "\n",
    "[NIST - Silicon]: https://physics.nist.gov/cgi-bin/Compositions/stand_alone.pl?ele=Si \"NIST - Silicon Documentaion\"\n",
    "[NIST - Neutron]: https://physics.nist.gov/cgi-bin/cuu/Value?mnu \"NIST - Neutron Documentation\""
   ]
  },
  {
   "cell_type": "code",
   "execution_count": null,
   "id": "80befb5a-56c8-448f-8eb1-44d710000e1f",
   "metadata": {},
   "outputs": [],
   "source": []
  }
 ],
 "metadata": {
  "kernelspec": {
   "display_name": "Python [conda env:base] *",
   "language": "python",
   "name": "conda-base-py"
  },
  "language_info": {
   "codemirror_mode": {
    "name": "ipython",
    "version": 3
   },
   "file_extension": ".py",
   "mimetype": "text/x-python",
   "name": "python",
   "nbconvert_exporter": "python",
   "pygments_lexer": "ipython3",
   "version": "3.12.7"
  }
 },
 "nbformat": 4,
 "nbformat_minor": 5
}
