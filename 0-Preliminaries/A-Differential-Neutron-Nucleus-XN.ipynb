{
 "cells": [
  {
   "cell_type": "markdown",
   "id": "309df6a5-ee4e-4005-87d8-19a68e281481",
   "metadata": {},
   "source": [
    "Libraries and Style Files\n",
    "-------------------------"
   ]
  },
  {
   "cell_type": "code",
   "execution_count": 1,
   "id": "43c7dba7-8373-4e6b-bdbe-cddedf40c108",
   "metadata": {},
   "outputs": [],
   "source": [
    "#we may need some code in the ../python directory and/or matplotlib styles\n",
    "import sys\n",
    "sys.path.append('../python/')\n",
    "\n",
    "#matplotlib for plotting\n",
    "import matplotlib as mpl\n",
    "from matplotlib import pyplot as plt\n",
    "plt.style.use('../mplstyles/stylelib/standard.mplstyle')"
   ]
  },
  {
   "cell_type": "markdown",
   "id": "4af47bb7-a972-40ee-bb1d-3c01111923ef",
   "metadata": {},
   "source": [
    "Differential Neutron-Nucleus Cross Sections\n",
    "===========================================\n",
    "\n",
    "The aim of this work is to compare the new neutron-electron magnetic process to other neutron-induced processes for rare-event background studies. The neutron-nuclear process is the competing process in the low energy regime. Recoil spectra from this process depend on the differential cross section of the neutron-nuclear scattering. Here we explain our processes for obtaining our estimates for these cross sections. \n",
    "\n",
    "\n",
    "ENDF6 Files\n",
    "-----------\n",
    "\n",
    "The Evaluated Nuclear Database File (ENDF) has been the format for compiling and transmitting the nuclear data for many years. The [[ENDF/B-VIII.0][ENDF/B-VIII]] (2018) is the most recent evaluation we have copied these files in the directory `xn_data/` which includes official ENDF6 files with the extension `.endf` and files with the extension `.txt` that include the total elastic cross section data.\n",
    "\n",
    "The differential Center-of-Mass (CoM) cross section data is encoded either in tabulated form (a number in the file for each angular point) or in terms of Legendre coefficients. The cross sections that we have used are in terms of the Legendre coefficients according to the equation below. The function $\\sigma(\\mu,E)$ is the angular cross section in $\\mu \\equiv \\cos{\\theta}$ for each incoming neutron energy $E$. \n",
    "\n",
    "\\begin{equation}\n",
    "f(\\mu,E) = \\frac{2\\pi}{\\sigma_s(E)} \\sigma(\\mu,E) = \\sum_{l=0}^{N_l} \\frac{2l+1}{2}a_l(E)P_l(\\mu)\n",
    "\\end{equation}\n",
    "\n",
    "\n",
    "[ENDF/B-VIII]: https://www.nndc.bnl.gov/endf-b8.0/download.html \"ENDF/B-VIII.0 Documentation\"\n",
    "\n",
    "Total Elastic Cross Section Data\n",
    "--------------------------------\n",
    "\n",
    "The total cross elastic section as a function of neutron energy is needed to find the differential CoM cross sections, as can be seen by the equation above. The evaluated total cross section is included in the `.endf` files, but in the awkward Reich-Moore parameterization. Instead, we downloaded tabular data for the total cross section from the web interface [[Elastic XN][Elastic XN]]. For example, to get the $^{28}$Si elastic cross section we went to the site and filled out the form as follows, selecting only ENDF VIII.0 data.\n",
    "\n",
    "![ENDF Online](figures/ENDF-VIII.0-Online.png \"ENDF Online Data Plotter\")\n",
    "\n",
    "Then, we retrieved the data and did a \"quick plot\" which shows the total cross section as below.\n",
    "\n",
    "![ENDF Online](figures/ENDF-VIII.0-28Si-Elastic.png \"28-Si Elastic Cross Section from Online Plotter\")\n",
    "\n",
    "To save the data to \n",
    "\n",
    "[Elastic XN]: https://www.nndc.bnl.gov/endf/ \"cross sections online\""
   ]
  },
  {
   "cell_type": "code",
   "execution_count": null,
   "id": "ed1e20b1-e5d7-4ab1-b3cc-672324598689",
   "metadata": {},
   "outputs": [],
   "source": []
  }
 ],
 "metadata": {
  "kernelspec": {
   "display_name": "Python (fano_5_2024)",
   "language": "python",
   "name": "fano_5_2024"
  },
  "language_info": {
   "codemirror_mode": {
    "name": "ipython",
    "version": 3
   },
   "file_extension": ".py",
   "mimetype": "text/x-python",
   "name": "python",
   "nbconvert_exporter": "python",
   "pygments_lexer": "ipython3",
   "version": "3.9.19"
  }
 },
 "nbformat": 4,
 "nbformat_minor": 5
}
