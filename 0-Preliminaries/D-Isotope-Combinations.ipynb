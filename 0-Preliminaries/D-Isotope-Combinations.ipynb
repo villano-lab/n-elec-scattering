{
 "cells": [
  {
   "cell_type": "markdown",
   "id": "182a99d3-a1a6-4e7f-908e-1f217cacbb1f",
   "metadata": {},
   "source": [
    "# D - Isotope Combinations\n",
    "\n",
    "Objective\n",
    "-\n",
    "The purpose of this notebook is to reconcile the information we have developed thus far with the naturally occuring amounts of each isotope in each detector material.\n",
    "\n",
    "Natural silicon has three isotopes and corresponding concentrations:\n",
    "- Silicon-28 - 92.22%\n",
    "- Silicon-30 - 4.69%\n",
    "- Silicon-31 - 3.09%\n",
    "\n",
    "Natural germanium has five isotopes and corresponding concentrations:\n",
    "- Germanium-70 - 20.57%\n",
    "- Germanium-72 - 27.45%\n",
    "- Germanium-73 - 7.75%\n",
    "- Germanium-74 - 36.50%\n",
    "- Germanium-76 - 7.73%\n",
    "\n",
    "Values taken from [National Isotope Development Center - Silicon][National Isotope Development Center - Silicon] and [National Isotope Development Center - Germanium][National Isotope Development Center - Germanium]\n",
    "\n",
    "[National Isotope Development Center - Silicon]: https://www.isotopes.gov/products/silicon \"NIDC - Silicon Documentaion\"\n",
    "[National Isotope Development Center - Germanium]: https://www.isotopes.gov/products/germanium \"NIDC - Germanium Documentaion\""
   ]
  },
  {
   "cell_type": "markdown",
   "id": "c11d8a9e-3b25-438f-9616-60fb1cb1a006",
   "metadata": {},
   "source": [
    "Libraries and Style Files\n",
    "-------------------------"
   ]
  },
  {
   "cell_type": "code",
   "execution_count": 1,
   "id": "b901e29e-8567-42f5-8ba6-d091c3022f88",
   "metadata": {},
   "outputs": [],
   "source": [
    "#we may need some code in the ../python directory and/or matplotlib styles\n",
    "\n",
    "# Extend Python path to include local module directory\n",
    "import sys\n",
    "sys.path.append('../python/')\n",
    "\n",
    "# Install packages if not already available\n",
    "import importlib.util\n",
    "import subprocess\n",
    "\n",
    "def install_if_missing(pkg):\n",
    "    if importlib.util.find_spec(pkg) is None:\n",
    "        subprocess.check_call([sys.executable, \"-m\", \"pip\", \"install\", pkg])\n",
    "\n",
    "install_if_missing(\"periodictable\")\n",
    "install_if_missing(\"pyteomics\")\n",
    "\n",
    "# Standard scientific libraries\n",
    "import numpy as np\n",
    "import matplotlib.pyplot as plt\n",
    "import scipy.constants as co\n",
    "from scipy import integrate\n",
    "from scipy.interpolate import interp1d\n",
    "\n",
    "# Project-specific modules\n",
    "import flux_recoil_spec as frs"
   ]
  },
  {
   "cell_type": "markdown",
   "id": "4443a766-63af-4a79-9279-7ab079288198",
   "metadata": {},
   "source": [
    "We will now encode the isotopic values for Silicon and Germanium in Python:"
   ]
  },
  {
   "cell_type": "code",
   "execution_count": 2,
   "id": "4cd4fd61-2f67-4525-82df-2ffeb0306431",
   "metadata": {},
   "outputs": [],
   "source": [
    "# Natural abundances of silicon isotopes (in fractional form)\n",
    "si_isotopes = {\n",
    "    28: 0.9222,\n",
    "    29: 0.0464,\n",
    "    30: 0.0309\n",
    "}\n",
    "\n",
    "# Natural abundances of germanium isotopes (in fractional form)\n",
    "ge_isotopes = {\n",
    "    70: 0.2057,\n",
    "    72: 0.2745,\n",
    "    73: 0.0775,\n",
    "    74: 0.3650,\n",
    "    76: 0.0773\n",
    "}"
   ]
  },
  {
   "cell_type": "markdown",
   "id": "59814b4a-5d8c-42bd-8fc3-02476f6b944d",
   "metadata": {},
   "source": [
    "Define Flux Interpolator"
   ]
  },
  {
   "cell_type": "code",
   "execution_count": 3,
   "id": "4da6cad5-9ef6-4cb7-9298-6f3803a176c5",
   "metadata": {},
   "outputs": [
    {
     "name": "stdout",
     "output_type": "stream",
     "text": [
      "fast flux: 4000.0000000000005 n/m^2/day\n",
      "175\n",
      "shape of etot: (6000,)\n",
      "6000 6000\n",
      "LinregressResult(slope=-0.34198906017016933, intercept=-12.883178144228596, rvalue=-0.9953352356165472, pvalue=2.8473572672917526e-06, stderr=0.01482451947661301, intercept_stderr=0.06273875262265731)\n",
      "0.009998654133395216 0.01\n"
     ]
    }
   ],
   "source": [
    "# Load SNOLAB flux data from the flux_recoil_spec module\n",
    "E_flux, F_flux, *_ = frs.SNOLAB_flux()  # Energy [MeV], Flux [n/cm^2/s/MeV]\n",
    "\n",
    "# Create an interpolator for continuous access to flux\n",
    "flux_interp = interp1d(E_flux, F_flux, bounds_error=False, fill_value=0.0)\n",
    "\n",
    "def realflux(En):\n",
    "    return flux_interp(En)"
   ]
  },
  {
   "cell_type": "markdown",
   "id": "ad964457-450e-4133-b113-83a7f8a41824",
   "metadata": {},
   "source": [
    "Compute Recoil Spectrum for Each Isotope"
   ]
  },
  {
   "cell_type": "code",
   "execution_count": 4,
   "id": "07ad53d0-1139-4716-9a1f-1ad1fe9dd7ec",
   "metadata": {},
   "outputs": [],
   "source": [
    "def dsigdErNE(En, Er, M=None):\n",
    "    \"\"\"\n",
    "    Differential cross-section dσ/dEr as a flat approximation up to Emax.\n",
    "\n",
    "    Parameters:\n",
    "    - En: neutron energy in keV\n",
    "    - Er: recoil energy in keV\n",
    "    - M: isotope mass in g/mol (optional for now)\n",
    "\n",
    "    Returns:\n",
    "    - Cross section in cm²/keV\n",
    "    \"\"\"\n",
    "    Emax = frs.Emax(En)\n",
    "    if Er < Emax:\n",
    "        return frs.sigtot / Emax  # Flat distribution\n",
    "    else:\n",
    "        return 0.0\n",
    "\n",
    "def Enmin(Er, A):\n",
    "    \"\"\"\n",
    "    Minimum neutron energy [keV] required to produce recoil energy Er [keV]\n",
    "    for a nucleus with mass number A.\n",
    "    \"\"\"\n",
    "    m_n = 931.5  # MeV/c^2\n",
    "    M = A * 931.5  # MeV/c^2\n",
    "    term = (M + m_n)**2 / (2 * M * m_n)\n",
    "    En_min = np.sqrt(Er * term)  # result in keV\n",
    "    return En_min\n",
    "\n",
    "def get_recoil_spectrum(isotope_mass):\n",
    "    \"\"\"\n",
    "    Calculates the differential recoil event rate dR/dEr for a given isotope.\n",
    "    Returns a tuple (erange, dru_vec) with energies and rates.\n",
    "    \"\"\"\n",
    "    erange = np.linspace(0.0, 20.0, 200)  # recoil energies in keV\n",
    "    dru_vec = []\n",
    "\n",
    "    for Er in erange:\n",
    "        def integrand(En):\n",
    "            flux = realflux(En)\n",
    "            sig = frs.dsigdErNE(En * 1000, Er, isotope_mass)  # En [MeV] -> keV\n",
    "            return flux * sig\n",
    "\n",
    "        En_min = frs.Enmin(Er) / 1000  # MeV\n",
    "        En_max = 10  # MeV cutoff\n",
    "\n",
    "        integral, _ = integrate.quad(integrand, En_min, En_max, limit=1000)\n",
    "        dru = 14 * (co.N_A / isotope_mass) * integral\n",
    "        dru_vec.append(dru)\n",
    "\n",
    "    dru_vec = np.array(dru_vec)\n",
    "    dru_vec *= 1000 * 365 * 24 * 60 * 60  # convert to [counts / kg / yr / keV]\n",
    "    return erange, dru_vec"
   ]
  },
  {
   "cell_type": "markdown",
   "id": "56cf75cf-3969-4d24-8adb-df7eaffdc7cb",
   "metadata": {},
   "source": [
    "Combine Spectra by Isotopic Abundance"
   ]
  },
  {
   "cell_type": "code",
   "execution_count": 5,
   "id": "8b27be91-8b84-467d-a511-5950e9127dc1",
   "metadata": {},
   "outputs": [
    {
     "ename": "TypeError",
     "evalue": "dsigdErNE() takes 2 positional arguments but 3 were given",
     "output_type": "error",
     "traceback": [
      "\u001b[1;31m---------------------------------------------------------------------------\u001b[0m",
      "\u001b[1;31mTypeError\u001b[0m                                 Traceback (most recent call last)",
      "Cell \u001b[1;32mIn[5], line 21\u001b[0m\n\u001b[0;32m     18\u001b[0m     \u001b[38;5;28;01mreturn\u001b[39;00m erange, combined_spectrum\n\u001b[0;32m     20\u001b[0m \u001b[38;5;66;03m# Compute for natural silicon\u001b[39;00m\n\u001b[1;32m---> 21\u001b[0m si_erange, si_spectrum \u001b[38;5;241m=\u001b[39m compute_natural_spectrum(si_isotopes)\n",
      "Cell \u001b[1;32mIn[5], line 10\u001b[0m, in \u001b[0;36mcompute_natural_spectrum\u001b[1;34m(isotope_dict)\u001b[0m\n\u001b[0;32m      8\u001b[0m \u001b[38;5;28;01mfor\u001b[39;00m A, abundance \u001b[38;5;129;01min\u001b[39;00m isotope_dict\u001b[38;5;241m.\u001b[39mitems():\n\u001b[0;32m      9\u001b[0m     mass \u001b[38;5;241m=\u001b[39m A  \u001b[38;5;66;03m# g/mol\u001b[39;00m\n\u001b[1;32m---> 10\u001b[0m     erange, spec \u001b[38;5;241m=\u001b[39m get_recoil_spectrum(mass)\n\u001b[0;32m     11\u001b[0m     weighted_spec \u001b[38;5;241m=\u001b[39m abundance \u001b[38;5;241m*\u001b[39m spec\n\u001b[0;32m     13\u001b[0m     \u001b[38;5;28;01mif\u001b[39;00m combined_spectrum \u001b[38;5;129;01mis\u001b[39;00m \u001b[38;5;28;01mNone\u001b[39;00m:\n",
      "Cell \u001b[1;32mIn[4], line 47\u001b[0m, in \u001b[0;36mget_recoil_spectrum\u001b[1;34m(isotope_mass)\u001b[0m\n\u001b[0;32m     44\u001b[0m En_min \u001b[38;5;241m=\u001b[39m frs\u001b[38;5;241m.\u001b[39mEnmin(Er) \u001b[38;5;241m/\u001b[39m \u001b[38;5;241m1000\u001b[39m  \u001b[38;5;66;03m# MeV\u001b[39;00m\n\u001b[0;32m     45\u001b[0m En_max \u001b[38;5;241m=\u001b[39m \u001b[38;5;241m10\u001b[39m  \u001b[38;5;66;03m# MeV cutoff\u001b[39;00m\n\u001b[1;32m---> 47\u001b[0m integral, _ \u001b[38;5;241m=\u001b[39m integrate\u001b[38;5;241m.\u001b[39mquad(integrand, En_min, En_max, limit\u001b[38;5;241m=\u001b[39m\u001b[38;5;241m1000\u001b[39m)\n\u001b[0;32m     48\u001b[0m dru \u001b[38;5;241m=\u001b[39m \u001b[38;5;241m14\u001b[39m \u001b[38;5;241m*\u001b[39m (co\u001b[38;5;241m.\u001b[39mN_A \u001b[38;5;241m/\u001b[39m isotope_mass) \u001b[38;5;241m*\u001b[39m integral\n\u001b[0;32m     49\u001b[0m dru_vec\u001b[38;5;241m.\u001b[39mappend(dru)\n",
      "File \u001b[1;32m~\\anaconda3\\Lib\\site-packages\\scipy\\integrate\\_quadpack_py.py:464\u001b[0m, in \u001b[0;36mquad\u001b[1;34m(func, a, b, args, full_output, epsabs, epsrel, limit, points, weight, wvar, wopts, maxp1, limlst, complex_func)\u001b[0m\n\u001b[0;32m    461\u001b[0m     \u001b[38;5;28;01mreturn\u001b[39;00m retval\n\u001b[0;32m    463\u001b[0m \u001b[38;5;28;01mif\u001b[39;00m weight \u001b[38;5;129;01mis\u001b[39;00m \u001b[38;5;28;01mNone\u001b[39;00m:\n\u001b[1;32m--> 464\u001b[0m     retval \u001b[38;5;241m=\u001b[39m _quad(func, a, b, args, full_output, epsabs, epsrel, limit,\n\u001b[0;32m    465\u001b[0m                    points)\n\u001b[0;32m    466\u001b[0m \u001b[38;5;28;01melse\u001b[39;00m:\n\u001b[0;32m    467\u001b[0m     \u001b[38;5;28;01mif\u001b[39;00m points \u001b[38;5;129;01mis\u001b[39;00m \u001b[38;5;129;01mnot\u001b[39;00m \u001b[38;5;28;01mNone\u001b[39;00m:\n",
      "File \u001b[1;32m~\\anaconda3\\Lib\\site-packages\\scipy\\integrate\\_quadpack_py.py:611\u001b[0m, in \u001b[0;36m_quad\u001b[1;34m(func, a, b, args, full_output, epsabs, epsrel, limit, points)\u001b[0m\n\u001b[0;32m    609\u001b[0m \u001b[38;5;28;01mif\u001b[39;00m points \u001b[38;5;129;01mis\u001b[39;00m \u001b[38;5;28;01mNone\u001b[39;00m:\n\u001b[0;32m    610\u001b[0m     \u001b[38;5;28;01mif\u001b[39;00m infbounds \u001b[38;5;241m==\u001b[39m \u001b[38;5;241m0\u001b[39m:\n\u001b[1;32m--> 611\u001b[0m         \u001b[38;5;28;01mreturn\u001b[39;00m _quadpack\u001b[38;5;241m.\u001b[39m_qagse(func,a,b,args,full_output,epsabs,epsrel,limit)\n\u001b[0;32m    612\u001b[0m     \u001b[38;5;28;01melse\u001b[39;00m:\n\u001b[0;32m    613\u001b[0m         \u001b[38;5;28;01mreturn\u001b[39;00m _quadpack\u001b[38;5;241m.\u001b[39m_qagie(func, bound, infbounds, args, full_output, \n\u001b[0;32m    614\u001b[0m                                 epsabs, epsrel, limit)\n",
      "Cell \u001b[1;32mIn[4], line 41\u001b[0m, in \u001b[0;36mget_recoil_spectrum.<locals>.integrand\u001b[1;34m(En)\u001b[0m\n\u001b[0;32m     39\u001b[0m \u001b[38;5;28;01mdef\u001b[39;00m \u001b[38;5;21mintegrand\u001b[39m(En):\n\u001b[0;32m     40\u001b[0m     flux \u001b[38;5;241m=\u001b[39m realflux(En)\n\u001b[1;32m---> 41\u001b[0m     sig \u001b[38;5;241m=\u001b[39m frs\u001b[38;5;241m.\u001b[39mdsigdErNE(En \u001b[38;5;241m*\u001b[39m \u001b[38;5;241m1000\u001b[39m, Er, isotope_mass)  \u001b[38;5;66;03m# En [MeV] -> keV\u001b[39;00m\n\u001b[0;32m     42\u001b[0m     \u001b[38;5;28;01mreturn\u001b[39;00m flux \u001b[38;5;241m*\u001b[39m sig\n",
      "\u001b[1;31mTypeError\u001b[0m: dsigdErNE() takes 2 positional arguments but 3 were given"
     ]
    }
   ],
   "source": [
    "def compute_natural_spectrum(isotope_dict):\n",
    "    \"\"\"\n",
    "    Combines the spectra of individual isotopes using weighted natural abundance.\n",
    "    \"\"\"\n",
    "    combined_spectrum = None\n",
    "    erange = None\n",
    "\n",
    "    for A, abundance in isotope_dict.items():\n",
    "        mass = A  # g/mol\n",
    "        erange, spec = get_recoil_spectrum(mass)\n",
    "        weighted_spec = abundance * spec\n",
    "\n",
    "        if combined_spectrum is None:\n",
    "            combined_spectrum = weighted_spec\n",
    "        else:\n",
    "            combined_spectrum += weighted_spec\n",
    "\n",
    "    return erange, combined_spectrum\n",
    "\n",
    "# Compute for natural silicon\n",
    "si_erange, si_spectrum = compute_natural_spectrum(si_isotopes)"
   ]
  },
  {
   "cell_type": "markdown",
   "id": "ba0f2134-721c-4510-8b4f-d6f014101efb",
   "metadata": {},
   "source": [
    "Plot"
   ]
  },
  {
   "cell_type": "code",
   "execution_count": null,
   "id": "973d69f1-ae3b-4a23-9116-f1b0e9d860c3",
   "metadata": {},
   "outputs": [],
   "source": [
    "plt.figure(figsize=(8,6))\n",
    "plt.plot(si_erange, si_spectrum, label='Natural Silicon')\n",
    "plt.yscale('log')\n",
    "plt.xlabel('Recoil Energy $E_r$ [keV]')\n",
    "plt.ylabel('Rate [counts kg$^{-1}$ year$^{-1}$ keV$^{-1}$]')\n",
    "plt.title('Neutron-Induced Recoil Spectrum in Natural Silicon')\n",
    "plt.grid(True, which='both', ls=':')\n",
    "plt.legend()\n",
    "plt.tight_layout()\n",
    "plt.show()"
   ]
  },
  {
   "cell_type": "code",
   "execution_count": null,
   "id": "d4b35813-322e-4320-b072-511ea48d525a",
   "metadata": {},
   "outputs": [],
   "source": []
  }
 ],
 "metadata": {
  "kernelspec": {
   "display_name": "Python [conda env:base] *",
   "language": "python",
   "name": "conda-base-py"
  },
  "language_info": {
   "codemirror_mode": {
    "name": "ipython",
    "version": 3
   },
   "file_extension": ".py",
   "mimetype": "text/x-python",
   "name": "python",
   "nbconvert_exporter": "python",
   "pygments_lexer": "ipython3",
   "version": "3.12.7"
  }
 },
 "nbformat": 4,
 "nbformat_minor": 5
}
