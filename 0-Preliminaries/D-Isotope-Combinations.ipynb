{
 "cells": [
  {
   "cell_type": "markdown",
   "id": "c11d8a9e-3b25-438f-9616-60fb1cb1a006",
   "metadata": {},
   "source": [
    "Libraries and Style Files\n",
    "-------------------------"
   ]
  },
  {
   "cell_type": "code",
   "execution_count": 1,
   "id": "b901e29e-8567-42f5-8ba6-d091c3022f88",
   "metadata": {},
   "outputs": [],
   "source": [
    "#we may need some code in the ../python directory and/or matplotlib styles\n",
    "import sys\n",
    "sys.path.append('../python/')\n",
    "\n",
    "#matplotlib for plotting\n",
    "import matplotlib as mpl\n",
    "from matplotlib import pyplot as plt\n",
    "plt.style.use('../mplstyles/stylelib/standard.mplstyle')\n",
    "\n",
    "import numpy as np"
   ]
  },
  {
   "cell_type": "markdown",
   "id": "59814b4a-5d8c-42bd-8fc3-02476f6b944d",
   "metadata": {},
   "source": [
    "Isotopic Abundances\n",
    "===================\n",
    "\n"
   ]
  },
  {
   "cell_type": "code",
   "execution_count": null,
   "id": "4da6cad5-9ef6-4cb7-9298-6f3803a176c5",
   "metadata": {},
   "outputs": [],
   "source": [
    "import ENDF6el as el\n",
    "import flux_recoil_spec as frs\n",
    "import time\n",
    "import importlib\n",
    "\n",
    "#get Er vector\n",
    "Er= np.geomspace(100/1e6, 1.0, 100)\n",
    "print(np.shape(Er))\n",
    "E,F,ff,ffspec = frs.SNOLAB_flux(Enmin=1e-3)\n",
    "start = time.time()\n",
    "drde,dsig=frs.dRdErfast(Er,E,F,N=1)\n",
    "end = time.time()\n",
    "print('Evaluation Time: {:1.5f} sec.'.format(end-start))"
   ]
  },
  {
   "cell_type": "code",
   "execution_count": null,
   "id": "07ad53d0-1139-4716-9a1f-1ad1fe9dd7ec",
   "metadata": {},
   "outputs": [],
   "source": []
  }
 ],
 "metadata": {
  "kernelspec": {
   "display_name": "Python (fano_5_2024)",
   "language": "python",
   "name": "fano_5_2024"
  },
  "language_info": {
   "codemirror_mode": {
    "name": "ipython",
    "version": 3
   },
   "file_extension": ".py",
   "mimetype": "text/x-python",
   "name": "python",
   "nbconvert_exporter": "python",
   "pygments_lexer": "ipython3",
   "version": "3.9.19"
  }
 },
 "nbformat": 4,
 "nbformat_minor": 5
}
